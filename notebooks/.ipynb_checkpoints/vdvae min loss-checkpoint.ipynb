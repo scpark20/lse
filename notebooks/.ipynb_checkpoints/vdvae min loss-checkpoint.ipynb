{
 "cells": [
  {
   "cell_type": "code",
   "execution_count": 1,
   "id": "5b65b1e6",
   "metadata": {},
   "outputs": [],
   "source": [
    "import torch"
   ]
  },
  {
   "cell_type": "code",
   "execution_count": 6,
   "id": "451ae0d0",
   "metadata": {},
   "outputs": [],
   "source": [
    "L = 60\n",
    "H = 32\n",
    "Z = 16\n",
    "N = 128\n",
    "M = 10\n",
    "z = torch.rand(L, H, H, Z, N, 1)\n",
    "z.shape\n",
    "\n",
    "e = torch.rand(L, H, H, Z, 1, M)\n"
   ]
  },
  {
   "cell_type": "code",
   "execution_count": 7,
   "id": "f2286af5",
   "metadata": {},
   "outputs": [
    {
     "data": {
      "text/plain": [
       "torch.Size([60, 32, 32, 16, 128, 10])"
      ]
     },
     "execution_count": 7,
     "metadata": {},
     "output_type": "execute_result"
    }
   ],
   "source": [
    "(z - e).shape"
   ]
  },
  {
   "cell_type": "code",
   "execution_count": null,
   "id": "0f9ab4df",
   "metadata": {},
   "outputs": [],
   "source": []
  }
 ],
 "metadata": {
  "kernelspec": {
   "display_name": "ste",
   "language": "python",
   "name": "ste"
  },
  "language_info": {
   "codemirror_mode": {
    "name": "ipython",
    "version": 3
   },
   "file_extension": ".py",
   "mimetype": "text/x-python",
   "name": "python",
   "nbconvert_exporter": "python",
   "pygments_lexer": "ipython3",
   "version": "3.12.1"
  }
 },
 "nbformat": 4,
 "nbformat_minor": 5
}
