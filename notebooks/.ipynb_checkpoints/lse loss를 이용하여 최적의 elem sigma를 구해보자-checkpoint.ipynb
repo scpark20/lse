{
 "cells": [
  {
   "cell_type": "code",
   "execution_count": 1,
   "id": "ab79d7c1",
   "metadata": {
    "scrolled": true
   },
   "outputs": [
    {
     "name": "stdout",
     "output_type": "stream",
     "text": [
      "Sat Jan 13 19:50:56 2024       \n",
      "+-----------------------------------------------------------------------------+\n",
      "| NVIDIA-SMI 525.147.05   Driver Version: 525.147.05   CUDA Version: 12.0     |\n",
      "|-------------------------------+----------------------+----------------------+\n",
      "| GPU  Name        Persistence-M| Bus-Id        Disp.A | Volatile Uncorr. ECC |\n",
      "| Fan  Temp  Perf  Pwr:Usage/Cap|         Memory-Usage | GPU-Util  Compute M. |\n",
      "|                               |                      |               MIG M. |\n",
      "|===============================+======================+======================|\n",
      "|   0  NVIDIA RTX A5000    Off  | 00000000:1B:00.0 Off |                    0 |\n",
      "| 30%   27C    P8    13W / 230W |  18576MiB / 23028MiB |      0%      Default |\n",
      "|                               |                      |                  N/A |\n",
      "+-------------------------------+----------------------+----------------------+\n",
      "|   1  NVIDIA RTX A5000    Off  | 00000000:1C:00.0 Off |                  Off |\n",
      "| 30%   28C    P8    15W / 230W |      8MiB / 24564MiB |      0%      Default |\n",
      "|                               |                      |                  N/A |\n",
      "+-------------------------------+----------------------+----------------------+\n",
      "|   2  NVIDIA RTX A5000    Off  | 00000000:1D:00.0 Off |                  Off |\n",
      "| 30%   28C    P8    16W / 230W |   3868MiB / 24564MiB |      0%      Default |\n",
      "|                               |                      |                  N/A |\n",
      "+-------------------------------+----------------------+----------------------+\n",
      "|   3  NVIDIA RTX A5000    Off  | 00000000:1E:00.0 Off |                  Off |\n",
      "| 30%   27C    P8    20W / 230W |      8MiB / 24564MiB |      0%      Default |\n",
      "|                               |                      |                  N/A |\n",
      "+-------------------------------+----------------------+----------------------+\n",
      "|   4  NVIDIA RTX A5000    Off  | 00000000:89:00.0 Off |                  Off |\n",
      "| 30%   28C    P8    16W / 230W |      8MiB / 24564MiB |      0%      Default |\n",
      "|                               |                      |                  N/A |\n",
      "+-------------------------------+----------------------+----------------------+\n",
      "|   5  NVIDIA RTX A5000    Off  | 00000000:8A:00.0 Off |                  Off |\n",
      "| 30%   28C    P8    19W / 230W |      8MiB / 24564MiB |      0%      Default |\n",
      "|                               |                      |                  N/A |\n",
      "+-------------------------------+----------------------+----------------------+\n",
      "|   6  NVIDIA RTX A5000    Off  | 00000000:8B:00.0 Off |                  Off |\n",
      "| 30%   28C    P8    20W / 230W |      8MiB / 24564MiB |      0%      Default |\n",
      "|                               |                      |                  N/A |\n",
      "+-------------------------------+----------------------+----------------------+\n",
      "|   7  NVIDIA RTX A5000    Off  | 00000000:8C:00.0 Off |                  Off |\n",
      "| 30%   27C    P8    16W / 230W |      8MiB / 24564MiB |      0%      Default |\n",
      "|                               |                      |                  N/A |\n",
      "+-------------------------------+----------------------+----------------------+\n",
      "                                                                               \n",
      "+-----------------------------------------------------------------------------+\n",
      "| Processes:                                                                  |\n",
      "|  GPU   GI   CI        PID   Type   Process name                  GPU Memory |\n",
      "|        ID   ID                                                   Usage      |\n",
      "|=============================================================================|\n",
      "|    0   N/A  N/A      4537      G   /usr/lib/xorg/Xorg                  4MiB |\n",
      "|    0   N/A  N/A   2106188      C   ...onda3/envs/ste/bin/python    17550MiB |\n",
      "|    0   N/A  N/A   2163173      C   ...onda3/envs/ste/bin/python     1018MiB |\n",
      "|    1   N/A  N/A      4537      G   /usr/lib/xorg/Xorg                  4MiB |\n",
      "|    2   N/A  N/A      4537      G   /usr/lib/xorg/Xorg                  4MiB |\n",
      "|    2   N/A  N/A   2205037      C   ...onda3/envs/ste/bin/python     3860MiB |\n",
      "|    3   N/A  N/A      4537      G   /usr/lib/xorg/Xorg                  4MiB |\n",
      "|    4   N/A  N/A      4537      G   /usr/lib/xorg/Xorg                  4MiB |\n",
      "|    5   N/A  N/A      4537      G   /usr/lib/xorg/Xorg                  4MiB |\n",
      "|    6   N/A  N/A      4537      G   /usr/lib/xorg/Xorg                  4MiB |\n",
      "|    7   N/A  N/A      4537      G   /usr/lib/xorg/Xorg                  4MiB |\n",
      "+-----------------------------------------------------------------------------+\n"
     ]
    }
   ],
   "source": [
    "import torch\n",
    "import torch.nn as nn\n",
    "import torch.nn.functional as F\n",
    "import numpy as np\n",
    "import os\n",
    "import time\n",
    "\n",
    "!nvidia-smi\n",
    "os.environ[\"CUDA_VISIBLE_DEVICES\"]=\"1\""
   ]
  },
  {
   "cell_type": "code",
   "execution_count": 121,
   "id": "39d608a2",
   "metadata": {},
   "outputs": [],
   "source": [
    "def get_kl(M, N, k, post_sigma, elem_sigma, prior_sigma=1.0):\n",
    "    # z : (M, z)\n",
    "    # mu : (N, z)\n",
    "    \n",
    "    z = (torch.rand(M, k).cuda()*2-1) * prior_sigma\n",
    "    mu = (torch.rand(N, k).cuda()*2-1) * post_sigma\n",
    "            \n",
    "    # (M, N) = sum((M, 1, z) - (1, N, z), dim=2)\n",
    "    distance = torch.norm(z.unsqueeze(1) - mu.unsqueeze(0), dim=2) ** 2\n",
    "    alpha = -1/(2*elem_sigma**2)\n",
    "    loss = -torch.mean(torch.logsumexp(alpha*distance, dim=1), dim=0)\n",
    "    loss = loss + 0.5*k*(2*np.log(elem_sigma)-np.log(np.e)) + np.log(N)\n",
    "    \n",
    "    return loss.item()"
   ]
  },
  {
   "cell_type": "code",
   "execution_count": 189,
   "id": "d37816d0",
   "metadata": {},
   "outputs": [
    {
     "name": "stderr",
     "output_type": "stream",
     "text": [
      "100%|███████████████████████████████████████| 1000/1000 [00:59<00:00, 16.85it/s]\n"
     ]
    },
    {
     "data": {
      "text/plain": [
       "0.14956861922263076"
      ]
     },
     "execution_count": 189,
     "metadata": {},
     "output_type": "execute_result"
    }
   ],
   "source": [
    "from tqdm import tqdm\n",
    "\n",
    "M = 1000\n",
    "N = 128\n",
    "k = 2\n",
    "post_sigma = 1\n",
    "elem_log_sigmas = np.arange(-10, 10, 0.1)\n",
    "\n",
    "losses_list = []\n",
    "for _ in tqdm(range(1000)):\n",
    "    losses = np.array([get_kl(M, N, k, post_sigma, np.exp(elem_log_sigma)) for elem_log_sigma in elem_log_sigmas])\n",
    "    losses_list.append(losses)\n",
    "    \n",
    "losses = np.mean(np.array(losses_list), axis=0)\n",
    "optimum_sigma = np.exp(elem_log_sigmas[np.argmin(losses)])\n",
    "optimum_sigma"
   ]
  },
  {
   "cell_type": "code",
   "execution_count": 191,
   "id": "767bbf5f",
   "metadata": {},
   "outputs": [
    {
     "data": {
      "text/plain": [
       "-1.9000000000000286"
      ]
     },
     "execution_count": 191,
     "metadata": {},
     "output_type": "execute_result"
    }
   ],
   "source": [
    "np.log(optimum_sigma)"
   ]
  },
  {
   "cell_type": "code",
   "execution_count": 195,
   "id": "72763ab0",
   "metadata": {},
   "outputs": [
    {
     "name": "stdout",
     "output_type": "stream",
     "text": [
      "0.0027394448187682903\n",
      "0.0074465830709241265\n",
      "0.020241911445803805\n",
      "0.05502322005640565\n",
      "0.1495686192226308\n",
      "0.4065696597405875\n",
      "1.105170918075616\n",
      "3.0041660239463472\n"
     ]
    }
   ],
   "source": [
    "for i in range(-4, 4):\n",
    "    print(np.exp(np.log(optimum_sigma) + i))"
   ]
  },
  {
   "cell_type": "code",
   "execution_count": null,
   "id": "ad9f55bd",
   "metadata": {},
   "outputs": [],
   "source": []
  },
  {
   "cell_type": "code",
   "execution_count": null,
   "id": "d85277db",
   "metadata": {},
   "outputs": [],
   "source": []
  },
  {
   "cell_type": "code",
   "execution_count": null,
   "id": "5c00fc37",
   "metadata": {},
   "outputs": [],
   "source": []
  }
 ],
 "metadata": {
  "kernelspec": {
   "display_name": "Python 3 (ipykernel)",
   "language": "python",
   "name": "python3"
  },
  "language_info": {
   "codemirror_mode": {
    "name": "ipython",
    "version": 3
   },
   "file_extension": ".py",
   "mimetype": "text/x-python",
   "name": "python",
   "nbconvert_exporter": "python",
   "pygments_lexer": "ipython3",
   "version": "3.9.12"
  }
 },
 "nbformat": 4,
 "nbformat_minor": 5
}
