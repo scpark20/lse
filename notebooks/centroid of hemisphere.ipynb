{
 "cells": [
  {
   "cell_type": "code",
   "execution_count": 3,
   "id": "a5ce892d",
   "metadata": {},
   "outputs": [],
   "source": [
    "import numpy as np\n",
    "from scipy.special import gamma"
   ]
  },
  {
   "cell_type": "code",
   "execution_count": 6,
   "id": "5fe95b4a",
   "metadata": {},
   "outputs": [],
   "source": [
    "def get_centroid(n):\n",
    "    return gamma(0.5*n+1) / (np.sqrt(np.pi)*gamma(n/2+3/2))"
   ]
  },
  {
   "cell_type": "code",
   "execution_count": 12,
   "id": "52578f75",
   "metadata": {},
   "outputs": [
    {
     "data": {
      "text/plain": [
       "0.2351726720434356"
      ]
     },
     "execution_count": 12,
     "metadata": {},
     "output_type": "execute_result"
    }
   ],
   "source": [
    "get_centroid(10)"
   ]
  },
  {
   "cell_type": "code",
   "execution_count": null,
   "id": "dd230354",
   "metadata": {},
   "outputs": [],
   "source": []
  }
 ],
 "metadata": {
  "kernelspec": {
   "display_name": "Python 3 (ipykernel)",
   "language": "python",
   "name": "python3"
  },
  "language_info": {
   "codemirror_mode": {
    "name": "ipython",
    "version": 3
   },
   "file_extension": ".py",
   "mimetype": "text/x-python",
   "name": "python",
   "nbconvert_exporter": "python",
   "pygments_lexer": "ipython3",
   "version": "3.9.12"
  }
 },
 "nbformat": 4,
 "nbformat_minor": 5
}
