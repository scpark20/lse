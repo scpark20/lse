{
 "cells": [
  {
   "cell_type": "code",
   "execution_count": 1,
   "id": "ac94608c",
   "metadata": {},
   "outputs": [
    {
     "name": "stdout",
     "output_type": "stream",
     "text": [
      "DOING TEST\n"
     ]
    },
    {
     "data": {
      "text/plain": [
       "dict_keys(['dataset', 'data_root', 'test_eval', 'image_size', 'image_channels'])"
      ]
     },
     "execution_count": 1,
     "metadata": {},
     "output_type": "execute_result"
    }
   ],
   "source": [
    "from vdvae_data import set_up_data, unpickle_cifar10\n",
    "from easydict import EasyDict\n",
    "\n",
    "H = EasyDict()\n",
    "H.dataset = 'ffhq_256'\n",
    "H.data_root = '/home/scpark/data'\n",
    "H.test_eval = True\n",
    "\n",
    "H, data_train, data_valid_or_test, preprocess_fn = set_up_data(H)\n",
    "H.keys()"
   ]
  },
  {
   "cell_type": "code",
   "execution_count": 8,
   "id": "bb13aaa8",
   "metadata": {},
   "outputs": [
    {
     "data": {
      "text/plain": [
       "torch.Size([256, 256, 3])"
      ]
     },
     "execution_count": 8,
     "metadata": {},
     "output_type": "execute_result"
    }
   ],
   "source": [
    "data_train[0][0]"
   ]
  },
  {
   "cell_type": "code",
   "execution_count": null,
   "id": "4ca9bfc2",
   "metadata": {},
   "outputs": [],
   "source": []
  }
 ],
 "metadata": {
  "kernelspec": {
   "display_name": "ste",
   "language": "python",
   "name": "ste"
  },
  "language_info": {
   "codemirror_mode": {
    "name": "ipython",
    "version": 3
   },
   "file_extension": ".py",
   "mimetype": "text/x-python",
   "name": "python",
   "nbconvert_exporter": "python",
   "pygments_lexer": "ipython3",
   "version": "3.12.1"
  }
 },
 "nbformat": 4,
 "nbformat_minor": 5
}
