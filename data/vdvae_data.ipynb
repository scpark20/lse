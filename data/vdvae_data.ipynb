{
 "cells": [
  {
   "cell_type": "code",
   "execution_count": 3,
   "id": "ddb40c2b",
   "metadata": {},
   "outputs": [
    {
     "name": "stdout",
     "output_type": "stream",
     "text": [
      "DOING TEST\n"
     ]
    },
    {
     "data": {
      "text/plain": [
       "dict_keys(['dataset', 'data_root', 'test_eval', 'image_size', 'image_channels'])"
      ]
     },
     "execution_count": 3,
     "metadata": {},
     "output_type": "execute_result"
    }
   ],
   "source": [
    "from vdvae_data import set_up_data, unpickle_cifar10\n",
    "from easydict import EasyDict\n",
    "\n",
    "H = EasyDict()\n",
    "H.dataset = 'cifar10'\n",
    "H.data_root = '/home/scpark/data'\n",
    "H.test_eval = True\n",
    "\n",
    "\n",
    "H, data_train, data_valid_or_test, preprocess_fn = set_up_data(H)\n",
    "H.keys()"
   ]
  },
  {
   "cell_type": "code",
   "execution_count": 12,
   "id": "7401e430",
   "metadata": {},
   "outputs": [
    {
     "data": {
      "text/plain": [
       "<function vdvae_data.set_up_data.<locals>.preprocess_func(x)>"
      ]
     },
     "execution_count": 12,
     "metadata": {},
     "output_type": "execute_result"
    }
   ],
   "source": [
    "preprocess_fn"
   ]
  },
  {
   "cell_type": "code",
   "execution_count": null,
   "id": "f0ddffef",
   "metadata": {},
   "outputs": [],
   "source": [
    "import os\n",
    "data_root = '/home/scpark/data'\n",
    "tr_data = [unpickle_cifar10(os.path.join(data_root, 'cifar-10-batches-py/', 'data_batch_%d' % i)) for i in range(1, 6)]\n",
    "    "
   ]
  },
  {
   "cell_type": "code",
   "execution_count": null,
   "id": "ef21965f",
   "metadata": {},
   "outputs": [],
   "source": [
    "import numpy as np\n",
    "trX = np.vstack([data['data'] for data in tr_data])"
   ]
  },
  {
   "cell_type": "code",
   "execution_count": null,
   "id": "075fb0c4",
   "metadata": {},
   "outputs": [],
   "source": [
    "trX.shape"
   ]
  },
  {
   "cell_type": "code",
   "execution_count": null,
   "id": "859c1e8e",
   "metadata": {},
   "outputs": [],
   "source": []
  }
 ],
 "metadata": {
  "kernelspec": {
   "display_name": "ste",
   "language": "python",
   "name": "ste"
  },
  "language_info": {
   "codemirror_mode": {
    "name": "ipython",
    "version": 3
   },
   "file_extension": ".py",
   "mimetype": "text/x-python",
   "name": "python",
   "nbconvert_exporter": "python",
   "pygments_lexer": "ipython3",
   "version": "3.12.1"
  }
 },
 "nbformat": 4,
 "nbformat_minor": 5
}
