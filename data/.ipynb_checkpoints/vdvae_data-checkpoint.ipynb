{
 "cells": [
  {
   "cell_type": "code",
   "execution_count": 1,
   "id": "520514cd",
   "metadata": {},
   "outputs": [
    {
     "ename": "AttributeError",
     "evalue": "'EasyDict' object has no attribute 'test_eval'",
     "output_type": "error",
     "traceback": [
      "\u001b[0;31m---------------------------------------------------------------------------\u001b[0m",
      "\u001b[0;31mAttributeError\u001b[0m                            Traceback (most recent call last)",
      "Cell \u001b[0;32mIn[1], line 9\u001b[0m\n\u001b[1;32m      5\u001b[0m H\u001b[38;5;241m.\u001b[39mdataset \u001b[38;5;241m=\u001b[39m \u001b[38;5;124m'\u001b[39m\u001b[38;5;124mcifar10\u001b[39m\u001b[38;5;124m'\u001b[39m\n\u001b[1;32m      6\u001b[0m H\u001b[38;5;241m.\u001b[39mdata_root \u001b[38;5;241m=\u001b[39m \u001b[38;5;124m'\u001b[39m\u001b[38;5;124m/home/scpark/data\u001b[39m\u001b[38;5;124m'\u001b[39m\n\u001b[0;32m----> 9\u001b[0m \u001b[43mset_up_data\u001b[49m\u001b[43m(\u001b[49m\u001b[43mH\u001b[49m\u001b[43m)\u001b[49m\n",
      "File \u001b[0;32m~/lse/data/vdvae_data.py:51\u001b[0m, in \u001b[0;36mset_up_data\u001b[0;34m(H)\u001b[0m\n\u001b[1;32m     47\u001b[0m     \u001b[38;5;28;01mraise\u001b[39;00m \u001b[38;5;167;01mValueError\u001b[39;00m(\u001b[38;5;124m'\u001b[39m\u001b[38;5;124munknown dataset: \u001b[39m\u001b[38;5;124m'\u001b[39m, H\u001b[38;5;241m.\u001b[39mdataset)\n\u001b[1;32m     49\u001b[0m do_low_bit \u001b[38;5;241m=\u001b[39m H\u001b[38;5;241m.\u001b[39mdataset \u001b[38;5;129;01min\u001b[39;00m [\u001b[38;5;124m'\u001b[39m\u001b[38;5;124mffhq_256\u001b[39m\u001b[38;5;124m'\u001b[39m]\n\u001b[0;32m---> 51\u001b[0m \u001b[38;5;28;01mif\u001b[39;00m \u001b[43mH\u001b[49m\u001b[38;5;241;43m.\u001b[39;49m\u001b[43mtest_eval\u001b[49m:\n\u001b[1;32m     52\u001b[0m     \u001b[38;5;28mprint\u001b[39m(\u001b[38;5;124m'\u001b[39m\u001b[38;5;124mDOING TEST\u001b[39m\u001b[38;5;124m'\u001b[39m)\n\u001b[1;32m     53\u001b[0m     eval_dataset \u001b[38;5;241m=\u001b[39m teX\n",
      "\u001b[0;31mAttributeError\u001b[0m: 'EasyDict' object has no attribute 'test_eval'"
     ]
    }
   ],
   "source": [
    "from vdvae_data import set_up_data, unpickle_cifar10\n",
    "from easydict import EasyDict\n",
    "\n",
    "H = EasyDict()\n",
    "H.dataset = 'cifar10'\n",
    "H.data_root = '/home/scpark/data'\n",
    "H.test_eval = True\n",
    "\n",
    "\n",
    "set_up_data(H)"
   ]
  },
  {
   "cell_type": "code",
   "execution_count": null,
   "id": "04b107c5",
   "metadata": {},
   "outputs": [],
   "source": [
    "!ls /home/scpark/data/\n"
   ]
  },
  {
   "cell_type": "code",
   "execution_count": null,
   "id": "5eef7738",
   "metadata": {},
   "outputs": [],
   "source": [
    "import os\n",
    "data_root = '/home/scpark/data'\n",
    "tr_data = [unpickle_cifar10(os.path.join(data_root, 'cifar-10-batches-py/', 'data_batch_%d' % i)) for i in range(1, 6)]\n",
    "    "
   ]
  },
  {
   "cell_type": "code",
   "execution_count": null,
   "id": "5761e87c",
   "metadata": {},
   "outputs": [],
   "source": [
    "import numpy as np\n",
    "trX = np.vstack([data['data'] for data in tr_data])"
   ]
  },
  {
   "cell_type": "code",
   "execution_count": null,
   "id": "b723bba4",
   "metadata": {},
   "outputs": [],
   "source": [
    "trX.shape"
   ]
  },
  {
   "cell_type": "code",
   "execution_count": null,
   "id": "c783f939",
   "metadata": {},
   "outputs": [],
   "source": []
  }
 ],
 "metadata": {
  "kernelspec": {
   "display_name": "ste",
   "language": "python",
   "name": "ste"
  },
  "language_info": {
   "codemirror_mode": {
    "name": "ipython",
    "version": 3
   },
   "file_extension": ".py",
   "mimetype": "text/x-python",
   "name": "python",
   "nbconvert_exporter": "python",
   "pygments_lexer": "ipython3",
   "version": "3.12.1"
  }
 },
 "nbformat": 4,
 "nbformat_minor": 5
}
