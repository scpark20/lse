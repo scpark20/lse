{
 "cells": [
  {
   "cell_type": "code",
   "execution_count": 1,
   "id": "e998b2b0",
   "metadata": {},
   "outputs": [],
   "source": [
    "import os\n",
    "os.chdir('../')\n",
    "\n",
    "import warnings\n",
    "warnings.filterwarnings('ignore')"
   ]
  },
  {
   "cell_type": "code",
   "execution_count": 2,
   "id": "d7b38c99",
   "metadata": {
    "scrolled": true
   },
   "outputs": [
    {
     "name": "stdout",
     "output_type": "stream",
     "text": [
      "Thu Jan 18 21:57:10 2024       \n",
      "+-----------------------------------------------------------------------------+\n",
      "| NVIDIA-SMI 470.223.02   Driver Version: 470.223.02   CUDA Version: 11.4     |\n",
      "|-------------------------------+----------------------+----------------------+\n",
      "| GPU  Name        Persistence-M| Bus-Id        Disp.A | Volatile Uncorr. ECC |\n",
      "| Fan  Temp  Perf  Pwr:Usage/Cap|         Memory-Usage | GPU-Util  Compute M. |\n",
      "|                               |                      |               MIG M. |\n",
      "|===============================+======================+======================|\n",
      "|   0  NVIDIA A100 80G...  Off  | 00000000:1B:00.0 Off |                    0 |\n",
      "| N/A   33C    P0    65W / 300W |   8433MiB / 80994MiB |      9%      Default |\n",
      "|                               |                      |             Disabled |\n",
      "+-------------------------------+----------------------+----------------------+\n",
      "|   1  NVIDIA A100 80G...  Off  | 00000000:1C:00.0 Off |                    0 |\n",
      "| N/A   58C    P0    79W / 300W |   1035MiB / 80994MiB |      0%      Default |\n",
      "|                               |                      |             Disabled |\n",
      "+-------------------------------+----------------------+----------------------+\n",
      "|   2  NVIDIA A100 80G...  Off  | 00000000:1D:00.0 Off |                    0 |\n",
      "| N/A   58C    P0    80W / 300W |     35MiB / 80994MiB |      0%      Default |\n",
      "|                               |                      |             Disabled |\n",
      "+-------------------------------+----------------------+----------------------+\n",
      "|   3  NVIDIA A100 80G...  Off  | 00000000:1E:00.0 Off |                    0 |\n",
      "| N/A   34C    P0    93W / 300W |  16828MiB / 80994MiB |     18%      Default |\n",
      "|                               |                      |             Disabled |\n",
      "+-------------------------------+----------------------+----------------------+\n",
      "|   4  NVIDIA A100 80G...  Off  | 00000000:89:00.0 Off |                    0 |\n",
      "| N/A   62C    P0    78W / 300W |  76292MiB / 80994MiB |    100%      Default |\n",
      "|                               |                      |             Disabled |\n",
      "+-------------------------------+----------------------+----------------------+\n",
      "|   5  NVIDIA A100 80G...  Off  | 00000000:8A:00.0 Off |                    0 |\n",
      "| N/A   49C    P0    76W / 300W |  16828MiB / 80994MiB |      9%      Default |\n",
      "|                               |                      |             Disabled |\n",
      "+-------------------------------+----------------------+----------------------+\n",
      "|   6  NVIDIA A100 80G...  Off  | 00000000:8B:00.0 Off |                    0 |\n",
      "| N/A   65C    P0   303W / 300W |  76296MiB / 80994MiB |     92%      Default |\n",
      "|                               |                      |             Disabled |\n",
      "+-------------------------------+----------------------+----------------------+\n",
      "|   7  NVIDIA A100 80G...  Off  | 00000000:8C:00.0 Off |                    0 |\n",
      "| N/A   43C    P0    68W / 300W |   8433MiB / 80994MiB |      9%      Default |\n",
      "|                               |                      |             Disabled |\n",
      "+-------------------------------+----------------------+----------------------+\n",
      "                                                                               \n",
      "+-----------------------------------------------------------------------------+\n",
      "| Processes:                                                                  |\n",
      "|  GPU   GI   CI        PID   Type   Process name                  GPU Memory |\n",
      "|        ID   ID                                                   Usage      |\n",
      "|=============================================================================|\n",
      "|    0   N/A  N/A      2426      G   /usr/lib/xorg/Xorg                 35MiB |\n",
      "|    0   N/A  N/A    538757      C   ...a3/envs/scpark/bin/python     8395MiB |\n",
      "|    1   N/A  N/A      2426      G   /usr/lib/xorg/Xorg                 35MiB |\n",
      "|    1   N/A  N/A    599661      C   ...a3/envs/scpark/bin/python      997MiB |\n",
      "|    2   N/A  N/A      2426      G   /usr/lib/xorg/Xorg                 35MiB |\n",
      "|    3   N/A  N/A      2426      G   /usr/lib/xorg/Xorg                 35MiB |\n",
      "|    3   N/A  N/A    552430      C   ...a3/envs/scpark/bin/python     8395MiB |\n",
      "|    3   N/A  N/A    552478      C   ...a3/envs/scpark/bin/python     8395MiB |\n",
      "|    4   N/A  N/A      2426      G   /usr/lib/xorg/Xorg                 35MiB |\n",
      "|    4   N/A  N/A    552457      C   ...a3/envs/scpark/bin/python     8395MiB |\n",
      "|    4   N/A  N/A    598492      C   ...a3/envs/scpark/bin/python    67859MiB |\n",
      "|    5   N/A  N/A      2426      G   /usr/lib/xorg/Xorg                 35MiB |\n",
      "|    5   N/A  N/A    552505      C   ...a3/envs/scpark/bin/python     8395MiB |\n",
      "|    5   N/A  N/A    552664      C   ...a3/envs/scpark/bin/python     8395MiB |\n",
      "|    6   N/A  N/A      2426      G   /usr/lib/xorg/Xorg                 35MiB |\n",
      "|    6   N/A  N/A    520611      C   ...a3/envs/scpark/bin/python     8399MiB |\n",
      "|    6   N/A  N/A    598672      C   ...a3/envs/scpark/bin/python    67859MiB |\n",
      "|    7   N/A  N/A      2426      G   /usr/lib/xorg/Xorg                 35MiB |\n",
      "|    7   N/A  N/A    552477      C   ...a3/envs/scpark/bin/python     8395MiB |\n",
      "+-----------------------------------------------------------------------------+\n"
     ]
    }
   ],
   "source": [
    "import torch\n",
    "import torch.nn as nn\n",
    "import torch.nn.functional as F\n",
    "import numpy as np\n",
    "import os\n",
    "\n",
    "!nvidia-smi\n",
    "os.environ[\"CUDA_VISIBLE_DEVICES\"]=\"2\"\n",
    "device = 'cuda:0'"
   ]
  },
  {
   "cell_type": "markdown",
   "id": "df8b63cd",
   "metadata": {},
   "source": [
    "### Model Parts"
   ]
  },
  {
   "cell_type": "code",
   "execution_count": 3,
   "id": "90c6bda2",
   "metadata": {},
   "outputs": [],
   "source": [
    "from model.main.enc_prior_latent_dec import Model\n",
    "from model.encoder.conv2d_encoder import Encoder\n",
    "from model.prior.normal_prior import Prior\n",
    "from model.latent.lse_latent import Latent\n",
    "from model.decoder.conv2d_decoder import Decoder\n",
    "\n",
    "from tensorboardX import SummaryWriter\n",
    "from util.util import *"
   ]
  },
  {
   "cell_type": "markdown",
   "id": "89871daf",
   "metadata": {},
   "source": [
    "### Model Init."
   ]
  },
  {
   "cell_type": "code",
   "execution_count": 4,
   "id": "4a3a31a8",
   "metadata": {},
   "outputs": [],
   "source": [
    "from easydict import EasyDict\n",
    "hp = EasyDict()\n",
    "hp.size = 64\n",
    "hp.in_dim = 3\n",
    "hp.out_dim = 3\n",
    "hp.z_dim = 128\n",
    "hp.h_dims = [32, 64, 128, 256, 512]\n",
    "hp.M = 1024\n",
    "hp.N = 256\n",
    "hp.activation = F.sigmoid\n",
    "hp.init_log_sigma = 0"
   ]
  },
  {
   "cell_type": "code",
   "execution_count": 5,
   "id": "3b10f353",
   "metadata": {},
   "outputs": [
    {
     "name": "stdout",
     "output_type": "stream",
     "text": [
      "done\n"
     ]
    }
   ],
   "source": [
    "model_list = []\n",
    "for i in range(10):\n",
    "    model = Model(Encoder(**hp), Prior(**hp), Latent(**hp), Decoder(**hp))\n",
    "    model = model.to(device)\n",
    "    model.eval()\n",
    "    model_list.append(model)\n",
    "    \n",
    "print('done')"
   ]
  },
  {
   "cell_type": "markdown",
   "id": "d6b40d8e",
   "metadata": {},
   "source": [
    "### Dataset"
   ]
  },
  {
   "cell_type": "code",
   "execution_count": 6,
   "id": "c55fc894",
   "metadata": {},
   "outputs": [
    {
     "name": "stdout",
     "output_type": "stream",
     "text": [
      "done\n"
     ]
    }
   ],
   "source": [
    "from torch.utils.data import DataLoader\n",
    "from torchvision import transforms\n",
    "from torchvision.datasets import CelebA\n",
    "\n",
    "class MyCelebA(CelebA):\n",
    "    \"\"\"\n",
    "    A work-around to address issues with pytorch's celebA dataset class.\n",
    "    \n",
    "    Download and Extract\n",
    "    URL : https://drive.google.com/file/d/1m8-EBPgi5MRubrm6iQjafK2QMHDBMSfJ/view?usp=sharing\n",
    "    \"\"\"\n",
    "    \n",
    "    def _check_integrity(self) -> bool:\n",
    "        return True\n",
    "\n",
    "root = '/data'\n",
    "test_transforms = transforms.Compose([transforms.CenterCrop(148),\n",
    "                                      transforms.Resize(hp.size),\n",
    "                                      transforms.ToTensor(),])\n",
    "test_dataset = MyCelebA(root, split='test', transform=test_transforms, download=False)\n",
    "test_loader = DataLoader(test_dataset, batch_size=10000, shuffle=False)\n",
    "print('done')"
   ]
  },
  {
   "cell_type": "code",
   "execution_count": 7,
   "id": "8b9f6240",
   "metadata": {},
   "outputs": [
    {
     "name": "stdout",
     "output_type": "stream",
     "text": [
      "dict_keys(['x', 't'])\n"
     ]
    }
   ],
   "source": [
    "def preprocess(batch):\n",
    "    x, t = batch\n",
    "    data = {}\n",
    "    data['x'] = x.to(device)\n",
    "    data['t'] = t.to(device)\n",
    "    return data\n",
    "\n",
    "batch = next(iter(test_loader))\n",
    "data = preprocess(batch)\n",
    "print(data.keys())"
   ]
  },
  {
   "cell_type": "markdown",
   "id": "0ed481e4",
   "metadata": {},
   "source": [
    "### Load"
   ]
  },
  {
   "cell_type": "code",
   "execution_count": 8,
   "id": "444d37f5",
   "metadata": {},
   "outputs": [
    {
     "data": {
      "application/vnd.jupyter.widget-view+json": {
       "model_id": "df69d2dc6eba41e8a635ce9ebb82f7e6",
       "version_major": 2,
       "version_minor": 0
      },
      "text/plain": [
       "0it [00:00, ?it/s]"
      ]
     },
     "metadata": {},
     "output_type": "display_data"
    }
   ],
   "source": [
    "from tqdm import tqdm_notebook as tqdm\n",
    "\n",
    "save_path = '/data/scpark/save/lse/train_celeba/train01.17-2/save_200000'\n",
    "\n",
    "# warm start\n",
    "models_state_dict = torch.load(save_path, map_location=torch.device('cpu'))['models_state_dict']\n",
    "for i, model in tqdm(enumerate(model_list)):\n",
    "    model.load_state_dict(models_state_dict[i], strict=True)"
   ]
  },
  {
   "cell_type": "markdown",
   "id": "2b13d661",
   "metadata": {},
   "source": [
    "### Reconstruction Loss"
   ]
  },
  {
   "cell_type": "code",
   "execution_count": 9,
   "id": "1bc19b24",
   "metadata": {},
   "outputs": [
    {
     "data": {
      "application/vnd.jupyter.widget-view+json": {
       "model_id": "970b249b2e4e4dfab392bcaca7439f02",
       "version_major": 2,
       "version_minor": 0
      },
      "text/plain": [
       "  0%|          | 0/10 [00:00<?, ?it/s]"
      ]
     },
     "metadata": {},
     "output_type": "display_data"
    },
    {
     "name": "stdout",
     "output_type": "stream",
     "text": [
      "Reconstruction Loss : 0.008141064830124379\n"
     ]
    }
   ],
   "source": [
    "z_list = []\n",
    "recon_loss_list = []\n",
    "for model in tqdm(model_list):\n",
    "    with torch.no_grad():\n",
    "        data = model(data, M=1)\n",
    "        z_list.append(data['z'])\n",
    "        recon_loss_list.append(data['recon_loss'].item())\n",
    "        \n",
    "print('Reconstruction Loss :', np.mean(recon_loss_list))"
   ]
  },
  {
   "cell_type": "markdown",
   "id": "81901766",
   "metadata": {},
   "source": [
    "### Get Scale"
   ]
  },
  {
   "cell_type": "code",
   "execution_count": 10,
   "id": "dbd90b1c",
   "metadata": {},
   "outputs": [
    {
     "name": "stdout",
     "output_type": "stream",
     "text": [
      "[tensor([0.0161, 0.0155, 0.0168, 0.0173, 0.0201, 0.0162, 0.0158, 0.0159, 0.0167,\n",
      "        0.0168, 0.0153, 0.0171, 0.0167, 0.0160, 0.0184, 0.0172, 0.0162, 0.0165,\n",
      "        0.0177, 0.0157, 0.0154, 0.0178, 0.0148, 0.0186, 0.0143, 0.0166, 0.0175,\n",
      "        0.0151, 0.0167, 0.0150, 0.0154, 0.0171, 0.0156, 0.0175, 0.0174, 0.0160,\n",
      "        0.0152, 0.0164, 0.0153, 0.0166, 0.0166, 0.0142, 0.0167, 0.0170, 0.0162,\n",
      "        0.0160, 0.0151, 0.0167, 0.0173, 0.0162, 0.0169, 0.0199, 0.0165, 0.0162,\n",
      "        0.0161, 0.0168, 0.0170, 0.0158, 0.0161, 0.0157, 0.0182, 0.0154, 0.0153,\n",
      "        0.0157, 0.0181, 0.0159, 0.0169, 0.0160, 0.0167, 0.0159, 0.0180, 0.0174,\n",
      "        0.0161, 0.0173, 0.0154, 0.0166, 0.0165, 0.0158, 0.0162, 0.0152, 0.0143,\n",
      "        0.0175, 0.0155, 0.0161, 0.0156, 0.0165, 0.0163, 0.0181, 0.0160, 0.0165,\n",
      "        0.0147, 0.0154, 0.0160, 0.0146, 0.0154, 0.0145, 0.0153, 0.0155, 0.0174,\n",
      "        0.0165, 0.0188, 0.0168, 0.0159, 0.0164, 0.0164, 0.0161, 0.0162, 0.0171,\n",
      "        0.0165, 0.0177, 0.0166, 0.0167, 0.0183, 0.0172, 0.0175, 0.0157, 0.0157,\n",
      "        0.0155, 0.0176, 0.0169, 0.0180, 0.0166, 0.0165, 0.0165, 0.0178, 0.0168,\n",
      "        0.0175, 0.0162], device='cuda:0'), tensor([0.0131, 0.0140, 0.0134, 0.0140, 0.0130, 0.0125, 0.0140, 0.0159, 0.0145,\n",
      "        0.0130, 0.0133, 0.0137, 0.0135, 0.0123, 0.0118, 0.0152, 0.0153, 0.0133,\n",
      "        0.0144, 0.0154, 0.0139, 0.0144, 0.0135, 0.0137, 0.0125, 0.0145, 0.0136,\n",
      "        0.0128, 0.0158, 0.0153, 0.0130, 0.0135, 0.0129, 0.0136, 0.0142, 0.0141,\n",
      "        0.0124, 0.0148, 0.0147, 0.0120, 0.0146, 0.0146, 0.0137, 0.0142, 0.0144,\n",
      "        0.0146, 0.0136, 0.0143, 0.0130, 0.0137, 0.0138, 0.0147, 0.0140, 0.0143,\n",
      "        0.0139, 0.0133, 0.0135, 0.0136, 0.0134, 0.0135, 0.0134, 0.0118, 0.0143,\n",
      "        0.0132, 0.0141, 0.0147, 0.0144, 0.0135, 0.0135, 0.0144, 0.0136, 0.0147,\n",
      "        0.0133, 0.0141, 0.0141, 0.0126, 0.0149, 0.0138, 0.0156, 0.0143, 0.0158,\n",
      "        0.0132, 0.0157, 0.0138, 0.0150, 0.0143, 0.0138, 0.0131, 0.0128, 0.0136,\n",
      "        0.0113, 0.0124, 0.0144, 0.0136, 0.0152, 0.0116, 0.0122, 0.0123, 0.0163,\n",
      "        0.0179, 0.0121, 0.0143, 0.0132, 0.0143, 0.0140, 0.0143, 0.0124, 0.0150,\n",
      "        0.0140, 0.0126, 0.0145, 0.0124, 0.0137, 0.0131, 0.0137, 0.0131, 0.0140,\n",
      "        0.0135, 0.0134, 0.0109, 0.0133, 0.0122, 0.0143, 0.0142, 0.0130, 0.0145,\n",
      "        0.0135, 0.0138], device='cuda:0'), tensor([0.0071, 0.0067, 0.0073, 0.0072, 0.0068, 0.0076, 0.0068, 0.0070, 0.0063,\n",
      "        0.0065, 0.0082, 0.0095, 0.0071, 0.0076, 0.0058, 0.0076, 0.0060, 0.0075,\n",
      "        0.0060, 0.0063, 0.0068, 0.0068, 0.0075, 0.0078, 0.0081, 0.0076, 0.0062,\n",
      "        0.0061, 0.0096, 0.0075, 0.0073, 0.0079, 0.0070, 0.0082, 0.0067, 0.0067,\n",
      "        0.0065, 0.0099, 0.0067, 0.0074, 0.0064, 0.0059, 0.0066, 0.0067, 0.0066,\n",
      "        0.0063, 0.0075, 0.0071, 0.0083, 0.0064, 0.0082, 0.0062, 0.0073, 0.0067,\n",
      "        0.0065, 0.0064, 0.0064, 0.0063, 0.0062, 0.0069, 0.0073, 0.0065, 0.0068,\n",
      "        0.0073, 0.0067, 0.0065, 0.0060, 0.0070, 0.0070, 0.0058, 0.0094, 0.0066,\n",
      "        0.0078, 0.0072, 0.0077, 0.0066, 0.0081, 0.0064, 0.0074, 0.0073, 0.0066,\n",
      "        0.0083, 0.0072, 0.0082, 0.0077, 0.0080, 0.0068, 0.0071, 0.0082, 0.0072,\n",
      "        0.0065, 0.0066, 0.0057, 0.0075, 0.0057, 0.0066, 0.0076, 0.0069, 0.0070,\n",
      "        0.0075, 0.0083, 0.0077, 0.0065, 0.0083, 0.0075, 0.0063, 0.0063, 0.0079,\n",
      "        0.0069, 0.0079, 0.0071, 0.0075, 0.0066, 0.0080, 0.0082, 0.0072, 0.0061,\n",
      "        0.0077, 0.0082, 0.0073, 0.0061, 0.0081, 0.0067, 0.0071, 0.0077, 0.0072,\n",
      "        0.0061, 0.0068], device='cuda:0'), tensor([0.0072, 0.0085, 0.0050, 0.0077, 0.0074, 0.0081, 0.0068, 0.0072, 0.0089,\n",
      "        0.0075, 0.0065, 0.0078, 0.0099, 0.0071, 0.0064, 0.0080, 0.0072, 0.0068,\n",
      "        0.0073, 0.0077, 0.0084, 0.0090, 0.0060, 0.0060, 0.0080, 0.0078, 0.0087,\n",
      "        0.0078, 0.0067, 0.0067, 0.0078, 0.0080, 0.0076, 0.0070, 0.0086, 0.0074,\n",
      "        0.0082, 0.0069, 0.0079, 0.0077, 0.0076, 0.0066, 0.0066, 0.0066, 0.0077,\n",
      "        0.0072, 0.0069, 0.0064, 0.0076, 0.0059, 0.0068, 0.0083, 0.0073, 0.0069,\n",
      "        0.0070, 0.0068, 0.0070, 0.0071, 0.0052, 0.0076, 0.0062, 0.0074, 0.0073,\n",
      "        0.0072, 0.0080, 0.0069, 0.0070, 0.0057, 0.0082, 0.0062, 0.0076, 0.0069,\n",
      "        0.0076, 0.0069, 0.0068, 0.0069, 0.0063, 0.0062, 0.0076, 0.0083, 0.0060,\n",
      "        0.0064, 0.0062, 0.0062, 0.0063, 0.0087, 0.0071, 0.0063, 0.0068, 0.0074,\n",
      "        0.0063, 0.0062, 0.0082, 0.0065, 0.0060, 0.0064, 0.0078, 0.0069, 0.0068,\n",
      "        0.0059, 0.0058, 0.0067, 0.0065, 0.0067, 0.0077, 0.0068, 0.0070, 0.0065,\n",
      "        0.0084, 0.0062, 0.0065, 0.0064, 0.0066, 0.0070, 0.0065, 0.0070, 0.0068,\n",
      "        0.0072, 0.0058, 0.0059, 0.0085, 0.0076, 0.0064, 0.0077, 0.0079, 0.0064,\n",
      "        0.0090, 0.0063], device='cuda:0'), tensor([0.0077, 0.0074, 0.0084, 0.0094, 0.0087, 0.0078, 0.0095, 0.0078, 0.0071,\n",
      "        0.0084, 0.0098, 0.0082, 0.0083, 0.0089, 0.0108, 0.0072, 0.0082, 0.0085,\n",
      "        0.0088, 0.0089, 0.0102, 0.0088, 0.0090, 0.0097, 0.0074, 0.0078, 0.0098,\n",
      "        0.0092, 0.0080, 0.0080, 0.0079, 0.0098, 0.0081, 0.0084, 0.0093, 0.0101,\n",
      "        0.0086, 0.0084, 0.0082, 0.0107, 0.0091, 0.0094, 0.0113, 0.0080, 0.0087,\n",
      "        0.0087, 0.0088, 0.0090, 0.0094, 0.0090, 0.0098, 0.0079, 0.0090, 0.0087,\n",
      "        0.0097, 0.0086, 0.0089, 0.0089, 0.0084, 0.0088, 0.0095, 0.0106, 0.0094,\n",
      "        0.0081, 0.0087, 0.0074, 0.0071, 0.0094, 0.0080, 0.0093, 0.0088, 0.0091,\n",
      "        0.0076, 0.0093, 0.0083, 0.0105, 0.0087, 0.0086, 0.0082, 0.0082, 0.0078,\n",
      "        0.0082, 0.0088, 0.0078, 0.0083, 0.0096, 0.0069, 0.0098, 0.0088, 0.0104,\n",
      "        0.0089, 0.0088, 0.0099, 0.0103, 0.0082, 0.0088, 0.0088, 0.0093, 0.0084,\n",
      "        0.0083, 0.0092, 0.0095, 0.0098, 0.0089, 0.0079, 0.0080, 0.0074, 0.0092,\n",
      "        0.0097, 0.0082, 0.0090, 0.0089, 0.0084, 0.0103, 0.0084, 0.0081, 0.0099,\n",
      "        0.0107, 0.0091, 0.0095, 0.0127, 0.0100, 0.0099, 0.0076, 0.0102, 0.0106,\n",
      "        0.0098, 0.0089], device='cuda:0'), tensor([0.0174, 0.0155, 0.0155, 0.0151, 0.0142, 0.0172, 0.0144, 0.0173, 0.0166,\n",
      "        0.0155, 0.0165, 0.0147, 0.0152, 0.0155, 0.0166, 0.0152, 0.0195, 0.0172,\n",
      "        0.0142, 0.0150, 0.0145, 0.0160, 0.0154, 0.0159, 0.0155, 0.0156, 0.0153,\n",
      "        0.0153, 0.0190, 0.0162, 0.0148, 0.0165, 0.0152, 0.0182, 0.0178, 0.0167,\n",
      "        0.0167, 0.0177, 0.0164, 0.0153, 0.0171, 0.0168, 0.0173, 0.0168, 0.0152,\n",
      "        0.0172, 0.0177, 0.0157, 0.0162, 0.0175, 0.0147, 0.0173, 0.0164, 0.0166,\n",
      "        0.0147, 0.0147, 0.0162, 0.0161, 0.0148, 0.0173, 0.0178, 0.0150, 0.0147,\n",
      "        0.0164, 0.0170, 0.0158, 0.0163, 0.0157, 0.0158, 0.0159, 0.0160, 0.0152,\n",
      "        0.0155, 0.0163, 0.0160, 0.0171, 0.0152, 0.0150, 0.0171, 0.0160, 0.0160,\n",
      "        0.0159, 0.0173, 0.0168, 0.0171, 0.0173, 0.0154, 0.0160, 0.0142, 0.0152,\n",
      "        0.0156, 0.0153, 0.0184, 0.0185, 0.0156, 0.0155, 0.0154, 0.0166, 0.0156,\n",
      "        0.0174, 0.0165, 0.0151, 0.0158, 0.0155, 0.0146, 0.0147, 0.0167, 0.0174,\n",
      "        0.0177, 0.0162, 0.0156, 0.0170, 0.0155, 0.0143, 0.0158, 0.0150, 0.0159,\n",
      "        0.0163, 0.0160, 0.0172, 0.0175, 0.0161, 0.0160, 0.0159, 0.0165, 0.0185,\n",
      "        0.0138, 0.0159], device='cuda:0'), tensor([0.0082, 0.0096, 0.0070, 0.0088, 0.0086, 0.0073, 0.0077, 0.0081, 0.0076,\n",
      "        0.0085, 0.0080, 0.0082, 0.0088, 0.0084, 0.0076, 0.0080, 0.0089, 0.0082,\n",
      "        0.0077, 0.0074, 0.0069, 0.0075, 0.0075, 0.0078, 0.0080, 0.0103, 0.0076,\n",
      "        0.0085, 0.0077, 0.0089, 0.0077, 0.0086, 0.0068, 0.0085, 0.0079, 0.0095,\n",
      "        0.0079, 0.0087, 0.0078, 0.0064, 0.0076, 0.0088, 0.0065, 0.0065, 0.0087,\n",
      "        0.0089, 0.0102, 0.0068, 0.0082, 0.0087, 0.0081, 0.0083, 0.0077, 0.0088,\n",
      "        0.0076, 0.0082, 0.0092, 0.0078, 0.0092, 0.0077, 0.0083, 0.0073, 0.0088,\n",
      "        0.0080, 0.0079, 0.0093, 0.0082, 0.0073, 0.0078, 0.0075, 0.0081, 0.0075,\n",
      "        0.0073, 0.0080, 0.0067, 0.0092, 0.0080, 0.0071, 0.0088, 0.0078, 0.0084,\n",
      "        0.0091, 0.0096, 0.0071, 0.0078, 0.0070, 0.0084, 0.0080, 0.0073, 0.0105,\n",
      "        0.0074, 0.0081, 0.0083, 0.0081, 0.0081, 0.0090, 0.0080, 0.0070, 0.0072,\n",
      "        0.0069, 0.0079, 0.0076, 0.0065, 0.0073, 0.0075, 0.0076, 0.0076, 0.0089,\n",
      "        0.0097, 0.0077, 0.0080, 0.0073, 0.0086, 0.0072, 0.0081, 0.0088, 0.0081,\n",
      "        0.0064, 0.0090, 0.0074, 0.0070, 0.0073, 0.0082, 0.0085, 0.0086, 0.0067,\n",
      "        0.0094, 0.0077], device='cuda:0'), tensor([0.0070, 0.0066, 0.0069, 0.0070, 0.0082, 0.0076, 0.0072, 0.0078, 0.0055,\n",
      "        0.0057, 0.0077, 0.0082, 0.0071, 0.0078, 0.0084, 0.0080, 0.0086, 0.0066,\n",
      "        0.0075, 0.0063, 0.0072, 0.0070, 0.0056, 0.0066, 0.0084, 0.0072, 0.0069,\n",
      "        0.0075, 0.0058, 0.0075, 0.0071, 0.0061, 0.0059, 0.0069, 0.0075, 0.0065,\n",
      "        0.0073, 0.0061, 0.0066, 0.0059, 0.0069, 0.0083, 0.0063, 0.0077, 0.0068,\n",
      "        0.0053, 0.0070, 0.0073, 0.0080, 0.0084, 0.0097, 0.0093, 0.0077, 0.0068,\n",
      "        0.0061, 0.0084, 0.0074, 0.0086, 0.0062, 0.0089, 0.0062, 0.0071, 0.0064,\n",
      "        0.0062, 0.0065, 0.0075, 0.0067, 0.0078, 0.0073, 0.0077, 0.0062, 0.0073,\n",
      "        0.0063, 0.0069, 0.0073, 0.0082, 0.0079, 0.0059, 0.0087, 0.0066, 0.0075,\n",
      "        0.0077, 0.0066, 0.0073, 0.0070, 0.0076, 0.0062, 0.0059, 0.0090, 0.0080,\n",
      "        0.0070, 0.0070, 0.0070, 0.0078, 0.0087, 0.0065, 0.0061, 0.0065, 0.0062,\n",
      "        0.0071, 0.0065, 0.0063, 0.0062, 0.0091, 0.0071, 0.0070, 0.0062, 0.0078,\n",
      "        0.0072, 0.0068, 0.0054, 0.0061, 0.0081, 0.0064, 0.0058, 0.0069, 0.0073,\n",
      "        0.0074, 0.0062, 0.0064, 0.0069, 0.0069, 0.0076, 0.0081, 0.0060, 0.0065,\n",
      "        0.0050, 0.0075], device='cuda:0'), tensor([0.0070, 0.0074, 0.0073, 0.0076, 0.0089, 0.0067, 0.0089, 0.0087, 0.0076,\n",
      "        0.0070, 0.0090, 0.0075, 0.0099, 0.0065, 0.0092, 0.0084, 0.0073, 0.0089,\n",
      "        0.0075, 0.0062, 0.0074, 0.0065, 0.0076, 0.0086, 0.0091, 0.0077, 0.0064,\n",
      "        0.0072, 0.0082, 0.0074, 0.0086, 0.0085, 0.0068, 0.0081, 0.0064, 0.0086,\n",
      "        0.0078, 0.0061, 0.0079, 0.0086, 0.0081, 0.0067, 0.0081, 0.0068, 0.0099,\n",
      "        0.0087, 0.0081, 0.0057, 0.0082, 0.0071, 0.0076, 0.0070, 0.0071, 0.0075,\n",
      "        0.0075, 0.0072, 0.0067, 0.0062, 0.0071, 0.0091, 0.0077, 0.0077, 0.0098,\n",
      "        0.0083, 0.0085, 0.0078, 0.0076, 0.0057, 0.0072, 0.0071, 0.0069, 0.0076,\n",
      "        0.0070, 0.0074, 0.0079, 0.0075, 0.0072, 0.0069, 0.0083, 0.0070, 0.0070,\n",
      "        0.0081, 0.0079, 0.0070, 0.0066, 0.0072, 0.0061, 0.0072, 0.0079, 0.0070,\n",
      "        0.0078, 0.0083, 0.0079, 0.0087, 0.0085, 0.0067, 0.0084, 0.0079, 0.0067,\n",
      "        0.0067, 0.0066, 0.0069, 0.0078, 0.0076, 0.0081, 0.0076, 0.0069, 0.0076,\n",
      "        0.0082, 0.0070, 0.0086, 0.0078, 0.0070, 0.0078, 0.0074, 0.0084, 0.0117,\n",
      "        0.0082, 0.0087, 0.0068, 0.0087, 0.0073, 0.0071, 0.0070, 0.0067, 0.0071,\n",
      "        0.0068, 0.0098], device='cuda:0'), tensor([0.0067, 0.0066, 0.0073, 0.0066, 0.0069, 0.0078, 0.0063, 0.0074, 0.0070,\n",
      "        0.0083, 0.0070, 0.0060, 0.0079, 0.0085, 0.0065, 0.0068, 0.0070, 0.0086,\n",
      "        0.0080, 0.0068, 0.0075, 0.0073, 0.0062, 0.0074, 0.0082, 0.0082, 0.0068,\n",
      "        0.0065, 0.0065, 0.0065, 0.0066, 0.0062, 0.0085, 0.0067, 0.0071, 0.0080,\n",
      "        0.0070, 0.0068, 0.0070, 0.0070, 0.0071, 0.0069, 0.0056, 0.0070, 0.0067,\n",
      "        0.0074, 0.0068, 0.0082, 0.0096, 0.0060, 0.0062, 0.0075, 0.0064, 0.0101,\n",
      "        0.0072, 0.0060, 0.0066, 0.0068, 0.0072, 0.0072, 0.0066, 0.0061, 0.0069,\n",
      "        0.0063, 0.0073, 0.0079, 0.0080, 0.0080, 0.0070, 0.0090, 0.0081, 0.0088,\n",
      "        0.0059, 0.0070, 0.0077, 0.0068, 0.0072, 0.0077, 0.0090, 0.0073, 0.0076,\n",
      "        0.0063, 0.0065, 0.0064, 0.0067, 0.0068, 0.0076, 0.0076, 0.0065, 0.0076,\n",
      "        0.0070, 0.0078, 0.0071, 0.0062, 0.0072, 0.0062, 0.0086, 0.0069, 0.0065,\n",
      "        0.0070, 0.0088, 0.0065, 0.0072, 0.0073, 0.0075, 0.0065, 0.0061, 0.0066,\n",
      "        0.0084, 0.0073, 0.0076, 0.0073, 0.0065, 0.0064, 0.0070, 0.0084, 0.0066,\n",
      "        0.0072, 0.0072, 0.0075, 0.0080, 0.0068, 0.0067, 0.0076, 0.0060, 0.0064,\n",
      "        0.0067, 0.0062], device='cuda:0')]\n"
     ]
    }
   ],
   "source": [
    "scale_list = []\n",
    "for z in z_list:\n",
    "    scale = z.std(dim=0)\n",
    "    scale_list.append(scale)\n",
    "    \n",
    "print(scale_list)"
   ]
  },
  {
   "cell_type": "markdown",
   "id": "7e70fb9c",
   "metadata": {},
   "source": [
    "### MMD Test"
   ]
  },
  {
   "cell_type": "code",
   "execution_count": 11,
   "id": "67ed5d1f",
   "metadata": {},
   "outputs": [
    {
     "data": {
      "application/vnd.jupyter.widget-view+json": {
       "model_id": "c342d7c9397e442cbc1014e9b5a36c2f",
       "version_major": 2,
       "version_minor": 0
      },
      "text/plain": [
       "  0%|          | 0/10 [00:00<?, ?it/s]"
      ]
     },
     "metadata": {},
     "output_type": "display_data"
    },
    {
     "name": "stdout",
     "output_type": "stream",
     "text": [
      "MMD Loss : 0.02405308485031128\n"
     ]
    }
   ],
   "source": [
    "from util.mmd_penalty import mmd_penalty\n",
    "\n",
    "opts = {'pz_scale': 1,\n",
    "        'mmd_kernel': 'RBF', # 'IMQ', 'RBF'\n",
    "        'pz': 'normal', # 'normal', 'sphere', 'uniform' \n",
    "        'zdim': hp.z_dim\n",
    "       }\n",
    "\n",
    "mmd_losses = []\n",
    "for z in tqdm(z_list):\n",
    "    prior = model_list[0].prior.sample(len(z), hp.z_dim)\n",
    "    mmd_loss = mmd_penalty(prior, z, opts)\n",
    "    mmd_losses.append(mmd_loss.item())\n",
    "    \n",
    "print('MMD Loss :', np.mean(mmd_losses))    "
   ]
  },
  {
   "cell_type": "code",
   "execution_count": 12,
   "id": "e655eb1c",
   "metadata": {},
   "outputs": [
    {
     "data": {
      "application/vnd.jupyter.widget-view+json": {
       "model_id": "d050486217624908947681b0331d19c3",
       "version_major": 2,
       "version_minor": 0
      },
      "text/plain": [
       "0it [00:00, ?it/s]"
      ]
     },
     "metadata": {},
     "output_type": "display_data"
    },
    {
     "name": "stdout",
     "output_type": "stream",
     "text": [
      "Corrected MMD Loss : 0.054086041450500486\n"
     ]
    }
   ],
   "source": [
    "from util.mmd_penalty import mmd_penalty\n",
    "\n",
    "opts = {'pz_scale': 1,\n",
    "        'mmd_kernel': 'RBF', # 'IMQ', 'RBF'\n",
    "        'pz': 'normal', # 'normal', 'sphere', 'uniform' \n",
    "        'zdim': hp.z_dim\n",
    "       }\n",
    "\n",
    "mmd_losses = []\n",
    "for z, scale in tqdm(zip(z_list, scale_list)):\n",
    "    prior = model_list[0].prior.sample(len(z), hp.z_dim) * scale\n",
    "    mmd_loss = mmd_penalty(prior, z, opts)\n",
    "    mmd_losses.append(mmd_loss.item())\n",
    "    \n",
    "print('Corrected MMD Loss :', np.mean(mmd_losses))    "
   ]
  },
  {
   "cell_type": "markdown",
   "id": "12cf158b",
   "metadata": {},
   "source": [
    "### Cross NLL Test"
   ]
  },
  {
   "cell_type": "code",
   "execution_count": 13,
   "id": "1d0ef69d",
   "metadata": {},
   "outputs": [
    {
     "data": {
      "application/vnd.jupyter.widget-view+json": {
       "model_id": "880b15c7ea28459099448107f08696d5",
       "version_major": 2,
       "version_minor": 0
      },
      "text/plain": [
       "  0%|          | 0/10 [00:00<?, ?it/s]"
      ]
     },
     "metadata": {},
     "output_type": "display_data"
    },
    {
     "name": "stdout",
     "output_type": "stream",
     "text": [
      "Cross NLL : -3.0501709270477293\n"
     ]
    }
   ],
   "source": [
    "from util.loglikelihood import get_optimum_log_sigma, get_cross_nll\n",
    "\n",
    "cross_nll_list = []\n",
    "for _ in tqdm(range(10)):\n",
    "    cross_nlls = []\n",
    "    for z, model in zip(z_list, model_list):\n",
    "        p_samples1 = model.prior.sample(len(z), hp.z_dim)\n",
    "        p_samples2 = model.prior.sample(len(z), hp.z_dim)\n",
    "        log_sigma = get_optimum_log_sigma(p_samples1, p_samples2, min_log_sigma=-5, max_log_sigma=5)\n",
    "        p_samples1 = model.prior.sample(len(z), hp.z_dim)\n",
    "        cross_nll = get_cross_nll(p_samples1, z, log_sigma)\n",
    "        cross_nlls.append(cross_nll)\n",
    "    cross_nll = np.mean(cross_nlls)\n",
    "    cross_nll_list.append(cross_nll)\n",
    "    \n",
    "print('Cross NLL :', np.mean(cross_nll_list))"
   ]
  },
  {
   "cell_type": "code",
   "execution_count": 14,
   "id": "dae19be9",
   "metadata": {},
   "outputs": [
    {
     "data": {
      "application/vnd.jupyter.widget-view+json": {
       "model_id": "2442949203f84ffa99db06499a47c11d",
       "version_major": 2,
       "version_minor": 0
      },
      "text/plain": [
       "  0%|          | 0/10 [00:00<?, ?it/s]"
      ]
     },
     "metadata": {},
     "output_type": "display_data"
    },
    {
     "name": "stdout",
     "output_type": "stream",
     "text": [
      "Corrected Cross NLL : -569.2148922729492\n"
     ]
    }
   ],
   "source": [
    "from util.loglikelihood import get_optimum_log_sigma, get_cross_nll\n",
    "\n",
    "cross_nll_list = []\n",
    "for _ in tqdm(range(10)):\n",
    "    cross_nlls = []\n",
    "    for z, model, scale in zip(z_list, model_list, scale_list):\n",
    "        p_samples1 = model.prior.sample(len(z), hp.z_dim) * scale\n",
    "        p_samples2 = model.prior.sample(len(z), hp.z_dim) * scale\n",
    "        log_sigma = get_optimum_log_sigma(p_samples1, p_samples2, min_log_sigma=-5, max_log_sigma=5)\n",
    "        p_samples1 = model.prior.sample(len(z), hp.z_dim) * scale\n",
    "        cross_nll = get_cross_nll(p_samples1, z, log_sigma)\n",
    "        cross_nlls.append(cross_nll)\n",
    "    cross_nll = np.mean(cross_nlls)\n",
    "    cross_nll_list.append(cross_nll)\n",
    "    \n",
    "print('Corrected Cross NLL :', np.mean(cross_nll_list))"
   ]
  },
  {
   "cell_type": "code",
   "execution_count": null,
   "id": "fa3d3c37",
   "metadata": {},
   "outputs": [],
   "source": []
  },
  {
   "cell_type": "code",
   "execution_count": null,
   "id": "968bc830",
   "metadata": {},
   "outputs": [],
   "source": []
  },
  {
   "cell_type": "code",
   "execution_count": null,
   "id": "65b197c6",
   "metadata": {},
   "outputs": [],
   "source": []
  }
 ],
 "metadata": {
  "kernelspec": {
   "display_name": "Python 3 (ipykernel)",
   "language": "python",
   "name": "python3"
  },
  "language_info": {
   "codemirror_mode": {
    "name": "ipython",
    "version": 3
   },
   "file_extension": ".py",
   "mimetype": "text/x-python",
   "name": "python",
   "nbconvert_exporter": "python",
   "pygments_lexer": "ipython3",
   "version": "3.9.15"
  }
 },
 "nbformat": 4,
 "nbformat_minor": 5
}
