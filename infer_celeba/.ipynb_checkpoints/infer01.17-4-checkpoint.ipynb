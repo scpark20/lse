{
 "cells": [
  {
   "cell_type": "code",
   "execution_count": 1,
   "id": "e998b2b0",
   "metadata": {},
   "outputs": [],
   "source": [
    "import os\n",
    "os.chdir('../')\n",
    "\n",
    "import warnings\n",
    "warnings.filterwarnings('ignore')"
   ]
  },
  {
   "cell_type": "code",
   "execution_count": 2,
   "id": "d7b38c99",
   "metadata": {
    "scrolled": true
   },
   "outputs": [
    {
     "name": "stdout",
     "output_type": "stream",
     "text": [
      "Thu Jan 18 21:52:07 2024       \n",
      "+-----------------------------------------------------------------------------+\n",
      "| NVIDIA-SMI 470.223.02   Driver Version: 470.223.02   CUDA Version: 11.4     |\n",
      "|-------------------------------+----------------------+----------------------+\n",
      "| GPU  Name        Persistence-M| Bus-Id        Disp.A | Volatile Uncorr. ECC |\n",
      "| Fan  Temp  Perf  Pwr:Usage/Cap|         Memory-Usage | GPU-Util  Compute M. |\n",
      "|                               |                      |               MIG M. |\n",
      "|===============================+======================+======================|\n",
      "|   0  NVIDIA A100 80G...  Off  | 00000000:1B:00.0 Off |                    0 |\n",
      "| N/A   34C    P0    65W / 300W |   8433MiB / 80994MiB |      9%      Default |\n",
      "|                               |                      |             Disabled |\n",
      "+-------------------------------+----------------------+----------------------+\n",
      "|   1  NVIDIA A100 80G...  Off  | 00000000:1C:00.0 Off |                    0 |\n",
      "| N/A   58C    P0   297W / 300W |  67907MiB / 80994MiB |    100%      Default |\n",
      "|                               |                      |             Disabled |\n",
      "+-------------------------------+----------------------+----------------------+\n",
      "|   2  NVIDIA A100 80G...  Off  | 00000000:1D:00.0 Off |                    0 |\n",
      "| N/A   51C    P0    74W / 300W |   1495MiB / 80994MiB |      3%      Default |\n",
      "|                               |                      |             Disabled |\n",
      "+-------------------------------+----------------------+----------------------+\n",
      "|   3  NVIDIA A100 80G...  Off  | 00000000:1E:00.0 Off |                    0 |\n",
      "| N/A   35C    P0   127W / 300W |  16828MiB / 80994MiB |     13%      Default |\n",
      "|                               |                      |             Disabled |\n",
      "+-------------------------------+----------------------+----------------------+\n",
      "|   4  NVIDIA A100 80G...  Off  | 00000000:89:00.0 Off |                    0 |\n",
      "| N/A   54C    P0    73W / 300W |   9420MiB / 80994MiB |      9%      Default |\n",
      "|                               |                      |             Disabled |\n",
      "+-------------------------------+----------------------+----------------------+\n",
      "|   5  NVIDIA A100 80G...  Off  | 00000000:8A:00.0 Off |                    0 |\n",
      "| N/A   49C    P0    87W / 300W |  16828MiB / 80994MiB |     11%      Default |\n",
      "|                               |                      |             Disabled |\n",
      "+-------------------------------+----------------------+----------------------+\n",
      "|   6  NVIDIA A100 80G...  Off  | 00000000:8B:00.0 Off |                    0 |\n",
      "| N/A   58C    P0    76W / 300W |   8437MiB / 80994MiB |      9%      Default |\n",
      "|                               |                      |             Disabled |\n",
      "+-------------------------------+----------------------+----------------------+\n",
      "|   7  NVIDIA A100 80G...  Off  | 00000000:8C:00.0 Off |                    0 |\n",
      "| N/A   43C    P0    66W / 300W |   8433MiB / 80994MiB |      6%      Default |\n",
      "|                               |                      |             Disabled |\n",
      "+-------------------------------+----------------------+----------------------+\n",
      "                                                                               \n",
      "+-----------------------------------------------------------------------------+\n",
      "| Processes:                                                                  |\n",
      "|  GPU   GI   CI        PID   Type   Process name                  GPU Memory |\n",
      "|        ID   ID                                                   Usage      |\n",
      "|=============================================================================|\n",
      "|    0   N/A  N/A      2426      G   /usr/lib/xorg/Xorg                 35MiB |\n",
      "|    0   N/A  N/A    538757      C   ...a3/envs/scpark/bin/python     8395MiB |\n",
      "|    1   N/A  N/A      2426      G   /usr/lib/xorg/Xorg                 35MiB |\n",
      "|    1   N/A  N/A    598113      C   ...a3/envs/scpark/bin/python    67869MiB |\n",
      "|    2   N/A  N/A      2426      G   /usr/lib/xorg/Xorg                 35MiB |\n",
      "|    2   N/A  N/A    598294      C   ...a3/envs/scpark/bin/python     1457MiB |\n",
      "|    3   N/A  N/A      2426      G   /usr/lib/xorg/Xorg                 35MiB |\n",
      "|    3   N/A  N/A    552430      C   ...a3/envs/scpark/bin/python     8395MiB |\n",
      "|    3   N/A  N/A    552478      C   ...a3/envs/scpark/bin/python     8395MiB |\n",
      "|    4   N/A  N/A      2426      G   /usr/lib/xorg/Xorg                 35MiB |\n",
      "|    4   N/A  N/A    552457      C   ...a3/envs/scpark/bin/python     8395MiB |\n",
      "|    4   N/A  N/A    598492      C   ...a3/envs/scpark/bin/python      987MiB |\n",
      "|    5   N/A  N/A      2426      G   /usr/lib/xorg/Xorg                 35MiB |\n",
      "|    5   N/A  N/A    552505      C   ...a3/envs/scpark/bin/python     8395MiB |\n",
      "|    5   N/A  N/A    552664      C   ...a3/envs/scpark/bin/python     8395MiB |\n",
      "|    6   N/A  N/A      2426      G   /usr/lib/xorg/Xorg                 35MiB |\n",
      "|    6   N/A  N/A    520611      C   ...a3/envs/scpark/bin/python     8399MiB |\n",
      "|    7   N/A  N/A      2426      G   /usr/lib/xorg/Xorg                 35MiB |\n",
      "|    7   N/A  N/A    552477      C   ...a3/envs/scpark/bin/python     8395MiB |\n",
      "+-----------------------------------------------------------------------------+\n"
     ]
    }
   ],
   "source": [
    "import torch\n",
    "import torch.nn as nn\n",
    "import torch.nn.functional as F\n",
    "import numpy as np\n",
    "import os\n",
    "\n",
    "!nvidia-smi\n",
    "os.environ[\"CUDA_VISIBLE_DEVICES\"]=\"6\"\n",
    "device = 'cuda:0'"
   ]
  },
  {
   "cell_type": "markdown",
   "id": "df8b63cd",
   "metadata": {},
   "source": [
    "### Model Parts"
   ]
  },
  {
   "cell_type": "code",
   "execution_count": 3,
   "id": "90c6bda2",
   "metadata": {},
   "outputs": [],
   "source": [
    "from model.main.enc_prior_latent_dec import Model\n",
    "from model.encoder.conv2d_encoder import Encoder\n",
    "from model.prior.normal_prior import Prior\n",
    "from model.latent.swae_latent import Latent\n",
    "from model.decoder.conv2d_decoder import Decoder\n",
    "\n",
    "from tensorboardX import SummaryWriter\n",
    "from util.util import *"
   ]
  },
  {
   "cell_type": "markdown",
   "id": "89871daf",
   "metadata": {},
   "source": [
    "### Model Init."
   ]
  },
  {
   "cell_type": "code",
   "execution_count": 4,
   "id": "4a3a31a8",
   "metadata": {},
   "outputs": [],
   "source": [
    "from easydict import EasyDict\n",
    "hp = EasyDict()\n",
    "hp.size = 64\n",
    "hp.in_dim = 3\n",
    "hp.out_dim = 3\n",
    "hp.z_dim = 128\n",
    "hp.h_dims = [32, 64, 128, 256, 512]\n",
    "hp.activation = F.sigmoid"
   ]
  },
  {
   "cell_type": "code",
   "execution_count": 5,
   "id": "3b10f353",
   "metadata": {},
   "outputs": [
    {
     "name": "stdout",
     "output_type": "stream",
     "text": [
      "done\n"
     ]
    }
   ],
   "source": [
    "model_list = []\n",
    "for i in range(10):\n",
    "    model = Model(Encoder(**hp), Prior(**hp), Latent(**hp), Decoder(**hp))\n",
    "    model = model.to(device)\n",
    "    model.eval()\n",
    "    model_list.append(model)\n",
    "    \n",
    "print('done')"
   ]
  },
  {
   "cell_type": "markdown",
   "id": "d6b40d8e",
   "metadata": {},
   "source": [
    "### Dataset"
   ]
  },
  {
   "cell_type": "code",
   "execution_count": 6,
   "id": "c55fc894",
   "metadata": {},
   "outputs": [
    {
     "name": "stdout",
     "output_type": "stream",
     "text": [
      "done\n"
     ]
    }
   ],
   "source": [
    "from torch.utils.data import DataLoader\n",
    "from torchvision import transforms\n",
    "from torchvision.datasets import CelebA\n",
    "\n",
    "class MyCelebA(CelebA):\n",
    "    \"\"\"\n",
    "    A work-around to address issues with pytorch's celebA dataset class.\n",
    "    \n",
    "    Download and Extract\n",
    "    URL : https://drive.google.com/file/d/1m8-EBPgi5MRubrm6iQjafK2QMHDBMSfJ/view?usp=sharing\n",
    "    \"\"\"\n",
    "    \n",
    "    def _check_integrity(self) -> bool:\n",
    "        return True\n",
    "\n",
    "root = '/data'\n",
    "test_transforms = transforms.Compose([transforms.CenterCrop(148),\n",
    "                                      transforms.Resize(hp.size),\n",
    "                                      transforms.ToTensor(),])\n",
    "test_dataset = MyCelebA(root, split='test', transform=test_transforms, download=False)\n",
    "test_loader = DataLoader(test_dataset, batch_size=10000, shuffle=False)\n",
    "print('done')"
   ]
  },
  {
   "cell_type": "code",
   "execution_count": 7,
   "id": "8b9f6240",
   "metadata": {},
   "outputs": [
    {
     "name": "stdout",
     "output_type": "stream",
     "text": [
      "dict_keys(['x', 't'])\n"
     ]
    }
   ],
   "source": [
    "def preprocess(batch):\n",
    "    x, t = batch\n",
    "    data = {}\n",
    "    data['x'] = x.to(device)\n",
    "    data['t'] = t.to(device)\n",
    "    return data\n",
    "\n",
    "batch = next(iter(test_loader))\n",
    "data = preprocess(batch)\n",
    "print(data.keys())"
   ]
  },
  {
   "cell_type": "markdown",
   "id": "0ed481e4",
   "metadata": {},
   "source": [
    "### Load"
   ]
  },
  {
   "cell_type": "code",
   "execution_count": 8,
   "id": "444d37f5",
   "metadata": {},
   "outputs": [
    {
     "data": {
      "application/vnd.jupyter.widget-view+json": {
       "model_id": "17167a5608a44fe1b86b23922424ab5a",
       "version_major": 2,
       "version_minor": 0
      },
      "text/plain": [
       "0it [00:00, ?it/s]"
      ]
     },
     "metadata": {},
     "output_type": "display_data"
    }
   ],
   "source": [
    "from tqdm import tqdm_notebook as tqdm\n",
    "\n",
    "save_path = '/data/scpark/save/lse/train_celeba/train01.17-4/save_200000'\n",
    "\n",
    "# warm start\n",
    "models_state_dict = torch.load(save_path, map_location=torch.device('cpu'))['models_state_dict']\n",
    "for i, model in tqdm(enumerate(model_list)):\n",
    "    model.load_state_dict(models_state_dict[i], strict=True)"
   ]
  },
  {
   "cell_type": "markdown",
   "id": "2b13d661",
   "metadata": {},
   "source": [
    "### Reconstruction Loss"
   ]
  },
  {
   "cell_type": "code",
   "execution_count": 9,
   "id": "1bc19b24",
   "metadata": {},
   "outputs": [
    {
     "data": {
      "application/vnd.jupyter.widget-view+json": {
       "model_id": "aed4d483afff410c8f72fcd1217f1992",
       "version_major": 2,
       "version_minor": 0
      },
      "text/plain": [
       "  0%|          | 0/10 [00:00<?, ?it/s]"
      ]
     },
     "metadata": {},
     "output_type": "display_data"
    },
    {
     "name": "stdout",
     "output_type": "stream",
     "text": [
      "Reconstruction Loss : 0.006733250571414828\n"
     ]
    }
   ],
   "source": [
    "z_list = []\n",
    "recon_loss_list = []\n",
    "for model in tqdm(model_list):\n",
    "    with torch.no_grad():\n",
    "        data = model(data, M=1)\n",
    "        z_list.append(data['z'])\n",
    "        recon_loss_list.append(data['recon_loss'].item())\n",
    "        \n",
    "print('Reconstruction Loss :', np.mean(recon_loss_list))"
   ]
  },
  {
   "cell_type": "markdown",
   "id": "81901766",
   "metadata": {},
   "source": [
    "### Get Scale"
   ]
  },
  {
   "cell_type": "code",
   "execution_count": 10,
   "id": "dbd90b1c",
   "metadata": {},
   "outputs": [
    {
     "name": "stdout",
     "output_type": "stream",
     "text": [
      "[tensor([0.9976, 0.9911, 0.9751, 0.9764, 0.9541, 1.0073, 0.9755, 1.0370, 1.0151,\n",
      "        0.9630, 0.9956, 1.0240, 0.9784, 0.9895, 0.9448, 0.9799, 1.0101, 0.9480,\n",
      "        0.9685, 0.9899, 1.0097, 0.9418, 1.0267, 0.9951, 1.0017, 0.9877, 1.0035,\n",
      "        0.9723, 1.0045, 1.0012, 0.9633, 0.9731, 0.9372, 0.9459, 0.9774, 0.9543,\n",
      "        0.9616, 0.9777, 1.0155, 1.0295, 0.9895, 0.9467, 0.9569, 0.9856, 1.0092,\n",
      "        0.9909, 0.9692, 0.9903, 0.9946, 0.9729, 1.0046, 1.0292, 0.9693, 1.0159,\n",
      "        1.0108, 0.9897, 0.9632, 0.9790, 0.9732, 1.0184, 0.9846, 0.9852, 0.9996,\n",
      "        0.9947, 0.9802, 1.0020, 0.9983, 1.0142, 1.0085, 0.9648, 0.9425, 0.9482,\n",
      "        0.9404, 0.9834, 1.0347, 0.9921, 0.9787, 1.0319, 0.9624, 0.9529, 0.9867,\n",
      "        0.9906, 0.9784, 0.9911, 0.9955, 0.9654, 0.9890, 0.9938, 1.0782, 1.0291,\n",
      "        0.9795, 0.9874, 0.9472, 0.9719, 0.9569, 0.9950, 0.9319, 0.9846, 0.9930,\n",
      "        1.0158, 0.9860, 1.0250, 0.9773, 0.9934, 1.0273, 0.9487, 0.9600, 1.0120,\n",
      "        1.0335, 0.9914, 1.0131, 0.9514, 0.9891, 0.9903, 0.9693, 0.9932, 1.0070,\n",
      "        0.9553, 1.0045, 0.9512, 0.9934, 0.9702, 0.9899, 0.9940, 0.9840, 0.9634,\n",
      "        1.0003, 1.0332], device='cuda:0'), tensor([0.9872, 1.0003, 1.0166, 1.0046, 0.9822, 0.9913, 1.0127, 0.9739, 0.9966,\n",
      "        1.0037, 0.9881, 0.9698, 0.9855, 0.9922, 1.0022, 0.9871, 1.0249, 0.9636,\n",
      "        0.9351, 0.9971, 0.9960, 0.9889, 1.0018, 1.0010, 1.0113, 1.0193, 0.9816,\n",
      "        0.9983, 0.9925, 1.0196, 0.9611, 0.9756, 0.9470, 1.0300, 0.9716, 0.9698,\n",
      "        0.9820, 0.9743, 0.9737, 0.9965, 1.0212, 0.9867, 0.9969, 0.9645, 0.9805,\n",
      "        1.0339, 1.0243, 0.9813, 0.9820, 1.0016, 0.9845, 0.9782, 0.9478, 0.9913,\n",
      "        0.9916, 0.9593, 1.0171, 0.9917, 0.9645, 1.0127, 0.9369, 0.9992, 1.0082,\n",
      "        1.0416, 0.9832, 0.9596, 0.9886, 0.9471, 0.9603, 0.9958, 1.0150, 1.0174,\n",
      "        1.0086, 1.0288, 0.9875, 1.0115, 0.9788, 0.9790, 0.9782, 0.9701, 1.0124,\n",
      "        1.0431, 0.9988, 1.0154, 0.9837, 1.0041, 0.9699, 0.9459, 0.9962, 0.9576,\n",
      "        1.0169, 1.0321, 0.9945, 1.0211, 0.9408, 0.9907, 0.9766, 0.9993, 0.9544,\n",
      "        1.0009, 0.9736, 1.0015, 1.0128, 0.9906, 0.9945, 0.9895, 1.0007, 0.9864,\n",
      "        0.9914, 1.0059, 0.9752, 0.9709, 0.9782, 0.9847, 1.0106, 1.0189, 0.9650,\n",
      "        0.9936, 1.0067, 0.9917, 0.9385, 1.0246, 1.0133, 1.0059, 0.9801, 0.9698,\n",
      "        1.0030, 1.0207], device='cuda:0'), tensor([0.9697, 0.9942, 1.0102, 0.9644, 0.9595, 0.9573, 0.9524, 1.0094, 0.9342,\n",
      "        1.0238, 1.0021, 0.9764, 1.0006, 0.9738, 0.9490, 0.9717, 1.0395, 0.9720,\n",
      "        0.9831, 1.0105, 0.9772, 1.0301, 0.9959, 0.9911, 0.9800, 0.9848, 0.9869,\n",
      "        1.0293, 0.9320, 1.0303, 0.9841, 1.0268, 0.9854, 0.9810, 0.9934, 0.9907,\n",
      "        0.9951, 0.9899, 0.9688, 0.9444, 1.0013, 1.0067, 0.9909, 0.9883, 0.9606,\n",
      "        0.9794, 0.9718, 0.9905, 0.9768, 0.9743, 0.9839, 1.0396, 0.9752, 0.9770,\n",
      "        1.0152, 0.9716, 0.9579, 0.9637, 0.9779, 0.9987, 0.9804, 0.9668, 0.9667,\n",
      "        0.9653, 1.0040, 0.9593, 0.9532, 0.9941, 0.9909, 0.9898, 0.9555, 1.0062,\n",
      "        1.0001, 0.9722, 0.9988, 1.0020, 0.9767, 0.9634, 0.9707, 0.9828, 0.9575,\n",
      "        0.9575, 0.9510, 0.9901, 1.0030, 1.0009, 0.9655, 0.9777, 0.9901, 1.0060,\n",
      "        0.9652, 1.0188, 0.9959, 1.0112, 0.9619, 0.9549, 1.0050, 0.9446, 0.9884,\n",
      "        1.0009, 0.9823, 0.9693, 0.9838, 1.0078, 0.9950, 0.9721, 0.9856, 1.0063,\n",
      "        0.9620, 0.9717, 1.0019, 0.9976, 0.9884, 0.9698, 0.9893, 0.9584, 0.9990,\n",
      "        0.9434, 0.9823, 0.9502, 0.9744, 0.9892, 0.9490, 0.9614, 0.9357, 1.0045,\n",
      "        0.9415, 0.9592], device='cuda:0'), tensor([0.9969, 1.0122, 0.9870, 0.9662, 0.9715, 1.0171, 1.0046, 0.9812, 0.9379,\n",
      "        1.0090, 0.9651, 1.0018, 0.9913, 0.9970, 1.0136, 0.9959, 0.9744, 0.9813,\n",
      "        0.9404, 1.0066, 0.9737, 1.0231, 1.0179, 0.9875, 0.9701, 0.9953, 0.9940,\n",
      "        0.9730, 0.9945, 0.9687, 0.9811, 0.9994, 0.9436, 1.0073, 1.0326, 0.9726,\n",
      "        0.9705, 0.9751, 0.9815, 0.9598, 0.9929, 1.0047, 0.9696, 0.9739, 1.0353,\n",
      "        0.9518, 0.9933, 0.9661, 1.0232, 0.9909, 0.9778, 0.9819, 1.0065, 0.9913,\n",
      "        1.0059, 0.9386, 0.9992, 1.0396, 0.9450, 0.9943, 1.0135, 1.0148, 0.9990,\n",
      "        1.0346, 1.0445, 0.9817, 0.9402, 1.0009, 0.9763, 0.9601, 0.9684, 1.0147,\n",
      "        1.0042, 0.9722, 0.9761, 0.9857, 1.0174, 1.0088, 0.9595, 0.9678, 1.0038,\n",
      "        1.0059, 0.9898, 0.9803, 0.9943, 1.0116, 0.9521, 0.9944, 0.9676, 1.0108,\n",
      "        1.0048, 0.9543, 0.9694, 1.0137, 0.9856, 0.9703, 1.0131, 0.9926, 1.0070,\n",
      "        0.9806, 0.9592, 1.0093, 0.9651, 1.0177, 1.0271, 1.0016, 0.9815, 0.9877,\n",
      "        0.9665, 1.0290, 0.9982, 0.9875, 0.9771, 0.9838, 0.9598, 0.9980, 0.9552,\n",
      "        0.9870, 0.9777, 0.9829, 1.0121, 0.9954, 1.0019, 1.0080, 0.9968, 1.0048,\n",
      "        0.9847, 0.9590], device='cuda:0'), tensor([1.0300, 0.9609, 0.9700, 1.0237, 1.0064, 1.0268, 0.9966, 0.9643, 1.0296,\n",
      "        0.9991, 1.0360, 0.9427, 1.0505, 1.0252, 0.9661, 1.0030, 0.9864, 1.0007,\n",
      "        0.9736, 1.0321, 0.9730, 0.9705, 0.9794, 0.9900, 0.9892, 0.9788, 1.0098,\n",
      "        0.9715, 0.9620, 0.9763, 0.9546, 0.9785, 1.0374, 0.9865, 1.0024, 0.9947,\n",
      "        0.9706, 0.9945, 0.9765, 0.9736, 0.9967, 1.0022, 0.9646, 0.9717, 0.9847,\n",
      "        0.9927, 0.9915, 0.9844, 0.9723, 0.9755, 0.9993, 1.0086, 0.9637, 0.9894,\n",
      "        0.9625, 0.9853, 0.9812, 1.0288, 0.9789, 0.9618, 1.0076, 1.0012, 0.9856,\n",
      "        1.0082, 0.9862, 1.0326, 0.9768, 0.9698, 0.9957, 0.9787, 0.9940, 0.9941,\n",
      "        1.0146, 0.9975, 0.9728, 1.0119, 0.9846, 1.0334, 0.9790, 0.9586, 0.9956,\n",
      "        0.9646, 1.0004, 1.0292, 0.9803, 0.9917, 0.9703, 1.0128, 0.9627, 0.9722,\n",
      "        1.0105, 0.9978, 1.0134, 0.9776, 1.0086, 1.0168, 0.9811, 1.0061, 1.0297,\n",
      "        0.9553, 0.9965, 1.0557, 0.9944, 0.9702, 0.9497, 0.9771, 0.9802, 0.9838,\n",
      "        0.9854, 1.0309, 1.0096, 1.0355, 0.9894, 0.9213, 1.0018, 0.9850, 0.9936,\n",
      "        1.0120, 0.9881, 1.0125, 0.9945, 1.0074, 0.9806, 1.0204, 0.9608, 0.9786,\n",
      "        1.0171, 0.9955], device='cuda:0'), tensor([1.0144, 0.9900, 0.9698, 0.9983, 0.9898, 0.9478, 1.0079, 0.9509, 0.9922,\n",
      "        1.0054, 0.9848, 0.9968, 0.9710, 0.9819, 0.9778, 1.0362, 0.9667, 0.9871,\n",
      "        0.9960, 0.9843, 0.9908, 0.9988, 0.9555, 0.9818, 0.9689, 0.9221, 1.0356,\n",
      "        0.9859, 1.0220, 0.9980, 0.9523, 0.9962, 0.9973, 1.0037, 0.9698, 0.9829,\n",
      "        0.9839, 1.0231, 0.9832, 0.9854, 0.9575, 1.0312, 0.9564, 1.0002, 0.9951,\n",
      "        1.0372, 1.0102, 0.9888, 0.9980, 0.9770, 0.9710, 0.9861, 0.9790, 0.9815,\n",
      "        0.9601, 0.9978, 1.0051, 1.0515, 1.0155, 0.9771, 0.9592, 1.0082, 0.9697,\n",
      "        1.0254, 1.0189, 0.9560, 0.9916, 0.9435, 0.9270, 1.0046, 0.9531, 0.9849,\n",
      "        0.9794, 1.0035, 1.0000, 0.9800, 0.9889, 0.9482, 1.0195, 0.9562, 1.0229,\n",
      "        1.0098, 0.9783, 0.9520, 0.9728, 0.9861, 0.9824, 0.9626, 0.9966, 0.9978,\n",
      "        0.9892, 0.9633, 0.9838, 1.0275, 0.9972, 1.0165, 1.0006, 0.9667, 0.9996,\n",
      "        0.9914, 1.0051, 0.9944, 0.9793, 0.9749, 0.9951, 0.9712, 0.9804, 0.9687,\n",
      "        0.9678, 1.0105, 1.0218, 0.9805, 1.0174, 0.9998, 1.0202, 0.9677, 1.0080,\n",
      "        1.0098, 1.0020, 0.9634, 1.0107, 0.9995, 0.9530, 1.0199, 0.9879, 0.9634,\n",
      "        1.0395, 0.9891], device='cuda:0'), tensor([0.9725, 1.0008, 0.9732, 1.0002, 1.0026, 1.0302, 0.9932, 0.9796, 0.9639,\n",
      "        1.0066, 0.9624, 1.0020, 0.9735, 0.9828, 0.9876, 0.9923, 1.0081, 0.9750,\n",
      "        0.9856, 1.0047, 1.0039, 0.9865, 1.0211, 0.9674, 0.9785, 0.9706, 0.9667,\n",
      "        0.9741, 0.9862, 0.9772, 0.9826, 0.9637, 0.9900, 0.9794, 0.9935, 1.0077,\n",
      "        0.9280, 0.9723, 1.0156, 0.9949, 1.0057, 1.0142, 1.0422, 1.0052, 1.0194,\n",
      "        1.0116, 0.9788, 0.9968, 0.9200, 0.9982, 1.0186, 1.0267, 0.9840, 1.0146,\n",
      "        0.9849, 1.0355, 0.9933, 1.0189, 1.0016, 0.9716, 0.9830, 0.9897, 1.0180,\n",
      "        1.0124, 0.9772, 1.0299, 0.9676, 0.9855, 0.9880, 1.0398, 0.9728, 0.9912,\n",
      "        0.9837, 0.9959, 1.0133, 0.9804, 0.9873, 1.0085, 1.0048, 1.0200, 0.9789,\n",
      "        0.9771, 0.9728, 0.9669, 1.0184, 0.9983, 0.9922, 0.9963, 0.9700, 0.9719,\n",
      "        0.9850, 0.9474, 0.9962, 0.9944, 0.9992, 1.0149, 1.0036, 1.0178, 1.0117,\n",
      "        0.9897, 0.9829, 0.9701, 1.0126, 0.9966, 1.0424, 0.9808, 0.9825, 0.9738,\n",
      "        1.0489, 0.9698, 0.9614, 1.0031, 0.9933, 0.9604, 1.0608, 1.0393, 1.0177,\n",
      "        1.0012, 0.9630, 0.9587, 0.9692, 0.9831, 1.0140, 0.9800, 1.0092, 1.0061,\n",
      "        1.0284, 1.0076], device='cuda:0'), tensor([0.9811, 0.9496, 1.0022, 1.0184, 0.9807, 0.9762, 0.9914, 0.9948, 0.9976,\n",
      "        0.9898, 1.0090, 0.9697, 0.9735, 0.9865, 0.9873, 1.0047, 0.9618, 0.9981,\n",
      "        1.0248, 1.0320, 0.9940, 1.0235, 1.0048, 0.9900, 1.0126, 1.0083, 1.0160,\n",
      "        1.0348, 0.9649, 0.9958, 1.0082, 0.9492, 1.0048, 1.0356, 0.9918, 1.0087,\n",
      "        0.9866, 0.9643, 0.9898, 0.9786, 0.9699, 0.9767, 1.0059, 0.9842, 0.9967,\n",
      "        0.9630, 0.9587, 0.9965, 0.9946, 0.9704, 0.9807, 1.0082, 1.0216, 0.9970,\n",
      "        0.9766, 0.9977, 0.9963, 0.9853, 0.9917, 0.9923, 0.9831, 0.9836, 0.9956,\n",
      "        0.9987, 1.0608, 1.0120, 1.0055, 1.0157, 1.0141, 0.9888, 1.0008, 0.9857,\n",
      "        0.9690, 1.0112, 0.9899, 1.0101, 1.0071, 0.9970, 0.9993, 0.9850, 1.0122,\n",
      "        0.9801, 0.9964, 0.9887, 1.0267, 0.9870, 1.0083, 0.9492, 0.9881, 0.9749,\n",
      "        1.0188, 1.0097, 0.9777, 0.9804, 0.9721, 0.9927, 0.9957, 1.0036, 1.0072,\n",
      "        0.9980, 0.9640, 1.0231, 1.0244, 1.0090, 0.9735, 0.9716, 0.9808, 1.0045,\n",
      "        1.0128, 0.9855, 1.0324, 0.9906, 1.0381, 0.9692, 1.0205, 0.9714, 1.0156,\n",
      "        0.9510, 0.9418, 1.0075, 0.9539, 0.9751, 0.9971, 0.9642, 1.0040, 0.9895,\n",
      "        0.9671, 0.9830], device='cuda:0'), tensor([1.0179, 1.0369, 0.9604, 0.9794, 0.9985, 1.0032, 1.0374, 0.9862, 0.9656,\n",
      "        0.9817, 1.0120, 1.0099, 0.9994, 0.9617, 0.9874, 1.0056, 0.9623, 1.0256,\n",
      "        1.0111, 0.9852, 0.9686, 0.9801, 0.9798, 0.9779, 0.9769, 0.9978, 1.0258,\n",
      "        0.9894, 0.9610, 0.9968, 1.0070, 0.9730, 1.0081, 0.9899, 1.0100, 0.9941,\n",
      "        0.9894, 0.9973, 0.9771, 0.9795, 1.0296, 1.0518, 0.9951, 0.9777, 1.0033,\n",
      "        0.9786, 1.0004, 0.9984, 1.0347, 0.9948, 0.9588, 1.0104, 0.9749, 0.9910,\n",
      "        0.9879, 1.0243, 0.9915, 1.0182, 1.0317, 0.9873, 0.9851, 1.0014, 0.9544,\n",
      "        0.9661, 1.0329, 1.0046, 1.0007, 1.0240, 0.9373, 0.9995, 0.9974, 0.9623,\n",
      "        0.9709, 1.0137, 1.0135, 0.9480, 1.0132, 1.0208, 0.9695, 1.0015, 1.0293,\n",
      "        0.9914, 1.0214, 1.0240, 1.0201, 0.9416, 0.9931, 0.9551, 0.9743, 1.0290,\n",
      "        0.9734, 0.9683, 0.9684, 1.0051, 1.0102, 1.0095, 0.9938, 1.0424, 0.9802,\n",
      "        0.9905, 1.0150, 0.9758, 1.0164, 0.9949, 1.0103, 1.0426, 1.0294, 1.0242,\n",
      "        1.0225, 0.9886, 1.0422, 0.9878, 1.0106, 1.0000, 0.9823, 1.0307, 1.0205,\n",
      "        0.9895, 0.9856, 0.9823, 1.0294, 1.0012, 0.9909, 1.0012, 0.9968, 1.0021,\n",
      "        0.9932, 0.9862], device='cuda:0'), tensor([0.9813, 0.9956, 0.9831, 0.9935, 1.0056, 0.9814, 0.9775, 1.0444, 1.0292,\n",
      "        1.0012, 1.0192, 0.9873, 0.9952, 0.9995, 0.9684, 0.9605, 0.9823, 0.9731,\n",
      "        1.0286, 0.9585, 0.9754, 0.9854, 1.0141, 0.9927, 0.9983, 0.9694, 0.9933,\n",
      "        0.9701, 1.0055, 1.0382, 0.9981, 0.9923, 1.0050, 0.9868, 1.0026, 0.9924,\n",
      "        0.9673, 1.0199, 0.9954, 0.9833, 1.0023, 0.9705, 0.9883, 0.9858, 0.9847,\n",
      "        0.9692, 1.0155, 0.9716, 0.9771, 1.0117, 0.9821, 1.0146, 1.0137, 1.0093,\n",
      "        1.0014, 0.9822, 0.9756, 0.9557, 1.0046, 0.9722, 1.0093, 0.9738, 0.9723,\n",
      "        1.0360, 0.9830, 1.0161, 0.9958, 1.0181, 0.9637, 1.0021, 0.9985, 1.0034,\n",
      "        1.0134, 1.0566, 0.9551, 1.0003, 0.9923, 0.9771, 0.9730, 1.0102, 0.9813,\n",
      "        0.9846, 0.9803, 0.9946, 0.9436, 0.9861, 1.0078, 0.9683, 0.9958, 1.0128,\n",
      "        0.9603, 1.0062, 0.9768, 0.9531, 0.9826, 1.0025, 0.9859, 1.0523, 0.9883,\n",
      "        0.9689, 1.0002, 0.9628, 0.9887, 0.9851, 0.9848, 0.9791, 0.9879, 0.9848,\n",
      "        0.9713, 1.0003, 0.9879, 1.0007, 0.9922, 0.9849, 0.9706, 0.9671, 1.0052,\n",
      "        0.9551, 0.9802, 0.9636, 0.9775, 1.0000, 1.0096, 0.9842, 1.0186, 0.9778,\n",
      "        1.0129, 0.9924], device='cuda:0')]\n"
     ]
    }
   ],
   "source": [
    "scale_list = []\n",
    "for z in z_list:\n",
    "    scale = z.std(dim=0)\n",
    "    scale_list.append(scale)\n",
    "    \n",
    "print(scale_list)"
   ]
  },
  {
   "cell_type": "markdown",
   "id": "7e70fb9c",
   "metadata": {},
   "source": [
    "### MMD Test"
   ]
  },
  {
   "cell_type": "code",
   "execution_count": 11,
   "id": "67ed5d1f",
   "metadata": {},
   "outputs": [
    {
     "data": {
      "application/vnd.jupyter.widget-view+json": {
       "model_id": "0cb273820430425896bc27583223d5a3",
       "version_major": 2,
       "version_minor": 0
      },
      "text/plain": [
       "  0%|          | 0/10 [00:00<?, ?it/s]"
      ]
     },
     "metadata": {},
     "output_type": "display_data"
    },
    {
     "name": "stdout",
     "output_type": "stream",
     "text": [
      "MMD Loss : 0.0005325794219970704\n"
     ]
    }
   ],
   "source": [
    "from util.mmd_penalty import mmd_penalty\n",
    "\n",
    "opts = {'pz_scale': 1,\n",
    "        'mmd_kernel': 'RBF', # 'IMQ', 'RBF'\n",
    "        'pz': 'normal', # 'normal', 'sphere', 'uniform' \n",
    "        'zdim': hp.z_dim\n",
    "       }\n",
    "\n",
    "mmd_losses = []\n",
    "for z in tqdm(z_list):\n",
    "    prior = model_list[0].prior.sample(len(z), hp.z_dim)\n",
    "    mmd_loss = mmd_penalty(prior, z, opts)\n",
    "    mmd_losses.append(mmd_loss.item())\n",
    "    \n",
    "print('MMD Loss :', np.mean(mmd_losses))    "
   ]
  },
  {
   "cell_type": "code",
   "execution_count": 12,
   "id": "e655eb1c",
   "metadata": {},
   "outputs": [
    {
     "data": {
      "application/vnd.jupyter.widget-view+json": {
       "model_id": "fd91034171554668ae5e9bc9e2abe646",
       "version_major": 2,
       "version_minor": 0
      },
      "text/plain": [
       "0it [00:00, ?it/s]"
      ]
     },
     "metadata": {},
     "output_type": "display_data"
    },
    {
     "name": "stdout",
     "output_type": "stream",
     "text": [
      "Corrected MMD Loss : 0.0005218982696533203\n"
     ]
    }
   ],
   "source": [
    "from util.mmd_penalty import mmd_penalty\n",
    "\n",
    "opts = {'pz_scale': 1,\n",
    "        'mmd_kernel': 'RBF', # 'IMQ', 'RBF'\n",
    "        'pz': 'normal', # 'normal', 'sphere', 'uniform' \n",
    "        'zdim': hp.z_dim\n",
    "       }\n",
    "\n",
    "mmd_losses = []\n",
    "for z, scale in tqdm(zip(z_list, scale_list)):\n",
    "    prior = model_list[0].prior.sample(len(z), hp.z_dim) * scale\n",
    "    mmd_loss = mmd_penalty(prior, z, opts)\n",
    "    mmd_losses.append(mmd_loss.item())\n",
    "    \n",
    "print('Corrected MMD Loss :', np.mean(mmd_losses))    "
   ]
  },
  {
   "cell_type": "markdown",
   "id": "12cf158b",
   "metadata": {},
   "source": [
    "### Cross NLL Test"
   ]
  },
  {
   "cell_type": "code",
   "execution_count": null,
   "id": "1d0ef69d",
   "metadata": {},
   "outputs": [
    {
     "data": {
      "application/vnd.jupyter.widget-view+json": {
       "model_id": "cd3d0f6f78184e9dae52850f0e714161",
       "version_major": 2,
       "version_minor": 0
      },
      "text/plain": [
       "  0%|          | 0/10 [00:00<?, ?it/s]"
      ]
     },
     "metadata": {},
     "output_type": "display_data"
    }
   ],
   "source": [
    "from util.loglikelihood import get_optimum_log_sigma, get_cross_nll\n",
    "\n",
    "cross_nll_list = []\n",
    "for _ in tqdm(range(10)):\n",
    "    cross_nlls = []\n",
    "    for z, model in zip(z_list, model_list):\n",
    "        p_samples1 = model.prior.sample(len(z), hp.z_dim)\n",
    "        p_samples2 = model.prior.sample(len(z), hp.z_dim)\n",
    "        log_sigma = get_optimum_log_sigma(p_samples1, p_samples2, min_log_sigma=-5, max_log_sigma=5)\n",
    "        p_samples1 = model.prior.sample(len(z), hp.z_dim)\n",
    "        cross_nll = get_cross_nll(p_samples1, z, log_sigma)\n",
    "        cross_nlls.append(cross_nll)\n",
    "    cross_nll = np.mean(cross_nlls)\n",
    "    cross_nll_list.append(cross_nll)\n",
    "    \n",
    "print('Cross NLL :', np.mean(cross_nll_list))"
   ]
  },
  {
   "cell_type": "code",
   "execution_count": null,
   "id": "dae19be9",
   "metadata": {},
   "outputs": [],
   "source": [
    "from util.loglikelihood import get_optimum_log_sigma, get_cross_nll\n",
    "\n",
    "cross_nll_list = []\n",
    "for _ in tqdm(range(10)):\n",
    "    cross_nlls = []\n",
    "    for z, model, scale in zip(z_list, model_list, scale_list):\n",
    "        p_samples1 = model.prior.sample(len(z), hp.z_dim) * scale\n",
    "        p_samples2 = model.prior.sample(len(z), hp.z_dim) * scale\n",
    "        log_sigma = get_optimum_log_sigma(p_samples1, p_samples2, min_log_sigma=-5, max_log_sigma=5)\n",
    "        p_samples1 = model.prior.sample(len(z), hp.z_dim) * scale\n",
    "        cross_nll = get_cross_nll(p_samples1, z, log_sigma)\n",
    "        cross_nlls.append(cross_nll)\n",
    "    cross_nll = np.mean(cross_nlls)\n",
    "    cross_nll_list.append(cross_nll)\n",
    "    \n",
    "print('Corrected Cross NLL :', np.mean(cross_nll_list))"
   ]
  },
  {
   "cell_type": "code",
   "execution_count": null,
   "id": "86c3a766",
   "metadata": {},
   "outputs": [],
   "source": []
  },
  {
   "cell_type": "code",
   "execution_count": null,
   "id": "5881f949",
   "metadata": {},
   "outputs": [],
   "source": []
  },
  {
   "cell_type": "code",
   "execution_count": null,
   "id": "e940ccd3",
   "metadata": {},
   "outputs": [],
   "source": []
  }
 ],
 "metadata": {
  "kernelspec": {
   "display_name": "Python 3 (ipykernel)",
   "language": "python",
   "name": "python3"
  },
  "language_info": {
   "codemirror_mode": {
    "name": "ipython",
    "version": 3
   },
   "file_extension": ".py",
   "mimetype": "text/x-python",
   "name": "python",
   "nbconvert_exporter": "python",
   "pygments_lexer": "ipython3",
   "version": "3.9.15"
  }
 },
 "nbformat": 4,
 "nbformat_minor": 5
}
