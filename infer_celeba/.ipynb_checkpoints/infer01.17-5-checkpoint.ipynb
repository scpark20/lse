{
 "cells": [
  {
   "cell_type": "code",
   "execution_count": 1,
   "id": "e998b2b0",
   "metadata": {},
   "outputs": [],
   "source": [
    "import os\n",
    "os.chdir('../')\n",
    "\n",
    "import warnings\n",
    "warnings.filterwarnings('ignore')"
   ]
  },
  {
   "cell_type": "code",
   "execution_count": 2,
   "id": "d7b38c99",
   "metadata": {
    "scrolled": true
   },
   "outputs": [
    {
     "name": "stdout",
     "output_type": "stream",
     "text": [
      "Thu Jan 18 22:53:48 2024       \n",
      "+-----------------------------------------------------------------------------+\n",
      "| NVIDIA-SMI 470.223.02   Driver Version: 470.223.02   CUDA Version: 11.4     |\n",
      "|-------------------------------+----------------------+----------------------+\n",
      "| GPU  Name        Persistence-M| Bus-Id        Disp.A | Volatile Uncorr. ECC |\n",
      "| Fan  Temp  Perf  Pwr:Usage/Cap|         Memory-Usage | GPU-Util  Compute M. |\n",
      "|                               |                      |               MIG M. |\n",
      "|===============================+======================+======================|\n",
      "|   0  NVIDIA A100 80G...  Off  | 00000000:1B:00.0 Off |                    0 |\n",
      "| N/A   47C    P0    71W / 300W |   8433MiB / 80994MiB |      7%      Default |\n",
      "|                               |                      |             Disabled |\n",
      "+-------------------------------+----------------------+----------------------+\n",
      "|   1  NVIDIA A100 80G...  Off  | 00000000:1C:00.0 Off |                    0 |\n",
      "| N/A   41C    P0    44W / 300W |     35MiB / 80994MiB |      0%      Default |\n",
      "|                               |                      |             Disabled |\n",
      "+-------------------------------+----------------------+----------------------+\n",
      "|   2  NVIDIA A100 80G...  Off  | 00000000:1D:00.0 Off |                    0 |\n",
      "| N/A   34C    P0    43W / 300W |     35MiB / 80994MiB |      0%      Default |\n",
      "|                               |                      |             Disabled |\n",
      "+-------------------------------+----------------------+----------------------+\n",
      "|   3  NVIDIA A100 80G...  Off  | 00000000:1E:00.0 Off |                    0 |\n",
      "| N/A   48C    P0    71W / 300W |  16828MiB / 80994MiB |     13%      Default |\n",
      "|                               |                      |             Disabled |\n",
      "+-------------------------------+----------------------+----------------------+\n",
      "|   4  NVIDIA A100 80G...  Off  | 00000000:89:00.0 Off |                    0 |\n",
      "| N/A   45C    P0    66W / 300W |   8433MiB / 80994MiB |      9%      Default |\n",
      "|                               |                      |             Disabled |\n",
      "+-------------------------------+----------------------+----------------------+\n",
      "|   5  NVIDIA A100 80G...  Off  | 00000000:8A:00.0 Off |                    0 |\n",
      "| N/A   48C    P0    67W / 300W |  16828MiB / 80994MiB |      9%      Default |\n",
      "|                               |                      |             Disabled |\n",
      "+-------------------------------+----------------------+----------------------+\n",
      "|   6  NVIDIA A100 80G...  Off  | 00000000:8B:00.0 Off |                    0 |\n",
      "| N/A   46C    P0    67W / 300W |   8437MiB / 80994MiB |      0%      Default |\n",
      "|                               |                      |             Disabled |\n",
      "+-------------------------------+----------------------+----------------------+\n",
      "|   7  NVIDIA A100 80G...  Off  | 00000000:8C:00.0 Off |                    0 |\n",
      "| N/A   44C    P0    66W / 300W |   8433MiB / 80994MiB |      7%      Default |\n",
      "|                               |                      |             Disabled |\n",
      "+-------------------------------+----------------------+----------------------+\n",
      "                                                                               \n",
      "+-----------------------------------------------------------------------------+\n",
      "| Processes:                                                                  |\n",
      "|  GPU   GI   CI        PID   Type   Process name                  GPU Memory |\n",
      "|        ID   ID                                                   Usage      |\n",
      "|=============================================================================|\n",
      "|    0   N/A  N/A      2426      G   /usr/lib/xorg/Xorg                 35MiB |\n",
      "|    0   N/A  N/A    538757      C   ...a3/envs/scpark/bin/python     8395MiB |\n",
      "|    1   N/A  N/A      2426      G   /usr/lib/xorg/Xorg                 35MiB |\n",
      "|    2   N/A  N/A      2426      G   /usr/lib/xorg/Xorg                 35MiB |\n",
      "|    3   N/A  N/A      2426      G   /usr/lib/xorg/Xorg                 35MiB |\n",
      "|    3   N/A  N/A    552430      C   ...a3/envs/scpark/bin/python     8395MiB |\n",
      "|    3   N/A  N/A    552478      C   ...a3/envs/scpark/bin/python     8395MiB |\n",
      "|    4   N/A  N/A      2426      G   /usr/lib/xorg/Xorg                 35MiB |\n",
      "|    4   N/A  N/A    552457      C   ...a3/envs/scpark/bin/python     8395MiB |\n",
      "|    5   N/A  N/A      2426      G   /usr/lib/xorg/Xorg                 35MiB |\n",
      "|    5   N/A  N/A    552505      C   ...a3/envs/scpark/bin/python     8395MiB |\n",
      "|    5   N/A  N/A    552664      C   ...a3/envs/scpark/bin/python     8395MiB |\n",
      "|    6   N/A  N/A      2426      G   /usr/lib/xorg/Xorg                 35MiB |\n",
      "|    6   N/A  N/A    520611      C   ...a3/envs/scpark/bin/python     8399MiB |\n",
      "|    7   N/A  N/A      2426      G   /usr/lib/xorg/Xorg                 35MiB |\n",
      "|    7   N/A  N/A    552477      C   ...a3/envs/scpark/bin/python     8395MiB |\n",
      "+-----------------------------------------------------------------------------+\n"
     ]
    }
   ],
   "source": [
    "import torch\n",
    "import torch.nn as nn\n",
    "import torch.nn.functional as F\n",
    "import numpy as np\n",
    "import os\n",
    "\n",
    "!nvidia-smi\n",
    "os.environ[\"CUDA_VISIBLE_DEVICES\"]=\"1\"\n",
    "device = 'cuda:0'"
   ]
  },
  {
   "cell_type": "markdown",
   "id": "df8b63cd",
   "metadata": {},
   "source": [
    "### Model Parts"
   ]
  },
  {
   "cell_type": "code",
   "execution_count": 3,
   "id": "90c6bda2",
   "metadata": {},
   "outputs": [],
   "source": [
    "from model.main.enc_prior_latent_dec import Model\n",
    "from model.encoder.conv2d_encoder import Encoder\n",
    "from model.prior.uniform_prior import Prior\n",
    "from model.latent.lse_latent import Latent\n",
    "from model.decoder.conv2d_decoder import Decoder\n",
    "\n",
    "from tensorboardX import SummaryWriter\n",
    "from util.util import *"
   ]
  },
  {
   "cell_type": "markdown",
   "id": "89871daf",
   "metadata": {},
   "source": [
    "### Model Init."
   ]
  },
  {
   "cell_type": "code",
   "execution_count": 4,
   "id": "4a3a31a8",
   "metadata": {},
   "outputs": [
    {
     "name": "stdout",
     "output_type": "stream",
     "text": [
      "0\n"
     ]
    }
   ],
   "source": [
    "from easydict import EasyDict\n",
    "hp = EasyDict()\n",
    "hp.size = 64\n",
    "hp.in_dim = 3\n",
    "hp.out_dim = 3\n",
    "hp.z_dim = 128\n",
    "hp.h_dims = [32, 64, 128, 256, 512]\n",
    "hp.M = 1024\n",
    "hp.N = 256\n",
    "hp.activation = F.sigmoid\n",
    "hp.init_log_sigma = 0\n",
    "print(hp.init_log_sigma)"
   ]
  },
  {
   "cell_type": "code",
   "execution_count": 5,
   "id": "3b10f353",
   "metadata": {},
   "outputs": [
    {
     "name": "stdout",
     "output_type": "stream",
     "text": [
      "done\n"
     ]
    }
   ],
   "source": [
    "model_list = []\n",
    "for i in range(10):\n",
    "    model = Model(Encoder(**hp), Prior(**hp), Latent(**hp), Decoder(**hp))\n",
    "    model = model.to(device)\n",
    "    model_list.append(model)\n",
    "    \n",
    "print('done')"
   ]
  },
  {
   "cell_type": "markdown",
   "id": "d6b40d8e",
   "metadata": {},
   "source": [
    "### Dataset"
   ]
  },
  {
   "cell_type": "code",
   "execution_count": 6,
   "id": "c55fc894",
   "metadata": {},
   "outputs": [
    {
     "name": "stdout",
     "output_type": "stream",
     "text": [
      "done\n"
     ]
    }
   ],
   "source": [
    "from torch.utils.data import DataLoader\n",
    "from torchvision import transforms\n",
    "from torchvision.datasets import CelebA\n",
    "\n",
    "class MyCelebA(CelebA):\n",
    "    \"\"\"\n",
    "    A work-around to address issues with pytorch's celebA dataset class.\n",
    "    \n",
    "    Download and Extract\n",
    "    URL : https://drive.google.com/file/d/1m8-EBPgi5MRubrm6iQjafK2QMHDBMSfJ/view?usp=sharing\n",
    "    \"\"\"\n",
    "    \n",
    "    def _check_integrity(self) -> bool:\n",
    "        return True\n",
    "\n",
    "root = '/data'\n",
    "test_transforms = transforms.Compose([transforms.CenterCrop(148),\n",
    "                                      transforms.Resize(hp.size),\n",
    "                                      transforms.ToTensor(),])\n",
    "test_dataset = MyCelebA(root, split='test', transform=test_transforms, download=False)\n",
    "test_loader = DataLoader(test_dataset, batch_size=10000, shuffle=False)\n",
    "print('done')"
   ]
  },
  {
   "cell_type": "code",
   "execution_count": 7,
   "id": "8b9f6240",
   "metadata": {},
   "outputs": [
    {
     "name": "stdout",
     "output_type": "stream",
     "text": [
      "dict_keys(['x', 't'])\n"
     ]
    }
   ],
   "source": [
    "def preprocess(batch):\n",
    "    x, t = batch\n",
    "    data = {}\n",
    "    data['x'] = x.to(device)\n",
    "    data['t'] = t.to(device)\n",
    "    return data\n",
    "\n",
    "batch = next(iter(test_loader))\n",
    "data = preprocess(batch)\n",
    "print(data.keys())"
   ]
  },
  {
   "cell_type": "markdown",
   "id": "0ed481e4",
   "metadata": {},
   "source": [
    "### Load"
   ]
  },
  {
   "cell_type": "code",
   "execution_count": 8,
   "id": "444d37f5",
   "metadata": {},
   "outputs": [
    {
     "data": {
      "application/vnd.jupyter.widget-view+json": {
       "model_id": "7663d57eba7b47058f1e09a4c23dd5ca",
       "version_major": 2,
       "version_minor": 0
      },
      "text/plain": [
       "0it [00:00, ?it/s]"
      ]
     },
     "metadata": {},
     "output_type": "display_data"
    }
   ],
   "source": [
    "from tqdm import tqdm_notebook as tqdm\n",
    "\n",
    "save_path = '/data/scpark/save/lse/train_celeba/train01.17-5/save_200000'\n",
    "\n",
    "# warm start\n",
    "models_state_dict = torch.load(save_path, map_location=torch.device('cpu'))['models_state_dict']\n",
    "for i, model in tqdm(enumerate(model_list)):\n",
    "    model.load_state_dict(models_state_dict[i], strict=True)"
   ]
  },
  {
   "cell_type": "markdown",
   "id": "2b13d661",
   "metadata": {},
   "source": [
    "### Reconstruction Loss"
   ]
  },
  {
   "cell_type": "code",
   "execution_count": 9,
   "id": "1bc19b24",
   "metadata": {},
   "outputs": [
    {
     "data": {
      "application/vnd.jupyter.widget-view+json": {
       "model_id": "f44b9039844542ae9ec239719787a259",
       "version_major": 2,
       "version_minor": 0
      },
      "text/plain": [
       "  0%|          | 0/10 [00:00<?, ?it/s]"
      ]
     },
     "metadata": {},
     "output_type": "display_data"
    },
    {
     "name": "stdout",
     "output_type": "stream",
     "text": [
      "Reconstruction Loss : 0.006279217638075351\n"
     ]
    }
   ],
   "source": [
    "z_list = []\n",
    "recon_loss_list = []\n",
    "for model in tqdm(model_list):\n",
    "    with torch.no_grad():\n",
    "        data = model(data, M=1)\n",
    "        z_list.append(data['z'])\n",
    "        recon_loss_list.append(data['recon_loss'].item())\n",
    "        \n",
    "print('Reconstruction Loss :', np.mean(recon_loss_list))"
   ]
  },
  {
   "cell_type": "markdown",
   "id": "81901766",
   "metadata": {},
   "source": [
    "### Get Scale"
   ]
  },
  {
   "cell_type": "code",
   "execution_count": 10,
   "id": "dbd90b1c",
   "metadata": {},
   "outputs": [
    {
     "name": "stdout",
     "output_type": "stream",
     "text": [
      "[tensor([0.0485, 0.0446, 0.0504, 0.0538, 0.0502, 0.0507, 0.0447, 0.0500, 0.0482,\n",
      "        0.0593, 0.0376, 0.0434, 0.0504, 0.0447, 0.0531, 0.0500, 0.0456, 0.0495,\n",
      "        0.0420, 0.0462, 0.0504, 0.0569, 0.0613, 0.0573, 0.0491, 0.0387, 0.0702,\n",
      "        0.0615, 0.0494, 0.0455, 0.0476, 0.0398, 0.0418, 0.0490, 0.0488, 0.0504,\n",
      "        0.0460, 0.0552, 0.0459, 0.0546, 0.0589, 0.0528, 0.0544, 0.0568, 0.0528,\n",
      "        0.0611, 0.0363, 0.0473, 0.0516, 0.0411, 0.0454, 0.0424, 0.0602, 0.0406,\n",
      "        0.0495, 0.0658, 0.0575, 0.0447, 0.0577, 0.0463, 0.0603, 0.0540, 0.0492,\n",
      "        0.0421, 0.0477, 0.0512, 0.0627, 0.0526, 0.0539, 0.0559, 0.0476, 0.0666,\n",
      "        0.0504, 0.0501, 0.0657, 0.0556, 0.0586, 0.0522, 0.0471, 0.0655, 0.0485,\n",
      "        0.0538, 0.0580, 0.0510, 0.0445, 0.0493, 0.0523, 0.0510, 0.0643, 0.0461,\n",
      "        0.0412, 0.0520, 0.0602, 0.0479, 0.0501, 0.0391, 0.0514, 0.0498, 0.0546,\n",
      "        0.0431, 0.0414, 0.0496, 0.0565, 0.0500, 0.0578, 0.0390, 0.0549, 0.0501,\n",
      "        0.0485, 0.0600, 0.0543, 0.0418, 0.0414, 0.0489, 0.0448, 0.0534, 0.0541,\n",
      "        0.0425, 0.0416, 0.0538, 0.0515, 0.0517, 0.0519, 0.0536, 0.0460, 0.0464,\n",
      "        0.0568, 0.0631], device='cuda:0'), tensor([0.0565, 0.0571, 0.0502, 0.0575, 0.0523, 0.0499, 0.0661, 0.0608, 0.0532,\n",
      "        0.0488, 0.0655, 0.0542, 0.0475, 0.0527, 0.0485, 0.0503, 0.0555, 0.0730,\n",
      "        0.0495, 0.0580, 0.0768, 0.0557, 0.0556, 0.0565, 0.0557, 0.0546, 0.0552,\n",
      "        0.0546, 0.0617, 0.0684, 0.0564, 0.0548, 0.0478, 0.0524, 0.0663, 0.0633,\n",
      "        0.0678, 0.0575, 0.0494, 0.0610, 0.0447, 0.0579, 0.0600, 0.0639, 0.0474,\n",
      "        0.0661, 0.0607, 0.0786, 0.0593, 0.0532, 0.0550, 0.0498, 0.0476, 0.0601,\n",
      "        0.0639, 0.0531, 0.0445, 0.0733, 0.0553, 0.0445, 0.0629, 0.0483, 0.0574,\n",
      "        0.0494, 0.0522, 0.0486, 0.0558, 0.0518, 0.0539, 0.0486, 0.0564, 0.0486,\n",
      "        0.0762, 0.0532, 0.0772, 0.0498, 0.0461, 0.0563, 0.0673, 0.0673, 0.0554,\n",
      "        0.0522, 0.0635, 0.0509, 0.0510, 0.0565, 0.0556, 0.0597, 0.0597, 0.0627,\n",
      "        0.0638, 0.0729, 0.0530, 0.0578, 0.0615, 0.0502, 0.0474, 0.0489, 0.0771,\n",
      "        0.0569, 0.0558, 0.0784, 0.0616, 0.0517, 0.0600, 0.0498, 0.0613, 0.0521,\n",
      "        0.0728, 0.0624, 0.0543, 0.0569, 0.0555, 0.0561, 0.0482, 0.0607, 0.0640,\n",
      "        0.0538, 0.0613, 0.0536, 0.0507, 0.0640, 0.0632, 0.0656, 0.0566, 0.0529,\n",
      "        0.0609, 0.0463], device='cuda:0'), tensor([0.0220, 0.0415, 0.0286, 0.0539, 0.0235, 0.0207, 0.0468, 0.0309, 0.0545,\n",
      "        0.0372, 0.0227, 0.0428, 0.0283, 0.0493, 0.0361, 0.0353, 0.0338, 0.0203,\n",
      "        0.0402, 0.0338, 0.0287, 0.0166, 0.0551, 0.0184, 0.0237, 0.0452, 0.0277,\n",
      "        0.0522, 0.0475, 0.0384, 0.0232, 0.0556, 0.0609, 0.0336, 0.0287, 0.0320,\n",
      "        0.0641, 0.0408, 0.0229, 0.0430, 0.0643, 0.0285, 0.0387, 0.0275, 0.0352,\n",
      "        0.0261, 0.0484, 0.0487, 0.0375, 0.0394, 0.0380, 0.0325, 0.0504, 0.0237,\n",
      "        0.0198, 0.0202, 0.0176, 0.0243, 0.0407, 0.0252, 0.0412, 0.0323, 0.0374,\n",
      "        0.0330, 0.0348, 0.0710, 0.0529, 0.0218, 0.0407, 0.0295, 0.0277, 0.0279,\n",
      "        0.0444, 0.0296, 0.0389, 0.0579, 0.0632, 0.0290, 0.0254, 0.0446, 0.0411,\n",
      "        0.0286, 0.0268, 0.0319, 0.0461, 0.0202, 0.0233, 0.0238, 0.0257, 0.0336,\n",
      "        0.0259, 0.0337, 0.0155, 0.0363, 0.0293, 0.0220, 0.0363, 0.0379, 0.0213,\n",
      "        0.0281, 0.0363, 0.0726, 0.0452, 0.0370, 0.0332, 0.0335, 0.0390, 0.0260,\n",
      "        0.0405, 0.0267, 0.0445, 0.0180, 0.0243, 0.0242, 0.0374, 0.0377, 0.0290,\n",
      "        0.0343, 0.0432, 0.0488, 0.0726, 0.0563, 0.0268, 0.0552, 0.0283, 0.0408,\n",
      "        0.0400, 0.0492], device='cuda:0'), tensor([0.0197, 0.0203, 0.0188, 0.0297, 0.0181, 0.0296, 0.0323, 0.0259, 0.0186,\n",
      "        0.0314, 0.0376, 0.0309, 0.0369, 0.0350, 0.0174, 0.0227, 0.0260, 0.0263,\n",
      "        0.0307, 0.0398, 0.0238, 0.0293, 0.0178, 0.0340, 0.0197, 0.0230, 0.0432,\n",
      "        0.0292, 0.0233, 0.0579, 0.0450, 0.0386, 0.0290, 0.0358, 0.0229, 0.0320,\n",
      "        0.0254, 0.0212, 0.0228, 0.0412, 0.0246, 0.0212, 0.0323, 0.0267, 0.0253,\n",
      "        0.0234, 0.0447, 0.0329, 0.0339, 0.0551, 0.0288, 0.0274, 0.0445, 0.0324,\n",
      "        0.0181, 0.0401, 0.0318, 0.0154, 0.0189, 0.0608, 0.0187, 0.0293, 0.0452,\n",
      "        0.0374, 0.0558, 0.0274, 0.0332, 0.0238, 0.0229, 0.0183, 0.0263, 0.0251,\n",
      "        0.0316, 0.0240, 0.0158, 0.0252, 0.0254, 0.0271, 0.0456, 0.0382, 0.0307,\n",
      "        0.0402, 0.0536, 0.0229, 0.0358, 0.0410, 0.0256, 0.0216, 0.0355, 0.0387,\n",
      "        0.0217, 0.0283, 0.0602, 0.0344, 0.0316, 0.0422, 0.0314, 0.0266, 0.0493,\n",
      "        0.0256, 0.0286, 0.0306, 0.0291, 0.0434, 0.0177, 0.0337, 0.0175, 0.0505,\n",
      "        0.0349, 0.0210, 0.0198, 0.0393, 0.0420, 0.0543, 0.0215, 0.0341, 0.0245,\n",
      "        0.0319, 0.0211, 0.0224, 0.0430, 0.0228, 0.0319, 0.0171, 0.0215, 0.0321,\n",
      "        0.0202, 0.0395], device='cuda:0'), tensor([0.0218, 0.0172, 0.0253, 0.0395, 0.0339, 0.0377, 0.0310, 0.0385, 0.0258,\n",
      "        0.0447, 0.0206, 0.0483, 0.0400, 0.0239, 0.0256, 0.0283, 0.0391, 0.0365,\n",
      "        0.0331, 0.0152, 0.0150, 0.0241, 0.0200, 0.0316, 0.0287, 0.0242, 0.0283,\n",
      "        0.0220, 0.0364, 0.0191, 0.0334, 0.0284, 0.0464, 0.0326, 0.0382, 0.0168,\n",
      "        0.0280, 0.0248, 0.0184, 0.0813, 0.0281, 0.0557, 0.0438, 0.0263, 0.0287,\n",
      "        0.0301, 0.0274, 0.0270, 0.0401, 0.0265, 0.0580, 0.0232, 0.0374, 0.0207,\n",
      "        0.0298, 0.0320, 0.0601, 0.0269, 0.0248, 0.0389, 0.0328, 0.0289, 0.0333,\n",
      "        0.0294, 0.0422, 0.0216, 0.0355, 0.0370, 0.0167, 0.0249, 0.0203, 0.0408,\n",
      "        0.0420, 0.0271, 0.0351, 0.0409, 0.0264, 0.0250, 0.0246, 0.0216, 0.0286,\n",
      "        0.0342, 0.0152, 0.0326, 0.0451, 0.0266, 0.0326, 0.0413, 0.0316, 0.0214,\n",
      "        0.0212, 0.0315, 0.0207, 0.0301, 0.0320, 0.0208, 0.0237, 0.0208, 0.0205,\n",
      "        0.0404, 0.0210, 0.0346, 0.0424, 0.0229, 0.0313, 0.0355, 0.0257, 0.0405,\n",
      "        0.0193, 0.0241, 0.0208, 0.0271, 0.0418, 0.0177, 0.0321, 0.0324, 0.0197,\n",
      "        0.0162, 0.0239, 0.0356, 0.0313, 0.0409, 0.0321, 0.0309, 0.0180, 0.0235,\n",
      "        0.0320, 0.0253], device='cuda:0'), tensor([0.0168, 0.0337, 0.0407, 0.0705, 0.0171, 0.0210, 0.0422, 0.0574, 0.0260,\n",
      "        0.0305, 0.0297, 0.0239, 0.0309, 0.0247, 0.0330, 0.0495, 0.0211, 0.0455,\n",
      "        0.0511, 0.0352, 0.0234, 0.0251, 0.0183, 0.0166, 0.0229, 0.0272, 0.0228,\n",
      "        0.0369, 0.0291, 0.0291, 0.0187, 0.0395, 0.0169, 0.0187, 0.0578, 0.0223,\n",
      "        0.0664, 0.0200, 0.0288, 0.0265, 0.0241, 0.0239, 0.0289, 0.0366, 0.0283,\n",
      "        0.0473, 0.0252, 0.0365, 0.0173, 0.0394, 0.0288, 0.0565, 0.0565, 0.0265,\n",
      "        0.0248, 0.0367, 0.0272, 0.0399, 0.0170, 0.0293, 0.0465, 0.0689, 0.0686,\n",
      "        0.0212, 0.0317, 0.0232, 0.0376, 0.0368, 0.0267, 0.0240, 0.0258, 0.0231,\n",
      "        0.0537, 0.0163, 0.0344, 0.0204, 0.0304, 0.0374, 0.0361, 0.0303, 0.0292,\n",
      "        0.0299, 0.0186, 0.0276, 0.0227, 0.0476, 0.0281, 0.0243, 0.0428, 0.0216,\n",
      "        0.0276, 0.0459, 0.0120, 0.0267, 0.0138, 0.0202, 0.0339, 0.0236, 0.0169,\n",
      "        0.0282, 0.0264, 0.0334, 0.0276, 0.0230, 0.0355, 0.0387, 0.0268, 0.0351,\n",
      "        0.0169, 0.0374, 0.0403, 0.0428, 0.0323, 0.0294, 0.0276, 0.0179, 0.0290,\n",
      "        0.0433, 0.0355, 0.0346, 0.0237, 0.0350, 0.0298, 0.0265, 0.0339, 0.0252,\n",
      "        0.0213, 0.0261], device='cuda:0'), tensor([0.0481, 0.0526, 0.0489, 0.0557, 0.0465, 0.0541, 0.0576, 0.0554, 0.0602,\n",
      "        0.0548, 0.0514, 0.0485, 0.0579, 0.0461, 0.0522, 0.0583, 0.0518, 0.0526,\n",
      "        0.0734, 0.0445, 0.0466, 0.0651, 0.0582, 0.0609, 0.0486, 0.0542, 0.0521,\n",
      "        0.0596, 0.0400, 0.0535, 0.0585, 0.0518, 0.0550, 0.0657, 0.0500, 0.0415,\n",
      "        0.0489, 0.0446, 0.0516, 0.0616, 0.0582, 0.0590, 0.0444, 0.0639, 0.0535,\n",
      "        0.0494, 0.0539, 0.0609, 0.0537, 0.0577, 0.0568, 0.0495, 0.0657, 0.0534,\n",
      "        0.0618, 0.0562, 0.0566, 0.0618, 0.0542, 0.0615, 0.0524, 0.0629, 0.0501,\n",
      "        0.0573, 0.0578, 0.0542, 0.0515, 0.0427, 0.0572, 0.0545, 0.0755, 0.0574,\n",
      "        0.0495, 0.0518, 0.0471, 0.0479, 0.0493, 0.0548, 0.0509, 0.0523, 0.0520,\n",
      "        0.0514, 0.0560, 0.0473, 0.0534, 0.0542, 0.0584, 0.0506, 0.0619, 0.0477,\n",
      "        0.0561, 0.0434, 0.0588, 0.0517, 0.0592, 0.0481, 0.0541, 0.0580, 0.0467,\n",
      "        0.0488, 0.0464, 0.0543, 0.0472, 0.0499, 0.0542, 0.0545, 0.0498, 0.0480,\n",
      "        0.0507, 0.0473, 0.0536, 0.0500, 0.0575, 0.0567, 0.0461, 0.0557, 0.0446,\n",
      "        0.0565, 0.0463, 0.0475, 0.0562, 0.0512, 0.0404, 0.0543, 0.0539, 0.0472,\n",
      "        0.0607, 0.0592], device='cuda:0'), tensor([0.0302, 0.0411, 0.0209, 0.0353, 0.0423, 0.0305, 0.0225, 0.0255, 0.0166,\n",
      "        0.0273, 0.0255, 0.0362, 0.0242, 0.0340, 0.0389, 0.0398, 0.0352, 0.0629,\n",
      "        0.0171, 0.0574, 0.0376, 0.0387, 0.0368, 0.0179, 0.0217, 0.0189, 0.0167,\n",
      "        0.0237, 0.0212, 0.0407, 0.0213, 0.0389, 0.0383, 0.0459, 0.0208, 0.0397,\n",
      "        0.0248, 0.0409, 0.0288, 0.0300, 0.0239, 0.0321, 0.0256, 0.0140, 0.0160,\n",
      "        0.0154, 0.0163, 0.0400, 0.0305, 0.0172, 0.0280, 0.0487, 0.0263, 0.0229,\n",
      "        0.0278, 0.0191, 0.0303, 0.0195, 0.0243, 0.0272, 0.0289, 0.0378, 0.0200,\n",
      "        0.0266, 0.0196, 0.0254, 0.0178, 0.0235, 0.0213, 0.0240, 0.0199, 0.0260,\n",
      "        0.0363, 0.0324, 0.0225, 0.0341, 0.0404, 0.0258, 0.0393, 0.0153, 0.0204,\n",
      "        0.0282, 0.0241, 0.0203, 0.0263, 0.0378, 0.0298, 0.0555, 0.0519, 0.0379,\n",
      "        0.0339, 0.0291, 0.0172, 0.0319, 0.0242, 0.0185, 0.0284, 0.0254, 0.0139,\n",
      "        0.0286, 0.0306, 0.0274, 0.0225, 0.0279, 0.0244, 0.0367, 0.0320, 0.0409,\n",
      "        0.0247, 0.0193, 0.0313, 0.0347, 0.0278, 0.0284, 0.0257, 0.0197, 0.0396,\n",
      "        0.0316, 0.0311, 0.0181, 0.0364, 0.0287, 0.0464, 0.0215, 0.0400, 0.0230,\n",
      "        0.0404, 0.0216], device='cuda:0'), tensor([0.0512, 0.0264, 0.0292, 0.0313, 0.0220, 0.0278, 0.0325, 0.0372, 0.0280,\n",
      "        0.0266, 0.0238, 0.0238, 0.0170, 0.0211, 0.0278, 0.0509, 0.0387, 0.0199,\n",
      "        0.0177, 0.0263, 0.0223, 0.0443, 0.0569, 0.0205, 0.0345, 0.0309, 0.0569,\n",
      "        0.0269, 0.0515, 0.0315, 0.0307, 0.0230, 0.0322, 0.0458, 0.0326, 0.0231,\n",
      "        0.0410, 0.0152, 0.0337, 0.0302, 0.0201, 0.0234, 0.0355, 0.0168, 0.0490,\n",
      "        0.0225, 0.0272, 0.0453, 0.0333, 0.0446, 0.0305, 0.0369, 0.0339, 0.0248,\n",
      "        0.0239, 0.0255, 0.0231, 0.0348, 0.0386, 0.0245, 0.0291, 0.0340, 0.0253,\n",
      "        0.0297, 0.0267, 0.0278, 0.0335, 0.0280, 0.0177, 0.0234, 0.0248, 0.0440,\n",
      "        0.0304, 0.0342, 0.0238, 0.0187, 0.0271, 0.0335, 0.0508, 0.0343, 0.0196,\n",
      "        0.0226, 0.0370, 0.0325, 0.0430, 0.0204, 0.0306, 0.0345, 0.0431, 0.0344,\n",
      "        0.0209, 0.0268, 0.0372, 0.0460, 0.0209, 0.0208, 0.0541, 0.0320, 0.0441,\n",
      "        0.0360, 0.0274, 0.0391, 0.0290, 0.0311, 0.0153, 0.0247, 0.0262, 0.0604,\n",
      "        0.0574, 0.0221, 0.0235, 0.0289, 0.0265, 0.0293, 0.0361, 0.0383, 0.0383,\n",
      "        0.0271, 0.0279, 0.0319, 0.0595, 0.0402, 0.0503, 0.0551, 0.0566, 0.0194,\n",
      "        0.0346, 0.0288], device='cuda:0'), tensor([0.0571, 0.0378, 0.0373, 0.0292, 0.0314, 0.0203, 0.0537, 0.0317, 0.0442,\n",
      "        0.0348, 0.0388, 0.0353, 0.0310, 0.0236, 0.0306, 0.0283, 0.0266, 0.0213,\n",
      "        0.0435, 0.0242, 0.0350, 0.0551, 0.0323, 0.0414, 0.0366, 0.0213, 0.0358,\n",
      "        0.0344, 0.0219, 0.0272, 0.0269, 0.0399, 0.0384, 0.0254, 0.0386, 0.0506,\n",
      "        0.0562, 0.0352, 0.0235, 0.0461, 0.0341, 0.0366, 0.0301, 0.0173, 0.0256,\n",
      "        0.0530, 0.0421, 0.0395, 0.0245, 0.0206, 0.0335, 0.0327, 0.0355, 0.0407,\n",
      "        0.0410, 0.0625, 0.0396, 0.0433, 0.0355, 0.0299, 0.0285, 0.0363, 0.0404,\n",
      "        0.0656, 0.0229, 0.0242, 0.0222, 0.0273, 0.0308, 0.0312, 0.0413, 0.0313,\n",
      "        0.0676, 0.0314, 0.0267, 0.0251, 0.0287, 0.0255, 0.0601, 0.0390, 0.0238,\n",
      "        0.0583, 0.0399, 0.0482, 0.0329, 0.0177, 0.0513, 0.0377, 0.0395, 0.0404,\n",
      "        0.0409, 0.0319, 0.0339, 0.0242, 0.0183, 0.0407, 0.0577, 0.0281, 0.0361,\n",
      "        0.0616, 0.0333, 0.0224, 0.0531, 0.0278, 0.0303, 0.0306, 0.0226, 0.0581,\n",
      "        0.0430, 0.0286, 0.0466, 0.0411, 0.0285, 0.0267, 0.0252, 0.0173, 0.0278,\n",
      "        0.0420, 0.0334, 0.0389, 0.0543, 0.0504, 0.0569, 0.0239, 0.0513, 0.0376,\n",
      "        0.0266, 0.0384], device='cuda:0')]\n"
     ]
    }
   ],
   "source": [
    "scale_list = []\n",
    "for z in z_list:\n",
    "    scale = (torch.max(z, dim=0).values - torch.min(z, dim=0).values) / 2\n",
    "    scale_list.append(scale)\n",
    "    \n",
    "print(scale_list)"
   ]
  },
  {
   "cell_type": "markdown",
   "id": "7e70fb9c",
   "metadata": {},
   "source": [
    "### MMD Test"
   ]
  },
  {
   "cell_type": "code",
   "execution_count": 11,
   "id": "67ed5d1f",
   "metadata": {},
   "outputs": [
    {
     "data": {
      "application/vnd.jupyter.widget-view+json": {
       "model_id": "e894a6ce912942b7807856589ea0a18c",
       "version_major": 2,
       "version_minor": 0
      },
      "text/plain": [
       "  0%|          | 0/10 [00:00<?, ?it/s]"
      ]
     },
     "metadata": {},
     "output_type": "display_data"
    },
    {
     "name": "stdout",
     "output_type": "stream",
     "text": [
      "MMD Loss : 0.02393583059310913\n"
     ]
    }
   ],
   "source": [
    "from util.mmd_penalty import mmd_penalty\n",
    "\n",
    "opts = {'pz_scale': 1,\n",
    "        'mmd_kernel': 'RBF', # 'IMQ', 'RBF'\n",
    "        'pz': 'normal', # 'normal', 'sphere', 'uniform' \n",
    "        'zdim': hp.z_dim\n",
    "       }\n",
    "\n",
    "mmd_losses = []\n",
    "for z in tqdm(z_list):\n",
    "    prior = model_list[0].prior.sample(len(z), hp.z_dim)\n",
    "    mmd_loss = mmd_penalty(prior, z, opts)\n",
    "    mmd_losses.append(mmd_loss.item())\n",
    "    \n",
    "print('MMD Loss :', np.mean(mmd_losses))    "
   ]
  },
  {
   "cell_type": "code",
   "execution_count": 12,
   "id": "e655eb1c",
   "metadata": {},
   "outputs": [
    {
     "data": {
      "application/vnd.jupyter.widget-view+json": {
       "model_id": "246ea322cb9d45ecb737b6485fa827c6",
       "version_major": 2,
       "version_minor": 0
      },
      "text/plain": [
       "0it [00:00, ?it/s]"
      ]
     },
     "metadata": {},
     "output_type": "display_data"
    },
    {
     "name": "stdout",
     "output_type": "stream",
     "text": [
      "Corrected MMD Loss : 0.026821553707122803\n"
     ]
    }
   ],
   "source": [
    "from util.mmd_penalty import mmd_penalty\n",
    "\n",
    "opts = {'pz_scale': 1,\n",
    "        'mmd_kernel': 'RBF', # 'IMQ', 'RBF'\n",
    "        'pz': 'normal', # 'normal', 'sphere', 'uniform' \n",
    "        'zdim': hp.z_dim\n",
    "       }\n",
    "\n",
    "mmd_losses = []\n",
    "for z, scale in tqdm(zip(z_list, scale_list)):\n",
    "    prior = model_list[0].prior.sample(len(z), hp.z_dim) * scale\n",
    "    mmd_loss = mmd_penalty(prior, z, opts)\n",
    "    mmd_losses.append(mmd_loss.item())\n",
    "    \n",
    "print('Corrected MMD Loss :', np.mean(mmd_losses))    "
   ]
  },
  {
   "cell_type": "markdown",
   "id": "12cf158b",
   "metadata": {},
   "source": [
    "### Cross NLL Test"
   ]
  },
  {
   "cell_type": "code",
   "execution_count": null,
   "id": "1d0ef69d",
   "metadata": {},
   "outputs": [
    {
     "data": {
      "application/vnd.jupyter.widget-view+json": {
       "model_id": "2728081187d044089a9a04df9e4b0515",
       "version_major": 2,
       "version_minor": 0
      },
      "text/plain": [
       "  0%|          | 0/10 [00:00<?, ?it/s]"
      ]
     },
     "metadata": {},
     "output_type": "display_data"
    }
   ],
   "source": [
    "from util.loglikelihood import get_optimum_log_sigma, get_cross_nll\n",
    "\n",
    "cross_nll_list = []\n",
    "for _ in tqdm(range(10)):\n",
    "    cross_nlls = []\n",
    "    for z, model in zip(z_list, model_list):\n",
    "        p_samples1 = model.prior.sample(len(z), hp.z_dim)\n",
    "        p_samples2 = model.prior.sample(len(z), hp.z_dim)\n",
    "        log_sigma = get_optimum_log_sigma(p_samples1, p_samples2, min_log_sigma=-5, max_log_sigma=5)\n",
    "        p_samples1 = model.prior.sample(len(z), hp.z_dim)\n",
    "        cross_nll = get_cross_nll(p_samples1, z, log_sigma)\n",
    "        cross_nlls.append(cross_nll)\n",
    "    cross_nll = np.mean(cross_nlls)\n",
    "    cross_nll_list.append(cross_nll)\n",
    "    \n",
    "print('Cross NLL :', np.mean(cross_nll_list))"
   ]
  },
  {
   "cell_type": "code",
   "execution_count": null,
   "id": "dae19be9",
   "metadata": {},
   "outputs": [],
   "source": [
    "from util.loglikelihood import get_optimum_log_sigma, get_cross_nll\n",
    "\n",
    "cross_nll_list = []\n",
    "for _ in tqdm(range(10)):\n",
    "    cross_nlls = []\n",
    "    for z, model, scale in zip(z_list, model_list, scale_list):\n",
    "        p_samples1 = model.prior.sample(len(z), hp.z_dim) * scale\n",
    "        p_samples2 = model.prior.sample(len(z), hp.z_dim) * scale\n",
    "        log_sigma = get_optimum_log_sigma(p_samples1, p_samples2, min_log_sigma=-5, max_log_sigma=5)\n",
    "        p_samples1 = model.prior.sample(len(z), hp.z_dim) * scale\n",
    "        cross_nll = get_cross_nll(p_samples1, z, log_sigma)\n",
    "        cross_nlls.append(cross_nll)\n",
    "    cross_nll = np.mean(cross_nlls)\n",
    "    cross_nll_list.append(cross_nll)\n",
    "    \n",
    "print('Corrected Cross NLL :', np.mean(cross_nll_list))"
   ]
  },
  {
   "cell_type": "code",
   "execution_count": null,
   "id": "86c3a766",
   "metadata": {},
   "outputs": [],
   "source": []
  },
  {
   "cell_type": "code",
   "execution_count": null,
   "id": "8b5ee1a4",
   "metadata": {},
   "outputs": [],
   "source": []
  },
  {
   "cell_type": "code",
   "execution_count": null,
   "id": "580a6b7e",
   "metadata": {},
   "outputs": [],
   "source": []
  }
 ],
 "metadata": {
  "kernelspec": {
   "display_name": "Python 3 (ipykernel)",
   "language": "python",
   "name": "python3"
  },
  "language_info": {
   "codemirror_mode": {
    "name": "ipython",
    "version": 3
   },
   "file_extension": ".py",
   "mimetype": "text/x-python",
   "name": "python",
   "nbconvert_exporter": "python",
   "pygments_lexer": "ipython3",
   "version": "3.9.15"
  }
 },
 "nbformat": 4,
 "nbformat_minor": 5
}
