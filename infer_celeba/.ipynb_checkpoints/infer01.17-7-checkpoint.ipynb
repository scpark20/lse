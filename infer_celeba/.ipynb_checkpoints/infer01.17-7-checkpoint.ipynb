{
 "cells": [
  {
   "cell_type": "code",
   "execution_count": 1,
   "id": "e998b2b0",
   "metadata": {},
   "outputs": [],
   "source": [
    "import os\n",
    "os.chdir('../')\n",
    "\n",
    "import warnings\n",
    "warnings.filterwarnings('ignore')"
   ]
  },
  {
   "cell_type": "code",
   "execution_count": 2,
   "id": "d7b38c99",
   "metadata": {
    "scrolled": true
   },
   "outputs": [
    {
     "name": "stdout",
     "output_type": "stream",
     "text": [
      "Fri Jan 19 12:16:56 2024       \n",
      "+-----------------------------------------------------------------------------+\n",
      "| NVIDIA-SMI 470.223.02   Driver Version: 470.223.02   CUDA Version: 11.4     |\n",
      "|-------------------------------+----------------------+----------------------+\n",
      "| GPU  Name        Persistence-M| Bus-Id        Disp.A | Volatile Uncorr. ECC |\n",
      "| Fan  Temp  Perf  Pwr:Usage/Cap|         Memory-Usage | GPU-Util  Compute M. |\n",
      "|                               |                      |               MIG M. |\n",
      "|===============================+======================+======================|\n",
      "|   0  NVIDIA A100 80G...  Off  | 00000000:1B:00.0 Off |                    0 |\n",
      "| N/A   43C    P0    46W / 300W |     35MiB / 80994MiB |      0%      Default |\n",
      "|                               |                      |             Disabled |\n",
      "+-------------------------------+----------------------+----------------------+\n",
      "|   1  NVIDIA A100 80G...  Off  | 00000000:1C:00.0 Off |                    0 |\n",
      "| N/A   46C    P0    68W / 300W |  18941MiB / 80994MiB |      0%      Default |\n",
      "|                               |                      |             Disabled |\n",
      "+-------------------------------+----------------------+----------------------+\n",
      "|   2  NVIDIA A100 80G...  Off  | 00000000:1D:00.0 Off |                    0 |\n",
      "| N/A   42C    P0    67W / 300W |   1025MiB / 80994MiB |      0%      Default |\n",
      "|                               |                      |             Disabled |\n",
      "+-------------------------------+----------------------+----------------------+\n",
      "|   3  NVIDIA A100 80G...  Off  | 00000000:1E:00.0 Off |                    0 |\n",
      "| N/A   38C    P0    44W / 300W |     35MiB / 80994MiB |      0%      Default |\n",
      "|                               |                      |             Disabled |\n",
      "+-------------------------------+----------------------+----------------------+\n",
      "|   4  NVIDIA A100 80G...  Off  | 00000000:89:00.0 Off |                    0 |\n",
      "| N/A   42C    P0    43W / 300W |     35MiB / 80994MiB |      0%      Default |\n",
      "|                               |                      |             Disabled |\n",
      "+-------------------------------+----------------------+----------------------+\n",
      "|   5  NVIDIA A100 80G...  Off  | 00000000:8A:00.0 Off |                    0 |\n",
      "| N/A   42C    P0    42W / 300W |     35MiB / 80994MiB |      0%      Default |\n",
      "|                               |                      |             Disabled |\n",
      "+-------------------------------+----------------------+----------------------+\n",
      "|   6  NVIDIA A100 80G...  Off  | 00000000:8B:00.0 Off |                    0 |\n",
      "| N/A   43C    P0    44W / 300W |     35MiB / 80994MiB |      0%      Default |\n",
      "|                               |                      |             Disabled |\n",
      "+-------------------------------+----------------------+----------------------+\n",
      "|   7  NVIDIA A100 80G...  Off  | 00000000:8C:00.0 Off |                    0 |\n",
      "| N/A   42C    P0    45W / 300W |     35MiB / 80994MiB |      0%      Default |\n",
      "|                               |                      |             Disabled |\n",
      "+-------------------------------+----------------------+----------------------+\n",
      "                                                                               \n",
      "+-----------------------------------------------------------------------------+\n",
      "| Processes:                                                                  |\n",
      "|  GPU   GI   CI        PID   Type   Process name                  GPU Memory |\n",
      "|        ID   ID                                                   Usage      |\n",
      "|=============================================================================|\n",
      "|    0   N/A  N/A      2426      G   /usr/lib/xorg/Xorg                 35MiB |\n",
      "|    1   N/A  N/A      2426      G   /usr/lib/xorg/Xorg                 35MiB |\n",
      "|    1   N/A  N/A    726153      C   ...a3/envs/scpark/bin/python    18903MiB |\n",
      "|    2   N/A  N/A      2426      G   /usr/lib/xorg/Xorg                 35MiB |\n",
      "|    2   N/A  N/A    726504      C   ...a3/envs/scpark/bin/python      987MiB |\n",
      "|    3   N/A  N/A      2426      G   /usr/lib/xorg/Xorg                 35MiB |\n",
      "|    4   N/A  N/A      2426      G   /usr/lib/xorg/Xorg                 35MiB |\n",
      "|    5   N/A  N/A      2426      G   /usr/lib/xorg/Xorg                 35MiB |\n",
      "|    6   N/A  N/A      2426      G   /usr/lib/xorg/Xorg                 35MiB |\n",
      "|    7   N/A  N/A      2426      G   /usr/lib/xorg/Xorg                 35MiB |\n",
      "+-----------------------------------------------------------------------------+\n"
     ]
    }
   ],
   "source": [
    "import torch\n",
    "import torch.nn as nn\n",
    "import torch.nn.functional as F\n",
    "import numpy as np\n",
    "import os\n",
    "\n",
    "!nvidia-smi\n",
    "os.environ[\"CUDA_VISIBLE_DEVICES\"]=\"4\"\n",
    "device = 'cuda:0'"
   ]
  },
  {
   "cell_type": "markdown",
   "id": "df8b63cd",
   "metadata": {},
   "source": [
    "### Model Parts"
   ]
  },
  {
   "cell_type": "code",
   "execution_count": 3,
   "id": "90c6bda2",
   "metadata": {},
   "outputs": [],
   "source": [
    "from model.main.enc_prior_latent_dec import Model\n",
    "from model.encoder.conv2d_encoder import Encoder\n",
    "from model.prior.uniform_prior import Prior\n",
    "from model.latent.swae_latent import Latent\n",
    "from model.decoder.conv2d_decoder import Decoder\n",
    "\n",
    "from tensorboardX import SummaryWriter\n",
    "from util.util import *"
   ]
  },
  {
   "cell_type": "markdown",
   "id": "89871daf",
   "metadata": {},
   "source": [
    "### Model Init."
   ]
  },
  {
   "cell_type": "code",
   "execution_count": 4,
   "id": "4a3a31a8",
   "metadata": {},
   "outputs": [],
   "source": [
    "from easydict import EasyDict\n",
    "hp = EasyDict()\n",
    "hp.size = 64\n",
    "hp.in_dim = 3\n",
    "hp.out_dim = 3\n",
    "hp.z_dim = 128\n",
    "hp.h_dims = [32, 64, 128, 256, 512]\n",
    "hp.activation = F.sigmoid"
   ]
  },
  {
   "cell_type": "code",
   "execution_count": 6,
   "id": "3b10f353",
   "metadata": {},
   "outputs": [
    {
     "name": "stdout",
     "output_type": "stream",
     "text": [
      "done\n"
     ]
    }
   ],
   "source": [
    "model_list = []\n",
    "for i in range(10):\n",
    "    model = Model(Encoder(**hp), Prior(**hp), Latent(**hp), Decoder(**hp))\n",
    "    model = model.to(device)\n",
    "    model.eval()\n",
    "    model_list.append(model)\n",
    "    \n",
    "print('done')"
   ]
  },
  {
   "cell_type": "markdown",
   "id": "d6b40d8e",
   "metadata": {},
   "source": [
    "### Dataset"
   ]
  },
  {
   "cell_type": "code",
   "execution_count": 7,
   "id": "c55fc894",
   "metadata": {},
   "outputs": [
    {
     "name": "stdout",
     "output_type": "stream",
     "text": [
      "done\n"
     ]
    }
   ],
   "source": [
    "from torch.utils.data import DataLoader\n",
    "from torchvision import transforms\n",
    "from torchvision.datasets import CelebA\n",
    "\n",
    "class MyCelebA(CelebA):\n",
    "    \"\"\"\n",
    "    A work-around to address issues with pytorch's celebA dataset class.\n",
    "    \n",
    "    Download and Extract\n",
    "    URL : https://drive.google.com/file/d/1m8-EBPgi5MRubrm6iQjafK2QMHDBMSfJ/view?usp=sharing\n",
    "    \"\"\"\n",
    "    \n",
    "    def _check_integrity(self) -> bool:\n",
    "        return True\n",
    "\n",
    "root = '/data'\n",
    "test_transforms = transforms.Compose([transforms.CenterCrop(148),\n",
    "                                      transforms.Resize(hp.size),\n",
    "                                      transforms.ToTensor(),])\n",
    "test_dataset = MyCelebA(root, split='test', transform=test_transforms, download=False)\n",
    "test_loader = DataLoader(test_dataset, batch_size=10000, shuffle=False)\n",
    "print('done')"
   ]
  },
  {
   "cell_type": "code",
   "execution_count": 8,
   "id": "8b9f6240",
   "metadata": {},
   "outputs": [
    {
     "name": "stdout",
     "output_type": "stream",
     "text": [
      "dict_keys(['x', 't'])\n"
     ]
    }
   ],
   "source": [
    "def preprocess(batch):\n",
    "    x, t = batch\n",
    "    data = {}\n",
    "    data['x'] = x.to(device)\n",
    "    data['t'] = t.to(device)\n",
    "    return data\n",
    "\n",
    "batch = next(iter(test_loader))\n",
    "data = preprocess(batch)\n",
    "print(data.keys())"
   ]
  },
  {
   "cell_type": "markdown",
   "id": "0ed481e4",
   "metadata": {},
   "source": [
    "### Load"
   ]
  },
  {
   "cell_type": "code",
   "execution_count": 9,
   "id": "444d37f5",
   "metadata": {},
   "outputs": [
    {
     "data": {
      "application/vnd.jupyter.widget-view+json": {
       "model_id": "37632fdf514546b9bf7211e0e739954c",
       "version_major": 2,
       "version_minor": 0
      },
      "text/plain": [
       "0it [00:00, ?it/s]"
      ]
     },
     "metadata": {},
     "output_type": "display_data"
    }
   ],
   "source": [
    "from tqdm import tqdm_notebook as tqdm\n",
    "\n",
    "save_path = '/data/scpark/save/lse/train_celeba/train01.17-7/save_200000'\n",
    "\n",
    "# warm start\n",
    "models_state_dict = torch.load(save_path, map_location=torch.device('cpu'))['models_state_dict']\n",
    "for i, model in tqdm(enumerate(model_list)):\n",
    "    model.load_state_dict(models_state_dict[i], strict=True)"
   ]
  },
  {
   "cell_type": "markdown",
   "id": "2b13d661",
   "metadata": {},
   "source": [
    "### Reconstruction Loss"
   ]
  },
  {
   "cell_type": "code",
   "execution_count": 10,
   "id": "1bc19b24",
   "metadata": {},
   "outputs": [
    {
     "data": {
      "application/vnd.jupyter.widget-view+json": {
       "model_id": "5046e7f26602414281abdcf5a8d65997",
       "version_major": 2,
       "version_minor": 0
      },
      "text/plain": [
       "  0%|          | 0/10 [00:00<?, ?it/s]"
      ]
     },
     "metadata": {},
     "output_type": "display_data"
    },
    {
     "name": "stdout",
     "output_type": "stream",
     "text": [
      "Reconstruction Loss : 0.005086536286398768\n"
     ]
    }
   ],
   "source": [
    "z_list = []\n",
    "recon_loss_list = []\n",
    "for model in tqdm(model_list):\n",
    "    with torch.no_grad():\n",
    "        data = model(data, M=1)\n",
    "        z_list.append(data['z'])\n",
    "        recon_loss_list.append(data['recon_loss'].item())\n",
    "        \n",
    "print('Reconstruction Loss :', np.mean(recon_loss_list))"
   ]
  },
  {
   "cell_type": "markdown",
   "id": "81901766",
   "metadata": {},
   "source": [
    "### Get Scale"
   ]
  },
  {
   "cell_type": "code",
   "execution_count": 11,
   "id": "dbd90b1c",
   "metadata": {},
   "outputs": [
    {
     "name": "stdout",
     "output_type": "stream",
     "text": [
      "[tensor([2.0971, 2.0217, 2.3672, 2.4430, 2.2787, 2.4405, 1.9430, 2.0669, 2.1640,\n",
      "        2.1533, 2.1828, 2.1222, 2.0120, 2.1175, 2.0540, 2.4464, 2.0965, 2.2822,\n",
      "        2.1917, 1.9793, 2.1937, 1.9546, 2.1308, 2.2533, 2.2462, 2.2483, 2.1028,\n",
      "        2.3426, 1.9928, 2.3041, 2.3234, 2.0408, 2.0993, 2.1471, 2.3292, 2.1728,\n",
      "        2.5118, 2.0070, 2.2589, 2.0936, 2.0095, 2.4331, 2.2932, 2.3715, 2.0698,\n",
      "        2.0549, 2.1353, 2.3084, 2.0862, 2.1979, 2.1365, 2.0849, 2.3509, 2.1749,\n",
      "        1.9814, 2.0738, 2.3333, 2.2857, 2.0212, 2.0783, 2.3318, 2.0234, 2.0097,\n",
      "        2.2170, 2.4043, 2.1507, 2.1616, 2.1346, 2.1425, 2.2543, 2.2742, 2.4379,\n",
      "        2.0584, 2.0305, 2.1587, 2.2324, 2.6074, 2.1207, 2.1174, 2.0383, 2.2306,\n",
      "        2.2207, 2.1160, 2.2826, 2.2557, 2.0485, 2.0429, 2.2702, 2.2801, 2.2399,\n",
      "        2.4560, 2.3550, 2.1756, 2.1151, 2.1409, 2.1709, 2.2751, 2.1938, 2.1624,\n",
      "        2.4878, 2.1666, 2.3291, 2.1001, 1.9972, 2.2483, 2.1238, 2.0613, 2.2573,\n",
      "        2.2986, 2.2539, 1.9925, 2.4724, 2.3092, 2.2329, 2.0258, 1.9093, 2.0079,\n",
      "        2.2387, 2.1613, 2.1971, 2.1400, 2.0233, 2.3970, 2.1292, 2.1199, 2.0184,\n",
      "        2.3908, 2.0877], device='cuda:0'), tensor([2.3533, 2.2610, 2.1656, 2.1749, 2.1448, 2.2448, 2.3350, 2.1286, 2.3047,\n",
      "        2.0087, 2.3334, 2.2206, 2.3805, 2.1941, 2.1155, 2.4379, 2.1305, 2.0813,\n",
      "        2.1459, 2.2575, 2.0808, 2.2339, 2.1496, 2.2882, 2.3264, 1.9164, 1.9798,\n",
      "        2.1379, 2.2224, 1.9552, 2.2173, 2.0413, 2.0261, 2.1638, 2.2287, 2.1219,\n",
      "        2.5582, 2.1822, 2.0288, 2.2293, 2.2182, 1.9860, 2.2383, 2.0465, 1.9880,\n",
      "        2.3223, 2.2495, 2.0964, 2.1117, 2.0978, 2.2827, 2.2046, 2.1373, 2.1131,\n",
      "        2.2532, 1.9749, 2.0644, 2.0730, 2.1107, 2.2160, 2.1069, 2.1494, 2.4447,\n",
      "        2.0480, 2.0091, 2.1190, 2.1055, 2.1716, 2.2987, 2.1979, 2.3434, 2.2736,\n",
      "        2.0899, 2.2459, 2.1180, 2.2600, 2.5085, 2.1486, 2.2291, 2.2195, 2.2561,\n",
      "        2.1384, 2.2463, 2.2274, 2.2002, 2.4450, 2.3025, 2.3328, 2.1884, 2.1861,\n",
      "        2.3248, 2.2982, 2.0293, 2.1264, 2.4693, 2.4132, 2.1139, 2.1818, 2.3551,\n",
      "        2.1580, 2.0748, 1.9511, 2.1025, 2.1075, 2.2210, 2.1766, 2.4265, 2.2312,\n",
      "        2.2573, 2.2068, 2.2929, 2.1207, 1.9302, 2.2077, 2.1808, 2.3522, 2.0266,\n",
      "        2.2652, 2.0449, 2.3255, 2.1586, 2.1977, 2.0218, 1.9935, 2.0676, 2.3176,\n",
      "        2.3198, 2.2939], device='cuda:0'), tensor([2.4080, 2.1332, 2.1612, 2.3810, 2.1643, 2.0504, 1.9912, 2.0716, 2.1976,\n",
      "        2.0409, 2.0623, 2.0309, 2.1104, 2.0080, 2.2065, 2.1409, 2.1528, 2.2305,\n",
      "        2.1143, 2.2704, 2.1170, 2.0730, 2.0537, 2.1198, 2.3601, 2.4725, 2.1639,\n",
      "        2.2368, 2.1132, 2.2254, 2.1619, 2.1538, 2.0006, 2.0394, 1.9988, 2.2306,\n",
      "        2.5512, 2.2937, 2.1965, 2.0330, 2.0509, 2.1542, 1.9385, 2.1957, 2.2200,\n",
      "        2.1049, 2.2155, 2.2235, 2.2230, 2.3996, 2.1303, 2.2397, 2.3863, 2.2482,\n",
      "        2.0713, 2.0953, 2.1482, 2.3724, 2.1639, 2.1346, 2.1288, 2.0669, 2.0502,\n",
      "        2.2667, 2.2414, 2.4632, 2.3004, 2.1348, 2.1822, 2.1843, 2.1277, 2.0504,\n",
      "        2.1090, 2.1476, 2.1486, 2.2887, 2.2212, 2.3797, 2.0902, 2.1629, 2.2981,\n",
      "        2.1712, 2.2315, 2.3910, 2.3800, 2.2397, 2.1211, 2.0601, 2.2403, 2.2847,\n",
      "        2.2358, 2.1183, 2.2463, 2.0526, 2.1375, 2.1752, 2.2889, 2.1451, 2.2092,\n",
      "        2.1390, 2.0126, 2.1235, 2.1956, 2.1843, 2.5189, 2.0594, 2.3744, 2.2707,\n",
      "        2.1859, 1.9898, 2.0591, 2.0466, 2.1437, 2.2417, 2.2512, 2.2268, 2.3153,\n",
      "        2.1193, 1.9515, 2.2723, 2.3231, 2.1891, 2.2862, 2.1964, 2.1652, 2.0540,\n",
      "        2.1454, 2.1481], device='cuda:0'), tensor([2.4076, 1.9986, 2.3102, 2.1277, 2.1109, 2.0995, 2.2827, 2.2370, 2.1682,\n",
      "        2.0965, 2.1514, 1.8933, 2.2111, 2.0452, 2.1072, 2.1637, 2.1490, 2.1656,\n",
      "        1.9962, 2.2150, 2.5516, 2.1527, 2.1493, 2.2449, 2.2480, 2.3092, 2.1115,\n",
      "        2.0451, 2.1635, 2.1749, 2.1565, 2.2298, 2.0727, 2.1225, 2.1668, 1.9774,\n",
      "        2.1036, 2.1734, 2.1931, 1.9763, 1.9248, 2.0666, 2.0413, 2.2788, 2.2487,\n",
      "        1.9234, 2.1944, 2.5479, 2.0908, 1.9820, 2.3623, 2.0774, 2.3201, 2.1377,\n",
      "        2.0822, 2.3450, 2.0917, 2.0911, 2.3307, 1.9170, 2.3374, 2.0582, 2.2827,\n",
      "        2.1113, 2.1719, 2.0170, 2.3397, 2.1401, 2.1370, 2.0603, 2.2462, 2.0599,\n",
      "        2.0886, 2.0455, 2.2867, 1.9259, 1.9393, 2.2041, 2.1278, 2.0613, 2.4496,\n",
      "        2.2791, 2.0313, 2.0535, 2.2872, 2.0766, 2.2276, 2.0384, 2.0690, 2.1534,\n",
      "        2.0778, 1.9523, 2.1012, 2.1039, 2.1957, 2.3038, 2.1490, 2.4025, 2.2023,\n",
      "        2.3409, 2.0279, 2.1280, 2.2542, 2.2715, 2.0680, 2.1960, 1.9755, 2.0762,\n",
      "        2.1842, 2.5230, 2.4684, 1.9896, 2.3018, 2.2146, 2.0262, 1.9693, 2.1459,\n",
      "        2.1531, 2.0643, 2.0543, 2.2198, 2.0319, 2.3945, 2.1275, 2.2635, 2.1025,\n",
      "        2.0796, 2.2817], device='cuda:0'), tensor([2.3542, 2.0955, 2.2157, 2.2745, 2.2123, 2.3348, 2.3360, 2.1709, 2.2924,\n",
      "        1.9233, 2.1879, 2.4990, 2.1758, 2.4392, 1.9488, 2.2504, 2.0637, 2.2171,\n",
      "        2.1575, 2.0432, 2.1652, 1.9293, 2.5120, 2.1160, 2.2195, 2.1533, 2.3021,\n",
      "        2.2403, 2.1265, 2.2940, 2.0618, 1.9941, 2.0306, 2.0289, 2.4662, 2.0187,\n",
      "        2.1589, 2.2829, 2.1274, 2.2037, 2.3751, 2.1437, 2.1537, 2.1537, 2.1592,\n",
      "        2.4269, 2.2302, 2.0910, 2.4377, 2.2045, 2.2568, 2.1561, 2.1677, 2.1519,\n",
      "        2.0174, 2.3373, 2.2527, 2.1948, 2.2057, 2.1313, 2.1591, 2.3433, 2.0801,\n",
      "        2.0995, 1.9752, 2.2087, 2.3160, 2.0660, 2.2739, 2.1304, 2.2591, 2.1948,\n",
      "        2.1166, 2.1939, 2.3074, 2.1851, 2.1130, 2.0461, 2.1412, 2.3217, 2.1614,\n",
      "        2.1744, 2.1189, 1.8990, 2.1090, 2.1865, 2.4432, 2.0806, 2.1564, 2.3119,\n",
      "        2.1357, 2.0547, 2.1617, 2.1964, 2.0829, 1.9652, 2.0173, 2.1427, 2.1123,\n",
      "        2.1179, 2.3010, 2.4842, 2.0040, 2.1363, 2.0416, 2.1897, 2.3176, 2.4012,\n",
      "        2.0319, 2.0535, 2.1112, 1.9463, 2.0069, 2.0648, 2.3538, 2.1772, 2.2368,\n",
      "        2.1919, 2.3225, 2.3960, 2.1854, 2.4695, 2.2769, 2.3731, 2.2714, 2.1051,\n",
      "        2.1006, 1.9543], device='cuda:0'), tensor([2.2719, 2.2199, 2.0653, 2.2645, 2.0530, 2.1229, 2.1950, 2.3798, 1.9746,\n",
      "        2.0795, 2.2528, 2.0726, 2.0192, 2.3414, 2.1725, 2.0854, 2.0875, 2.4303,\n",
      "        2.2343, 2.1878, 2.2257, 2.1807, 2.1789, 2.3158, 2.3035, 2.2171, 1.9285,\n",
      "        2.1111, 1.9677, 2.2475, 2.0142, 1.9842, 2.0455, 2.3042, 2.1759, 2.1184,\n",
      "        2.0939, 2.2557, 2.2406, 2.1629, 2.0656, 2.1312, 2.1364, 2.1867, 2.0038,\n",
      "        2.1962, 2.0805, 2.1458, 2.1140, 2.1449, 2.2407, 2.2018, 2.4005, 2.0858,\n",
      "        2.1027, 2.1137, 2.2400, 2.4168, 1.9660, 2.3073, 2.1317, 2.1956, 2.1202,\n",
      "        2.1280, 2.2215, 2.1514, 2.0041, 2.2590, 2.1418, 2.1305, 2.0646, 2.2369,\n",
      "        2.1400, 2.2162, 2.3425, 2.1010, 2.0769, 2.2382, 2.1975, 2.1794, 2.2914,\n",
      "        2.1244, 2.4157, 2.2339, 2.1736, 2.2339, 2.0714, 2.2154, 2.2074, 2.0446,\n",
      "        2.1299, 2.3265, 2.2798, 1.9693, 2.0066, 1.9752, 2.1237, 2.0382, 2.1860,\n",
      "        2.1262, 2.1061, 2.0532, 2.2614, 2.2515, 2.0917, 2.2712, 2.0868, 2.2357,\n",
      "        2.3439, 1.9427, 2.1953, 2.2279, 2.0544, 2.1647, 2.2476, 2.0641, 2.0439,\n",
      "        2.1255, 2.0203, 2.2055, 2.1343, 2.0547, 2.1946, 2.4157, 1.9252, 2.0338,\n",
      "        2.0513, 2.0683], device='cuda:0'), tensor([2.6793, 2.2013, 1.9902, 2.0396, 2.4537, 2.1395, 2.0865, 2.1111, 2.1016,\n",
      "        2.3494, 2.1637, 2.2471, 2.2412, 2.3511, 2.1313, 2.1015, 2.3172, 2.2312,\n",
      "        2.1506, 2.1644, 2.2441, 2.2685, 2.3948, 2.0031, 2.0677, 2.1690, 2.2207,\n",
      "        2.3158, 2.3714, 2.0500, 2.3516, 2.3671, 2.3111, 2.2758, 2.2069, 2.0205,\n",
      "        2.3478, 1.9118, 2.1572, 2.2030, 2.1796, 2.0388, 2.1131, 2.2483, 2.3810,\n",
      "        2.3138, 2.0585, 2.0458, 2.3547, 2.2109, 2.4203, 2.1104, 2.3566, 2.1183,\n",
      "        2.0679, 1.8771, 2.3986, 2.2086, 2.3962, 2.2939, 2.1729, 2.0805, 2.3497,\n",
      "        2.1531, 2.1100, 2.1533, 2.0050, 2.1197, 2.0328, 2.0908, 1.9676, 2.0947,\n",
      "        2.1264, 2.3984, 2.2318, 2.2251, 2.3277, 2.2352, 2.1456, 2.1267, 2.0565,\n",
      "        2.0577, 2.0204, 2.0111, 2.2123, 2.2185, 2.3311, 2.1591, 2.0663, 2.0642,\n",
      "        2.1653, 2.2832, 2.0390, 2.2881, 2.1530, 2.2209, 2.3018, 2.3356, 2.2566,\n",
      "        2.1715, 2.1732, 1.9929, 2.0682, 2.0539, 2.3542, 2.0750, 2.0923, 2.2275,\n",
      "        2.1778, 2.1918, 2.1740, 2.3682, 2.1561, 2.2071, 2.1331, 2.0637, 1.9621,\n",
      "        2.1733, 1.9923, 2.4292, 2.2117, 1.9471, 2.1704, 2.2670, 2.2094, 2.7968,\n",
      "        2.1871, 2.1725], device='cuda:0'), tensor([2.0440, 2.3353, 2.1469, 2.7800, 2.2542, 2.0054, 2.1992, 2.4387, 2.2570,\n",
      "        2.0769, 2.0455, 2.1127, 2.1356, 2.2444, 2.2544, 2.4933, 2.1284, 2.1110,\n",
      "        2.0040, 2.1912, 2.2243, 2.0911, 2.0990, 2.4824, 2.0266, 2.0647, 2.2628,\n",
      "        2.2156, 2.2905, 2.0875, 2.1188, 2.0118, 2.1819, 2.1381, 2.1056, 2.2033,\n",
      "        2.5916, 2.3601, 2.0485, 2.3096, 2.0679, 2.0249, 2.1407, 2.0769, 2.0774,\n",
      "        2.4226, 2.1356, 2.2522, 2.0689, 2.1522, 2.1379, 2.1190, 2.2265, 2.3289,\n",
      "        2.1123, 2.1714, 2.2611, 2.1096, 2.0528, 2.3076, 2.2787, 2.3315, 2.1414,\n",
      "        2.3291, 2.3120, 2.1132, 2.2026, 2.0585, 2.2034, 1.9963, 2.1315, 2.2599,\n",
      "        2.1151, 2.0827, 2.3350, 1.8762, 2.2411, 2.1383, 2.1305, 2.1404, 2.2042,\n",
      "        2.1386, 2.4063, 2.3176, 2.2886, 2.1907, 2.1724, 2.1924, 2.5941, 2.0856,\n",
      "        2.1074, 2.1373, 2.2523, 1.9782, 2.0108, 2.3724, 1.9743, 2.2024, 2.1016,\n",
      "        2.1263, 2.2734, 2.1946, 2.1699, 2.3792, 2.0072, 2.0032, 2.0393, 2.1330,\n",
      "        2.1337, 2.1775, 2.1127, 2.2700, 2.0437, 2.1401, 1.9328, 2.0516, 2.3083,\n",
      "        2.0522, 2.1761, 2.2159, 2.1442, 2.1322, 2.2421, 2.2418, 2.1303, 2.1829,\n",
      "        2.4257, 2.0739], device='cuda:0'), tensor([2.1896, 2.1240, 2.0666, 2.1913, 2.2101, 2.2709, 2.5739, 2.1854, 2.2326,\n",
      "        2.2912, 2.3856, 2.0669, 2.3252, 2.0984, 2.0265, 2.2207, 2.3807, 2.1914,\n",
      "        2.1079, 2.1714, 2.3930, 2.2043, 2.0979, 2.0311, 2.2610, 2.4660, 2.3321,\n",
      "        2.1157, 2.2824, 2.0839, 2.2674, 2.4430, 2.3277, 2.1004, 2.1264, 2.4944,\n",
      "        1.9092, 2.0470, 2.2491, 2.2957, 2.2249, 2.2490, 2.2752, 2.1312, 2.2079,\n",
      "        2.2612, 1.9620, 2.2825, 2.1859, 2.4654, 2.1215, 2.0501, 2.5106, 2.1678,\n",
      "        2.1755, 2.2998, 2.2391, 2.2907, 2.3412, 2.1044, 2.2449, 1.8937, 2.3218,\n",
      "        2.1573, 2.1991, 2.2153, 2.5034, 2.2387, 2.2230, 2.1216, 2.0631, 2.3845,\n",
      "        1.9954, 2.1779, 2.0821, 2.0355, 2.0362, 2.2519, 2.3234, 2.1044, 2.0969,\n",
      "        2.1805, 2.2264, 2.1263, 1.9803, 2.2577, 2.2009, 2.3674, 2.2455, 2.3529,\n",
      "        2.2530, 2.2729, 2.2225, 2.2645, 2.1270, 1.9817, 2.3042, 2.5434, 2.0022,\n",
      "        2.1625, 2.0464, 2.1121, 2.1181, 2.3187, 2.1488, 2.1422, 2.2658, 2.1014,\n",
      "        2.0948, 2.1525, 2.0011, 2.1983, 2.3210, 2.1583, 2.0653, 2.1599, 2.0179,\n",
      "        2.1597, 2.1803, 2.3602, 2.1606, 2.2771, 2.2251, 2.4293, 1.9557, 2.2966,\n",
      "        2.0958, 2.0382], device='cuda:0'), tensor([2.6338, 1.9889, 2.2196, 2.2365, 2.3645, 2.2739, 2.0937, 2.3489, 2.3231,\n",
      "        2.0980, 2.1519, 1.9080, 2.0631, 2.1708, 2.2138, 2.1618, 2.2057, 2.1801,\n",
      "        2.0461, 2.2782, 2.0825, 2.0419, 2.1251, 2.0749, 2.1664, 2.1270, 2.1695,\n",
      "        1.9197, 2.0800, 2.1298, 1.9907, 2.3146, 2.2761, 2.2282, 2.1704, 2.2085,\n",
      "        2.0404, 2.0461, 2.3954, 2.0442, 2.2720, 2.4204, 2.3300, 2.2206, 2.2009,\n",
      "        2.3384, 2.1396, 2.1576, 2.3030, 2.1247, 1.9607, 2.3389, 2.1166, 2.3858,\n",
      "        2.2098, 2.1324, 2.1380, 2.0588, 2.5807, 2.0274, 2.2288, 2.0029, 2.1553,\n",
      "        2.2207, 2.0562, 1.9712, 2.1458, 2.1646, 2.2118, 2.2515, 2.1260, 2.0661,\n",
      "        2.2389, 1.8886, 2.1452, 1.9849, 2.1256, 2.1686, 2.3310, 2.2799, 2.0636,\n",
      "        2.1643, 2.3739, 2.1559, 2.4742, 2.1431, 2.1042, 2.2009, 2.0699, 2.1544,\n",
      "        1.9156, 2.1650, 2.4445, 2.1035, 2.0493, 2.0964, 2.0754, 2.2026, 2.4976,\n",
      "        2.1124, 2.1712, 2.1757, 2.2643, 1.9674, 2.2935, 2.0895, 2.1965, 2.0671,\n",
      "        2.0667, 2.3677, 2.1198, 2.2085, 2.2394, 2.1743, 2.0058, 2.1752, 2.4850,\n",
      "        2.0211, 2.5212, 2.2769, 2.0071, 2.3152, 1.9983, 2.2141, 2.1335, 2.1316,\n",
      "        2.3581, 2.2265], device='cuda:0')]\n"
     ]
    }
   ],
   "source": [
    "scale_list = []\n",
    "for z in z_list:\n",
    "    scale = (torch.max(z, dim=0).values - torch.min(z, dim=0).values) / 2\n",
    "    scale_list.append(scale)\n",
    "    \n",
    "print(scale_list)"
   ]
  },
  {
   "cell_type": "markdown",
   "id": "7e70fb9c",
   "metadata": {},
   "source": [
    "### MMD Test"
   ]
  },
  {
   "cell_type": "code",
   "execution_count": 12,
   "id": "67ed5d1f",
   "metadata": {},
   "outputs": [
    {
     "data": {
      "application/vnd.jupyter.widget-view+json": {
       "model_id": "3d792958d54942c9a0ff5c241de4da76",
       "version_major": 2,
       "version_minor": 0
      },
      "text/plain": [
       "  0%|          | 0/10 [00:00<?, ?it/s]"
      ]
     },
     "metadata": {},
     "output_type": "display_data"
    },
    {
     "name": "stdout",
     "output_type": "stream",
     "text": [
      "MMD Loss : 0.0007424592971801758\n"
     ]
    }
   ],
   "source": [
    "from util.mmd_penalty import mmd_penalty\n",
    "\n",
    "opts = {'pz_scale': 1,\n",
    "        'mmd_kernel': 'RBF', # 'IMQ', 'RBF'\n",
    "        'pz': 'normal', # 'normal', 'sphere', 'uniform' \n",
    "        'zdim': hp.z_dim\n",
    "       }\n",
    "\n",
    "mmd_losses = []\n",
    "for z in tqdm(z_list):\n",
    "    prior = model_list[0].prior.sample(len(z), hp.z_dim)\n",
    "    mmd_loss = mmd_penalty(prior, z, opts)\n",
    "    mmd_losses.append(mmd_loss.item())\n",
    "    \n",
    "print('MMD Loss :', np.mean(mmd_losses))    "
   ]
  },
  {
   "cell_type": "code",
   "execution_count": 13,
   "id": "e655eb1c",
   "metadata": {},
   "outputs": [
    {
     "data": {
      "application/vnd.jupyter.widget-view+json": {
       "model_id": "becc840dbbfc430bba246981890cb7de",
       "version_major": 2,
       "version_minor": 0
      },
      "text/plain": [
       "0it [00:00, ?it/s]"
      ]
     },
     "metadata": {},
     "output_type": "display_data"
    },
    {
     "name": "stdout",
     "output_type": "stream",
     "text": [
      "Corrected MMD Loss : 0.013198304176330566\n"
     ]
    }
   ],
   "source": [
    "from util.mmd_penalty import mmd_penalty\n",
    "\n",
    "opts = {'pz_scale': 1,\n",
    "        'mmd_kernel': 'RBF', # 'IMQ', 'RBF'\n",
    "        'pz': 'normal', # 'normal', 'sphere', 'uniform' \n",
    "        'zdim': hp.z_dim\n",
    "       }\n",
    "\n",
    "mmd_losses = []\n",
    "for z, scale in tqdm(zip(z_list, scale_list)):\n",
    "    prior = model_list[0].prior.sample(len(z), hp.z_dim) * scale\n",
    "    mmd_loss = mmd_penalty(prior, z, opts)\n",
    "    mmd_losses.append(mmd_loss.item())\n",
    "    \n",
    "print('Corrected MMD Loss :', np.mean(mmd_losses))    "
   ]
  },
  {
   "cell_type": "markdown",
   "id": "12cf158b",
   "metadata": {},
   "source": [
    "### Cross NLL Test"
   ]
  },
  {
   "cell_type": "code",
   "execution_count": 15,
   "id": "1d0ef69d",
   "metadata": {},
   "outputs": [
    {
     "data": {
      "application/vnd.jupyter.widget-view+json": {
       "model_id": "26bbb0920b9f426799e04e1349734e62",
       "version_major": 2,
       "version_minor": 0
      },
      "text/plain": [
       "  0%|          | 0/10 [00:00<?, ?it/s]"
      ]
     },
     "metadata": {},
     "output_type": "display_data"
    },
    {
     "name": "stdout",
     "output_type": "stream",
     "text": [
      "Cross NLL : -46.56725227355957\n"
     ]
    }
   ],
   "source": [
    "from util.loglikelihood import get_optimum_log_sigma, get_cross_nll\n",
    "\n",
    "cross_nll_list = []\n",
    "for _ in tqdm(range(10)):\n",
    "    cross_nlls = []\n",
    "    for z, model in zip(z_list, model_list):\n",
    "        p_samples1 = model.prior.sample(len(z), hp.z_dim)\n",
    "        p_samples2 = model.prior.sample(len(z), hp.z_dim)\n",
    "        log_sigma = get_optimum_log_sigma(p_samples1, p_samples2, min_log_sigma=-5, max_log_sigma=5)\n",
    "        p_samples1 = model.prior.sample(len(z), hp.z_dim)\n",
    "        cross_nll = get_cross_nll(p_samples1, z, log_sigma)\n",
    "        cross_nlls.append(cross_nll)\n",
    "    cross_nll = np.mean(cross_nlls)\n",
    "    cross_nll_list.append(cross_nll)\n",
    "    \n",
    "print('Cross NLL :', np.mean(cross_nll_list))"
   ]
  },
  {
   "cell_type": "code",
   "execution_count": 16,
   "id": "dae19be9",
   "metadata": {},
   "outputs": [
    {
     "data": {
      "application/vnd.jupyter.widget-view+json": {
       "model_id": "c109842d293a42b99027ca8d6a7ac70a",
       "version_major": 2,
       "version_minor": 0
      },
      "text/plain": [
       "  0%|          | 0/10 [00:00<?, ?it/s]"
      ]
     },
     "metadata": {},
     "output_type": "display_data"
    },
    {
     "name": "stdout",
     "output_type": "stream",
     "text": [
      "Corrected Cross NLL : 31.84637582778931\n"
     ]
    }
   ],
   "source": [
    "from util.loglikelihood import get_optimum_log_sigma, get_cross_nll\n",
    "\n",
    "cross_nll_list = []\n",
    "for _ in tqdm(range(10)):\n",
    "    cross_nlls = []\n",
    "    for z, model, scale in zip(z_list, model_list, scale_list):\n",
    "        p_samples1 = model.prior.sample(len(z), hp.z_dim) * scale\n",
    "        p_samples2 = model.prior.sample(len(z), hp.z_dim) * scale\n",
    "        log_sigma = get_optimum_log_sigma(p_samples1, p_samples2, min_log_sigma=-5, max_log_sigma=5)\n",
    "        p_samples1 = model.prior.sample(len(z), hp.z_dim) * scale\n",
    "        cross_nll = get_cross_nll(p_samples1, z, log_sigma)\n",
    "        cross_nlls.append(cross_nll)\n",
    "    cross_nll = np.mean(cross_nlls)\n",
    "    cross_nll_list.append(cross_nll)\n",
    "    \n",
    "print('Corrected Cross NLL :', np.mean(cross_nll_list))"
   ]
  },
  {
   "cell_type": "code",
   "execution_count": null,
   "id": "86c3a766",
   "metadata": {},
   "outputs": [],
   "source": []
  },
  {
   "cell_type": "code",
   "execution_count": null,
   "id": "414a6556",
   "metadata": {},
   "outputs": [],
   "source": []
  }
 ],
 "metadata": {
  "kernelspec": {
   "display_name": "Python 3 (ipykernel)",
   "language": "python",
   "name": "python3"
  },
  "language_info": {
   "codemirror_mode": {
    "name": "ipython",
    "version": 3
   },
   "file_extension": ".py",
   "mimetype": "text/x-python",
   "name": "python",
   "nbconvert_exporter": "python",
   "pygments_lexer": "ipython3",
   "version": "3.9.15"
  }
 },
 "nbformat": 4,
 "nbformat_minor": 5
}
