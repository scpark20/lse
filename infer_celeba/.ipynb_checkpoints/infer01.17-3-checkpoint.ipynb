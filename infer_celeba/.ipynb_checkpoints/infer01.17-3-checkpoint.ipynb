{
 "cells": [
  {
   "cell_type": "code",
   "execution_count": 1,
   "id": "e998b2b0",
   "metadata": {},
   "outputs": [],
   "source": [
    "import os\n",
    "os.chdir('../')\n",
    "\n",
    "import warnings\n",
    "warnings.filterwarnings('ignore')"
   ]
  },
  {
   "cell_type": "code",
   "execution_count": 2,
   "id": "d7b38c99",
   "metadata": {
    "scrolled": true
   },
   "outputs": [
    {
     "name": "stdout",
     "output_type": "stream",
     "text": [
      "Thu Jan 18 21:57:16 2024       \n",
      "+-----------------------------------------------------------------------------+\n",
      "| NVIDIA-SMI 470.223.02   Driver Version: 470.223.02   CUDA Version: 11.4     |\n",
      "|-------------------------------+----------------------+----------------------+\n",
      "| GPU  Name        Persistence-M| Bus-Id        Disp.A | Volatile Uncorr. ECC |\n",
      "| Fan  Temp  Perf  Pwr:Usage/Cap|         Memory-Usage | GPU-Util  Compute M. |\n",
      "|                               |                      |               MIG M. |\n",
      "|===============================+======================+======================|\n",
      "|   0  NVIDIA A100 80G...  Off  | 00000000:1B:00.0 Off |                    0 |\n",
      "| N/A   33C    P0    65W / 300W |   8433MiB / 80994MiB |      0%      Default |\n",
      "|                               |                      |             Disabled |\n",
      "+-------------------------------+----------------------+----------------------+\n",
      "|   1  NVIDIA A100 80G...  Off  | 00000000:1C:00.0 Off |                    0 |\n",
      "| N/A   56C    P0    77W / 300W |   1035MiB / 80994MiB |      0%      Default |\n",
      "|                               |                      |             Disabled |\n",
      "+-------------------------------+----------------------+----------------------+\n",
      "|   2  NVIDIA A100 80G...  Off  | 00000000:1D:00.0 Off |                    0 |\n",
      "| N/A   55C    P0    78W / 300W |   1025MiB / 80994MiB |      0%      Default |\n",
      "|                               |                      |             Disabled |\n",
      "+-------------------------------+----------------------+----------------------+\n",
      "|   3  NVIDIA A100 80G...  Off  | 00000000:1E:00.0 Off |                    0 |\n",
      "| N/A   34C    P0   123W / 300W |  16828MiB / 80994MiB |     16%      Default |\n",
      "|                               |                      |             Disabled |\n",
      "+-------------------------------+----------------------+----------------------+\n",
      "|   4  NVIDIA A100 80G...  Off  | 00000000:89:00.0 Off |                    0 |\n",
      "| N/A   57C    P0    74W / 300W |   8433MiB / 80994MiB |      0%      Default |\n",
      "|                               |                      |             Disabled |\n",
      "+-------------------------------+----------------------+----------------------+\n",
      "|   5  NVIDIA A100 80G...  Off  | 00000000:8A:00.0 Off |                    0 |\n",
      "| N/A   49C    P0    68W / 300W |  16828MiB / 80994MiB |     10%      Default |\n",
      "|                               |                      |             Disabled |\n",
      "+-------------------------------+----------------------+----------------------+\n",
      "|   6  NVIDIA A100 80G...  Off  | 00000000:8B:00.0 Off |                    0 |\n",
      "| N/A   59C    P0    77W / 300W |   8437MiB / 80994MiB |    100%      Default |\n",
      "|                               |                      |             Disabled |\n",
      "+-------------------------------+----------------------+----------------------+\n",
      "|   7  NVIDIA A100 80G...  Off  | 00000000:8C:00.0 Off |                    0 |\n",
      "| N/A   43C    P0    66W / 300W |   8433MiB / 80994MiB |      9%      Default |\n",
      "|                               |                      |             Disabled |\n",
      "+-------------------------------+----------------------+----------------------+\n",
      "                                                                               \n",
      "+-----------------------------------------------------------------------------+\n",
      "| Processes:                                                                  |\n",
      "|  GPU   GI   CI        PID   Type   Process name                  GPU Memory |\n",
      "|        ID   ID                                                   Usage      |\n",
      "|=============================================================================|\n",
      "|    0   N/A  N/A      2426      G   /usr/lib/xorg/Xorg                 35MiB |\n",
      "|    0   N/A  N/A    538757      C   ...a3/envs/scpark/bin/python     8395MiB |\n",
      "|    1   N/A  N/A      2426      G   /usr/lib/xorg/Xorg                 35MiB |\n",
      "|    1   N/A  N/A    599661      C   ...a3/envs/scpark/bin/python      997MiB |\n",
      "|    2   N/A  N/A      2426      G   /usr/lib/xorg/Xorg                 35MiB |\n",
      "|    2   N/A  N/A    599836      C   ...a3/envs/scpark/bin/python      987MiB |\n",
      "|    3   N/A  N/A      2426      G   /usr/lib/xorg/Xorg                 35MiB |\n",
      "|    3   N/A  N/A    552430      C   ...a3/envs/scpark/bin/python     8395MiB |\n",
      "|    3   N/A  N/A    552478      C   ...a3/envs/scpark/bin/python     8395MiB |\n",
      "|    4   N/A  N/A      2426      G   /usr/lib/xorg/Xorg                 35MiB |\n",
      "|    4   N/A  N/A    552457      C   ...a3/envs/scpark/bin/python     8395MiB |\n",
      "|    5   N/A  N/A      2426      G   /usr/lib/xorg/Xorg                 35MiB |\n",
      "|    5   N/A  N/A    552505      C   ...a3/envs/scpark/bin/python     8395MiB |\n",
      "|    5   N/A  N/A    552664      C   ...a3/envs/scpark/bin/python     8395MiB |\n",
      "|    6   N/A  N/A      2426      G   /usr/lib/xorg/Xorg                 35MiB |\n",
      "|    6   N/A  N/A    520611      C   ...a3/envs/scpark/bin/python     8399MiB |\n",
      "|    7   N/A  N/A      2426      G   /usr/lib/xorg/Xorg                 35MiB |\n",
      "|    7   N/A  N/A    552477      C   ...a3/envs/scpark/bin/python     8395MiB |\n",
      "+-----------------------------------------------------------------------------+\n"
     ]
    }
   ],
   "source": [
    "import torch\n",
    "import torch.nn as nn\n",
    "import torch.nn.functional as F\n",
    "import numpy as np\n",
    "import os\n",
    "\n",
    "!nvidia-smi\n",
    "os.environ[\"CUDA_VISIBLE_DEVICES\"]=\"4\"\n",
    "device = 'cuda:0'"
   ]
  },
  {
   "cell_type": "markdown",
   "id": "df8b63cd",
   "metadata": {},
   "source": [
    "### Model Parts"
   ]
  },
  {
   "cell_type": "code",
   "execution_count": 3,
   "id": "90c6bda2",
   "metadata": {},
   "outputs": [],
   "source": [
    "from model.main.enc_prior_latent_dec import Model\n",
    "from model.encoder.conv2d_encoder import Encoder\n",
    "from model.prior.normal_prior import Prior\n",
    "from model.latent.mmd_latent import Latent\n",
    "from model.decoder.conv2d_decoder import Decoder\n",
    "\n",
    "from tensorboardX import SummaryWriter\n",
    "from util.util import *"
   ]
  },
  {
   "cell_type": "markdown",
   "id": "89871daf",
   "metadata": {},
   "source": [
    "### Model Init."
   ]
  },
  {
   "cell_type": "code",
   "execution_count": 4,
   "id": "4a3a31a8",
   "metadata": {},
   "outputs": [],
   "source": [
    "from easydict import EasyDict\n",
    "hp = EasyDict()\n",
    "hp.size = 64\n",
    "hp.in_dim = 3\n",
    "hp.out_dim = 3\n",
    "hp.z_dim = 128\n",
    "hp.h_dims = [32, 64, 128, 256, 512]\n",
    "hp.activation = F.sigmoid\n",
    "hp.opts = {'pz_scale': 1,\n",
    "           'mmd_kernel': 'IMQ', # 'IMQ', 'RBF'\n",
    "            'pz': 'normal', # 'normal', 'sphere', 'uniform'\n",
    "            'zdim': hp.z_dim\n",
    "           }"
   ]
  },
  {
   "cell_type": "code",
   "execution_count": 5,
   "id": "3b10f353",
   "metadata": {},
   "outputs": [
    {
     "name": "stdout",
     "output_type": "stream",
     "text": [
      "done\n"
     ]
    }
   ],
   "source": [
    "model_list = []\n",
    "for i in range(10):\n",
    "    model = Model(Encoder(**hp), Prior(**hp), Latent(**hp), Decoder(**hp))\n",
    "    model = model.to(device)\n",
    "    model.eval()\n",
    "    model_list.append(model)\n",
    "    \n",
    "print('done')"
   ]
  },
  {
   "cell_type": "markdown",
   "id": "d6b40d8e",
   "metadata": {},
   "source": [
    "### Dataset"
   ]
  },
  {
   "cell_type": "code",
   "execution_count": 6,
   "id": "c55fc894",
   "metadata": {},
   "outputs": [
    {
     "name": "stdout",
     "output_type": "stream",
     "text": [
      "done\n"
     ]
    }
   ],
   "source": [
    "from torch.utils.data import DataLoader\n",
    "from torchvision import transforms\n",
    "from torchvision.datasets import CelebA\n",
    "\n",
    "class MyCelebA(CelebA):\n",
    "    \"\"\"\n",
    "    A work-around to address issues with pytorch's celebA dataset class.\n",
    "    \n",
    "    Download and Extract\n",
    "    URL : https://drive.google.com/file/d/1m8-EBPgi5MRubrm6iQjafK2QMHDBMSfJ/view?usp=sharing\n",
    "    \"\"\"\n",
    "    \n",
    "    def _check_integrity(self) -> bool:\n",
    "        return True\n",
    "\n",
    "root = '/data'\n",
    "test_transforms = transforms.Compose([transforms.CenterCrop(148),\n",
    "                                      transforms.Resize(hp.size),\n",
    "                                      transforms.ToTensor(),])\n",
    "test_dataset = MyCelebA(root, split='test', transform=test_transforms, download=False)\n",
    "test_loader = DataLoader(test_dataset, batch_size=10000, shuffle=False)\n",
    "print('done')"
   ]
  },
  {
   "cell_type": "code",
   "execution_count": 7,
   "id": "8b9f6240",
   "metadata": {},
   "outputs": [
    {
     "name": "stdout",
     "output_type": "stream",
     "text": [
      "dict_keys(['x', 't'])\n"
     ]
    }
   ],
   "source": [
    "def preprocess(batch):\n",
    "    x, t = batch\n",
    "    data = {}\n",
    "    data['x'] = x.to(device)\n",
    "    data['t'] = t.to(device)\n",
    "    return data\n",
    "\n",
    "batch = next(iter(test_loader))\n",
    "data = preprocess(batch)\n",
    "print(data.keys())"
   ]
  },
  {
   "cell_type": "markdown",
   "id": "0ed481e4",
   "metadata": {},
   "source": [
    "### Load"
   ]
  },
  {
   "cell_type": "code",
   "execution_count": 8,
   "id": "444d37f5",
   "metadata": {},
   "outputs": [
    {
     "data": {
      "application/vnd.jupyter.widget-view+json": {
       "model_id": "db111e31ec2a4b7599827860c1b643f6",
       "version_major": 2,
       "version_minor": 0
      },
      "text/plain": [
       "0it [00:00, ?it/s]"
      ]
     },
     "metadata": {},
     "output_type": "display_data"
    }
   ],
   "source": [
    "from tqdm import tqdm_notebook as tqdm\n",
    "\n",
    "save_path = '/data/scpark/save/lse/train_celeba/train01.17-3/save_200000'\n",
    "\n",
    "# warm start\n",
    "models_state_dict = torch.load(save_path, map_location=torch.device('cpu'))['models_state_dict']\n",
    "for i, model in tqdm(enumerate(model_list)):\n",
    "    model.load_state_dict(models_state_dict[i], strict=True)"
   ]
  },
  {
   "cell_type": "markdown",
   "id": "2b13d661",
   "metadata": {},
   "source": [
    "### Reconstruction Loss"
   ]
  },
  {
   "cell_type": "code",
   "execution_count": 9,
   "id": "1bc19b24",
   "metadata": {},
   "outputs": [
    {
     "data": {
      "application/vnd.jupyter.widget-view+json": {
       "model_id": "22a033ad27ea47118503e6bc6319cb9a",
       "version_major": 2,
       "version_minor": 0
      },
      "text/plain": [
       "  0%|          | 0/10 [00:00<?, ?it/s]"
      ]
     },
     "metadata": {},
     "output_type": "display_data"
    },
    {
     "name": "stdout",
     "output_type": "stream",
     "text": [
      "Reconstruction Loss : 0.005149052850902081\n"
     ]
    }
   ],
   "source": [
    "z_list = []\n",
    "recon_loss_list = []\n",
    "for model in tqdm(model_list):\n",
    "    with torch.no_grad():\n",
    "        data = model(data, M=1)\n",
    "        z_list.append(data['z'])\n",
    "        recon_loss_list.append(data['recon_loss'].item())\n",
    "        \n",
    "print('Reconstruction Loss :', np.mean(recon_loss_list))"
   ]
  },
  {
   "cell_type": "markdown",
   "id": "81901766",
   "metadata": {},
   "source": [
    "### Get Scale"
   ]
  },
  {
   "cell_type": "code",
   "execution_count": 10,
   "id": "dbd90b1c",
   "metadata": {},
   "outputs": [
    {
     "name": "stdout",
     "output_type": "stream",
     "text": [
      "[tensor([1.0104, 0.9947, 1.0068, 1.0042, 1.0190, 0.9891, 1.0047, 0.9822, 1.0136,\n",
      "        0.9970, 1.0094, 1.0129, 1.0228, 0.9911, 1.0169, 0.9928, 1.0032, 1.0241,\n",
      "        1.0259, 0.9939, 1.0301, 1.0086, 0.9857, 0.9859, 1.0025, 0.9890, 0.9874,\n",
      "        1.0045, 1.0076, 0.9998, 1.0142, 0.9968, 1.0246, 1.0138, 1.0193, 1.0155,\n",
      "        0.9972, 0.9952, 1.0061, 0.9956, 1.0300, 1.0124, 1.0090, 1.0003, 1.0031,\n",
      "        1.0156, 1.0193, 1.0094, 0.9923, 1.0110, 0.9946, 1.0020, 1.0072, 1.0061,\n",
      "        0.9932, 1.0104, 1.0042, 1.0055, 1.0262, 1.0018, 1.0087, 1.0048, 1.0108,\n",
      "        1.0033, 0.9853, 1.0039, 0.9889, 1.0126, 0.9858, 1.0125, 1.0067, 0.9789,\n",
      "        0.9958, 1.0108, 0.9860, 1.0299, 1.0263, 1.0136, 1.0083, 0.9905, 1.0047,\n",
      "        1.0054, 0.9986, 1.0213, 0.9788, 1.0350, 1.0064, 1.0167, 1.0090, 0.9885,\n",
      "        0.9987, 1.0080, 1.0027, 0.9971, 1.0044, 1.0016, 1.0231, 0.9937, 1.0004,\n",
      "        1.0120, 0.9966, 0.9812, 0.9858, 1.0095, 1.0044, 1.0013, 0.9988, 0.9904,\n",
      "        0.9969, 1.0144, 1.0231, 1.0082, 1.0156, 1.0013, 1.0221, 1.0051, 1.0008,\n",
      "        0.9942, 1.0111, 1.0091, 0.9908, 0.9960, 1.0002, 1.0133, 1.0012, 0.9885,\n",
      "        0.9904, 1.0020], device='cuda:0'), tensor([1.0360, 1.0028, 1.0306, 1.0118, 0.9958, 1.0080, 1.0287, 1.0304, 1.0007,\n",
      "        0.9948, 1.0206, 0.9974, 1.0081, 1.0339, 1.0303, 1.0152, 1.0234, 1.0143,\n",
      "        0.9981, 1.0397, 1.0133, 1.0225, 1.0233, 1.0019, 1.0093, 1.0261, 1.0046,\n",
      "        0.9984, 1.0088, 1.0084, 0.9964, 0.9993, 1.0047, 0.9910, 1.0295, 1.0001,\n",
      "        1.0123, 1.0252, 1.0182, 1.0135, 1.0208, 0.9971, 1.0323, 1.0098, 1.0414,\n",
      "        1.0289, 1.0248, 1.0180, 1.0253, 1.0196, 1.0141, 1.0423, 1.0111, 1.0235,\n",
      "        1.0113, 1.0215, 1.0262, 0.9983, 1.0104, 1.0219, 1.0184, 1.0216, 1.0204,\n",
      "        1.0041, 1.0156, 0.9990, 1.0054, 0.9877, 0.9906, 0.9978, 1.0410, 1.0151,\n",
      "        1.0300, 1.0194, 1.0074, 0.9956, 1.0337, 1.0197, 0.9991, 0.9883, 1.0148,\n",
      "        1.0133, 1.0292, 1.0243, 1.0051, 1.0288, 1.0283, 1.0066, 1.0150, 1.0263,\n",
      "        1.0238, 0.9992, 1.0273, 1.0010, 1.0235, 1.0078, 0.9947, 1.0287, 1.0186,\n",
      "        1.0147, 1.0068, 1.0275, 1.0297, 1.0115, 1.0077, 1.0013, 1.0147, 1.0085,\n",
      "        1.0472, 1.0229, 1.0355, 1.0119, 1.0300, 1.0014, 1.0210, 1.0101, 1.0146,\n",
      "        1.0323, 1.0136, 1.0289, 1.0099, 0.9934, 1.0305, 1.0140, 1.0225, 1.0156,\n",
      "        1.0002, 1.0269], device='cuda:0'), tensor([1.0211, 1.0332, 1.0199, 1.0235, 1.0146, 1.0150, 1.0152, 1.0073, 1.0277,\n",
      "        1.0027, 1.0179, 1.0243, 1.0153, 1.0119, 1.0059, 1.0308, 1.0250, 1.0123,\n",
      "        1.0148, 1.0182, 1.0243, 1.0174, 1.0244, 1.0141, 1.0255, 1.0198, 1.0191,\n",
      "        1.0140, 1.0217, 0.9997, 1.0103, 0.9932, 1.0108, 1.0110, 1.0389, 1.0167,\n",
      "        1.0189, 1.0259, 1.0216, 1.0195, 0.9959, 1.0135, 1.0324, 1.0359, 1.0237,\n",
      "        1.0225, 1.0283, 1.0233, 1.0125, 0.9911, 1.0133, 1.0034, 1.0082, 1.0268,\n",
      "        1.0107, 1.0015, 1.0128, 1.0134, 1.0208, 1.0011, 1.0232, 1.0068, 1.0109,\n",
      "        1.0306, 1.0116, 1.0290, 1.0169, 1.0170, 1.0131, 1.0137, 1.0037, 1.0280,\n",
      "        1.0065, 1.0042, 1.0303, 1.0012, 1.0132, 1.0018, 1.0131, 1.0032, 1.0292,\n",
      "        1.0045, 1.0112, 1.0160, 1.0128, 0.9910, 1.0156, 1.0146, 1.0194, 1.0160,\n",
      "        1.0193, 1.0205, 1.0326, 1.0132, 1.0163, 1.0210, 1.0345, 1.0217, 1.0136,\n",
      "        1.0099, 1.0139, 1.0131, 1.0187, 1.0259, 1.0093, 1.0117, 1.0143, 1.0104,\n",
      "        1.0005, 0.9833, 1.0279, 1.0324, 1.0041, 1.0232, 1.0280, 1.0170, 1.0159,\n",
      "        1.0240, 1.0235, 0.9966, 0.9988, 1.0102, 1.0108, 0.9961, 1.0123, 1.0084,\n",
      "        1.0087, 1.0292], device='cuda:0'), tensor([1.0264, 1.0155, 1.0092, 1.0129, 1.0192, 1.0307, 1.0221, 1.0265, 1.0221,\n",
      "        1.0135, 1.0157, 1.0226, 1.0212, 1.0175, 1.0078, 1.0119, 1.0098, 1.0168,\n",
      "        1.0225, 1.0222, 1.0074, 1.0276, 1.0236, 1.0190, 1.0082, 1.0203, 1.0090,\n",
      "        1.0223, 1.0182, 1.0225, 1.0029, 1.0010, 1.0139, 1.0204, 1.0140, 1.0159,\n",
      "        1.0179, 1.0333, 1.0009, 1.0256, 1.0193, 1.0120, 1.0141, 1.0289, 1.0035,\n",
      "        0.9919, 1.0147, 1.0374, 1.0223, 1.0272, 1.0149, 1.0103, 1.0338, 1.0223,\n",
      "        1.0142, 1.0120, 1.0140, 1.0120, 1.0174, 1.0224, 1.0199, 1.0108, 1.0025,\n",
      "        1.0187, 1.0110, 1.0136, 1.0227, 1.0323, 1.0221, 1.0169, 1.0270, 1.0226,\n",
      "        0.9956, 1.0304, 1.0240, 1.0203, 1.0173, 0.9959, 1.0294, 1.0235, 1.0283,\n",
      "        1.0178, 0.9941, 1.0113, 1.0307, 1.0195, 1.0247, 1.0073, 1.0284, 1.0338,\n",
      "        1.0207, 1.0203, 1.0418, 1.0090, 1.0048, 1.0143, 1.0188, 1.0064, 1.0069,\n",
      "        1.0089, 1.0063, 1.0148, 1.0020, 1.0266, 1.0161, 1.0236, 1.0057, 1.0182,\n",
      "        1.0189, 1.0327, 1.0256, 1.0106, 1.0225, 1.0163, 1.0427, 1.0032, 1.0211,\n",
      "        1.0298, 1.0129, 1.0048, 1.0094, 0.9947, 1.0091, 1.0082, 1.0241, 1.0112,\n",
      "        1.0151, 0.9900], device='cuda:0'), tensor([1.0088, 1.0083, 1.0136, 1.0000, 1.0201, 1.0187, 1.0020, 1.0210, 1.0176,\n",
      "        0.9979, 1.0287, 1.0085, 1.0117, 1.0153, 1.0039, 0.9816, 1.0004, 1.0152,\n",
      "        0.9951, 0.9957, 1.0225, 1.0030, 0.9998, 0.9962, 1.0165, 1.0032, 1.0084,\n",
      "        1.0178, 1.0208, 1.0101, 1.0159, 1.0109, 1.0147, 1.0068, 1.0020, 1.0138,\n",
      "        1.0281, 1.0144, 1.0034, 1.0245, 1.0078, 0.9974, 1.0146, 1.0206, 1.0041,\n",
      "        1.0304, 1.0075, 1.0138, 1.0119, 1.0175, 1.0066, 0.9873, 1.0009, 1.0039,\n",
      "        0.9848, 1.0379, 0.9941, 1.0030, 0.9926, 1.0138, 1.0213, 1.0247, 1.0118,\n",
      "        1.0234, 1.0216, 1.0115, 1.0068, 1.0098, 1.0076, 1.0095, 1.0088, 1.0194,\n",
      "        0.9874, 0.9955, 1.0163, 0.9909, 0.9962, 1.0092, 1.0126, 1.0146, 1.0130,\n",
      "        1.0213, 1.0024, 1.0301, 1.0134, 1.0127, 1.0062, 1.0064, 0.9968, 1.0010,\n",
      "        1.0011, 1.0168, 1.0186, 1.0127, 0.9947, 1.0211, 1.0282, 1.0009, 1.0149,\n",
      "        1.0109, 1.0147, 1.0031, 1.0188, 1.0001, 1.0114, 1.0197, 0.9966, 1.0102,\n",
      "        1.0226, 1.0250, 1.0098, 1.0123, 1.0403, 1.0118, 1.0078, 1.0205, 1.0095,\n",
      "        0.9892, 1.0033, 0.9941, 1.0067, 1.0106, 1.0058, 1.0099, 1.0033, 0.9982,\n",
      "        1.0137, 1.0070], device='cuda:0'), tensor([1.0125, 1.0327, 1.0023, 0.9949, 1.0157, 1.0262, 0.9977, 1.0069, 1.0195,\n",
      "        1.0123, 1.0241, 1.0090, 1.0110, 1.0200, 1.0118, 1.0216, 1.0113, 1.0252,\n",
      "        1.0247, 1.0241, 0.9982, 1.0092, 0.9971, 1.0050, 1.0084, 1.0001, 1.0194,\n",
      "        1.0110, 1.0111, 0.9944, 1.0165, 1.0074, 1.0054, 0.9924, 1.0174, 1.0184,\n",
      "        1.0153, 1.0154, 1.0125, 1.0107, 1.0196, 0.9981, 1.0093, 0.9969, 1.0069,\n",
      "        0.9923, 1.0138, 0.9976, 1.0308, 1.0251, 1.0353, 1.0188, 0.9980, 1.0064,\n",
      "        1.0044, 1.0152, 1.0140, 1.0365, 1.0126, 1.0029, 1.0157, 1.0218, 1.0114,\n",
      "        1.0234, 1.0079, 1.0018, 1.0175, 1.0235, 1.0157, 1.0061, 1.0066, 1.0013,\n",
      "        0.9986, 0.9929, 1.0086, 0.9951, 1.0062, 1.0247, 1.0116, 1.0114, 1.0192,\n",
      "        1.0121, 1.0148, 1.0212, 1.0070, 1.0060, 1.0169, 0.9940, 1.0090, 1.0129,\n",
      "        1.0166, 1.0079, 1.0140, 0.9834, 1.0067, 1.0037, 1.0142, 1.0106, 1.0063,\n",
      "        0.9968, 1.0135, 0.9969, 1.0001, 1.0025, 1.0069, 1.0050, 1.0032, 1.0166,\n",
      "        1.0051, 1.0259, 1.0119, 0.9988, 1.0147, 1.0027, 1.0159, 1.0062, 1.0180,\n",
      "        1.0015, 1.0115, 1.0054, 1.0133, 1.0162, 1.0085, 1.0118, 1.0098, 0.9983,\n",
      "        1.0193, 1.0319], device='cuda:0'), tensor([1.0120, 1.0100, 1.0175, 1.0387, 1.0060, 1.0327, 1.0081, 1.0011, 1.0070,\n",
      "        1.0159, 1.0229, 1.0123, 1.0260, 0.9972, 1.0030, 1.0183, 1.0053, 1.0003,\n",
      "        1.0314, 1.0206, 1.0353, 1.0299, 1.0172, 1.0218, 1.0310, 1.0109, 1.0205,\n",
      "        1.0192, 1.0238, 1.0124, 1.0264, 1.0039, 0.9964, 1.0127, 0.9991, 1.0186,\n",
      "        1.0074, 1.0111, 0.9985, 0.9996, 1.0227, 0.9992, 1.0076, 1.0256, 1.0369,\n",
      "        1.0050, 1.0351, 1.0232, 1.0148, 1.0266, 1.0064, 1.0398, 1.0351, 1.0248,\n",
      "        1.0314, 1.0155, 1.0193, 1.0076, 1.0178, 1.0171, 1.0050, 1.0128, 1.0056,\n",
      "        1.0121, 1.0148, 1.0072, 1.0122, 1.0094, 1.0072, 1.0135, 1.0221, 1.0047,\n",
      "        1.0151, 1.0144, 1.0100, 0.9974, 1.0260, 1.0021, 1.0247, 1.0076, 1.0147,\n",
      "        1.0370, 1.0359, 1.0161, 1.0019, 1.0095, 1.0245, 1.0328, 1.0224, 1.0127,\n",
      "        1.0516, 1.0099, 1.0133, 1.0036, 0.9975, 1.0068, 1.0134, 1.0238, 1.0157,\n",
      "        1.0267, 1.0316, 1.0194, 1.0341, 1.0174, 1.0216, 1.0250, 1.0183, 1.0075,\n",
      "        1.0191, 1.0188, 1.0277, 1.0135, 1.0048, 1.0277, 1.0209, 1.0216, 1.0190,\n",
      "        1.0052, 1.0175, 1.0084, 1.0127, 1.0286, 1.0072, 1.0263, 1.0174, 1.0223,\n",
      "        1.0070, 1.0114], device='cuda:0'), tensor([1.0230, 1.0243, 1.0159, 1.0085, 0.9994, 1.0079, 1.0149, 1.0111, 1.0235,\n",
      "        1.0191, 1.0276, 1.0224, 1.0379, 1.0188, 1.0183, 1.0153, 1.0037, 1.0091,\n",
      "        1.0199, 1.0077, 0.9985, 1.0344, 1.0303, 1.0152, 1.0211, 1.0171, 1.0101,\n",
      "        1.0108, 1.0009, 1.0184, 1.0158, 1.0303, 0.9999, 1.0145, 1.0298, 1.0119,\n",
      "        1.0035, 1.0059, 0.9979, 1.0255, 1.0473, 1.0146, 0.9989, 1.0239, 1.0144,\n",
      "        1.0071, 1.0288, 1.0200, 1.0197, 1.0140, 1.0023, 1.0074, 1.0126, 1.0096,\n",
      "        1.0203, 1.0332, 1.0198, 1.0200, 1.0015, 1.0282, 1.0181, 1.0219, 1.0093,\n",
      "        1.0371, 1.0054, 1.0112, 1.0217, 1.0202, 1.0012, 1.0380, 1.0310, 1.0069,\n",
      "        1.0164, 1.0232, 1.0147, 1.0235, 0.9958, 1.0266, 1.0053, 1.0038, 1.0139,\n",
      "        1.0251, 1.0116, 1.0155, 0.9957, 1.0076, 1.0108, 1.0305, 1.0249, 1.0115,\n",
      "        1.0269, 1.0102, 1.0158, 1.0386, 1.0097, 1.0182, 1.0042, 0.9960, 1.0120,\n",
      "        1.0116, 0.9936, 1.0286, 1.0252, 1.0219, 1.0220, 1.0259, 1.0040, 1.0046,\n",
      "        1.0129, 1.0077, 1.0016, 0.9948, 0.9972, 1.0094, 1.0110, 1.0200, 1.0213,\n",
      "        1.0073, 1.0165, 1.0240, 1.0117, 1.0134, 1.0182, 1.0128, 1.0031, 1.0290,\n",
      "        1.0287, 0.9894], device='cuda:0'), tensor([1.0130, 1.0093, 0.9958, 1.0068, 1.0030, 1.0137, 1.0035, 1.0175, 1.0110,\n",
      "        1.0106, 1.0139, 0.9999, 1.0104, 1.0144, 1.0183, 0.9814, 1.0086, 1.0058,\n",
      "        0.9949, 0.9859, 1.0194, 0.9855, 1.0125, 1.0110, 0.9988, 1.0031, 1.0226,\n",
      "        1.0129, 0.9920, 1.0142, 0.9896, 1.0064, 1.0044, 1.0276, 1.0170, 1.0122,\n",
      "        0.9930, 1.0036, 0.9990, 1.0243, 1.0038, 0.9998, 1.0131, 1.0143, 1.0049,\n",
      "        1.0100, 1.0122, 1.0046, 1.0216, 1.0291, 1.0226, 1.0120, 1.0192, 1.0100,\n",
      "        0.9981, 1.0201, 1.0065, 1.0205, 1.0113, 1.0210, 1.0202, 1.0012, 1.0013,\n",
      "        0.9909, 1.0176, 1.0083, 1.0240, 1.0130, 1.0252, 1.0078, 0.9950, 1.0188,\n",
      "        1.0085, 0.9953, 1.0354, 0.9997, 1.0026, 0.9915, 1.0122, 1.0006, 1.0092,\n",
      "        1.0180, 1.0102, 1.0090, 0.9979, 1.0164, 1.0086, 1.0463, 1.0155, 0.9985,\n",
      "        1.0102, 1.0117, 0.9920, 1.0171, 1.0065, 0.9947, 1.0188, 1.0005, 1.0079,\n",
      "        0.9937, 0.9930, 0.9880, 1.0125, 1.0191, 1.0103, 1.0188, 1.0092, 1.0090,\n",
      "        1.0013, 1.0324, 1.0174, 1.0163, 1.0219, 1.0043, 1.0171, 1.0136, 0.9834,\n",
      "        0.9998, 1.0212, 1.0168, 1.0214, 0.9949, 1.0214, 1.0080, 0.9920, 1.0234,\n",
      "        1.0020, 0.9950], device='cuda:0'), tensor([0.9932, 1.0105, 1.0304, 1.0112, 1.0158, 1.0187, 1.0008, 1.0058, 1.0322,\n",
      "        1.0046, 1.0127, 1.0285, 1.0244, 1.0220, 1.0296, 1.0177, 1.0231, 1.0154,\n",
      "        1.0222, 1.0179, 1.0100, 1.0025, 1.0119, 1.0127, 1.0008, 1.0180, 1.0211,\n",
      "        1.0150, 1.0012, 1.0204, 0.9986, 1.0035, 1.0223, 1.0136, 1.0137, 1.0202,\n",
      "        0.9890, 1.0244, 1.0027, 1.0082, 1.0380, 1.0044, 0.9967, 1.0239, 1.0228,\n",
      "        1.0174, 1.0101, 1.0159, 0.9997, 1.0043, 1.0302, 1.0038, 1.0222, 1.0142,\n",
      "        1.0094, 1.0126, 1.0095, 1.0082, 1.0210, 1.0117, 1.0107, 1.0191, 1.0200,\n",
      "        1.0046, 1.0290, 1.0361, 1.0032, 1.0290, 0.9993, 1.0234, 1.0187, 1.0028,\n",
      "        1.0101, 1.0153, 1.0102, 1.0117, 1.0125, 0.9917, 1.0186, 1.0065, 1.0134,\n",
      "        1.0099, 1.0114, 1.0211, 1.0233, 1.0300, 1.0166, 1.0032, 1.0068, 1.0107,\n",
      "        1.0131, 1.0149, 1.0043, 0.9965, 1.0116, 1.0144, 1.0350, 1.0061, 1.0161,\n",
      "        1.0214, 1.0053, 1.0187, 1.0217, 1.0105, 1.0107, 1.0120, 1.0190, 1.0340,\n",
      "        1.0288, 1.0005, 1.0055, 1.0262, 1.0284, 1.0239, 1.0221, 1.0301, 1.0097,\n",
      "        1.0183, 1.0007, 0.9915, 1.0220, 1.0051, 1.0221, 1.0197, 1.0101, 1.0070,\n",
      "        1.0033, 1.0183], device='cuda:0')]\n"
     ]
    }
   ],
   "source": [
    "scale_list = []\n",
    "for z in z_list:\n",
    "    scale = z.std(dim=0)\n",
    "    scale_list.append(scale)\n",
    "    \n",
    "print(scale_list)"
   ]
  },
  {
   "cell_type": "markdown",
   "id": "7e70fb9c",
   "metadata": {},
   "source": [
    "### MMD Test"
   ]
  },
  {
   "cell_type": "code",
   "execution_count": 11,
   "id": "67ed5d1f",
   "metadata": {},
   "outputs": [
    {
     "data": {
      "application/vnd.jupyter.widget-view+json": {
       "model_id": "6ff0524731124c98866357074c84f1ac",
       "version_major": 2,
       "version_minor": 0
      },
      "text/plain": [
       "  0%|          | 0/10 [00:00<?, ?it/s]"
      ]
     },
     "metadata": {},
     "output_type": "display_data"
    },
    {
     "name": "stdout",
     "output_type": "stream",
     "text": [
      "MMD Loss : 0.0004493951797485352\n"
     ]
    }
   ],
   "source": [
    "from util.mmd_penalty import mmd_penalty\n",
    "\n",
    "opts = {'pz_scale': 1,\n",
    "        'mmd_kernel': 'RBF', # 'IMQ', 'RBF'\n",
    "        'pz': 'normal', # 'normal', 'sphere', 'uniform' \n",
    "        'zdim': hp.z_dim\n",
    "       }\n",
    "\n",
    "mmd_losses = []\n",
    "for z in tqdm(z_list):\n",
    "    prior = model_list[0].prior.sample(len(z), hp.z_dim)\n",
    "    mmd_loss = mmd_penalty(prior, z, opts)\n",
    "    mmd_losses.append(mmd_loss.item())\n",
    "    \n",
    "print('MMD Loss :', np.mean(mmd_losses))    "
   ]
  },
  {
   "cell_type": "code",
   "execution_count": 12,
   "id": "e655eb1c",
   "metadata": {},
   "outputs": [
    {
     "data": {
      "application/vnd.jupyter.widget-view+json": {
       "model_id": "c314ddfbe624480aafd571775e7dc24b",
       "version_major": 2,
       "version_minor": 0
      },
      "text/plain": [
       "0it [00:00, ?it/s]"
      ]
     },
     "metadata": {},
     "output_type": "display_data"
    },
    {
     "name": "stdout",
     "output_type": "stream",
     "text": [
      "Corrected MMD Loss : 0.0004256129264831543\n"
     ]
    }
   ],
   "source": [
    "from util.mmd_penalty import mmd_penalty\n",
    "\n",
    "opts = {'pz_scale': 1,\n",
    "        'mmd_kernel': 'RBF', # 'IMQ', 'RBF'\n",
    "        'pz': 'normal', # 'normal', 'sphere', 'uniform' \n",
    "        'zdim': hp.z_dim\n",
    "       }\n",
    "\n",
    "mmd_losses = []\n",
    "for z, scale in tqdm(zip(z_list, scale_list)):\n",
    "    prior = model_list[0].prior.sample(len(z), hp.z_dim) * scale\n",
    "    mmd_loss = mmd_penalty(prior, z, opts)\n",
    "    mmd_losses.append(mmd_loss.item())\n",
    "    \n",
    "print('Corrected MMD Loss :', np.mean(mmd_losses))    "
   ]
  },
  {
   "cell_type": "markdown",
   "id": "12cf158b",
   "metadata": {},
   "source": [
    "### Cross NLL Test"
   ]
  },
  {
   "cell_type": "code",
   "execution_count": null,
   "id": "1d0ef69d",
   "metadata": {},
   "outputs": [
    {
     "data": {
      "application/vnd.jupyter.widget-view+json": {
       "model_id": "d6b65068a6ef4ae2b2169d6ad979bc9c",
       "version_major": 2,
       "version_minor": 0
      },
      "text/plain": [
       "  0%|          | 0/10 [00:00<?, ?it/s]"
      ]
     },
     "metadata": {},
     "output_type": "display_data"
    }
   ],
   "source": [
    "from util.loglikelihood import get_optimum_log_sigma, get_cross_nll\n",
    "\n",
    "cross_nll_list = []\n",
    "for _ in tqdm(range(10)):\n",
    "    cross_nlls = []\n",
    "    for z, model in zip(z_list, model_list):\n",
    "        p_samples1 = model.prior.sample(len(z), hp.z_dim)\n",
    "        p_samples2 = model.prior.sample(len(z), hp.z_dim)\n",
    "        log_sigma = get_optimum_log_sigma(p_samples1, p_samples2, min_log_sigma=-5, max_log_sigma=5)\n",
    "        p_samples1 = model.prior.sample(len(z), hp.z_dim)\n",
    "        cross_nll = get_cross_nll(p_samples1, z, log_sigma)\n",
    "        cross_nlls.append(cross_nll)\n",
    "    cross_nll = np.mean(cross_nlls)\n",
    "    cross_nll_list.append(cross_nll)\n",
    "    \n",
    "print('Cross NLL :', np.mean(cross_nll_list))"
   ]
  },
  {
   "cell_type": "code",
   "execution_count": null,
   "id": "dae19be9",
   "metadata": {},
   "outputs": [],
   "source": [
    "from util.loglikelihood import get_optimum_log_sigma, get_cross_nll\n",
    "\n",
    "cross_nll_list = []\n",
    "for _ in tqdm(range(10)):\n",
    "    cross_nlls = []\n",
    "    for z, model, scale in zip(z_list, model_list, scale_list):\n",
    "        p_samples1 = model.prior.sample(len(z), hp.z_dim) * scale\n",
    "        p_samples2 = model.prior.sample(len(z), hp.z_dim) * scale\n",
    "        log_sigma = get_optimum_log_sigma(p_samples1, p_samples2, min_log_sigma=-5, max_log_sigma=5)\n",
    "        p_samples1 = model.prior.sample(len(z), hp.z_dim) * scale\n",
    "        cross_nll = get_cross_nll(p_samples1, z, log_sigma)\n",
    "        cross_nlls.append(cross_nll)\n",
    "    cross_nll = np.mean(cross_nlls)\n",
    "    cross_nll_list.append(cross_nll)\n",
    "    \n",
    "print('Corrected Cross NLL :', np.mean(cross_nll_list))"
   ]
  },
  {
   "cell_type": "code",
   "execution_count": null,
   "id": "86c3a766",
   "metadata": {},
   "outputs": [],
   "source": [
    "print('done')"
   ]
  },
  {
   "cell_type": "code",
   "execution_count": null,
   "id": "c0b14093",
   "metadata": {},
   "outputs": [],
   "source": []
  }
 ],
 "metadata": {
  "kernelspec": {
   "display_name": "Python 3 (ipykernel)",
   "language": "python",
   "name": "python3"
  },
  "language_info": {
   "codemirror_mode": {
    "name": "ipython",
    "version": 3
   },
   "file_extension": ".py",
   "mimetype": "text/x-python",
   "name": "python",
   "nbconvert_exporter": "python",
   "pygments_lexer": "ipython3",
   "version": "3.9.15"
  }
 },
 "nbformat": 4,
 "nbformat_minor": 5
}
