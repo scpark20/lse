{
 "cells": [
  {
   "cell_type": "code",
   "execution_count": 1,
   "id": "e998b2b0",
   "metadata": {},
   "outputs": [],
   "source": [
    "import os\n",
    "os.chdir('../')\n",
    "\n",
    "import warnings\n",
    "warnings.filterwarnings('ignore')"
   ]
  },
  {
   "cell_type": "code",
   "execution_count": 2,
   "id": "d7b38c99",
   "metadata": {
    "scrolled": true
   },
   "outputs": [
    {
     "name": "stdout",
     "output_type": "stream",
     "text": [
      "Fri Jan 19 12:16:41 2024       \n",
      "+-----------------------------------------------------------------------------+\n",
      "| NVIDIA-SMI 470.223.02   Driver Version: 470.223.02   CUDA Version: 11.4     |\n",
      "|-------------------------------+----------------------+----------------------+\n",
      "| GPU  Name        Persistence-M| Bus-Id        Disp.A | Volatile Uncorr. ECC |\n",
      "| Fan  Temp  Perf  Pwr:Usage/Cap|         Memory-Usage | GPU-Util  Compute M. |\n",
      "|                               |                      |               MIG M. |\n",
      "|===============================+======================+======================|\n",
      "|   0  NVIDIA A100 80G...  Off  | 00000000:1B:00.0 Off |                    0 |\n",
      "| N/A   43C    P0    46W / 300W |     35MiB / 80994MiB |      0%      Default |\n",
      "|                               |                      |             Disabled |\n",
      "+-------------------------------+----------------------+----------------------+\n",
      "|   1  NVIDIA A100 80G...  Off  | 00000000:1C:00.0 Off |                    0 |\n",
      "| N/A   46C    P0    68W / 300W |  18941MiB / 80994MiB |      0%      Default |\n",
      "|                               |                      |             Disabled |\n",
      "+-------------------------------+----------------------+----------------------+\n",
      "|   2  NVIDIA A100 80G...  Off  | 00000000:1D:00.0 Off |                    0 |\n",
      "| N/A   41C    P0    46W / 300W |     35MiB / 80994MiB |      0%      Default |\n",
      "|                               |                      |             Disabled |\n",
      "+-------------------------------+----------------------+----------------------+\n",
      "|   3  NVIDIA A100 80G...  Off  | 00000000:1E:00.0 Off |                    0 |\n",
      "| N/A   38C    P0    44W / 300W |     35MiB / 80994MiB |      0%      Default |\n",
      "|                               |                      |             Disabled |\n",
      "+-------------------------------+----------------------+----------------------+\n",
      "|   4  NVIDIA A100 80G...  Off  | 00000000:89:00.0 Off |                    0 |\n",
      "| N/A   42C    P0    44W / 300W |     35MiB / 80994MiB |      0%      Default |\n",
      "|                               |                      |             Disabled |\n",
      "+-------------------------------+----------------------+----------------------+\n",
      "|   5  NVIDIA A100 80G...  Off  | 00000000:8A:00.0 Off |                    0 |\n",
      "| N/A   42C    P0    42W / 300W |     35MiB / 80994MiB |      0%      Default |\n",
      "|                               |                      |             Disabled |\n",
      "+-------------------------------+----------------------+----------------------+\n",
      "|   6  NVIDIA A100 80G...  Off  | 00000000:8B:00.0 Off |                    0 |\n",
      "| N/A   43C    P0    44W / 300W |     35MiB / 80994MiB |      0%      Default |\n",
      "|                               |                      |             Disabled |\n",
      "+-------------------------------+----------------------+----------------------+\n",
      "|   7  NVIDIA A100 80G...  Off  | 00000000:8C:00.0 Off |                    0 |\n",
      "| N/A   42C    P0    45W / 300W |     35MiB / 80994MiB |      0%      Default |\n",
      "|                               |                      |             Disabled |\n",
      "+-------------------------------+----------------------+----------------------+\n",
      "                                                                               \n",
      "+-----------------------------------------------------------------------------+\n",
      "| Processes:                                                                  |\n",
      "|  GPU   GI   CI        PID   Type   Process name                  GPU Memory |\n",
      "|        ID   ID                                                   Usage      |\n",
      "|=============================================================================|\n",
      "|    0   N/A  N/A      2426      G   /usr/lib/xorg/Xorg                 35MiB |\n",
      "|    1   N/A  N/A      2426      G   /usr/lib/xorg/Xorg                 35MiB |\n",
      "|    1   N/A  N/A    726153      C   ...a3/envs/scpark/bin/python    18903MiB |\n",
      "|    2   N/A  N/A      2426      G   /usr/lib/xorg/Xorg                 35MiB |\n",
      "|    3   N/A  N/A      2426      G   /usr/lib/xorg/Xorg                 35MiB |\n",
      "|    4   N/A  N/A      2426      G   /usr/lib/xorg/Xorg                 35MiB |\n",
      "|    5   N/A  N/A      2426      G   /usr/lib/xorg/Xorg                 35MiB |\n",
      "|    6   N/A  N/A      2426      G   /usr/lib/xorg/Xorg                 35MiB |\n",
      "|    7   N/A  N/A      2426      G   /usr/lib/xorg/Xorg                 35MiB |\n",
      "+-----------------------------------------------------------------------------+\n"
     ]
    }
   ],
   "source": [
    "import torch\n",
    "import torch.nn as nn\n",
    "import torch.nn.functional as F\n",
    "import numpy as np\n",
    "import os\n",
    "\n",
    "!nvidia-smi\n",
    "os.environ[\"CUDA_VISIBLE_DEVICES\"]=\"2\"\n",
    "device = 'cuda:0'"
   ]
  },
  {
   "cell_type": "markdown",
   "id": "df8b63cd",
   "metadata": {},
   "source": [
    "### Model Parts"
   ]
  },
  {
   "cell_type": "code",
   "execution_count": 3,
   "id": "90c6bda2",
   "metadata": {},
   "outputs": [],
   "source": [
    "from model.main.enc_prior_latent_dec import Model\n",
    "from model.encoder.conv2d_encoder import Encoder\n",
    "from model.prior.uniform_prior import Prior\n",
    "from model.latent.mmd_latent import Latent\n",
    "from model.decoder.conv2d_decoder import Decoder\n",
    "\n",
    "from tensorboardX import SummaryWriter\n",
    "from util.util import *"
   ]
  },
  {
   "cell_type": "markdown",
   "id": "89871daf",
   "metadata": {},
   "source": [
    "### Model Init."
   ]
  },
  {
   "cell_type": "code",
   "execution_count": 4,
   "id": "4a3a31a8",
   "metadata": {},
   "outputs": [],
   "source": [
    "from easydict import EasyDict\n",
    "hp = EasyDict()\n",
    "hp.size = 64\n",
    "hp.in_dim = 3\n",
    "hp.out_dim = 3\n",
    "hp.z_dim = 128\n",
    "hp.h_dims = [32, 64, 128, 256, 512]\n",
    "hp.activation = F.sigmoid\n",
    "hp.opts = {'pz_scale': 1,\n",
    "           'mmd_kernel': 'IMQ', # 'IMQ', 'RBF'\n",
    "            'pz': 'uniform', # 'normal', 'sphere', 'uniform'\n",
    "            'zdim': hp.z_dim\n",
    "           }"
   ]
  },
  {
   "cell_type": "code",
   "execution_count": 5,
   "id": "3b10f353",
   "metadata": {},
   "outputs": [
    {
     "name": "stdout",
     "output_type": "stream",
     "text": [
      "done\n"
     ]
    }
   ],
   "source": [
    "model_list = []\n",
    "for i in range(10):\n",
    "    model = Model(Encoder(**hp), Prior(**hp), Latent(**hp), Decoder(**hp))\n",
    "    model = model.to(device)\n",
    "    model.eval()\n",
    "    model_list.append(model)\n",
    "    \n",
    "print('done')"
   ]
  },
  {
   "cell_type": "markdown",
   "id": "d6b40d8e",
   "metadata": {},
   "source": [
    "### Dataset"
   ]
  },
  {
   "cell_type": "code",
   "execution_count": 7,
   "id": "c55fc894",
   "metadata": {},
   "outputs": [
    {
     "name": "stdout",
     "output_type": "stream",
     "text": [
      "done\n"
     ]
    }
   ],
   "source": [
    "from torch.utils.data import DataLoader\n",
    "from torchvision import transforms\n",
    "from torchvision.datasets import CelebA\n",
    "\n",
    "class MyCelebA(CelebA):\n",
    "    \"\"\"\n",
    "    A work-around to address issues with pytorch's celebA dataset class.\n",
    "    \n",
    "    Download and Extract\n",
    "    URL : https://drive.google.com/file/d/1m8-EBPgi5MRubrm6iQjafK2QMHDBMSfJ/view?usp=sharing\n",
    "    \"\"\"\n",
    "    \n",
    "    def _check_integrity(self) -> bool:\n",
    "        return True\n",
    "\n",
    "root = '/data'\n",
    "test_transforms = transforms.Compose([transforms.CenterCrop(148),\n",
    "                                      transforms.Resize(hp.size),\n",
    "                                      transforms.ToTensor(),])\n",
    "test_dataset = MyCelebA(root, split='test', transform=test_transforms, download=False)\n",
    "test_loader = DataLoader(test_dataset, batch_size=10000, shuffle=False)\n",
    "print('done')"
   ]
  },
  {
   "cell_type": "code",
   "execution_count": 8,
   "id": "8b9f6240",
   "metadata": {},
   "outputs": [
    {
     "name": "stdout",
     "output_type": "stream",
     "text": [
      "dict_keys(['x', 't'])\n"
     ]
    }
   ],
   "source": [
    "def preprocess(batch):\n",
    "    x, t = batch\n",
    "    data = {}\n",
    "    data['x'] = x.to(device)\n",
    "    data['t'] = t.to(device)\n",
    "    return data\n",
    "\n",
    "batch = next(iter(test_loader))\n",
    "data = preprocess(batch)\n",
    "print(data.keys())"
   ]
  },
  {
   "cell_type": "markdown",
   "id": "0ed481e4",
   "metadata": {},
   "source": [
    "### Load"
   ]
  },
  {
   "cell_type": "code",
   "execution_count": 9,
   "id": "444d37f5",
   "metadata": {},
   "outputs": [
    {
     "data": {
      "application/vnd.jupyter.widget-view+json": {
       "model_id": "2b0d041d510649339334e200207639cc",
       "version_major": 2,
       "version_minor": 0
      },
      "text/plain": [
       "0it [00:00, ?it/s]"
      ]
     },
     "metadata": {},
     "output_type": "display_data"
    }
   ],
   "source": [
    "from tqdm import tqdm_notebook as tqdm\n",
    "\n",
    "save_path = '/data/scpark/save/lse/train_celeba/train01.17-6/save_200000'\n",
    "\n",
    "# warm start\n",
    "models_state_dict = torch.load(save_path, map_location=torch.device('cpu'))['models_state_dict']\n",
    "for i, model in tqdm(enumerate(model_list)):\n",
    "    model.load_state_dict(models_state_dict[i], strict=True)"
   ]
  },
  {
   "cell_type": "markdown",
   "id": "2b13d661",
   "metadata": {},
   "source": [
    "### Reconstruction Loss"
   ]
  },
  {
   "cell_type": "code",
   "execution_count": 10,
   "id": "1bc19b24",
   "metadata": {},
   "outputs": [
    {
     "data": {
      "application/vnd.jupyter.widget-view+json": {
       "model_id": "ac20e1b835ac48dfbf581edeb6fa9da8",
       "version_major": 2,
       "version_minor": 0
      },
      "text/plain": [
       "  0%|          | 0/10 [00:00<?, ?it/s]"
      ]
     },
     "metadata": {},
     "output_type": "display_data"
    },
    {
     "name": "stdout",
     "output_type": "stream",
     "text": [
      "Reconstruction Loss : 0.005526582151651383\n"
     ]
    }
   ],
   "source": [
    "z_list = []\n",
    "recon_loss_list = []\n",
    "for model in tqdm(model_list):\n",
    "    with torch.no_grad():\n",
    "        data = model(data, M=1)\n",
    "        z_list.append(data['z'])\n",
    "        recon_loss_list.append(data['recon_loss'].item())\n",
    "        \n",
    "print('Reconstruction Loss :', np.mean(recon_loss_list))"
   ]
  },
  {
   "cell_type": "markdown",
   "id": "81901766",
   "metadata": {},
   "source": [
    "### Get Scale"
   ]
  },
  {
   "cell_type": "code",
   "execution_count": 11,
   "id": "dbd90b1c",
   "metadata": {},
   "outputs": [
    {
     "name": "stdout",
     "output_type": "stream",
     "text": [
      "[tensor([2.1593, 2.3505, 2.1512, 2.2844, 2.6573, 2.1866, 2.3396, 2.3418, 2.2492,\n",
      "        2.6945, 2.2097, 2.1793, 2.1422, 2.3894, 2.4271, 2.3785, 2.1755, 2.2130,\n",
      "        2.2642, 2.1249, 2.1060, 2.1912, 2.2327, 2.4076, 2.1658, 2.2595, 2.1821,\n",
      "        2.4322, 2.1588, 2.4393, 2.2171, 2.2026, 2.1023, 2.1666, 2.3581, 2.2406,\n",
      "        2.2892, 2.4118, 2.3281, 2.6162, 2.2287, 2.2560, 2.1709, 2.3495, 2.1401,\n",
      "        2.3858, 2.3276, 2.3106, 2.2900, 2.2873, 2.3012, 2.2698, 2.2005, 2.4260,\n",
      "        2.0877, 2.3974, 2.2749, 2.5738, 2.4404, 2.1776, 2.2966, 2.5208, 2.5500,\n",
      "        2.1186, 2.2309, 2.5336, 2.2319, 2.5775, 2.2152, 2.0777, 2.3494, 2.1923,\n",
      "        2.0899, 2.4580, 2.2113, 2.6055, 2.2900, 2.2575, 2.1155, 2.2923, 2.2686,\n",
      "        2.3901, 2.0820, 2.4070, 2.3792, 2.2812, 2.1021, 2.2576, 2.4060, 2.2182,\n",
      "        2.4744, 2.2326, 2.3939, 2.2382, 2.2917, 2.3108, 2.3895, 2.3745, 2.4008,\n",
      "        2.1678, 2.2193, 2.3599, 2.2792, 2.2429, 2.1606, 2.8839, 2.3557, 2.3550,\n",
      "        2.1479, 2.5938, 2.2520, 2.2416, 2.3048, 2.5034, 2.2508, 2.2977, 2.1267,\n",
      "        2.5953, 2.0415, 2.1814, 2.3650, 2.1958, 2.1881, 2.4869, 2.2155, 2.5163,\n",
      "        2.0498, 2.1862], device='cuda:0'), tensor([2.2520, 2.2078, 2.2834, 2.4902, 2.3792, 2.2078, 2.2125, 2.3207, 2.2100,\n",
      "        2.2248, 2.3804, 2.4102, 2.6750, 2.0947, 2.0985, 2.2336, 2.3608, 2.3668,\n",
      "        2.5752, 2.2989, 2.2591, 2.5755, 2.2881, 2.4740, 2.1913, 2.3057, 2.1436,\n",
      "        2.4735, 2.4560, 2.2370, 2.3747, 2.2873, 2.2824, 2.4261, 2.2011, 2.1155,\n",
      "        2.4814, 2.3707, 2.3006, 2.2270, 2.5283, 2.2302, 2.1618, 2.4599, 2.3741,\n",
      "        2.2667, 2.2572, 2.3947, 2.3614, 2.7620, 2.4924, 2.3668, 2.3124, 2.3553,\n",
      "        2.2910, 2.3734, 2.1746, 2.2942, 2.3222, 2.4042, 2.3168, 2.1773, 2.4992,\n",
      "        2.3733, 2.1835, 2.1163, 2.3184, 2.1858, 2.5728, 2.4328, 2.3211, 2.1633,\n",
      "        2.2973, 2.5925, 2.2173, 2.6146, 2.1716, 2.2752, 2.3674, 2.2292, 2.1474,\n",
      "        2.4750, 2.1800, 2.2768, 2.4747, 2.0478, 2.4403, 2.0949, 2.2771, 2.2833,\n",
      "        2.1845, 2.4160, 2.1274, 2.6200, 2.3004, 2.2465, 2.3140, 2.4357, 2.4888,\n",
      "        2.2204, 2.0758, 2.4982, 2.2733, 2.2909, 2.3033, 2.1773, 2.2249, 2.5352,\n",
      "        2.2398, 2.2357, 2.5590, 2.2941, 2.3045, 2.9446, 2.1094, 2.2876, 2.1290,\n",
      "        2.2294, 2.3849, 2.0881, 2.2105, 2.2086, 2.4599, 2.5641, 2.5083, 2.2728,\n",
      "        2.1897, 2.7020], device='cuda:0'), tensor([2.5550, 2.4635, 2.3848, 2.3054, 2.1801, 2.4802, 2.3685, 2.2217, 2.2753,\n",
      "        2.2432, 2.3471, 2.1601, 2.0724, 2.4162, 2.2379, 2.3180, 2.1957, 3.0336,\n",
      "        2.5080, 2.3154, 2.5350, 2.4801, 2.4972, 2.4289, 2.2060, 2.2027, 2.8296,\n",
      "        2.2304, 2.2501, 2.3098, 2.4570, 2.4193, 2.3967, 2.4380, 2.4133, 2.5280,\n",
      "        2.2833, 2.1659, 2.1223, 2.2650, 2.1088, 2.2325, 2.1029, 2.1843, 2.3237,\n",
      "        2.2883, 2.4436, 2.2650, 2.4137, 2.5386, 2.1689, 2.4351, 2.3562, 2.5592,\n",
      "        2.4047, 2.5721, 2.5192, 2.2602, 2.4079, 2.2250, 2.2452, 2.2518, 2.2899,\n",
      "        2.5166, 2.2042, 2.4534, 2.2205, 2.3547, 2.5115, 2.4292, 2.4787, 2.4319,\n",
      "        2.3332, 2.3808, 2.6021, 2.2908, 2.3350, 2.2938, 2.3736, 2.3465, 2.7500,\n",
      "        2.3023, 2.3266, 2.4642, 2.4797, 2.4388, 2.3456, 2.2888, 2.1271, 2.4558,\n",
      "        2.4168, 2.2418, 2.3891, 2.7120, 2.4049, 2.4979, 2.2892, 2.1050, 2.2143,\n",
      "        2.2842, 2.1380, 2.3039, 2.4573, 2.0446, 2.1704, 2.1835, 2.2251, 2.3294,\n",
      "        2.5864, 2.1932, 2.3125, 2.4209, 2.2740, 2.1981, 2.3953, 2.6348, 2.4504,\n",
      "        2.2232, 2.3995, 2.2673, 2.3924, 2.3136, 2.4456, 2.2665, 2.4006, 2.2316,\n",
      "        2.0249, 2.2437], device='cuda:0'), tensor([2.2402, 2.1927, 2.0678, 2.6442, 2.5433, 2.4619, 2.4705, 2.1428, 2.1601,\n",
      "        2.2645, 2.7996, 2.3248, 2.3811, 2.3532, 2.2582, 2.5367, 2.4903, 2.1562,\n",
      "        2.3448, 2.3444, 2.2284, 2.2431, 2.4078, 2.2677, 2.3714, 2.3175, 2.3467,\n",
      "        2.3425, 2.4284, 2.1728, 2.5353, 2.4337, 2.1209, 2.1499, 2.3356, 2.1444,\n",
      "        2.3334, 2.3246, 2.4913, 2.2178, 2.1582, 2.1695, 2.2728, 2.3431, 2.2926,\n",
      "        2.1897, 2.4024, 2.4681, 2.3434, 2.3436, 2.3006, 2.2109, 2.3646, 2.0664,\n",
      "        2.3732, 2.3480, 2.2298, 2.1279, 2.5546, 2.3007, 2.4773, 2.4006, 2.2523,\n",
      "        2.5480, 2.2797, 2.5212, 2.5008, 2.1493, 2.1697, 2.4957, 2.1644, 2.6612,\n",
      "        2.1866, 2.2750, 2.2423, 2.5233, 2.2920, 2.3646, 2.1171, 2.5972, 2.4056,\n",
      "        2.3171, 2.3034, 2.5216, 2.2816, 2.3045, 2.2171, 2.2939, 2.4372, 2.8575,\n",
      "        2.1904, 2.2918, 2.6823, 2.2007, 2.3873, 2.2088, 2.7052, 2.3369, 2.4119,\n",
      "        2.6140, 2.5608, 2.4029, 2.3300, 2.3468, 2.4507, 2.1366, 2.4290, 2.3435,\n",
      "        2.3650, 2.2735, 2.1514, 2.2582, 2.2914, 2.2422, 2.4984, 2.5012, 2.1224,\n",
      "        2.3640, 2.2842, 2.1945, 2.2638, 2.0722, 2.3130, 2.1984, 2.2975, 2.2139,\n",
      "        2.4987, 2.3298], device='cuda:0'), tensor([2.2384, 2.4062, 2.3038, 2.5220, 2.3815, 2.2423, 2.4937, 2.4275, 2.0910,\n",
      "        2.3436, 2.1779, 2.1866, 2.2502, 2.5269, 2.1836, 2.3992, 2.1870, 2.3128,\n",
      "        2.2028, 2.1094, 2.4214, 2.4472, 2.1926, 2.2954, 2.3764, 2.4809, 2.2613,\n",
      "        2.1917, 2.2627, 2.3488, 2.1897, 2.2761, 2.4896, 2.3593, 2.1548, 2.3404,\n",
      "        2.4265, 2.3597, 2.3125, 2.2773, 2.4546, 2.3371, 2.1928, 2.2000, 2.1465,\n",
      "        2.6493, 2.1104, 2.5837, 2.2534, 2.1507, 2.3585, 2.0701, 2.0839, 2.3491,\n",
      "        2.2715, 2.2711, 2.5327, 2.2741, 2.4380, 2.3454, 2.8312, 2.1868, 2.5352,\n",
      "        2.5142, 2.1663, 2.1774, 2.1241, 2.2185, 2.5809, 2.2654, 2.3375, 2.4794,\n",
      "        2.2804, 2.0946, 2.5090, 2.2794, 2.3843, 2.0808, 2.2749, 1.9544, 2.0019,\n",
      "        2.5105, 2.2783, 2.0747, 2.2306, 2.0736, 2.4005, 2.3472, 2.3292, 2.5961,\n",
      "        2.0448, 2.4207, 2.5821, 2.0978, 2.4196, 2.2809, 2.4442, 2.3862, 2.2538,\n",
      "        2.6556, 2.3172, 2.1311, 2.4709, 2.3162, 2.3413, 2.4080, 2.4352, 2.2544,\n",
      "        2.2563, 2.2216, 2.5225, 2.2323, 2.0679, 2.2610, 2.2469, 2.4488, 2.2151,\n",
      "        2.3370, 2.4087, 2.3697, 2.0565, 2.3383, 2.2884, 2.2880, 2.2003, 2.2599,\n",
      "        2.2507, 2.2316], device='cuda:0'), tensor([2.3383, 2.4569, 2.4334, 2.1233, 2.3416, 2.1320, 2.6347, 2.3969, 2.3137,\n",
      "        2.3617, 2.4177, 2.6591, 2.2583, 2.4167, 2.4549, 2.5278, 2.0430, 2.3127,\n",
      "        2.4917, 2.5366, 2.4167, 2.1934, 2.1844, 2.1700, 2.2337, 2.0245, 2.5103,\n",
      "        2.3466, 2.5502, 2.2978, 2.9699, 2.2201, 2.2916, 2.4841, 2.4024, 2.2082,\n",
      "        2.1352, 2.2091, 2.1725, 2.6248, 2.1774, 2.0903, 2.2926, 2.4426, 2.1665,\n",
      "        2.2129, 2.2521, 2.3025, 2.3558, 2.2873, 2.1459, 2.2900, 2.1007, 2.4770,\n",
      "        2.3473, 2.1860, 2.3014, 2.3427, 2.3470, 2.2550, 2.5527, 2.3451, 2.2254,\n",
      "        2.4784, 2.1283, 2.2045, 2.3139, 2.3402, 2.2846, 2.3310, 2.0248, 2.2390,\n",
      "        2.2814, 2.0812, 2.3200, 2.1885, 2.4208, 2.4556, 2.3287, 2.4173, 2.1798,\n",
      "        2.0953, 2.3006, 2.4353, 2.2898, 2.2294, 2.2060, 2.3005, 2.2651, 2.2243,\n",
      "        2.5609, 2.4038, 2.2466, 2.2576, 2.2335, 2.1858, 2.2322, 2.6385, 2.2667,\n",
      "        2.4717, 2.4298, 2.4537, 2.3811, 2.2562, 2.3710, 2.2532, 2.2370, 2.4423,\n",
      "        2.0442, 2.2973, 2.4873, 2.2248, 2.2598, 2.0404, 2.6842, 2.2183, 2.2004,\n",
      "        2.4321, 2.3116, 2.4761, 2.2814, 2.3725, 2.2260, 2.4491, 2.3881, 2.3359,\n",
      "        2.2940, 2.2144], device='cuda:0'), tensor([2.5454, 2.3317, 2.3355, 2.3922, 2.2956, 2.1051, 2.2758, 2.3796, 2.2399,\n",
      "        2.2569, 2.2841, 2.2657, 2.2381, 2.1180, 2.3816, 2.0778, 2.2376, 2.1415,\n",
      "        2.3831, 2.3635, 2.4046, 2.3975, 2.4552, 2.4107, 2.1768, 2.1876, 2.2466,\n",
      "        2.1556, 2.4567, 2.5862, 2.2620, 2.1342, 2.6981, 2.1037, 2.3498, 2.6816,\n",
      "        2.2653, 2.3473, 2.0559, 2.5836, 2.2004, 2.1560, 2.3194, 2.1249, 2.0464,\n",
      "        2.3218, 2.6394, 2.2515, 2.2877, 2.1470, 2.0370, 2.0863, 2.6439, 2.4420,\n",
      "        2.1529, 2.4199, 2.1202, 2.4725, 2.2908, 2.3951, 2.1974, 2.3537, 2.2264,\n",
      "        2.3773, 2.3765, 2.4661, 2.2062, 2.1985, 2.2614, 2.1460, 2.2090, 2.4641,\n",
      "        2.2228, 2.2722, 2.3477, 2.7118, 2.2186, 2.2195, 2.1604, 2.3335, 2.2711,\n",
      "        2.2774, 2.0657, 2.1443, 2.3051, 2.3188, 2.1562, 2.1146, 2.2363, 2.2988,\n",
      "        2.2991, 2.4138, 2.2547, 2.7049, 2.2353, 2.3754, 2.2337, 2.0602, 2.2918,\n",
      "        2.2417, 2.4724, 2.1332, 2.5413, 2.1445, 2.5540, 2.4978, 2.7006, 2.3855,\n",
      "        2.1783, 2.4657, 2.3371, 2.2192, 2.5699, 2.2133, 2.1183, 2.2891, 2.1335,\n",
      "        2.1777, 2.1421, 2.3914, 2.2880, 2.2641, 2.0630, 2.2524, 2.3865, 2.4899,\n",
      "        2.6416, 2.5196], device='cuda:0'), tensor([2.1137, 2.4875, 2.5914, 2.1862, 2.5962, 2.0938, 2.2376, 2.4462, 2.4151,\n",
      "        2.5571, 2.3520, 2.2077, 2.0782, 2.4017, 2.5131, 2.1902, 2.1919, 2.4932,\n",
      "        2.1995, 2.5067, 2.2155, 2.4128, 2.1073, 2.3109, 2.5580, 2.3743, 2.3747,\n",
      "        2.4496, 2.5926, 2.2655, 2.1988, 2.6071, 2.2659, 2.5535, 2.3772, 2.3758,\n",
      "        2.6792, 2.2480, 2.4486, 2.3652, 2.3918, 2.2836, 2.4812, 2.1795, 2.3817,\n",
      "        2.1168, 2.2686, 2.1979, 2.4433, 2.2893, 2.2391, 2.2307, 2.0955, 2.1126,\n",
      "        2.2197, 2.0858, 2.4107, 2.3629, 2.2432, 2.2366, 2.5262, 2.2374, 2.2316,\n",
      "        2.5386, 2.3485, 2.5854, 2.2208, 2.5541, 2.2789, 2.1681, 2.1649, 2.4097,\n",
      "        2.3349, 2.2746, 2.3506, 2.5445, 2.6903, 2.5505, 2.1464, 2.3370, 2.2781,\n",
      "        2.2928, 2.2819, 2.4846, 2.1690, 2.2406, 2.3335, 2.2389, 2.1620, 2.2828,\n",
      "        2.1663, 2.4677, 2.2809, 2.4696, 2.5159, 2.1502, 2.4523, 2.3717, 2.2273,\n",
      "        2.2084, 2.4042, 2.3947, 2.2891, 2.3077, 2.2118, 2.2396, 2.2808, 2.2616,\n",
      "        2.3948, 2.2316, 2.3344, 2.6612, 2.3959, 2.4284, 2.1400, 2.1447, 2.3972,\n",
      "        2.3041, 2.4709, 2.3477, 2.2308, 2.0832, 2.4709, 2.4594, 2.1367, 2.2068,\n",
      "        2.3816, 2.3879], device='cuda:0'), tensor([2.1407, 2.3398, 2.2881, 2.2754, 2.2619, 2.3936, 2.2212, 2.2164, 2.3614,\n",
      "        2.4593, 2.3798, 2.5141, 2.2503, 2.4945, 2.3219, 2.1158, 2.3723, 2.2081,\n",
      "        2.1800, 2.1669, 2.5191, 2.3026, 2.1631, 2.1963, 2.2190, 2.4737, 2.0722,\n",
      "        2.1637, 2.6443, 2.4313, 2.3452, 2.2249, 2.3173, 2.2918, 2.4551, 2.4072,\n",
      "        2.4266, 2.5698, 2.3221, 2.3259, 2.0850, 2.2992, 2.3077, 2.4647, 2.8632,\n",
      "        2.1237, 2.5094, 2.3016, 2.1440, 2.4370, 2.3102, 2.5625, 2.0553, 2.3361,\n",
      "        2.4475, 2.5743, 2.3530, 2.2430, 2.2971, 2.3061, 2.5297, 2.2770, 2.6891,\n",
      "        2.0456, 2.2915, 2.3022, 2.2324, 2.1528, 2.3280, 2.0768, 2.2585, 2.3804,\n",
      "        2.6161, 2.4017, 2.2196, 2.1992, 2.2369, 2.2830, 2.1994, 2.2892, 2.2041,\n",
      "        2.7544, 2.2361, 2.3017, 2.3341, 2.1549, 2.3437, 2.4906, 2.0677, 2.4052,\n",
      "        2.3509, 2.4052, 2.1768, 2.5789, 2.4100, 2.2572, 2.3129, 2.3354, 2.2168,\n",
      "        2.4478, 2.4143, 2.4892, 2.4671, 2.5807, 2.5968, 2.4573, 2.1301, 2.3072,\n",
      "        2.2427, 2.1315, 2.2720, 2.3989, 2.4620, 2.4431, 2.6848, 2.3326, 2.5016,\n",
      "        2.3310, 2.3393, 2.2665, 2.0845, 2.5362, 2.6242, 2.2467, 2.2762, 2.1750,\n",
      "        2.4585, 2.3897], device='cuda:0'), tensor([2.2282, 2.4639, 2.5102, 2.0631, 2.2380, 2.3186, 2.5171, 2.3969, 2.3256,\n",
      "        2.3262, 2.3672, 2.1719, 2.3426, 2.1684, 2.3039, 2.2960, 2.3525, 1.9814,\n",
      "        2.1897, 2.5810, 2.1442, 2.3191, 2.3903, 2.1018, 2.1096, 2.2684, 2.2734,\n",
      "        2.2908, 2.2927, 2.2355, 2.2802, 2.1390, 2.3290, 2.3692, 2.5732, 2.7421,\n",
      "        2.3475, 2.3091, 2.2451, 2.8403, 2.9773, 2.1931, 2.7622, 2.3444, 2.7982,\n",
      "        2.3024, 2.2569, 2.1489, 2.1351, 2.4769, 2.1793, 2.2629, 2.2116, 2.3418,\n",
      "        2.3101, 2.5229, 2.4077, 2.3871, 2.5922, 2.2794, 2.3472, 2.1915, 2.2034,\n",
      "        2.4596, 2.3882, 2.1966, 2.1034, 2.6001, 2.4054, 2.1120, 2.4210, 2.2031,\n",
      "        2.3832, 2.3343, 2.2409, 2.2116, 2.3022, 2.2129, 2.4371, 2.2061, 2.2365,\n",
      "        2.2780, 2.1606, 2.1222, 2.5394, 2.3249, 2.3283, 2.5515, 2.2781, 2.2775,\n",
      "        2.2622, 2.1390, 2.3550, 2.2952, 2.5013, 2.5670, 2.3199, 2.3377, 2.2609,\n",
      "        2.6750, 2.5801, 2.1304, 2.1061, 2.4417, 2.3712, 2.3897, 2.5087, 2.3127,\n",
      "        2.2393, 2.7677, 2.5198, 2.2221, 2.2263, 2.3308, 2.4549, 2.2115, 2.5220,\n",
      "        2.3275, 2.3276, 2.3434, 2.2745, 2.3525, 2.3788, 2.1616, 2.3507, 2.4447,\n",
      "        2.2120, 2.1418], device='cuda:0')]\n"
     ]
    }
   ],
   "source": [
    "scale_list = []\n",
    "for z in z_list:\n",
    "    scale = (torch.max(z, dim=0).values - torch.min(z, dim=0).values) / 2\n",
    "    scale_list.append(scale)\n",
    "    \n",
    "print(scale_list)"
   ]
  },
  {
   "cell_type": "markdown",
   "id": "7e70fb9c",
   "metadata": {},
   "source": [
    "### MMD Test"
   ]
  },
  {
   "cell_type": "code",
   "execution_count": 12,
   "id": "67ed5d1f",
   "metadata": {},
   "outputs": [
    {
     "data": {
      "application/vnd.jupyter.widget-view+json": {
       "model_id": "af1b1b5fb6e8493da0bb92e56140f694",
       "version_major": 2,
       "version_minor": 0
      },
      "text/plain": [
       "  0%|          | 0/10 [00:00<?, ?it/s]"
      ]
     },
     "metadata": {},
     "output_type": "display_data"
    },
    {
     "name": "stdout",
     "output_type": "stream",
     "text": [
      "MMD Loss : 0.0002186894416809082\n"
     ]
    }
   ],
   "source": [
    "from util.mmd_penalty import mmd_penalty\n",
    "\n",
    "opts = {'pz_scale': 1,\n",
    "        'mmd_kernel': 'RBF', # 'IMQ', 'RBF'\n",
    "        'pz': 'normal', # 'normal', 'sphere', 'uniform' \n",
    "        'zdim': hp.z_dim\n",
    "       }\n",
    "\n",
    "mmd_losses = []\n",
    "for z in tqdm(z_list):\n",
    "    prior = model_list[0].prior.sample(len(z), hp.z_dim)\n",
    "    mmd_loss = mmd_penalty(prior, z, opts)\n",
    "    mmd_losses.append(mmd_loss.item())\n",
    "    \n",
    "print('MMD Loss :', np.mean(mmd_losses))    "
   ]
  },
  {
   "cell_type": "code",
   "execution_count": 13,
   "id": "e655eb1c",
   "metadata": {},
   "outputs": [
    {
     "data": {
      "application/vnd.jupyter.widget-view+json": {
       "model_id": "6d9cd3a889f54380a59caf10a0fcb573",
       "version_major": 2,
       "version_minor": 0
      },
      "text/plain": [
       "0it [00:00, ?it/s]"
      ]
     },
     "metadata": {},
     "output_type": "display_data"
    },
    {
     "name": "stdout",
     "output_type": "stream",
     "text": [
      "Corrected MMD Loss : 0.013708889484405518\n"
     ]
    }
   ],
   "source": [
    "from util.mmd_penalty import mmd_penalty\n",
    "\n",
    "opts = {'pz_scale': 1,\n",
    "        'mmd_kernel': 'RBF', # 'IMQ', 'RBF'\n",
    "        'pz': 'normal', # 'normal', 'sphere', 'uniform' \n",
    "        'zdim': hp.z_dim\n",
    "       }\n",
    "\n",
    "mmd_losses = []\n",
    "for z, scale in tqdm(zip(z_list, scale_list)):\n",
    "    prior = model_list[0].prior.sample(len(z), hp.z_dim) * scale\n",
    "    mmd_loss = mmd_penalty(prior, z, opts)\n",
    "    mmd_losses.append(mmd_loss.item())\n",
    "    \n",
    "print('Corrected MMD Loss :', np.mean(mmd_losses))    "
   ]
  },
  {
   "cell_type": "markdown",
   "id": "12cf158b",
   "metadata": {},
   "source": [
    "### Cross NLL Test"
   ]
  },
  {
   "cell_type": "code",
   "execution_count": 14,
   "id": "1d0ef69d",
   "metadata": {},
   "outputs": [
    {
     "data": {
      "application/vnd.jupyter.widget-view+json": {
       "model_id": "91032dac30634262aac11670660b9fcf",
       "version_major": 2,
       "version_minor": 0
      },
      "text/plain": [
       "  0%|          | 0/10 [00:00<?, ?it/s]"
      ]
     },
     "metadata": {},
     "output_type": "display_data"
    },
    {
     "name": "stdout",
     "output_type": "stream",
     "text": [
      "Cross NLL : -46.37113903045655\n"
     ]
    }
   ],
   "source": [
    "from util.loglikelihood import get_optimum_log_sigma, get_cross_nll\n",
    "\n",
    "cross_nll_list = []\n",
    "for _ in tqdm(range(10)):\n",
    "    cross_nlls = []\n",
    "    for z, model in zip(z_list, model_list):\n",
    "        p_samples1 = model.prior.sample(len(z), hp.z_dim)\n",
    "        p_samples2 = model.prior.sample(len(z), hp.z_dim)\n",
    "        log_sigma = get_optimum_log_sigma(p_samples1, p_samples2, min_log_sigma=-5, max_log_sigma=5)\n",
    "        p_samples1 = model.prior.sample(len(z), hp.z_dim)\n",
    "        cross_nll = get_cross_nll(p_samples1, z, log_sigma)\n",
    "        cross_nlls.append(cross_nll)\n",
    "    cross_nll = np.mean(cross_nlls)\n",
    "    cross_nll_list.append(cross_nll)\n",
    "    \n",
    "print('Cross NLL :', np.mean(cross_nll_list))"
   ]
  },
  {
   "cell_type": "code",
   "execution_count": 15,
   "id": "dae19be9",
   "metadata": {},
   "outputs": [
    {
     "data": {
      "application/vnd.jupyter.widget-view+json": {
       "model_id": "c6e1a902b7aa43f5a93fcbf89e6b92cc",
       "version_major": 2,
       "version_minor": 0
      },
      "text/plain": [
       "  0%|          | 0/10 [00:00<?, ?it/s]"
      ]
     },
     "metadata": {},
     "output_type": "display_data"
    },
    {
     "name": "stdout",
     "output_type": "stream",
     "text": [
      "Corrected Cross NLL : 41.38925724029541\n"
     ]
    }
   ],
   "source": [
    "from util.loglikelihood import get_optimum_log_sigma, get_cross_nll\n",
    "\n",
    "cross_nll_list = []\n",
    "for _ in tqdm(range(10)):\n",
    "    cross_nlls = []\n",
    "    for z, model, scale in zip(z_list, model_list, scale_list):\n",
    "        p_samples1 = model.prior.sample(len(z), hp.z_dim) * scale\n",
    "        p_samples2 = model.prior.sample(len(z), hp.z_dim) * scale\n",
    "        log_sigma = get_optimum_log_sigma(p_samples1, p_samples2, min_log_sigma=-5, max_log_sigma=5)\n",
    "        p_samples1 = model.prior.sample(len(z), hp.z_dim) * scale\n",
    "        cross_nll = get_cross_nll(p_samples1, z, log_sigma)\n",
    "        cross_nlls.append(cross_nll)\n",
    "    cross_nll = np.mean(cross_nlls)\n",
    "    cross_nll_list.append(cross_nll)\n",
    "    \n",
    "print('Corrected Cross NLL :', np.mean(cross_nll_list))"
   ]
  },
  {
   "cell_type": "code",
   "execution_count": null,
   "id": "86c3a766",
   "metadata": {},
   "outputs": [],
   "source": []
  },
  {
   "cell_type": "code",
   "execution_count": null,
   "id": "7ea6aaa6",
   "metadata": {},
   "outputs": [],
   "source": []
  },
  {
   "cell_type": "code",
   "execution_count": null,
   "id": "2626c509",
   "metadata": {},
   "outputs": [],
   "source": []
  },
  {
   "cell_type": "code",
   "execution_count": null,
   "id": "84649b2e",
   "metadata": {},
   "outputs": [],
   "source": []
  }
 ],
 "metadata": {
  "kernelspec": {
   "display_name": "Python 3 (ipykernel)",
   "language": "python",
   "name": "python3"
  },
  "language_info": {
   "codemirror_mode": {
    "name": "ipython",
    "version": 3
   },
   "file_extension": ".py",
   "mimetype": "text/x-python",
   "name": "python",
   "nbconvert_exporter": "python",
   "pygments_lexer": "ipython3",
   "version": "3.9.15"
  }
 },
 "nbformat": 4,
 "nbformat_minor": 5
}
