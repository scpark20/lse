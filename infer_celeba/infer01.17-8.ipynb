{
 "cells": [
  {
   "cell_type": "code",
   "execution_count": 1,
   "id": "e998b2b0",
   "metadata": {},
   "outputs": [],
   "source": [
    "import os\n",
    "os.chdir('../')\n",
    "\n",
    "import warnings\n",
    "warnings.filterwarnings('ignore')"
   ]
  },
  {
   "cell_type": "code",
   "execution_count": 2,
   "id": "d7b38c99",
   "metadata": {
    "scrolled": true
   },
   "outputs": [
    {
     "name": "stdout",
     "output_type": "stream",
     "text": [
      "Thu Jan 18 21:36:01 2024       \n",
      "+-----------------------------------------------------------------------------+\n",
      "| NVIDIA-SMI 470.223.02   Driver Version: 470.223.02   CUDA Version: 11.4     |\n",
      "|-------------------------------+----------------------+----------------------+\n",
      "| GPU  Name        Persistence-M| Bus-Id        Disp.A | Volatile Uncorr. ECC |\n",
      "| Fan  Temp  Perf  Pwr:Usage/Cap|         Memory-Usage | GPU-Util  Compute M. |\n",
      "|                               |                      |               MIG M. |\n",
      "|===============================+======================+======================|\n",
      "|   0  NVIDIA A100 80G...  Off  | 00000000:1B:00.0 Off |                    0 |\n",
      "| N/A   48C    P0   121W / 300W |   8433MiB / 80994MiB |      9%      Default |\n",
      "|                               |                      |             Disabled |\n",
      "+-------------------------------+----------------------+----------------------+\n",
      "|   1  NVIDIA A100 80G...  Off  | 00000000:1C:00.0 Off |                    0 |\n",
      "| N/A   39C    P0    44W / 300W |     35MiB / 80994MiB |      0%      Default |\n",
      "|                               |                      |             Disabled |\n",
      "+-------------------------------+----------------------+----------------------+\n",
      "|   2  NVIDIA A100 80G...  Off  | 00000000:1D:00.0 Off |                    0 |\n",
      "| N/A   34C    P0    43W / 300W |     35MiB / 80994MiB |      0%      Default |\n",
      "|                               |                      |             Disabled |\n",
      "+-------------------------------+----------------------+----------------------+\n",
      "|   3  NVIDIA A100 80G...  Off  | 00000000:1E:00.0 Off |                    0 |\n",
      "| N/A   48C    P0    71W / 300W |  16828MiB / 80994MiB |      9%      Default |\n",
      "|                               |                      |             Disabled |\n",
      "+-------------------------------+----------------------+----------------------+\n",
      "|   4  NVIDIA A100 80G...  Off  | 00000000:89:00.0 Off |                    0 |\n",
      "| N/A   45C    P0    65W / 300W |   8433MiB / 80994MiB |      9%      Default |\n",
      "|                               |                      |             Disabled |\n",
      "+-------------------------------+----------------------+----------------------+\n",
      "|   5  NVIDIA A100 80G...  Off  | 00000000:8A:00.0 Off |                    0 |\n",
      "| N/A   47C    P0    65W / 300W |  16828MiB / 80994MiB |     10%      Default |\n",
      "|                               |                      |             Disabled |\n",
      "+-------------------------------+----------------------+----------------------+\n",
      "|   6  NVIDIA A100 80G...  Off  | 00000000:8B:00.0 Off |                    0 |\n",
      "| N/A   46C    P0    67W / 300W |   8437MiB / 80994MiB |      9%      Default |\n",
      "|                               |                      |             Disabled |\n",
      "+-------------------------------+----------------------+----------------------+\n",
      "|   7  NVIDIA A100 80G...  Off  | 00000000:8C:00.0 Off |                    0 |\n",
      "| N/A   43C    P0    66W / 300W |   8433MiB / 80994MiB |      9%      Default |\n",
      "|                               |                      |             Disabled |\n",
      "+-------------------------------+----------------------+----------------------+\n",
      "                                                                               \n",
      "+-----------------------------------------------------------------------------+\n",
      "| Processes:                                                                  |\n",
      "|  GPU   GI   CI        PID   Type   Process name                  GPU Memory |\n",
      "|        ID   ID                                                   Usage      |\n",
      "|=============================================================================|\n",
      "|    0   N/A  N/A      2426      G   /usr/lib/xorg/Xorg                 35MiB |\n",
      "|    0   N/A  N/A    538757      C   ...a3/envs/scpark/bin/python     8395MiB |\n",
      "|    1   N/A  N/A      2426      G   /usr/lib/xorg/Xorg                 35MiB |\n",
      "|    2   N/A  N/A      2426      G   /usr/lib/xorg/Xorg                 35MiB |\n",
      "|    3   N/A  N/A      2426      G   /usr/lib/xorg/Xorg                 35MiB |\n",
      "|    3   N/A  N/A    552430      C   ...a3/envs/scpark/bin/python     8395MiB |\n",
      "|    3   N/A  N/A    552478      C   ...a3/envs/scpark/bin/python     8395MiB |\n",
      "|    4   N/A  N/A      2426      G   /usr/lib/xorg/Xorg                 35MiB |\n",
      "|    4   N/A  N/A    552457      C   ...a3/envs/scpark/bin/python     8395MiB |\n",
      "|    5   N/A  N/A      2426      G   /usr/lib/xorg/Xorg                 35MiB |\n",
      "|    5   N/A  N/A    552505      C   ...a3/envs/scpark/bin/python     8395MiB |\n",
      "|    5   N/A  N/A    552664      C   ...a3/envs/scpark/bin/python     8395MiB |\n",
      "|    6   N/A  N/A      2426      G   /usr/lib/xorg/Xorg                 35MiB |\n",
      "|    6   N/A  N/A    520611      C   ...a3/envs/scpark/bin/python     8399MiB |\n",
      "|    7   N/A  N/A      2426      G   /usr/lib/xorg/Xorg                 35MiB |\n",
      "|    7   N/A  N/A    552477      C   ...a3/envs/scpark/bin/python     8395MiB |\n",
      "+-----------------------------------------------------------------------------+\n"
     ]
    }
   ],
   "source": [
    "import torch\n",
    "import torch.nn as nn\n",
    "import torch.nn.functional as F\n",
    "import numpy as np\n",
    "import os\n",
    "\n",
    "!nvidia-smi\n",
    "os.environ[\"CUDA_VISIBLE_DEVICES\"]=\"1\"\n",
    "device = 'cuda:0'"
   ]
  },
  {
   "cell_type": "markdown",
   "id": "df8b63cd",
   "metadata": {},
   "source": [
    "### Model Parts"
   ]
  },
  {
   "cell_type": "code",
   "execution_count": 3,
   "id": "90c6bda2",
   "metadata": {},
   "outputs": [],
   "source": [
    "from model.main.enc_prior_latent_dec import Model\n",
    "from model.encoder.conv2d_vae_encoder import Encoder\n",
    "from model.prior.normal_prior import Prior\n",
    "from model.latent.vae_latent import Latent\n",
    "from model.decoder.conv2d_decoder import Decoder\n",
    "\n",
    "from tensorboardX import SummaryWriter\n",
    "from util.util import *"
   ]
  },
  {
   "cell_type": "markdown",
   "id": "89871daf",
   "metadata": {},
   "source": [
    "### Model Init."
   ]
  },
  {
   "cell_type": "code",
   "execution_count": 4,
   "id": "4a3a31a8",
   "metadata": {},
   "outputs": [],
   "source": [
    "from easydict import EasyDict\n",
    "hp = EasyDict()\n",
    "hp.size = 64\n",
    "hp.in_dim = 3\n",
    "hp.out_dim = 3\n",
    "hp.z_dim = 128\n",
    "hp.h_dims = [32, 64, 128, 256, 512]\n",
    "hp.activation = F.sigmoid"
   ]
  },
  {
   "cell_type": "code",
   "execution_count": 5,
   "id": "3b10f353",
   "metadata": {},
   "outputs": [
    {
     "name": "stdout",
     "output_type": "stream",
     "text": [
      "done\n"
     ]
    }
   ],
   "source": [
    "model_list = []\n",
    "for i in range(10):\n",
    "    model = Model(Encoder(**hp), Prior(**hp), Latent(**hp), Decoder(**hp))\n",
    "    model = model.to(device)\n",
    "    model_list.append(model)\n",
    "    \n",
    "print('done')"
   ]
  },
  {
   "cell_type": "markdown",
   "id": "d6b40d8e",
   "metadata": {},
   "source": [
    "### Dataset"
   ]
  },
  {
   "cell_type": "code",
   "execution_count": 6,
   "id": "c55fc894",
   "metadata": {},
   "outputs": [
    {
     "name": "stdout",
     "output_type": "stream",
     "text": [
      "done\n"
     ]
    }
   ],
   "source": [
    "from torch.utils.data import DataLoader\n",
    "from torchvision import transforms\n",
    "from torchvision.datasets import CelebA\n",
    "\n",
    "class MyCelebA(CelebA):\n",
    "    \"\"\"\n",
    "    A work-around to address issues with pytorch's celebA dataset class.\n",
    "    \n",
    "    Download and Extract\n",
    "    URL : https://drive.google.com/file/d/1m8-EBPgi5MRubrm6iQjafK2QMHDBMSfJ/view?usp=sharing\n",
    "    \"\"\"\n",
    "    \n",
    "    def _check_integrity(self) -> bool:\n",
    "        return True\n",
    "\n",
    "root = '/data'\n",
    "test_transforms = transforms.Compose([transforms.CenterCrop(148),\n",
    "                                      transforms.Resize(hp.size),\n",
    "                                      transforms.ToTensor(),])\n",
    "test_dataset = MyCelebA(root, split='test', transform=test_transforms, download=False)\n",
    "test_loader = DataLoader(test_dataset, batch_size=10000, shuffle=False)\n",
    "print('done')"
   ]
  },
  {
   "cell_type": "code",
   "execution_count": 7,
   "id": "8b9f6240",
   "metadata": {},
   "outputs": [
    {
     "name": "stdout",
     "output_type": "stream",
     "text": [
      "dict_keys(['x', 't'])\n"
     ]
    }
   ],
   "source": [
    "def preprocess(batch):\n",
    "    x, t = batch\n",
    "    data = {}\n",
    "    data['x'] = x.to(device)\n",
    "    data['t'] = t.to(device)\n",
    "    return data\n",
    "\n",
    "batch = next(iter(test_loader))\n",
    "data = preprocess(batch)\n",
    "print(data.keys())"
   ]
  },
  {
   "cell_type": "markdown",
   "id": "0ed481e4",
   "metadata": {},
   "source": [
    "### Load"
   ]
  },
  {
   "cell_type": "code",
   "execution_count": 8,
   "id": "444d37f5",
   "metadata": {},
   "outputs": [
    {
     "data": {
      "application/vnd.jupyter.widget-view+json": {
       "model_id": "f091c02c61aa4892a2e7edb4418031ba",
       "version_major": 2,
       "version_minor": 0
      },
      "text/plain": [
       "0it [00:00, ?it/s]"
      ]
     },
     "metadata": {},
     "output_type": "display_data"
    }
   ],
   "source": [
    "from tqdm import tqdm_notebook as tqdm\n",
    "\n",
    "save_path = '/data/scpark/save/lse/train_celeba/train01.17-1/save_200000'\n",
    "\n",
    "# warm start\n",
    "models_state_dict = torch.load(save_path, map_location=torch.device('cpu'))['models_state_dict']\n",
    "for i, model in tqdm(enumerate(model_list)):\n",
    "    model.load_state_dict(models_state_dict[i], strict=True)"
   ]
  },
  {
   "cell_type": "markdown",
   "id": "2b13d661",
   "metadata": {},
   "source": [
    "### Reconstruction Loss"
   ]
  },
  {
   "cell_type": "code",
   "execution_count": 9,
   "id": "1bc19b24",
   "metadata": {},
   "outputs": [
    {
     "data": {
      "application/vnd.jupyter.widget-view+json": {
       "model_id": "1a246c5c03644146a97f59b03b7eead2",
       "version_major": 2,
       "version_minor": 0
      },
      "text/plain": [
       "  0%|          | 0/10 [00:00<?, ?it/s]"
      ]
     },
     "metadata": {},
     "output_type": "display_data"
    },
    {
     "name": "stdout",
     "output_type": "stream",
     "text": [
      "Reconstruction Loss : 0.01239399928599596\n"
     ]
    }
   ],
   "source": [
    "z_list = []\n",
    "recon_loss_list = []\n",
    "for model in tqdm(model_list):\n",
    "    with torch.no_grad():\n",
    "        data = model(data, M=1)\n",
    "        z_list.append(data['z'])\n",
    "        recon_loss_list.append(data['recon_loss'].item())\n",
    "        \n",
    "print('Reconstruction Loss :', np.mean(recon_loss_list))"
   ]
  },
  {
   "cell_type": "markdown",
   "id": "81901766",
   "metadata": {},
   "source": [
    "### Get Scale"
   ]
  },
  {
   "cell_type": "code",
   "execution_count": 10,
   "id": "dbd90b1c",
   "metadata": {},
   "outputs": [
    {
     "name": "stdout",
     "output_type": "stream",
     "text": [
      "[tensor([1.0090, 0.9912, 0.9811, 0.9992, 0.9846, 1.0031, 1.0032, 0.9920, 0.9945,\n",
      "        0.9935, 0.9976, 1.0011, 0.9961, 0.9942, 1.0029, 1.0046, 0.9978, 0.9921,\n",
      "        0.9968, 0.9905, 0.9835, 0.9969, 0.9932, 0.9986, 0.9934, 0.9985, 1.0071,\n",
      "        0.9830, 1.0092, 1.0000, 0.9954, 1.0021, 0.9981, 0.9896, 0.9926, 1.0134,\n",
      "        0.9761, 0.9898, 0.9925, 1.0020, 0.9975, 1.0059, 1.0032, 0.9919, 0.9951,\n",
      "        1.0084, 1.0022, 0.9914, 0.9873, 0.9882, 0.9903, 0.9851, 0.9856, 1.0072,\n",
      "        0.9908, 0.9955, 0.9965, 0.9961, 0.9921, 0.9955, 0.9867, 0.9899, 0.9958,\n",
      "        1.0086, 0.9949, 0.9962, 1.0065, 1.0089, 0.9915, 1.0012, 1.0036, 1.0100,\n",
      "        0.9963, 1.0090, 0.9981, 0.9992, 1.0005, 0.9936, 1.0148, 0.9975, 0.9791,\n",
      "        1.0027, 0.9890, 1.0120, 1.0062, 0.9958, 0.9990, 1.0006, 1.0031, 1.0034,\n",
      "        1.0003, 0.9982, 0.9969, 0.9888, 0.9919, 1.0052, 0.9939, 0.9980, 1.0020,\n",
      "        0.9863, 0.9952, 1.0130, 0.9742, 0.9948, 0.9989, 1.0078, 0.9932, 0.9965,\n",
      "        0.9890, 1.0069, 1.0020, 1.0144, 0.9853, 1.0015, 0.9938, 1.0058, 1.0237,\n",
      "        0.9945, 1.0040, 0.9953, 0.9903, 0.9963, 1.0137, 1.0067, 1.0010, 1.0259,\n",
      "        0.9987, 0.9953], device='cuda:0'), tensor([1.0066, 1.0020, 0.9939, 1.0010, 0.9803, 0.9855, 0.9934, 0.9887, 1.0135,\n",
      "        1.0090, 0.9979, 0.9752, 1.0085, 0.9905, 1.0045, 0.9989, 0.9852, 1.0048,\n",
      "        0.9929, 0.9969, 0.9984, 0.9968, 0.9993, 1.0083, 1.0038, 1.0014, 0.9929,\n",
      "        0.9838, 1.0066, 0.9972, 1.0015, 1.0040, 0.9946, 1.0005, 0.9959, 1.0317,\n",
      "        1.0008, 0.9994, 1.0148, 0.9897, 1.0127, 1.0156, 1.0157, 1.0054, 0.9953,\n",
      "        1.0048, 0.9953, 0.9935, 0.9939, 0.9948, 1.0048, 1.0056, 1.0041, 1.0010,\n",
      "        0.9933, 1.0005, 1.0011, 0.9891, 1.0179, 1.0063, 0.9948, 1.0257, 0.9863,\n",
      "        1.0072, 0.9998, 0.9854, 0.9986, 0.9958, 1.0007, 1.0002, 0.9951, 0.9984,\n",
      "        0.9881, 1.0009, 0.9796, 0.9820, 1.0080, 1.0044, 0.9966, 0.9952, 0.9945,\n",
      "        1.0018, 1.0038, 1.0059, 0.9876, 1.0002, 1.0029, 0.9990, 1.0065, 0.9936,\n",
      "        0.9957, 1.0026, 0.9887, 1.0025, 0.9998, 0.9959, 1.0017, 0.9944, 1.0098,\n",
      "        0.9938, 0.9905, 0.9903, 0.9970, 1.0064, 0.9984, 0.9893, 1.0047, 0.9805,\n",
      "        1.0158, 0.9948, 0.9974, 0.9943, 1.0008, 1.0015, 1.0133, 0.9961, 1.0096,\n",
      "        0.9928, 0.9950, 0.9948, 1.0001, 1.0024, 0.9931, 0.9964, 1.0049, 0.9962,\n",
      "        1.0062, 0.9971], device='cuda:0'), tensor([0.9960, 0.9941, 0.9908, 1.0043, 0.9939, 0.9965, 0.9869, 1.0023, 0.9976,\n",
      "        0.9830, 1.0059, 1.0033, 1.0006, 1.0057, 1.0122, 0.9970, 0.9983, 0.9896,\n",
      "        0.9874, 0.9946, 0.9978, 0.9965, 1.0074, 0.9972, 1.0051, 0.9913, 0.9933,\n",
      "        1.0024, 0.9948, 0.9898, 1.0029, 0.9953, 0.9891, 0.9917, 0.9924, 0.9916,\n",
      "        0.9916, 1.0021, 1.0044, 1.0117, 1.0035, 0.9871, 1.0012, 0.9853, 0.9941,\n",
      "        0.9851, 1.0192, 1.0086, 1.0041, 1.0057, 1.0001, 0.9907, 1.0087, 1.0014,\n",
      "        1.0013, 1.0130, 1.0084, 0.9975, 0.9997, 1.0011, 0.9946, 1.0030, 0.9977,\n",
      "        1.0090, 1.0101, 0.9935, 0.9926, 1.0101, 1.0075, 0.9913, 1.0009, 1.0004,\n",
      "        1.0031, 1.0098, 0.9998, 1.0047, 1.0070, 1.0077, 1.0196, 0.9834, 0.9992,\n",
      "        1.0038, 1.0007, 0.9924, 1.0090, 0.9804, 1.0017, 0.9949, 0.9951, 0.9981,\n",
      "        1.0007, 0.9992, 1.0049, 0.9933, 0.9944, 0.9915, 0.9882, 1.0075, 1.0107,\n",
      "        0.9947, 0.9778, 1.0007, 1.0132, 0.9923, 1.0023, 1.0046, 1.0251, 0.9958,\n",
      "        0.9846, 0.9939, 1.0011, 0.9932, 0.9977, 0.9945, 1.0022, 1.0098, 1.0078,\n",
      "        1.0018, 1.0086, 0.9867, 0.9965, 0.9971, 0.9933, 1.0106, 0.9930, 1.0019,\n",
      "        0.9962, 1.0070], device='cuda:0'), tensor([0.9970, 0.9951, 0.9894, 0.9943, 0.9836, 0.9963, 0.9909, 1.0044, 1.0325,\n",
      "        1.0181, 0.9969, 0.9944, 1.0085, 1.0126, 0.9860, 0.9931, 0.9993, 1.0044,\n",
      "        0.9915, 0.9969, 1.0091, 1.0264, 0.9994, 0.9943, 0.9969, 0.9928, 0.9985,\n",
      "        0.9967, 1.0034, 0.9899, 1.0008, 0.9941, 1.0086, 1.0044, 0.9979, 0.9865,\n",
      "        1.0074, 0.9964, 0.9989, 1.0244, 0.9798, 1.0020, 0.9962, 1.0011, 0.9956,\n",
      "        1.0011, 1.0012, 1.0089, 0.9931, 1.0116, 1.0030, 1.0025, 0.9923, 1.0033,\n",
      "        1.0138, 0.9953, 0.9910, 1.0050, 1.0028, 0.9886, 0.9928, 1.0008, 0.9902,\n",
      "        0.9872, 1.0070, 1.0040, 0.9942, 0.9988, 0.9932, 1.0001, 0.9897, 1.0064,\n",
      "        0.9920, 1.0032, 0.9918, 0.9925, 1.0100, 0.9885, 0.9967, 0.9921, 0.9976,\n",
      "        0.9923, 1.0078, 0.9904, 1.0107, 0.9943, 0.9953, 0.9975, 0.9924, 0.9972,\n",
      "        0.9987, 0.9792, 1.0007, 1.0122, 0.9990, 0.9996, 0.9931, 0.9870, 1.0043,\n",
      "        0.9911, 0.9820, 1.0009, 0.9951, 0.9996, 0.9798, 0.9929, 1.0089, 1.0014,\n",
      "        1.0004, 0.9975, 0.9939, 1.0014, 0.9966, 1.0143, 1.0043, 0.9788, 0.9965,\n",
      "        0.9934, 1.0009, 0.9875, 0.9890, 1.0067, 1.0004, 1.0010, 0.9947, 0.9953,\n",
      "        0.9937, 1.0031], device='cuda:0'), tensor([1.0033, 0.9887, 0.9951, 1.0001, 0.9900, 1.0105, 0.9881, 0.9976, 1.0006,\n",
      "        1.0009, 1.0085, 0.9998, 1.0037, 0.9844, 1.0027, 0.9982, 1.0022, 0.9963,\n",
      "        0.9948, 1.0168, 1.0018, 1.0110, 0.9994, 0.9904, 0.9982, 0.9846, 0.9843,\n",
      "        0.9952, 0.9994, 1.0099, 1.0052, 0.9924, 0.9927, 1.0115, 0.9971, 1.0104,\n",
      "        0.9895, 1.0091, 1.0086, 1.0205, 1.0024, 0.9953, 0.9981, 0.9923, 1.0112,\n",
      "        1.0024, 1.0101, 1.0155, 1.0013, 1.0043, 1.0130, 0.9754, 0.9999, 0.9934,\n",
      "        1.0007, 0.9917, 0.9866, 0.9923, 0.9999, 1.0011, 0.9970, 0.9775, 0.9943,\n",
      "        0.9908, 0.9955, 1.0164, 1.0077, 0.9965, 0.9823, 1.0056, 1.0059, 1.0044,\n",
      "        1.0094, 1.0141, 0.9921, 1.0019, 0.9903, 1.0051, 0.9979, 1.0050, 1.0124,\n",
      "        1.0137, 0.9953, 1.0101, 1.0025, 0.9987, 0.9907, 0.9864, 0.9906, 0.9998,\n",
      "        1.0045, 1.0139, 0.9906, 1.0112, 1.0088, 0.9952, 1.0246, 1.0127, 1.0074,\n",
      "        0.9989, 0.9957, 0.9880, 0.9943, 0.9917, 0.9989, 1.0217, 1.0028, 1.0004,\n",
      "        0.9908, 1.0069, 1.0091, 0.9940, 1.0087, 0.9919, 0.9959, 0.9954, 0.9890,\n",
      "        1.0024, 0.9934, 1.0018, 0.9856, 0.9982, 0.9929, 1.0074, 0.9939, 0.9945,\n",
      "        0.9990, 0.9991], device='cuda:0'), tensor([0.9971, 0.9983, 1.0043, 0.9925, 0.9882, 0.9968, 1.0126, 0.9916, 0.9851,\n",
      "        0.9942, 0.9855, 0.9987, 0.9856, 1.0123, 0.9974, 0.9931, 0.9855, 1.0045,\n",
      "        1.0047, 1.0099, 1.0001, 0.9995, 0.9917, 1.0051, 0.9881, 0.9983, 0.9934,\n",
      "        1.0033, 0.9995, 0.9967, 0.9914, 0.9959, 0.9913, 0.9891, 0.9976, 1.0042,\n",
      "        0.9905, 0.9984, 0.9932, 1.0270, 1.0033, 0.9963, 0.9980, 0.9952, 1.0021,\n",
      "        0.9868, 0.9887, 1.0001, 0.9925, 0.9995, 0.9932, 1.0026, 1.0073, 0.9954,\n",
      "        0.9825, 0.9983, 0.9983, 1.0224, 0.9894, 1.0177, 1.0133, 0.9961, 1.0054,\n",
      "        1.0029, 1.0030, 0.9996, 1.0051, 0.9901, 0.9948, 0.9983, 0.9931, 1.0031,\n",
      "        0.9912, 0.9924, 1.0046, 0.9869, 0.9914, 0.9956, 1.0135, 1.0096, 0.9964,\n",
      "        0.9847, 0.9999, 0.9877, 0.9946, 1.0024, 0.9932, 0.9934, 0.9961, 0.9860,\n",
      "        0.9849, 0.9959, 0.9936, 0.9924, 0.9907, 0.9754, 0.9956, 0.9993, 0.9929,\n",
      "        1.0132, 0.9703, 1.0085, 1.0137, 1.0040, 1.0097, 1.0074, 0.9845, 0.9976,\n",
      "        0.9916, 1.0064, 1.0019, 1.0051, 1.0069, 1.0006, 0.9963, 0.9899, 0.9901,\n",
      "        0.9986, 1.0060, 0.9986, 0.9991, 1.0010, 0.9969, 0.9993, 0.9871, 0.9958,\n",
      "        0.9970, 0.9880], device='cuda:0'), tensor([1.0026, 1.0079, 0.9936, 1.0132, 1.0008, 0.9903, 0.9943, 1.0077, 1.0007,\n",
      "        1.0179, 1.0066, 1.0015, 0.9885, 0.9985, 0.9960, 1.0074, 0.9938, 1.0047,\n",
      "        1.0031, 0.9981, 1.0141, 1.0115, 0.9925, 0.9887, 0.9835, 0.9858, 0.9932,\n",
      "        0.9809, 0.9937, 1.0311, 0.9940, 1.0083, 1.0016, 0.9982, 1.0000, 1.0032,\n",
      "        1.0027, 0.9978, 1.0003, 0.9921, 0.9998, 0.9725, 0.9967, 1.0048, 0.9944,\n",
      "        0.9986, 1.0002, 1.0055, 0.9953, 0.9860, 1.0043, 0.9970, 0.9980, 0.9919,\n",
      "        1.0117, 1.0171, 0.9945, 1.0055, 1.0119, 0.9991, 0.9950, 0.9927, 0.9959,\n",
      "        1.0067, 1.0266, 0.9937, 0.9968, 0.9990, 0.9970, 0.9934, 1.0094, 0.9988,\n",
      "        0.9923, 1.0031, 1.0104, 1.0065, 0.9957, 0.9869, 1.0035, 0.9904, 0.9954,\n",
      "        0.9974, 0.9922, 1.0082, 1.0057, 1.0027, 0.9879, 0.9948, 0.9976, 0.9890,\n",
      "        0.9873, 1.0003, 1.0085, 0.9974, 1.0008, 0.9986, 0.9908, 1.0028, 1.0024,\n",
      "        0.9968, 0.9815, 0.9985, 1.0033, 1.0219, 1.0071, 1.0066, 1.0054, 0.9969,\n",
      "        0.9886, 1.0075, 0.9952, 0.9900, 1.0092, 0.9998, 1.0169, 0.9943, 1.0040,\n",
      "        0.9959, 0.9969, 1.0043, 0.9888, 0.9950, 1.0003, 0.9939, 1.0028, 1.0018,\n",
      "        0.9917, 0.9873], device='cuda:0'), tensor([0.9879, 1.0064, 0.9939, 1.0059, 1.0048, 0.9877, 1.0164, 0.9990, 0.9763,\n",
      "        1.0100, 0.9975, 0.9982, 0.9915, 0.9948, 0.9969, 0.9882, 1.0106, 0.9862,\n",
      "        1.0226, 0.9978, 0.9967, 0.9942, 0.9843, 0.9885, 1.0030, 1.0118, 1.0051,\n",
      "        1.0001, 0.9890, 1.0035, 1.0087, 1.0032, 1.0077, 1.0059, 1.0010, 0.9905,\n",
      "        1.0037, 0.9941, 1.0081, 0.9972, 1.0189, 0.9990, 1.0076, 1.0282, 1.0056,\n",
      "        0.9960, 0.9967, 0.9960, 1.0059, 0.9852, 0.9939, 1.0041, 0.9990, 1.0034,\n",
      "        0.9879, 0.9965, 0.9907, 1.0182, 1.0066, 0.9928, 0.9951, 0.9978, 0.9865,\n",
      "        1.0107, 0.9855, 0.9995, 0.9889, 1.0090, 1.0146, 1.0127, 0.9974, 1.0022,\n",
      "        0.9961, 0.9817, 0.9920, 0.9907, 1.0010, 0.9969, 0.9953, 0.9966, 1.0040,\n",
      "        0.9988, 0.9941, 1.0122, 0.9965, 1.0152, 0.9985, 0.9996, 0.9986, 1.0259,\n",
      "        0.9853, 0.9998, 0.9963, 0.9967, 0.9884, 1.0055, 0.9729, 0.9906, 0.9864,\n",
      "        1.0042, 1.0035, 0.9880, 0.9858, 1.0073, 1.0131, 0.9863, 1.0078, 0.9905,\n",
      "        1.0073, 0.9944, 0.9885, 0.9974, 0.9950, 0.9949, 0.9953, 0.9925, 1.0046,\n",
      "        1.0074, 1.0026, 0.9938, 0.9921, 0.9942, 1.0034, 1.0046, 0.9967, 0.9998,\n",
      "        0.9967, 0.9938], device='cuda:0'), tensor([0.9967, 1.0223, 0.9971, 0.9934, 0.9895, 1.0118, 1.0009, 0.9917, 0.9898,\n",
      "        1.0053, 0.9931, 1.0037, 0.9757, 0.9940, 0.9952, 1.0054, 0.9915, 0.9944,\n",
      "        0.9942, 1.0106, 1.0034, 1.0153, 0.9900, 1.0097, 0.9894, 0.9955, 1.0046,\n",
      "        1.0069, 0.9985, 0.9985, 1.0018, 0.9984, 1.0047, 0.9852, 1.0038, 0.9945,\n",
      "        0.9789, 1.0134, 1.0058, 0.9948, 0.9908, 1.0031, 0.9915, 0.9985, 1.0038,\n",
      "        0.9972, 1.0018, 0.9996, 0.9955, 0.9910, 0.9929, 0.9859, 0.9993, 0.9908,\n",
      "        0.9908, 0.9875, 0.9919, 0.9992, 0.9887, 0.9883, 0.9915, 0.9920, 1.0026,\n",
      "        1.0071, 0.9986, 1.0055, 0.9908, 1.0014, 1.0031, 1.0134, 0.9852, 1.0110,\n",
      "        1.0004, 0.9915, 0.9936, 0.9911, 1.0040, 1.0014, 1.0008, 1.0080, 0.9763,\n",
      "        1.0220, 0.9976, 0.9964, 1.0007, 1.0072, 1.0103, 1.0016, 1.0075, 1.0037,\n",
      "        0.9974, 0.9940, 1.0147, 1.0076, 0.9875, 1.0012, 1.0014, 1.0027, 0.9882,\n",
      "        0.9831, 1.0027, 1.0056, 0.9925, 0.9877, 0.9985, 0.9885, 0.9912, 1.0013,\n",
      "        0.9932, 1.0038, 0.9863, 1.0001, 0.9966, 0.9959, 0.9869, 1.0078, 0.9834,\n",
      "        0.9829, 1.0011, 1.0148, 0.9828, 1.0034, 0.9981, 0.9972, 1.0035, 1.0108,\n",
      "        1.0226, 0.9952], device='cuda:0'), tensor([0.9907, 0.9958, 1.0034, 0.9911, 0.9923, 0.9792, 1.0018, 0.9869, 1.0041,\n",
      "        0.9896, 0.9758, 0.9924, 1.0013, 0.9911, 0.9986, 1.0003, 0.9994, 0.9935,\n",
      "        0.9953, 0.9948, 0.9958, 0.9978, 0.9924, 0.9962, 0.9910, 0.9872, 0.9955,\n",
      "        1.0031, 1.0100, 0.9966, 1.0014, 1.0006, 0.9944, 0.9992, 1.0000, 0.9783,\n",
      "        1.0038, 1.0020, 1.0085, 0.9895, 1.0091, 1.0034, 0.9773, 0.9925, 0.9850,\n",
      "        1.0042, 0.9908, 0.9984, 1.0008, 0.9960, 0.9946, 1.0098, 0.9959, 0.9981,\n",
      "        0.9894, 0.9794, 0.9909, 1.0060, 0.9969, 1.0092, 1.0156, 1.0045, 0.9955,\n",
      "        0.9850, 1.0011, 1.0043, 0.9946, 0.9946, 0.9919, 1.0053, 0.9948, 0.9994,\n",
      "        0.9976, 0.9914, 0.9955, 0.9945, 1.0053, 1.0097, 0.9859, 0.9923, 0.9911,\n",
      "        1.0304, 0.9791, 0.9866, 1.0148, 1.0010, 1.0020, 0.9926, 1.0048, 0.9905,\n",
      "        1.0001, 1.0042, 1.0025, 1.0003, 0.9988, 1.0073, 1.0026, 0.9872, 1.0028,\n",
      "        0.9874, 1.0261, 1.0067, 1.0021, 1.0116, 0.9960, 1.0047, 1.0006, 0.9937,\n",
      "        1.0066, 1.0072, 1.0079, 0.9928, 1.0179, 1.0069, 1.0167, 1.0080, 0.9917,\n",
      "        1.0081, 0.9784, 0.9986, 0.9826, 0.9827, 1.0057, 0.9994, 0.9984, 0.9993,\n",
      "        1.0047, 1.0084], device='cuda:0')]\n"
     ]
    }
   ],
   "source": [
    "scale_list = []\n",
    "for z in z_list:\n",
    "    scale = z.std(dim=0)\n",
    "    scale_list.append(scale)\n",
    "    \n",
    "print(scale_list)"
   ]
  },
  {
   "cell_type": "markdown",
   "id": "7e70fb9c",
   "metadata": {},
   "source": [
    "### MMD Test"
   ]
  },
  {
   "cell_type": "code",
   "execution_count": 11,
   "id": "67ed5d1f",
   "metadata": {},
   "outputs": [
    {
     "data": {
      "application/vnd.jupyter.widget-view+json": {
       "model_id": "84d9d4050f974eb18d21bebf42d33999",
       "version_major": 2,
       "version_minor": 0
      },
      "text/plain": [
       "  0%|          | 0/10 [00:00<?, ?it/s]"
      ]
     },
     "metadata": {},
     "output_type": "display_data"
    },
    {
     "name": "stdout",
     "output_type": "stream",
     "text": [
      "MMD Loss : 6.619691848754882e-05\n"
     ]
    }
   ],
   "source": [
    "from util.mmd_penalty import mmd_penalty\n",
    "\n",
    "opts = {'pz_scale': 1,\n",
    "        'mmd_kernel': 'RBF', # 'IMQ', 'RBF'\n",
    "        'pz': 'normal', # 'normal', 'sphere', 'uniform' \n",
    "        'zdim': hp.z_dim\n",
    "       }\n",
    "\n",
    "mmd_losses = []\n",
    "for z in tqdm(z_list):\n",
    "    prior = model_list[0].prior.sample(len(z), hp.z_dim)\n",
    "    mmd_loss = mmd_penalty(prior, z, opts)\n",
    "    mmd_losses.append(mmd_loss.item())\n",
    "    \n",
    "print('MMD Loss :', np.mean(mmd_losses))    "
   ]
  },
  {
   "cell_type": "code",
   "execution_count": 12,
   "id": "e655eb1c",
   "metadata": {},
   "outputs": [
    {
     "data": {
      "application/vnd.jupyter.widget-view+json": {
       "model_id": "c1d2fd7792a24fd59e2bb6d4d0ca4267",
       "version_major": 2,
       "version_minor": 0
      },
      "text/plain": [
       "0it [00:00, ?it/s]"
      ]
     },
     "metadata": {},
     "output_type": "display_data"
    },
    {
     "name": "stdout",
     "output_type": "stream",
     "text": [
      "Corrected MMD Loss : 7.218122482299805e-05\n"
     ]
    }
   ],
   "source": [
    "from util.mmd_penalty import mmd_penalty\n",
    "\n",
    "opts = {'pz_scale': 1,\n",
    "        'mmd_kernel': 'RBF', # 'IMQ', 'RBF'\n",
    "        'pz': 'normal', # 'normal', 'sphere', 'uniform' \n",
    "        'zdim': hp.z_dim\n",
    "       }\n",
    "\n",
    "mmd_losses = []\n",
    "for z, scale in tqdm(zip(z_list, scale_list)):\n",
    "    prior = model_list[0].prior.sample(len(z), hp.z_dim) * scale\n",
    "    mmd_loss = mmd_penalty(prior, z, opts)\n",
    "    mmd_losses.append(mmd_loss.item())\n",
    "    \n",
    "print('Corrected MMD Loss :', np.mean(mmd_losses))    "
   ]
  },
  {
   "cell_type": "markdown",
   "id": "12cf158b",
   "metadata": {},
   "source": [
    "### Cross NLL Test"
   ]
  },
  {
   "cell_type": "code",
   "execution_count": null,
   "id": "1d0ef69d",
   "metadata": {},
   "outputs": [
    {
     "data": {
      "application/vnd.jupyter.widget-view+json": {
       "model_id": "66e573678711476b9e1b8aad042d5f01",
       "version_major": 2,
       "version_minor": 0
      },
      "text/plain": [
       "  0%|          | 0/10 [00:00<?, ?it/s]"
      ]
     },
     "metadata": {},
     "output_type": "display_data"
    }
   ],
   "source": [
    "from util.loglikelihood import get_optimum_log_sigma, get_cross_nll\n",
    "\n",
    "cross_nll_list = []\n",
    "for _ in tqdm(range(10)):\n",
    "    cross_nlls = []\n",
    "    for z, model in zip(z_list, model_list):\n",
    "        p_samples1 = model.prior.sample(len(z), hp.z_dim)\n",
    "        p_samples2 = model.prior.sample(len(z), hp.z_dim)\n",
    "        log_sigma = get_optimum_log_sigma(p_samples1, p_samples2, min_log_sigma=-5, max_log_sigma=5)\n",
    "        p_samples1 = model.prior.sample(len(z), hp.z_dim)\n",
    "        cross_nll = get_cross_nll(p_samples1, z, log_sigma)\n",
    "        cross_nlls.append(cross_nll)\n",
    "    cross_nll = np.mean(cross_nlls)\n",
    "    cross_nll_list.append(cross_nll)\n",
    "    \n",
    "print('Cross NLL :', np.mean(cross_nll_list))"
   ]
  },
  {
   "cell_type": "code",
   "execution_count": null,
   "id": "dae19be9",
   "metadata": {},
   "outputs": [],
   "source": [
    "from util.loglikelihood import get_optimum_log_sigma, get_cross_nll\n",
    "\n",
    "cross_nll_list = []\n",
    "for _ in tqdm(range(10)):\n",
    "    cross_nlls = []\n",
    "    for z, model, scale in zip(z_list, model_list, scale_list):\n",
    "        p_samples1 = model.prior.sample(len(z), hp.z_dim) * scale\n",
    "        p_samples2 = model.prior.sample(len(z), hp.z_dim) * scale\n",
    "        log_sigma = get_optimum_log_sigma(p_samples1, p_samples2, min_log_sigma=-5, max_log_sigma=5)\n",
    "        p_samples1 = model.prior.sample(len(z), hp.z_dim) * scale\n",
    "        cross_nll = get_cross_nll(p_samples1, z, log_sigma)\n",
    "        cross_nlls.append(cross_nll)\n",
    "    cross_nll = np.mean(cross_nlls)\n",
    "    cross_nll_list.append(cross_nll)\n",
    "    \n",
    "print('Corrected Cross NLL :', np.mean(cross_nll_list))"
   ]
  },
  {
   "cell_type": "code",
   "execution_count": null,
   "id": "86c3a766",
   "metadata": {},
   "outputs": [],
   "source": []
  }
 ],
 "metadata": {
  "kernelspec": {
   "display_name": "Python 3 (ipykernel)",
   "language": "python",
   "name": "python3"
  },
  "language_info": {
   "codemirror_mode": {
    "name": "ipython",
    "version": 3
   },
   "file_extension": ".py",
   "mimetype": "text/x-python",
   "name": "python",
   "nbconvert_exporter": "python",
   "pygments_lexer": "ipython3",
   "version": "3.9.15"
  }
 },
 "nbformat": 4,
 "nbformat_minor": 5
}
