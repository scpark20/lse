{
 "cells": [
  {
   "cell_type": "code",
   "execution_count": 1,
   "id": "e998b2b0",
   "metadata": {},
   "outputs": [],
   "source": [
    "import os\n",
    "os.chdir('../')\n",
    "\n",
    "import warnings\n",
    "warnings.filterwarnings('ignore')"
   ]
  },
  {
   "cell_type": "code",
   "execution_count": 2,
   "id": "d7b38c99",
   "metadata": {
    "scrolled": true
   },
   "outputs": [
    {
     "name": "stdout",
     "output_type": "stream",
     "text": [
      "Fri Jan 19 12:19:48 2024       \n",
      "+-----------------------------------------------------------------------------+\n",
      "| NVIDIA-SMI 470.223.02   Driver Version: 470.223.02   CUDA Version: 11.4     |\n",
      "|-------------------------------+----------------------+----------------------+\n",
      "| GPU  Name        Persistence-M| Bus-Id        Disp.A | Volatile Uncorr. ECC |\n",
      "| Fan  Temp  Perf  Pwr:Usage/Cap|         Memory-Usage | GPU-Util  Compute M. |\n",
      "|                               |                      |               MIG M. |\n",
      "|===============================+======================+======================|\n",
      "|   0  NVIDIA A100 80G...  Off  | 00000000:1B:00.0 Off |                    0 |\n",
      "| N/A   43C    P0    46W / 300W |     35MiB / 80994MiB |      0%      Default |\n",
      "|                               |                      |             Disabled |\n",
      "+-------------------------------+----------------------+----------------------+\n",
      "|   1  NVIDIA A100 80G...  Off  | 00000000:1C:00.0 Off |                    0 |\n",
      "| N/A   45C    P0    46W / 300W |     35MiB / 80994MiB |      0%      Default |\n",
      "|                               |                      |             Disabled |\n",
      "+-------------------------------+----------------------+----------------------+\n",
      "|   2  NVIDIA A100 80G...  Off  | 00000000:1D:00.0 Off |                    0 |\n",
      "| N/A   43C    P0    46W / 300W |     35MiB / 80994MiB |      0%      Default |\n",
      "|                               |                      |             Disabled |\n",
      "+-------------------------------+----------------------+----------------------+\n",
      "|   3  NVIDIA A100 80G...  Off  | 00000000:1E:00.0 Off |                    0 |\n",
      "| N/A   36C    P0    44W / 300W |     35MiB / 80994MiB |      0%      Default |\n",
      "|                               |                      |             Disabled |\n",
      "+-------------------------------+----------------------+----------------------+\n",
      "|   4  NVIDIA A100 80G...  Off  | 00000000:89:00.0 Off |                    0 |\n",
      "| N/A   43C    P0    44W / 300W |     35MiB / 80994MiB |      0%      Default |\n",
      "|                               |                      |             Disabled |\n",
      "+-------------------------------+----------------------+----------------------+\n",
      "|   5  NVIDIA A100 80G...  Off  | 00000000:8A:00.0 Off |                    0 |\n",
      "| N/A   42C    P0    42W / 300W |     35MiB / 80994MiB |      0%      Default |\n",
      "|                               |                      |             Disabled |\n",
      "+-------------------------------+----------------------+----------------------+\n",
      "|   6  NVIDIA A100 80G...  Off  | 00000000:8B:00.0 Off |                    0 |\n",
      "| N/A   42C    P0    44W / 300W |     35MiB / 80994MiB |      0%      Default |\n",
      "|                               |                      |             Disabled |\n",
      "+-------------------------------+----------------------+----------------------+\n",
      "|   7  NVIDIA A100 80G...  Off  | 00000000:8C:00.0 Off |                    0 |\n",
      "| N/A   42C    P0    45W / 300W |     35MiB / 80994MiB |      0%      Default |\n",
      "|                               |                      |             Disabled |\n",
      "+-------------------------------+----------------------+----------------------+\n",
      "                                                                               \n",
      "+-----------------------------------------------------------------------------+\n",
      "| Processes:                                                                  |\n",
      "|  GPU   GI   CI        PID   Type   Process name                  GPU Memory |\n",
      "|        ID   ID                                                   Usage      |\n",
      "|=============================================================================|\n",
      "|    0   N/A  N/A      2426      G   /usr/lib/xorg/Xorg                 35MiB |\n",
      "|    1   N/A  N/A      2426      G   /usr/lib/xorg/Xorg                 35MiB |\n",
      "|    2   N/A  N/A      2426      G   /usr/lib/xorg/Xorg                 35MiB |\n",
      "|    3   N/A  N/A      2426      G   /usr/lib/xorg/Xorg                 35MiB |\n",
      "|    4   N/A  N/A      2426      G   /usr/lib/xorg/Xorg                 35MiB |\n",
      "|    5   N/A  N/A      2426      G   /usr/lib/xorg/Xorg                 35MiB |\n",
      "|    6   N/A  N/A      2426      G   /usr/lib/xorg/Xorg                 35MiB |\n",
      "|    7   N/A  N/A      2426      G   /usr/lib/xorg/Xorg                 35MiB |\n",
      "+-----------------------------------------------------------------------------+\n"
     ]
    }
   ],
   "source": [
    "import torch\n",
    "import torch.nn as nn\n",
    "import torch.nn.functional as F\n",
    "import numpy as np\n",
    "import os\n",
    "\n",
    "!nvidia-smi\n",
    "os.environ[\"CUDA_VISIBLE_DEVICES\"]=\"1\"\n",
    "device = 'cuda:0'"
   ]
  },
  {
   "cell_type": "markdown",
   "id": "df8b63cd",
   "metadata": {},
   "source": [
    "### Model Parts"
   ]
  },
  {
   "cell_type": "code",
   "execution_count": 3,
   "id": "90c6bda2",
   "metadata": {},
   "outputs": [],
   "source": [
    "from model.main.enc_prior_latent_dec import Model\n",
    "from model.encoder.conv2d_encoder import Encoder\n",
    "from model.prior.uniform_prior import Prior\n",
    "from model.latent.blse_latent import Latent\n",
    "from model.decoder.conv2d_decoder import Decoder\n",
    "\n",
    "from tensorboardX import SummaryWriter\n",
    "from util.util import *"
   ]
  },
  {
   "cell_type": "markdown",
   "id": "89871daf",
   "metadata": {},
   "source": [
    "### Model Init."
   ]
  },
  {
   "cell_type": "code",
   "execution_count": 4,
   "id": "4a3a31a8",
   "metadata": {},
   "outputs": [],
   "source": [
    "from easydict import EasyDict\n",
    "hp = EasyDict()\n",
    "hp.size = 64\n",
    "hp.in_dim = 3\n",
    "hp.out_dim = 3\n",
    "hp.z_dim = 128\n",
    "hp.h_dims = [32, 64, 128, 256, 512]\n",
    "hp.M = 1024\n",
    "hp.N = 256\n",
    "hp.const_sigma = False\n",
    "hp.z_activation = F.tanh\n",
    "hp.activation = F.sigmoid\n",
    "hp.init_log_sigma = 0"
   ]
  },
  {
   "cell_type": "code",
   "execution_count": 5,
   "id": "3b10f353",
   "metadata": {},
   "outputs": [
    {
     "name": "stdout",
     "output_type": "stream",
     "text": [
      "done\n"
     ]
    }
   ],
   "source": [
    "model_list = []\n",
    "for i in range(1):\n",
    "    model = Model(Encoder(**hp), Prior(**hp), Latent(**hp), Decoder(**hp))\n",
    "    model = model.to(device)\n",
    "    model.eval()\n",
    "    model_list.append(model)\n",
    "    \n",
    "print('done')"
   ]
  },
  {
   "cell_type": "markdown",
   "id": "d6b40d8e",
   "metadata": {},
   "source": [
    "### Dataset"
   ]
  },
  {
   "cell_type": "code",
   "execution_count": 6,
   "id": "c55fc894",
   "metadata": {},
   "outputs": [
    {
     "name": "stdout",
     "output_type": "stream",
     "text": [
      "done\n"
     ]
    }
   ],
   "source": [
    "from torch.utils.data import DataLoader\n",
    "from torchvision import transforms\n",
    "from torchvision.datasets import CelebA\n",
    "\n",
    "class MyCelebA(CelebA):\n",
    "    \"\"\"\n",
    "    A work-around to address issues with pytorch's celebA dataset class.\n",
    "    \n",
    "    Download and Extract\n",
    "    URL : https://drive.google.com/file/d/1m8-EBPgi5MRubrm6iQjafK2QMHDBMSfJ/view?usp=sharing\n",
    "    \"\"\"\n",
    "    \n",
    "    def _check_integrity(self) -> bool:\n",
    "        return True\n",
    "\n",
    "root = '/data'\n",
    "test_transforms = transforms.Compose([transforms.CenterCrop(148),\n",
    "                                      transforms.Resize(hp.size),\n",
    "                                      transforms.ToTensor(),])\n",
    "test_dataset = MyCelebA(root, split='test', transform=test_transforms, download=False)\n",
    "test_loader = DataLoader(test_dataset, batch_size=10000, shuffle=False)\n",
    "print('done')"
   ]
  },
  {
   "cell_type": "code",
   "execution_count": 7,
   "id": "8b9f6240",
   "metadata": {},
   "outputs": [
    {
     "name": "stdout",
     "output_type": "stream",
     "text": [
      "dict_keys(['x', 't'])\n"
     ]
    }
   ],
   "source": [
    "def preprocess(batch):\n",
    "    x, t = batch\n",
    "    data = {}\n",
    "    data['x'] = x.to(device)\n",
    "    data['t'] = t.to(device)\n",
    "    return data\n",
    "\n",
    "batch = next(iter(test_loader))\n",
    "data = preprocess(batch)\n",
    "print(data.keys())"
   ]
  },
  {
   "cell_type": "markdown",
   "id": "0ed481e4",
   "metadata": {},
   "source": [
    "### Load"
   ]
  },
  {
   "cell_type": "code",
   "execution_count": 8,
   "id": "444d37f5",
   "metadata": {},
   "outputs": [
    {
     "data": {
      "application/vnd.jupyter.widget-view+json": {
       "model_id": "02b36f138b8a4d5983bda615e1fdcd40",
       "version_major": 2,
       "version_minor": 0
      },
      "text/plain": [
       "0it [00:00, ?it/s]"
      ]
     },
     "metadata": {},
     "output_type": "display_data"
    }
   ],
   "source": [
    "from tqdm import tqdm_notebook as tqdm\n",
    "\n",
    "save_path = '/data/scpark/save/lse/train_celeba/train01.18-3e-3/save_200000'\n",
    "\n",
    "# warm start\n",
    "models_state_dict = torch.load(save_path, map_location=torch.device('cpu'))['models_state_dict']\n",
    "for i, model in tqdm(enumerate(model_list)):\n",
    "    model.load_state_dict(models_state_dict[i], strict=True)"
   ]
  },
  {
   "cell_type": "markdown",
   "id": "2b13d661",
   "metadata": {},
   "source": [
    "### Reconstruction Loss"
   ]
  },
  {
   "cell_type": "code",
   "execution_count": 9,
   "id": "1bc19b24",
   "metadata": {},
   "outputs": [
    {
     "data": {
      "application/vnd.jupyter.widget-view+json": {
       "model_id": "802b934e83a946b193d2d798c86f0a4f",
       "version_major": 2,
       "version_minor": 0
      },
      "text/plain": [
       "  0%|          | 0/1 [00:00<?, ?it/s]"
      ]
     },
     "metadata": {},
     "output_type": "display_data"
    },
    {
     "name": "stdout",
     "output_type": "stream",
     "text": [
      "Reconstruction Loss : 0.004637585487216711\n"
     ]
    }
   ],
   "source": [
    "z_list = []\n",
    "recon_loss_list = []\n",
    "for model in tqdm(model_list):\n",
    "    with torch.no_grad():\n",
    "        data = model(data, M=1)\n",
    "        z_list.append(data['z'])\n",
    "        recon_loss_list.append(data['recon_loss'].item())\n",
    "        \n",
    "print('Reconstruction Loss :', np.mean(recon_loss_list))"
   ]
  },
  {
   "cell_type": "markdown",
   "id": "81901766",
   "metadata": {},
   "source": [
    "### Get Scale"
   ]
  },
  {
   "cell_type": "code",
   "execution_count": 10,
   "id": "dbd90b1c",
   "metadata": {},
   "outputs": [
    {
     "name": "stdout",
     "output_type": "stream",
     "text": [
      "[tensor([0.9968, 0.9989, 0.9983, 0.9964, 0.9979, 0.9979, 0.9972, 0.9965, 0.9991,\n",
      "        0.9970, 0.9972, 0.9919, 0.9961, 0.9964, 0.9883, 0.9968, 0.9978, 0.9947,\n",
      "        0.9965, 0.9976, 0.9980, 0.9994, 0.9978, 0.9977, 0.9977, 0.9967, 0.9976,\n",
      "        0.9991, 0.9974, 0.9988, 0.9988, 0.9951, 0.9981, 0.9939, 0.9952, 0.9964,\n",
      "        0.9951, 0.9969, 0.9985, 0.9966, 0.9953, 0.9976, 0.9978, 0.9964, 0.9984,\n",
      "        0.9978, 0.9992, 0.9977, 0.9970, 0.9987, 0.9985, 0.9977, 0.9967, 0.9957,\n",
      "        0.9974, 0.9988, 0.9963, 0.9993, 0.9981, 0.9973, 0.9962, 0.9985, 0.9990,\n",
      "        0.9987, 0.9994, 0.9983, 0.9974, 0.9971, 0.9963, 0.9991, 0.9985, 0.9977,\n",
      "        0.9985, 0.9987, 0.9992, 0.9996, 0.9972, 0.9976, 0.9983, 0.9990, 0.9980,\n",
      "        0.9983, 0.9992, 0.9995, 0.9994, 0.9980, 0.9957, 0.9987, 0.9982, 0.9988,\n",
      "        0.9984, 0.9993, 0.9990, 0.9990, 0.9987, 0.9988, 0.9991, 0.9992, 0.9994,\n",
      "        0.9995, 0.9984, 0.9995, 0.9963, 0.9974, 0.9963, 0.9942, 0.9943, 0.9949,\n",
      "        0.9939, 0.9912, 0.9948, 0.9971, 0.9940, 0.9891, 0.9891, 0.9912, 0.9891,\n",
      "        0.9833, 0.9818, 0.9815, 0.9770, 0.9762, 0.9636, 0.9621, 0.9572, 0.9566,\n",
      "        0.9561, 0.9581], device='cuda:0')]\n"
     ]
    }
   ],
   "source": [
    "scale_list = []\n",
    "for z in z_list:\n",
    "    scale = (z.max(dim=0).values - z.min(dim=0).values) / 2\n",
    "    scale_list.append(scale)\n",
    "    \n",
    "print(scale_list)"
   ]
  },
  {
   "cell_type": "markdown",
   "id": "7e70fb9c",
   "metadata": {},
   "source": [
    "### MMD Test"
   ]
  },
  {
   "cell_type": "code",
   "execution_count": 13,
   "id": "67ed5d1f",
   "metadata": {},
   "outputs": [
    {
     "data": {
      "application/vnd.jupyter.widget-view+json": {
       "model_id": "412548f1a841476c842da632929dd878",
       "version_major": 2,
       "version_minor": 0
      },
      "text/plain": [
       "  0%|          | 0/1 [00:00<?, ?it/s]"
      ]
     },
     "metadata": {},
     "output_type": "display_data"
    },
    {
     "name": "stdout",
     "output_type": "stream",
     "text": [
      "MMD Loss : 0.0037233829498291016\n"
     ]
    }
   ],
   "source": [
    "from util.mmd_penalty import mmd_penalty\n",
    "\n",
    "opts = {'pz_scale': 1,\n",
    "        'mmd_kernel': 'RBF', # 'IMQ', 'RBF'\n",
    "        'pz': 'normal', # 'normal', 'sphere', 'uniform' \n",
    "        'zdim': hp.z_dim\n",
    "       }\n",
    "\n",
    "mmd_losses = []\n",
    "for z in tqdm(z_list):\n",
    "    prior = model_list[0].prior.sample(len(z), hp.z_dim)\n",
    "    mmd_loss = mmd_penalty(prior, z, opts)\n",
    "    mmd_losses.append(mmd_loss.item())\n",
    "    \n",
    "print('MMD Loss :', np.mean(mmd_losses))    "
   ]
  },
  {
   "cell_type": "code",
   "execution_count": 50,
   "id": "e655eb1c",
   "metadata": {},
   "outputs": [
    {
     "data": {
      "application/vnd.jupyter.widget-view+json": {
       "model_id": "420126815ed84c8ea76e5f71891266cd",
       "version_major": 2,
       "version_minor": 0
      },
      "text/plain": [
       "0it [00:00, ?it/s]"
      ]
     },
     "metadata": {},
     "output_type": "display_data"
    },
    {
     "name": "stdout",
     "output_type": "stream",
     "text": [
      "Corrected MMD Loss : 0.0014300346374511719\n"
     ]
    }
   ],
   "source": [
    "from util.mmd_penalty import mmd_penalty\n",
    "\n",
    "opts = {'pz_scale': 1,\n",
    "        'mmd_kernel': 'RBF', # 'IMQ', 'RBF'\n",
    "        'pz': 'normal', # 'normal', 'sphere', 'uniform' \n",
    "        'zdim': hp.z_dim\n",
    "       }\n",
    "\n",
    "mmd_losses = []\n",
    "for z, scale in tqdm(zip(z_list, scale_list)):\n",
    "    prior = model_list[0].prior.sample(len(z), hp.z_dim) * scale\n",
    "    mmd_loss = mmd_penalty(prior, z, opts)\n",
    "    mmd_losses.append(mmd_loss.item())\n",
    "    \n",
    "print('Corrected MMD Loss :', np.mean(mmd_losses))    "
   ]
  },
  {
   "cell_type": "markdown",
   "id": "12cf158b",
   "metadata": {},
   "source": [
    "### Cross NLL Test"
   ]
  },
  {
   "cell_type": "code",
   "execution_count": null,
   "id": "1d0ef69d",
   "metadata": {},
   "outputs": [
    {
     "data": {
      "application/vnd.jupyter.widget-view+json": {
       "model_id": "66e573678711476b9e1b8aad042d5f01",
       "version_major": 2,
       "version_minor": 0
      },
      "text/plain": [
       "  0%|          | 0/10 [00:00<?, ?it/s]"
      ]
     },
     "metadata": {},
     "output_type": "display_data"
    }
   ],
   "source": [
    "from util.loglikelihood import get_optimum_log_sigma, get_cross_nll\n",
    "\n",
    "cross_nll_list = []\n",
    "for _ in tqdm(range(10)):\n",
    "    cross_nlls = []\n",
    "    for z, model in zip(z_list, model_list):\n",
    "        p_samples1 = model.prior.sample(len(z), hp.z_dim)\n",
    "        p_samples2 = model.prior.sample(len(z), hp.z_dim)\n",
    "        log_sigma = get_optimum_log_sigma(p_samples1, p_samples2, min_log_sigma=-5, max_log_sigma=5)\n",
    "        p_samples1 = model.prior.sample(len(z), hp.z_dim)\n",
    "        cross_nll = get_cross_nll(p_samples1, z, log_sigma)\n",
    "        cross_nlls.append(cross_nll)\n",
    "    cross_nll = np.mean(cross_nlls)\n",
    "    cross_nll_list.append(cross_nll)\n",
    "    \n",
    "print('Cross NLL :', np.mean(cross_nll_list))"
   ]
  },
  {
   "cell_type": "code",
   "execution_count": null,
   "id": "dae19be9",
   "metadata": {},
   "outputs": [],
   "source": [
    "from util.loglikelihood import get_optimum_log_sigma, get_cross_nll\n",
    "\n",
    "cross_nll_list = []\n",
    "for _ in tqdm(range(10)):\n",
    "    cross_nlls = []\n",
    "    for z, model, scale in zip(z_list, model_list, scale_list):\n",
    "        p_samples1 = model.prior.sample(len(z), hp.z_dim) * scale\n",
    "        p_samples2 = model.prior.sample(len(z), hp.z_dim) * scale\n",
    "        log_sigma = get_optimum_log_sigma(p_samples1, p_samples2, min_log_sigma=-5, max_log_sigma=5)\n",
    "        p_samples1 = model.prior.sample(len(z), hp.z_dim) * scale\n",
    "        cross_nll = get_cross_nll(p_samples1, z, log_sigma)\n",
    "        cross_nlls.append(cross_nll)\n",
    "    cross_nll = np.mean(cross_nlls)\n",
    "    cross_nll_list.append(cross_nll)\n",
    "    \n",
    "print('Corrected Cross NLL :', np.mean(cross_nll_list))"
   ]
  },
  {
   "cell_type": "code",
   "execution_count": null,
   "id": "86c3a766",
   "metadata": {},
   "outputs": [],
   "source": []
  }
 ],
 "metadata": {
  "kernelspec": {
   "display_name": "Python 3 (ipykernel)",
   "language": "python",
   "name": "python3"
  },
  "language_info": {
   "codemirror_mode": {
    "name": "ipython",
    "version": 3
   },
   "file_extension": ".py",
   "mimetype": "text/x-python",
   "name": "python",
   "nbconvert_exporter": "python",
   "pygments_lexer": "ipython3",
   "version": "3.9.15"
  }
 },
 "nbformat": 4,
 "nbformat_minor": 5
}
