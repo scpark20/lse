{
 "cells": [
  {
   "cell_type": "code",
   "execution_count": 1,
   "id": "3b380d05",
   "metadata": {},
   "outputs": [],
   "source": [
    "import os\n",
    "os.chdir('../')\n",
    "\n",
    "import warnings\n",
    "warnings.filterwarnings('ignore')"
   ]
  },
  {
   "cell_type": "code",
   "execution_count": 2,
   "id": "5a0ed27e",
   "metadata": {
    "scrolled": true
   },
   "outputs": [
    {
     "name": "stdout",
     "output_type": "stream",
     "text": [
      "Wed Jan 24 12:17:16 2024       \n",
      "+-----------------------------------------------------------------------------+\n",
      "| NVIDIA-SMI 470.223.02   Driver Version: 470.223.02   CUDA Version: 11.4     |\n",
      "|-------------------------------+----------------------+----------------------+\n",
      "| GPU  Name        Persistence-M| Bus-Id        Disp.A | Volatile Uncorr. ECC |\n",
      "| Fan  Temp  Perf  Pwr:Usage/Cap|         Memory-Usage | GPU-Util  Compute M. |\n",
      "|                               |                      |               MIG M. |\n",
      "|===============================+======================+======================|\n",
      "|   0  NVIDIA A100 80G...  Off  | 00000000:1B:00.0 Off |                    0 |\n",
      "| N/A   33C    P0    43W / 300W |     35MiB / 80994MiB |      0%      Default |\n",
      "|                               |                      |             Disabled |\n",
      "+-------------------------------+----------------------+----------------------+\n",
      "|   1  NVIDIA A100 80G...  Off  | 00000000:1C:00.0 Off |                    0 |\n",
      "| N/A   65C    P0   276W / 300W |  24081MiB / 80994MiB |     96%      Default |\n",
      "|                               |                      |             Disabled |\n",
      "+-------------------------------+----------------------+----------------------+\n",
      "|   2  NVIDIA A100 80G...  Off  | 00000000:1D:00.0 Off |                    0 |\n",
      "| N/A   47C    P0    48W / 300W |     35MiB / 80994MiB |      0%      Default |\n",
      "|                               |                      |             Disabled |\n",
      "+-------------------------------+----------------------+----------------------+\n",
      "|   3  NVIDIA A100 80G...  Off  | 00000000:1E:00.0 Off |                    0 |\n",
      "| N/A   37C    P0   186W / 300W |   9829MiB / 80994MiB |     26%      Default |\n",
      "|                               |                      |             Disabled |\n",
      "+-------------------------------+----------------------+----------------------+\n",
      "|   4  NVIDIA A100 80G...  Off  | 00000000:89:00.0 Off |                    0 |\n",
      "| N/A   40C    P0    43W / 300W |     35MiB / 80994MiB |      0%      Default |\n",
      "|                               |                      |             Disabled |\n",
      "+-------------------------------+----------------------+----------------------+\n",
      "|   5  NVIDIA A100 80G...  Off  | 00000000:8A:00.0 Off |                    0 |\n",
      "| N/A   43C    P0    44W / 300W |     35MiB / 80994MiB |      0%      Default |\n",
      "|                               |                      |             Disabled |\n",
      "+-------------------------------+----------------------+----------------------+\n",
      "|   6  NVIDIA A100 80G...  Off  | 00000000:8B:00.0 Off |                    0 |\n",
      "| N/A   43C    P0    46W / 300W |     35MiB / 80994MiB |      0%      Default |\n",
      "|                               |                      |             Disabled |\n",
      "+-------------------------------+----------------------+----------------------+\n",
      "|   7  NVIDIA A100 80G...  Off  | 00000000:8C:00.0 Off |                    0 |\n",
      "| N/A   44C    P0    67W / 300W |     35MiB / 80994MiB |      0%      Default |\n",
      "|                               |                      |             Disabled |\n",
      "+-------------------------------+----------------------+----------------------+\n",
      "                                                                               \n",
      "+-----------------------------------------------------------------------------+\n",
      "| Processes:                                                                  |\n",
      "|  GPU   GI   CI        PID   Type   Process name                  GPU Memory |\n",
      "|        ID   ID                                                   Usage      |\n",
      "|=============================================================================|\n",
      "|    0   N/A  N/A      2426      G   /usr/lib/xorg/Xorg                 35MiB |\n",
      "|    1   N/A  N/A      2426      G   /usr/lib/xorg/Xorg                 35MiB |\n",
      "|    1   N/A  N/A   1738762      C   ...a3/envs/scpark/bin/python    24043MiB |\n",
      "|    2   N/A  N/A      2426      G   /usr/lib/xorg/Xorg                 35MiB |\n",
      "|    3   N/A  N/A      2426      G   /usr/lib/xorg/Xorg                 35MiB |\n",
      "|    3   N/A  N/A   1911460      C   ...a3/envs/scpark/bin/python     9791MiB |\n",
      "|    4   N/A  N/A      2426      G   /usr/lib/xorg/Xorg                 35MiB |\n",
      "|    5   N/A  N/A      2426      G   /usr/lib/xorg/Xorg                 35MiB |\n",
      "|    6   N/A  N/A      2426      G   /usr/lib/xorg/Xorg                 35MiB |\n",
      "|    7   N/A  N/A      2426      G   /usr/lib/xorg/Xorg                 35MiB |\n",
      "+-----------------------------------------------------------------------------+\n"
     ]
    }
   ],
   "source": [
    "import torch\n",
    "import torch.nn as nn\n",
    "import torch.nn.functional as F\n",
    "import numpy as np\n",
    "import os\n",
    "\n",
    "!nvidia-smi\n",
    "os.environ[\"CUDA_VISIBLE_DEVICES\"]=\"2\""
   ]
  },
  {
   "cell_type": "markdown",
   "id": "282baf85",
   "metadata": {},
   "source": [
    "### Model Parts"
   ]
  },
  {
   "cell_type": "code",
   "execution_count": 3,
   "id": "12bc0407",
   "metadata": {},
   "outputs": [],
   "source": [
    "from model.main.enc_prior_latent_quantizer_dec import Model\n",
    "from model.encoder.net_64_encoder import Encoder\n",
    "from model.prior.dalle_rand_prior import Prior\n",
    "from model.latent.dalle_lse_latent import Latent\n",
    "from model.quantizer.dalle_nearest_quantizer import Quantizer\n",
    "from model.decoder.net_64_decoder import Decoder\n",
    "\n",
    "from tensorboardX import SummaryWriter\n",
    "from util.util import *"
   ]
  },
  {
   "cell_type": "markdown",
   "id": "261f2799",
   "metadata": {},
   "source": [
    "### Model Init."
   ]
  },
  {
   "cell_type": "code",
   "execution_count": 4,
   "id": "bf0bd1a9",
   "metadata": {},
   "outputs": [
    {
     "name": "stdout",
     "output_type": "stream",
     "text": [
      "-0.5151515151515151\n"
     ]
    }
   ],
   "source": [
    "from easydict import EasyDict\n",
    "hp = EasyDict()\n",
    "hp.img_size = 64\n",
    "hp.batch_size = 64\n",
    "hp.n_resblocks = 6\n",
    "hp.z_dim = 64\n",
    "hp.n_prior_embeddings = 512\n",
    "hp.const_sigma = True\n",
    "hp.quantize = False\n",
    "hp.prior_mu = 0\n",
    "\n",
    "hp.M = hp.n_prior_embeddings\n",
    "hp.N = (hp.img_size//4)**2 * hp.batch_size\n",
    "\n",
    "''' Find Optimum Log-Sigma'''\n",
    "from util.loglikelihood import get_optimum_log_sigma\n",
    "\n",
    "p_samples1 = (torch.rand(hp.M, hp.z_dim)*2-1).cuda()\n",
    "p_samples2 = (torch.rand(hp.N, hp.z_dim)*2-1).cuda()\n",
    "log_sigmas = np.array([get_optimum_log_sigma(p_samples1, p_samples2) for _ in range(100)])\n",
    "optimum_log_sigma = np.median(log_sigmas)\n",
    "print(optimum_log_sigma)\n",
    "\n",
    "hp.init_log_sigma = optimum_log_sigma"
   ]
  },
  {
   "cell_type": "code",
   "execution_count": 5,
   "id": "935abe7f",
   "metadata": {},
   "outputs": [
    {
     "name": "stdout",
     "output_type": "stream",
     "text": [
      "encoder 1.2191162109375\n",
      "encoder.encoder 1.2191162109375\n",
      "prior 0.126953125\n",
      "latent 3.814697265625e-06\n",
      "quantizer 0.0\n",
      "decoder 1.0611686706542969\n",
      "decoder.decoder 1.0611686706542969\n",
      "done\n"
     ]
    }
   ],
   "source": [
    "step = 0\n",
    "device = 'cuda:0'\n",
    "\n",
    "model_list = []\n",
    "optimizer_list = []\n",
    "for i in range(1):\n",
    "    model = Model(Encoder(**hp), Prior(**hp), Latent(**hp), Quantizer(**hp), Decoder(**hp))\n",
    "    model = model.to(device)\n",
    "    model_list.append(model)\n",
    "    \n",
    "    optimizer = torch.optim.AdamW(model.parameters(), lr=1e-4)\n",
    "    optimizer_list.append(optimizer)\n",
    "\n",
    "for name, module in model.named_modules():\n",
    "    if len(name.split('.')) <= 2 and len(name) > 0:\n",
    "        print(name, get_size(module))\n",
    "\n",
    "print('done')"
   ]
  },
  {
   "cell_type": "markdown",
   "id": "37f4d60f",
   "metadata": {},
   "source": [
    "### Load"
   ]
  },
  {
   "cell_type": "code",
   "execution_count": 7,
   "id": "27598aca",
   "metadata": {
    "scrolled": true
   },
   "outputs": [
    {
     "name": "stdout",
     "output_type": "stream",
     "text": [
      "total 16108\r\n",
      "-rw-rw-r-- 1 scpark scpark       0  1월 24 12:18 events.out.tfevents.1706066297.GPUSVR11\r\n",
      "-rw-rw-r-- 1 scpark scpark 1242840  1월 24 12:17 events.out.tfevents.1706065404.GPUSVR11\r\n",
      "-rw-rw-r-- 1 scpark scpark 7477253  1월 24 12:17 save_8515\r\n",
      "-rw-rw-r-- 1 scpark scpark 7470716  1월 24 12:03 save_0\r\n",
      "-rw-rw-r-- 1 scpark scpark  254566  1월 24 11:59 events.out.tfevents.1706065002.GPUSVR11\r\n",
      "-rw-rw-r-- 1 scpark scpark      40  1월 24 11:56 events.out.tfevents.1706064899.GPUSVR11\r\n",
      "-rw-rw-r-- 1 scpark scpark   36004  1월 24 11:56 events.out.tfevents.1706064902.GPUSVR11\r\n"
     ]
    }
   ],
   "source": [
    "save_dir = '/data/scpark/save/lse/train_dalle/train01.19-7_uniform_noupdate/'\n",
    "\n",
    "!mkdir -p $save_dir\n",
    "!ls -lt $save_dir\n",
    "\n",
    "writer = SummaryWriter(save_dir)\n",
    "\n",
    "if True:\n",
    "    step, model_list, optimizer_list = load_model_list(save_dir, 8515, model_list, optimizer_list)"
   ]
  },
  {
   "cell_type": "markdown",
   "id": "788a993d",
   "metadata": {},
   "source": [
    "### Dataset"
   ]
  },
  {
   "cell_type": "code",
   "execution_count": 8,
   "id": "80f6cdf4",
   "metadata": {},
   "outputs": [
    {
     "name": "stdout",
     "output_type": "stream",
     "text": [
      "done\n"
     ]
    }
   ],
   "source": [
    "from torch.utils.data import DataLoader\n",
    "from torchvision import transforms\n",
    "from torchvision.datasets import CelebA\n",
    "\n",
    "class MyCelebA(CelebA):\n",
    "    \"\"\"\n",
    "    A work-around to address issues with pytorch's celebA dataset class.\n",
    "    \n",
    "    Download and Extract\n",
    "    URL : https://drive.google.com/file/d/1m8-EBPgi5MRubrm6iQjafK2QMHDBMSfJ/view?usp=sharing\n",
    "    \"\"\"\n",
    "    \n",
    "    def _check_integrity(self) -> bool:\n",
    "        return True\n",
    "\n",
    "root = '/data'\n",
    "train_transforms = transforms.Compose([transforms.RandomHorizontalFlip(),\n",
    "                                       transforms.CenterCrop(148),\n",
    "                                       transforms.Resize(hp.img_size),\n",
    "                                       transforms.ToTensor(),])\n",
    "train_dataset = MyCelebA(root, split='train', transform=train_transforms, download=False)\n",
    "train_loader = DataLoader(train_dataset, batch_size=64, shuffle=True)\n",
    "print('done')"
   ]
  },
  {
   "cell_type": "code",
   "execution_count": 9,
   "id": "d2b4796f",
   "metadata": {},
   "outputs": [],
   "source": [
    "def preprocess(batch):\n",
    "    x, t = batch\n",
    "    data = {}\n",
    "    data['x'] = x.to(device)\n",
    "    data['t'] = t.to(device)\n",
    "    return data"
   ]
  },
  {
   "cell_type": "markdown",
   "id": "0034ab95",
   "metadata": {},
   "source": [
    "### Train"
   ]
  },
  {
   "cell_type": "code",
   "execution_count": 10,
   "id": "f5f4ad10",
   "metadata": {},
   "outputs": [],
   "source": [
    "def plot(x):\n",
    "    _x = x.permute(0, 2, 3, 1).data.cpu().numpy()\n",
    "    plt.figure(figsize=[18, 4])\n",
    "    for i in range(8):\n",
    "        plt.subplot(1, 8, i+1)\n",
    "        plt.imshow(_x[i])\n",
    "        plt.xticks([])\n",
    "        plt.yticks([])\n",
    "    plt.show()"
   ]
  },
  {
   "cell_type": "code",
   "execution_count": 11,
   "id": "1a46898d",
   "metadata": {},
   "outputs": [],
   "source": [
    "def linear(start_value, end_value, current_index, start_index, end_index):\n",
    "    if current_index > end_index:\n",
    "        return end_value\n",
    "    if current_index < start_index:\n",
    "        return start_value\n",
    "\n",
    "    grad = (end_value - start_value) / (end_index - start_index)\n",
    "    y = start_value + grad * (current_index - start_index)\n",
    "\n",
    "    return y"
   ]
  },
  {
   "cell_type": "code",
   "execution_count": null,
   "id": "01c5cfbf",
   "metadata": {
    "scrolled": true
   },
   "outputs": [
    {
     "name": "stdout",
     "output_type": "stream",
     "text": [
      "8703\n",
      "lse_loss -52.10476303100586\n",
      "commit_loss 1.827502965927124\n",
      "recon_loss 0.008886346593499184\n",
      "8704\n",
      "lse_loss -52.15543746948242\n",
      "commit_loss 1.8582125902175903\n",
      "recon_loss 0.010195608250796795\n",
      "8705\n",
      "lse_loss -51.760746002197266\n",
      "commit_loss 1.8286817073822021\n",
      "recon_loss 0.009445110335946083\n",
      "8706\n",
      "lse_loss -52.006099700927734\n",
      "commit_loss 1.8523942232131958\n",
      "recon_loss 0.010671621188521385\n",
      "8707\n",
      "lse_loss -51.601802825927734\n",
      "commit_loss 1.8278061151504517\n",
      "recon_loss 0.010796694085001945\n",
      "8708\n",
      "lse_loss -51.779842376708984\n",
      "commit_loss 1.8687968254089355\n",
      "recon_loss 0.010626981034874916\n",
      "8709\n",
      "lse_loss -52.03950881958008\n",
      "commit_loss 1.820420503616333\n",
      "recon_loss 0.01098149549216032\n",
      "8710\n",
      "lse_loss -51.92646789550781\n",
      "commit_loss 1.8242251873016357\n",
      "recon_loss 0.0105097945779562\n",
      "8711\n",
      "lse_loss -51.972312927246094\n",
      "commit_loss 1.88237464427948\n",
      "recon_loss 0.009548413567245007\n",
      "8712\n",
      "lse_loss -51.93168258666992\n",
      "commit_loss 1.837350606918335\n",
      "recon_loss 0.009515109471976757\n"
     ]
    }
   ],
   "source": [
    "from IPython import display\n",
    "\n",
    "while True:\n",
    "    for batch in train_loader:\n",
    "        print(step)\n",
    "        \n",
    "        loss_dict = {}\n",
    "        for model, optimizer in zip(model_list, optimizer_list):\n",
    "            data = preprocess(batch)\n",
    "\n",
    "            # Forward\n",
    "            model.train()\n",
    "            model.zero_grad()\n",
    "            data = model(data, latent_temp=1)\n",
    "\n",
    "            # Backward\n",
    "            loss = 0\n",
    "            for key in data.keys():\n",
    "                if 'lse_loss' in key:\n",
    "                    loss = loss + data[key]\n",
    "                    if key in loss_dict:\n",
    "                        loss_dict[key].append(data[key].item())\n",
    "                    else:\n",
    "                        loss_dict[key] = [data[key].item()]\n",
    "                elif 'commit_loss' in key:\n",
    "                    loss = loss + data[key] * 0\n",
    "                    if key in loss_dict:\n",
    "                        loss_dict[key].append(data[key].item())\n",
    "                    else:\n",
    "                        loss_dict[key] = [data[key].item()]        \n",
    "                elif 'loss' in key:\n",
    "                    loss = loss + data[key]\n",
    "                    if key in loss_dict:\n",
    "                        loss_dict[key].append(data[key].item())\n",
    "                    else:\n",
    "                        loss_dict[key] = [data[key].item()]\n",
    "                    \n",
    "            loss.backward()\n",
    "            optimizer.step()\n",
    "            \n",
    "        for key in loss_dict:\n",
    "            writer.add_scalar(key, np.mean(loss_dict[key]), step)\n",
    "            print(key, np.mean(loss_dict[key]))\n",
    "        \n",
    "        if step % 1000 == 0:\n",
    "            \n",
    "            usage = ((data['belong'].sum(dim=0) > 0).sum() / hp.M).item()\n",
    "            writer.add_scalar('usage', usage, step)\n",
    "            \n",
    "            import matplotlib.pyplot as plt\n",
    "            display.clear_output()\n",
    "            \n",
    "            x = data['x']\n",
    "            y = data['y']\n",
    "            \n",
    "            plot(x)\n",
    "            plot(y)\n",
    "                        \n",
    "            grad = torch.softmax(data['matrix'], dim=0)\n",
    "            grad = grad.data.cpu().numpy()\n",
    "\n",
    "            import matplotlib.pyplot as plt\n",
    "\n",
    "            for i in np.random.randint(0, grad.shape[1], size=[10]):\n",
    "                plt.figure(figsize=[18, 1])\n",
    "                plt.plot(grad[:, i])\n",
    "                plt.grid()\n",
    "                plt.show()\n",
    "            \n",
    "            from sklearn.decomposition import PCA\n",
    "            pca = PCA(n_components=2)\n",
    "            e = model.prior.prior.data.cpu().numpy()\n",
    "            pca.fit(e)\n",
    "            e_pca = pca.transform(e)\n",
    "            z_pca = pca.transform(data['z'].permute(0, 2, 3, 1).reshape(-1, hp.z_dim).data.cpu().numpy())\n",
    "            plt.figure(figsize=[10, 10])\n",
    "            plt.scatter(e_pca[:, 0], e_pca[:, 1], marker='x', alpha=1.0, color='black')\n",
    "            plt.scatter(z_pca[:, 0], z_pca[:, 1], marker='o', alpha=0.01, color='blue')\n",
    "            plt.grid()\n",
    "            plt.show() \n",
    "            \n",
    "        if step % 10000 == 0:\n",
    "            save_model_list(save_dir, step, model_list, optimizer_list)\n",
    "                \n",
    "        step += 1\n",
    "        "
   ]
  },
  {
   "cell_type": "code",
   "execution_count": 14,
   "id": "fb82c37b",
   "metadata": {},
   "outputs": [
    {
     "name": "stdout",
     "output_type": "stream",
     "text": [
      "done\n"
     ]
    }
   ],
   "source": [
    "save_model_list(save_dir, step, model_list, optimizer_list)\n",
    "print('done')"
   ]
  },
  {
   "cell_type": "code",
   "execution_count": 20,
   "id": "3835659c",
   "metadata": {},
   "outputs": [
    {
     "data": {
      "text/plain": [
       "1.0"
      ]
     },
     "execution_count": 20,
     "metadata": {},
     "output_type": "execute_result"
    }
   ],
   "source": [
    "usage = ((data['belong'].sum(dim=0) > 0).sum() / hp.M).item()"
   ]
  },
  {
   "cell_type": "code",
   "execution_count": null,
   "id": "f0e72295",
   "metadata": {},
   "outputs": [],
   "source": []
  }
 ],
 "metadata": {
  "kernelspec": {
   "display_name": "Python 3 (ipykernel)",
   "language": "python",
   "name": "python3"
  },
  "language_info": {
   "codemirror_mode": {
    "name": "ipython",
    "version": 3
   },
   "file_extension": ".py",
   "mimetype": "text/x-python",
   "name": "python",
   "nbconvert_exporter": "python",
   "pygments_lexer": "ipython3",
   "version": "3.9.15"
  }
 },
 "nbformat": 4,
 "nbformat_minor": 5
}
