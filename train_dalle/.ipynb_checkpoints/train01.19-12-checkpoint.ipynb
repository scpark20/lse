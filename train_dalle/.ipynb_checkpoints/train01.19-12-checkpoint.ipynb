{
 "cells": [
  {
   "cell_type": "code",
   "execution_count": 1,
   "id": "3b380d05",
   "metadata": {},
   "outputs": [],
   "source": [
    "import os\n",
    "os.chdir('../')\n",
    "\n",
    "import warnings\n",
    "warnings.filterwarnings('ignore')"
   ]
  },
  {
   "cell_type": "code",
   "execution_count": 2,
   "id": "5a0ed27e",
   "metadata": {
    "scrolled": true
   },
   "outputs": [
    {
     "name": "stdout",
     "output_type": "stream",
     "text": [
      "Sat Jan 20 21:22:43 2024       \n",
      "+-----------------------------------------------------------------------------+\n",
      "| NVIDIA-SMI 470.223.02   Driver Version: 470.223.02   CUDA Version: 11.4     |\n",
      "|-------------------------------+----------------------+----------------------+\n",
      "| GPU  Name        Persistence-M| Bus-Id        Disp.A | Volatile Uncorr. ECC |\n",
      "| Fan  Temp  Perf  Pwr:Usage/Cap|         Memory-Usage | GPU-Util  Compute M. |\n",
      "|                               |                      |               MIG M. |\n",
      "|===============================+======================+======================|\n",
      "|   0  NVIDIA A100 80G...  Off  | 00000000:1B:00.0 Off |                    0 |\n",
      "| N/A   45C    P0    48W / 300W |     35MiB / 80994MiB |      0%      Default |\n",
      "|                               |                      |             Disabled |\n",
      "+-------------------------------+----------------------+----------------------+\n",
      "|   1  NVIDIA A100 80G...  Off  | 00000000:1C:00.0 Off |                    0 |\n",
      "| N/A   51C    P0    73W / 300W |     35MiB / 80994MiB |      0%      Default |\n",
      "|                               |                      |             Disabled |\n",
      "+-------------------------------+----------------------+----------------------+\n",
      "|   2  NVIDIA A100 80G...  Off  | 00000000:1D:00.0 Off |                    0 |\n",
      "| N/A   42C    P0    58W / 300W |     35MiB / 80994MiB |      0%      Default |\n",
      "|                               |                      |             Disabled |\n",
      "+-------------------------------+----------------------+----------------------+\n",
      "|   3  NVIDIA A100 80G...  Off  | 00000000:1E:00.0 Off |                    0 |\n",
      "| N/A   31C    P0    44W / 300W |     35MiB / 80994MiB |      0%      Default |\n",
      "|                               |                      |             Disabled |\n",
      "+-------------------------------+----------------------+----------------------+\n",
      "|   4  NVIDIA A100 80G...  Off  | 00000000:89:00.0 Off |                    0 |\n",
      "| N/A   42C    P0    49W / 300W |     35MiB / 80994MiB |      0%      Default |\n",
      "|                               |                      |             Disabled |\n",
      "+-------------------------------+----------------------+----------------------+\n",
      "|   5  NVIDIA A100 80G...  Off  | 00000000:8A:00.0 Off |                    0 |\n",
      "| N/A   43C    P0    45W / 300W |     35MiB / 80994MiB |      0%      Default |\n",
      "|                               |                      |             Disabled |\n",
      "+-------------------------------+----------------------+----------------------+\n",
      "|   6  NVIDIA A100 80G...  Off  | 00000000:8B:00.0 Off |                    0 |\n",
      "| N/A   44C    P0    66W / 300W |     35MiB / 80994MiB |      0%      Default |\n",
      "|                               |                      |             Disabled |\n",
      "+-------------------------------+----------------------+----------------------+\n",
      "|   7  NVIDIA A100 80G...  Off  | 00000000:8C:00.0 Off |                    0 |\n",
      "| N/A   44C    P0    58W / 300W |     35MiB / 80994MiB |      0%      Default |\n",
      "|                               |                      |             Disabled |\n",
      "+-------------------------------+----------------------+----------------------+\n",
      "                                                                               \n",
      "+-----------------------------------------------------------------------------+\n",
      "| Processes:                                                                  |\n",
      "|  GPU   GI   CI        PID   Type   Process name                  GPU Memory |\n",
      "|        ID   ID                                                   Usage      |\n",
      "|=============================================================================|\n",
      "|    0   N/A  N/A      2426      G   /usr/lib/xorg/Xorg                 35MiB |\n",
      "|    1   N/A  N/A      2426      G   /usr/lib/xorg/Xorg                 35MiB |\n",
      "|    2   N/A  N/A      2426      G   /usr/lib/xorg/Xorg                 35MiB |\n",
      "|    3   N/A  N/A      2426      G   /usr/lib/xorg/Xorg                 35MiB |\n",
      "|    4   N/A  N/A      2426      G   /usr/lib/xorg/Xorg                 35MiB |\n",
      "|    5   N/A  N/A      2426      G   /usr/lib/xorg/Xorg                 35MiB |\n",
      "|    6   N/A  N/A      2426      G   /usr/lib/xorg/Xorg                 35MiB |\n",
      "|    7   N/A  N/A      2426      G   /usr/lib/xorg/Xorg                 35MiB |\n",
      "+-----------------------------------------------------------------------------+\n"
     ]
    }
   ],
   "source": [
    "import torch\n",
    "import torch.nn as nn\n",
    "import torch.nn.functional as F\n",
    "import numpy as np\n",
    "import os\n",
    "\n",
    "!nvidia-smi\n",
    "os.environ[\"CUDA_VISIBLE_DEVICES\"]=\"1\""
   ]
  },
  {
   "cell_type": "markdown",
   "id": "282baf85",
   "metadata": {},
   "source": [
    "### Model Parts"
   ]
  },
  {
   "cell_type": "code",
   "execution_count": 3,
   "id": "12bc0407",
   "metadata": {},
   "outputs": [],
   "source": [
    "from model.main.enc_prior_latent_quantizer_dec import Model\n",
    "from model.encoder.net_64_encoder import Encoder\n",
    "from model.prior.randn_prior import Prior\n",
    "from model.latent.dalle_rev_lse_latent import Latent\n",
    "from model.quantizer.dalle_nearest_quantizer import Quantizer\n",
    "from model.decoder.net_64_decoder import Decoder\n",
    "\n",
    "from tensorboardX import SummaryWriter\n",
    "from util.util import *"
   ]
  },
  {
   "cell_type": "markdown",
   "id": "261f2799",
   "metadata": {},
   "source": [
    "### Model Init."
   ]
  },
  {
   "cell_type": "code",
   "execution_count": 4,
   "id": "bf0bd1a9",
   "metadata": {},
   "outputs": [],
   "source": [
    "from easydict import EasyDict\n",
    "hp = EasyDict()\n",
    "hp.img_size = 64\n",
    "hp.n_resblocks = 6\n",
    "hp.z_dim = 64\n",
    "hp.n_prior_embeddings = 512\n",
    "hp.init_log_sigma = -8\n",
    "hp.const_sigma = True\n",
    "hp.quantize = True"
   ]
  },
  {
   "cell_type": "code",
   "execution_count": 5,
   "id": "935abe7f",
   "metadata": {},
   "outputs": [
    {
     "name": "stdout",
     "output_type": "stream",
     "text": [
      "encoder 1.2191162109375\n",
      "encoder.encoder 1.2191162109375\n",
      "prior 0.126953125\n",
      "latent 3.814697265625e-06\n",
      "quantizer 0.0\n",
      "decoder 1.0611686706542969\n",
      "decoder.decoder 1.0611686706542969\n",
      "done\n"
     ]
    }
   ],
   "source": [
    "step = 0\n",
    "device = 'cuda:0'\n",
    "\n",
    "model_list = []\n",
    "optimizer_list = []\n",
    "for i in range(1):\n",
    "    model = Model(Encoder(**hp), Prior(**hp), Latent(**hp), Quantizer(**hp), Decoder(**hp))\n",
    "    model = model.to(device)\n",
    "    model_list.append(model)\n",
    "    \n",
    "    optimizer = torch.optim.AdamW(model.parameters(), lr=1e-4)\n",
    "    optimizer_list.append(optimizer)\n",
    "\n",
    "for name, module in model.named_modules():\n",
    "    if len(name.split('.')) <= 2 and len(name) > 0:\n",
    "        print(name, get_size(module))\n",
    "\n",
    "print('done')"
   ]
  },
  {
   "cell_type": "markdown",
   "id": "37f4d60f",
   "metadata": {},
   "source": [
    "### Load"
   ]
  },
  {
   "cell_type": "code",
   "execution_count": 6,
   "id": "27598aca",
   "metadata": {
    "scrolled": true
   },
   "outputs": [
    {
     "name": "stdout",
     "output_type": "stream",
     "text": [
      "total 10596\r\n",
      "-rw-rw-r-- 1 scpark scpark  166091  1월 20 21:22 events.out.tfevents.1705753088.GPUSVR11\r\n",
      "-rw-rw-r-- 1 scpark scpark 7470716  1월 20 21:18 save_0\r\n",
      "-rw-rw-r-- 1 scpark scpark  334420  1월 20 21:17 events.out.tfevents.1705752552.GPUSVR11\r\n",
      "-rw-rw-r-- 1 scpark scpark  361129  1월 20 21:08 events.out.tfevents.1705751781.GPUSVR11\r\n",
      "-rw-rw-r-- 1 scpark scpark  249541  1월 20 20:56 events.out.tfevents.1705751248.GPUSVR11\r\n",
      "-rw-rw-r-- 1 scpark scpark  211581  1월 20 20:47 events.out.tfevents.1705751096.GPUSVR11\r\n",
      "-rw-rw-r-- 1 scpark scpark  278157  1월 20 20:44 events.out.tfevents.1705750888.GPUSVR11\r\n",
      "-rw-rw-r-- 1 scpark scpark  374123  1월 20 20:27 events.out.tfevents.1705749787.GPUSVR11\r\n",
      "-rw-rw-r-- 1 scpark scpark   33417  1월 20 20:22 events.out.tfevents.1705749696.GPUSVR11\r\n",
      "-rw-rw-r-- 1 scpark scpark  290421  1월 20 20:21 events.out.tfevents.1705749471.GPUSVR11\r\n",
      "-rw-rw-r-- 1 scpark scpark      40  1월 20 20:17 events.out.tfevents.1705749412.GPUSVR11\r\n",
      "-rw-rw-r-- 1 scpark scpark      40  1월 20 20:16 events.out.tfevents.1705749359.GPUSVR11\r\n",
      "-rw-rw-r-- 1 scpark scpark  341273  1월 20 19:50 events.out.tfevents.1705747353.GPUSVR11\r\n",
      "-rw-rw-r-- 1 scpark scpark  159605  1월 20 19:42 events.out.tfevents.1705747132.GPUSVR11\r\n",
      "-rw-rw-r-- 1 scpark scpark      40  1월 20 19:38 events.out.tfevents.1705747097.GPUSVR11\r\n",
      "-rw-rw-r-- 1 scpark scpark      40  1월 20 19:38 events.out.tfevents.1705747055.GPUSVR11\r\n",
      "-rw-rw-r-- 1 scpark scpark  211289  1월 20 19:37 events.out.tfevents.1705746598.GPUSVR11\r\n",
      "-rw-rw-r-- 1 scpark scpark  138391  1월 20 19:29 events.out.tfevents.1705746296.GPUSVR11\r\n",
      "-rw-rw-r-- 1 scpark scpark  176541  1월 20 19:24 events.out.tfevents.1705745922.GPUSVR11\r\n"
     ]
    }
   ],
   "source": [
    "save_dir = '/data/scpark/save/lse/train_dalle/train01.19-12/'\n",
    "\n",
    "!mkdir -p $save_dir\n",
    "!ls -lt $save_dir\n",
    "\n",
    "writer = SummaryWriter(save_dir)\n",
    "\n",
    "if False:\n",
    "    step, model_list, optimizer_list = load_model_list(save_dir, 9473, model_list, optimizer_list)"
   ]
  },
  {
   "cell_type": "markdown",
   "id": "788a993d",
   "metadata": {},
   "source": [
    "### Dataset"
   ]
  },
  {
   "cell_type": "code",
   "execution_count": 7,
   "id": "80f6cdf4",
   "metadata": {},
   "outputs": [
    {
     "name": "stdout",
     "output_type": "stream",
     "text": [
      "done\n"
     ]
    }
   ],
   "source": [
    "from torch.utils.data import DataLoader\n",
    "from torchvision import transforms\n",
    "from torchvision.datasets import CelebA\n",
    "\n",
    "class MyCelebA(CelebA):\n",
    "    \"\"\"\n",
    "    A work-around to address issues with pytorch's celebA dataset class.\n",
    "    \n",
    "    Download and Extract\n",
    "    URL : https://drive.google.com/file/d/1m8-EBPgi5MRubrm6iQjafK2QMHDBMSfJ/view?usp=sharing\n",
    "    \"\"\"\n",
    "    \n",
    "    def _check_integrity(self) -> bool:\n",
    "        return True\n",
    "\n",
    "root = '/data'\n",
    "train_transforms = transforms.Compose([transforms.RandomHorizontalFlip(),\n",
    "                                       transforms.CenterCrop(148),\n",
    "                                       transforms.Resize(hp.img_size),\n",
    "                                       transforms.ToTensor(),])\n",
    "train_dataset = MyCelebA(root, split='train', transform=train_transforms, download=False)\n",
    "train_loader = DataLoader(train_dataset, batch_size=256, shuffle=True)\n",
    "print('done')"
   ]
  },
  {
   "cell_type": "code",
   "execution_count": 8,
   "id": "d2b4796f",
   "metadata": {},
   "outputs": [],
   "source": [
    "def preprocess(batch):\n",
    "    x, t = batch\n",
    "    data = {}\n",
    "    data['x'] = x.to(device)\n",
    "    data['t'] = t.to(device)\n",
    "    return data"
   ]
  },
  {
   "cell_type": "markdown",
   "id": "0034ab95",
   "metadata": {},
   "source": [
    "### Train"
   ]
  },
  {
   "cell_type": "code",
   "execution_count": 9,
   "id": "f5f4ad10",
   "metadata": {},
   "outputs": [],
   "source": [
    "def plot(x):\n",
    "    _x = x.permute(0, 2, 3, 1).data.cpu().numpy()\n",
    "    plt.figure(figsize=[18, 4])\n",
    "    for i in range(8):\n",
    "        plt.subplot(1, 8, i+1)\n",
    "        plt.imshow(_x[i])\n",
    "        plt.xticks([])\n",
    "        plt.yticks([])\n",
    "    plt.show()"
   ]
  },
  {
   "cell_type": "code",
   "execution_count": 10,
   "id": "1a46898d",
   "metadata": {},
   "outputs": [],
   "source": [
    "def linear(start_value, end_value, current_index, start_index, end_index):\n",
    "    if current_index > end_index:\n",
    "        return end_value\n",
    "    if current_index < start_index:\n",
    "        return start_value\n",
    "\n",
    "    grad = (end_value - start_value) / (end_index - start_index)\n",
    "    y = start_value + grad * (current_index - start_index)\n",
    "\n",
    "    return y"
   ]
  },
  {
   "cell_type": "code",
   "execution_count": null,
   "id": "01c5cfbf",
   "metadata": {
    "scrolled": false
   },
   "outputs": [
    {
     "name": "stdout",
     "output_type": "stream",
     "text": [
      "0\n"
     ]
    }
   ],
   "source": [
    "from IPython import display\n",
    "\n",
    "min_indices = set()\n",
    "while True:\n",
    "    for batch in train_loader:\n",
    "        print(step)\n",
    "        \n",
    "        loss_dict = {}\n",
    "        for model, optimizer in zip(model_list, optimizer_list):\n",
    "            data = preprocess(batch)\n",
    "\n",
    "            # Forward\n",
    "            model.train()\n",
    "            model.zero_grad()\n",
    "            latent_temp = linear(1, 1e-8, step, 0, 10*1000)\n",
    "            data = model(data, quant_temp=0, latent_temp=1)\n",
    "            min_indices.update(list(data['min_indices'].data.cpu().numpy()))\n",
    "\n",
    "            # Backward\n",
    "            loss = 0\n",
    "            for key in data.keys():\n",
    "                if 'lse1_loss' in key:\n",
    "                    loss = loss + data[key]# * linear(1, 0, step, 0, 5*1000)\n",
    "                    if key in loss_dict:\n",
    "                        loss_dict[key].append(data[key].item())\n",
    "                    else:\n",
    "                        loss_dict[key] = [data[key].item()]\n",
    "                elif 'lse2_loss' in key:\n",
    "                    loss = loss + data[key]# * linear(0, 1, step, 0, 5*1000)\n",
    "                    if key in loss_dict:\n",
    "                        loss_dict[key].append(data[key].item())\n",
    "                    else:\n",
    "                        loss_dict[key] = [data[key].item()]        \n",
    "                elif 'commit_loss' in key:\n",
    "                    loss = loss + data[key]*0 # * linear(0, 1, step, 0, 10*1000)\n",
    "                    if key in loss_dict:\n",
    "                        loss_dict[key].append(data[key].item())\n",
    "                    else:\n",
    "                        loss_dict[key] = [data[key].item()]        \n",
    "                elif 'loss' in key:\n",
    "                    loss = loss + data[key]\n",
    "                    if key in loss_dict:\n",
    "                        loss_dict[key].append(data[key].item())\n",
    "                    else:\n",
    "                        loss_dict[key] = [data[key].item()]\n",
    "                    \n",
    "            loss.backward()\n",
    "            optimizer.step()\n",
    "            \n",
    "        for key in loss_dict:\n",
    "            writer.add_scalar(key, np.mean(loss_dict[key]), step)\n",
    "            print(key, np.mean(loss_dict[key]))\n",
    "        \n",
    "        if step % 1000 == 0:\n",
    "            import matplotlib.pyplot as plt\n",
    "            display.clear_output()\n",
    "            \n",
    "            x = data['x']\n",
    "            y = data['y']\n",
    "            \n",
    "            plot(x)\n",
    "            plot(y)\n",
    "            \n",
    "            from sklearn.decomposition import PCA\n",
    "            pca = PCA(n_components=2)\n",
    "            e = model.prior.prior.data.cpu().numpy()\n",
    "            pca.fit(e)\n",
    "#             e_pca = pca.transform(e)\n",
    "#             ze_pca = pca.transform(data['ze'].permute(0, 2, 3, 1).reshape(-1, hp.z_dim).data.cpu().numpy())\n",
    "#             zq_pca = pca.transform(data['zq'].permute(0, 2, 3, 1).reshape(-1, hp.z_dim).data.cpu().numpy())\n",
    "            e_pca = e\n",
    "            ze_pca = data['ze'].permute(0, 2, 3, 1).reshape(-1, hp.z_dim).data.cpu().numpy()\n",
    "            zq_pca = data['zq'].permute(0, 2, 3, 1).reshape(-1, hp.z_dim).data.cpu().numpy()\n",
    "            plt.figure(figsize=[10, 10])\n",
    "            plt.scatter(e_pca[:, 0], e_pca[:, 1], marker='x', alpha=0.9, color='black')\n",
    "            plt.scatter(ze_pca[:, 0], ze_pca[:, 1], marker='o', alpha=0.1, color='green')\n",
    "            plt.scatter(zq_pca[:, 0], zq_pca[:, 1], marker='o', alpha=0.1, color='red')\n",
    "            plt.grid()\n",
    "            plt.show() \n",
    "            \n",
    "            usage = len(min_indices) / hp.n_prior_embeddings\n",
    "            writer.add_scalar('usage', usage, step)\n",
    "            min_indices = set()\n",
    "    \n",
    "        if step % 10000 == 0:\n",
    "            save_model_list(save_dir, step, model_list, optimizer_list)\n",
    "                \n",
    "        step += 1\n",
    "        "
   ]
  },
  {
   "cell_type": "code",
   "execution_count": null,
   "id": "fb82c37b",
   "metadata": {},
   "outputs": [],
   "source": [
    "save_model_list(save_dir, step, model_list, optimizer_list)\n",
    "print('done')"
   ]
  },
  {
   "cell_type": "code",
   "execution_count": null,
   "id": "b30cdc53",
   "metadata": {},
   "outputs": [],
   "source": [
    "import matplotlib.pyplot as plt\n",
    "display.clear_output()\n",
    "\n",
    "data = preprocess(batch)\n",
    "\n",
    "# Forward\n",
    "model.train()\n",
    "model.zero_grad()\n",
    "quant_temp = linear(1, 0, step, 0, 5*1000)\n",
    "data = model(data, quant_temp=quant_temp, latent_temp=1)\n",
    "\n",
    "x = data['x']\n",
    "y = data['y']\n",
    "\n",
    "plot(x)\n",
    "plot(y)\n",
    "\n",
    "from sklearn.decomposition import PCA\n",
    "pca = PCA(n_components=2)\n",
    "e = model.prior.prior.data.cpu().numpy()\n",
    "pca.fit(e)\n",
    "e_pca = pca.transform(e)\n",
    "ze_pca = pca.transform(data['ze'].permute(0, 2, 3, 1).reshape(-1, hp.z_dim).data.cpu().numpy())\n",
    "zq_pca = pca.transform(data['zq'].permute(0, 2, 3, 1).reshape(-1, hp.z_dim).data.cpu().numpy())\n",
    "plt.figure(figsize=[10, 10])\n",
    "plt.scatter(e_pca[:, 0], e_pca[:, 1], marker='x', alpha=0.9, color='black')\n",
    "plt.scatter(ze_pca[:, 0], ze_pca[:, 1], marker='o', alpha=0.1, color='green')\n",
    "plt.scatter(zq_pca[:, 0], zq_pca[:, 1], marker='o', alpha=0.1, color='red')\n",
    "plt.grid()\n",
    "plt.show() \n",
    "\n",
    "usage = len(min_indices) / hp.n_prior_embeddings\n",
    "writer.add_scalar('usage', usage, step)\n",
    "min_indices = set()"
   ]
  },
  {
   "cell_type": "code",
   "execution_count": null,
   "id": "dbc7b254",
   "metadata": {},
   "outputs": [],
   "source": []
  },
  {
   "cell_type": "code",
   "execution_count": null,
   "id": "5a86b2fd",
   "metadata": {},
   "outputs": [],
   "source": []
  },
  {
   "cell_type": "code",
   "execution_count": null,
   "id": "a92ea63c",
   "metadata": {},
   "outputs": [],
   "source": []
  }
 ],
 "metadata": {
  "kernelspec": {
   "display_name": "Python 3 (ipykernel)",
   "language": "python",
   "name": "python3"
  },
  "language_info": {
   "codemirror_mode": {
    "name": "ipython",
    "version": 3
   },
   "file_extension": ".py",
   "mimetype": "text/x-python",
   "name": "python",
   "nbconvert_exporter": "python",
   "pygments_lexer": "ipython3",
   "version": "3.9.15"
  }
 },
 "nbformat": 4,
 "nbformat_minor": 5
}
