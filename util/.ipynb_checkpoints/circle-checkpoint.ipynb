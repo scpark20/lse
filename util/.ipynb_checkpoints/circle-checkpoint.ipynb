{
 "cells": [
  {
   "cell_type": "code",
   "execution_count": 1,
   "id": "847bd692",
   "metadata": {},
   "outputs": [],
   "source": [
    "import torch\n",
    "import numpy as np\n",
    "\n",
    "def generate_circle_data_torch(n_points, radius=1.0):\n",
    "    # Create an array of angles from 0 to 2*pi\n",
    "    angles = torch.linspace(0, 2 * torch.pi, steps=n_points)\n",
    "    \n",
    "    # Calculate the x and y coordinates\n",
    "    x = radius * torch.cos(angles)\n",
    "    y = radius * torch.sin(angles)\n",
    "    \n",
    "    # Stack the coordinates together into an n x 2 tensor\n",
    "    points = torch.stack((x, y), dim=1)\n",
    "    \n",
    "    return points"
   ]
  },
  {
   "cell_type": "code",
   "execution_count": 3,
   "id": "2dc924f0",
   "metadata": {},
   "outputs": [
    {
     "data": {
      "text/plain": [
       "torch.Size([10, 2])"
      ]
     },
     "execution_count": 3,
     "metadata": {},
     "output_type": "execute_result"
    }
   ],
   "source": [
    "generate_circle_data_torch(10).shape"
   ]
  },
  {
   "cell_type": "code",
   "execution_count": null,
   "id": "0981d906",
   "metadata": {},
   "outputs": [],
   "source": []
  }
 ],
 "metadata": {
  "kernelspec": {
   "display_name": "Python 3 (ipykernel)",
   "language": "python",
   "name": "python3"
  },
  "language_info": {
   "codemirror_mode": {
    "name": "ipython",
    "version": 3
   },
   "file_extension": ".py",
   "mimetype": "text/x-python",
   "name": "python",
   "nbconvert_exporter": "python",
   "pygments_lexer": "ipython3",
   "version": "3.9.15"
  }
 },
 "nbformat": 4,
 "nbformat_minor": 5
}
