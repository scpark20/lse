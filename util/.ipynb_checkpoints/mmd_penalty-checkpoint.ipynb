{
 "cells": [
  {
   "cell_type": "code",
   "execution_count": 1,
   "id": "0eee6690",
   "metadata": {},
   "outputs": [],
   "source": [
    "import torch\n",
    "from mmd_penalty import mmd_penalty"
   ]
  },
  {
   "cell_type": "code",
   "execution_count": 2,
   "id": "e6363219",
   "metadata": {},
   "outputs": [
    {
     "ename": "RuntimeError",
     "evalue": "t() expects a tensor with <= 2 dimensions, but self is 3D",
     "output_type": "error",
     "traceback": [
      "\u001b[0;31m---------------------------------------------------------------------------\u001b[0m",
      "\u001b[0;31mRuntimeError\u001b[0m                              Traceback (most recent call last)",
      "Cell \u001b[0;32mIn[2], line 9\u001b[0m\n\u001b[1;32m      2\u001b[0m e \u001b[38;5;241m=\u001b[39m torch\u001b[38;5;241m.\u001b[39mrandn(\u001b[38;5;241m2\u001b[39m, \u001b[38;5;241m1000\u001b[39m, \u001b[38;5;241m16\u001b[39m)\n\u001b[1;32m      3\u001b[0m opts \u001b[38;5;241m=\u001b[39m {\u001b[38;5;124m'\u001b[39m\u001b[38;5;124mpz_scale\u001b[39m\u001b[38;5;124m'\u001b[39m: \u001b[38;5;241m1\u001b[39m,\n\u001b[1;32m      4\u001b[0m         \u001b[38;5;124m'\u001b[39m\u001b[38;5;124mmmd_kernel\u001b[39m\u001b[38;5;124m'\u001b[39m: \u001b[38;5;124m'\u001b[39m\u001b[38;5;124mIMQ\u001b[39m\u001b[38;5;124m'\u001b[39m, \u001b[38;5;66;03m# 'IMQ', 'RBF'\u001b[39;00m\n\u001b[1;32m      5\u001b[0m         \u001b[38;5;124m'\u001b[39m\u001b[38;5;124mpz\u001b[39m\u001b[38;5;124m'\u001b[39m: \u001b[38;5;124m'\u001b[39m\u001b[38;5;124muniform\u001b[39m\u001b[38;5;124m'\u001b[39m, \u001b[38;5;66;03m# 'normal', 'sphere', 'uniform'\u001b[39;00m\n\u001b[1;32m      6\u001b[0m         \u001b[38;5;124m'\u001b[39m\u001b[38;5;124mzdim\u001b[39m\u001b[38;5;124m'\u001b[39m: z\u001b[38;5;241m.\u001b[39mshape[\u001b[38;5;241m1\u001b[39m]\n\u001b[1;32m      7\u001b[0m        }\n\u001b[0;32m----> 9\u001b[0m \u001b[43mmmd_penalty\u001b[49m\u001b[43m(\u001b[49m\u001b[43mz\u001b[49m\u001b[43m,\u001b[49m\u001b[43m \u001b[49m\u001b[43me\u001b[49m\u001b[43m,\u001b[49m\u001b[43m \u001b[49m\u001b[43mopts\u001b[49m\u001b[43m)\u001b[49m\n",
      "File \u001b[0;32m~/lse/util/mmd_penalty.py:11\u001b[0m, in \u001b[0;36mmmd_penalty\u001b[0;34m(sample_qz, sample_pz, opts)\u001b[0m\n\u001b[1;32m      8\u001b[0m half_size \u001b[38;5;241m=\u001b[39m (n \u001b[38;5;241m*\u001b[39m n \u001b[38;5;241m-\u001b[39m n) \u001b[38;5;241m/\u001b[39m\u001b[38;5;241m/\u001b[39m \u001b[38;5;241m2\u001b[39m\n\u001b[1;32m     10\u001b[0m norms_pz \u001b[38;5;241m=\u001b[39m torch\u001b[38;5;241m.\u001b[39msum(sample_pz \u001b[38;5;241m*\u001b[39m\u001b[38;5;241m*\u001b[39m \u001b[38;5;241m2\u001b[39m, dim\u001b[38;5;241m=\u001b[39m\u001b[38;5;241m1\u001b[39m, keepdim\u001b[38;5;241m=\u001b[39m\u001b[38;5;28;01mTrue\u001b[39;00m)\n\u001b[0;32m---> 11\u001b[0m dotprods_pz \u001b[38;5;241m=\u001b[39m torch\u001b[38;5;241m.\u001b[39mmm(sample_pz, \u001b[43msample_pz\u001b[49m\u001b[38;5;241;43m.\u001b[39;49m\u001b[43mt\u001b[49m\u001b[43m(\u001b[49m\u001b[43m)\u001b[49m)\n\u001b[1;32m     12\u001b[0m distances_pz \u001b[38;5;241m=\u001b[39m norms_pz \u001b[38;5;241m+\u001b[39m norms_pz\u001b[38;5;241m.\u001b[39mt() \u001b[38;5;241m-\u001b[39m \u001b[38;5;241m2\u001b[39m \u001b[38;5;241m*\u001b[39m dotprods_pz\n\u001b[1;32m     14\u001b[0m norms_qz \u001b[38;5;241m=\u001b[39m torch\u001b[38;5;241m.\u001b[39msum(sample_qz \u001b[38;5;241m*\u001b[39m\u001b[38;5;241m*\u001b[39m \u001b[38;5;241m2\u001b[39m, dim\u001b[38;5;241m=\u001b[39m\u001b[38;5;241m1\u001b[39m, keepdim\u001b[38;5;241m=\u001b[39m\u001b[38;5;28;01mTrue\u001b[39;00m)\n",
      "\u001b[0;31mRuntimeError\u001b[0m: t() expects a tensor with <= 2 dimensions, but self is 3D"
     ]
    }
   ],
   "source": [
    "z = torch.randn(2, 1000, 16)\n",
    "e = torch.randn(2, 1000, 16)\n",
    "opts = {'pz_scale': 1,\n",
    "        'mmd_kernel': 'IMQ', # 'IMQ', 'RBF'\n",
    "        'pz': 'uniform', # 'normal', 'sphere', 'uniform'\n",
    "        'zdim': z.shape[1]\n",
    "       }\n",
    "\n",
    "mmd_penalty(z, e, opts)"
   ]
  },
  {
   "cell_type": "code",
   "execution_count": 4,
   "id": "dfa2dbda",
   "metadata": {},
   "outputs": [],
   "source": [
    "import torch\n",
    "from mmd_penalty_multi import mmd_penalty_multi\n",
    "\n",
    "z = torch.randn(2, 1000, 16)\n",
    "e = torch.randn(2, 1000, 16)\n",
    "opts = {'pz_scale': 1,\n",
    "        'mmd_kernel': 'IMQ', # 'IMQ', 'RBF'\n",
    "        'pz': 'uniform', # 'normal', 'sphere', 'uniform'\n",
    "        'zdim': z.shape[1]\n",
    "       }\n",
    "\n",
    "mmd_penalty(z, e, opts)"
   ]
  },
  {
   "cell_type": "code",
   "execution_count": null,
   "id": "b08d306c",
   "metadata": {},
   "outputs": [],
   "source": []
  }
 ],
 "metadata": {
  "kernelspec": {
   "display_name": "ste",
   "language": "python",
   "name": "ste"
  },
  "language_info": {
   "codemirror_mode": {
    "name": "ipython",
    "version": 3
   },
   "file_extension": ".py",
   "mimetype": "text/x-python",
   "name": "python",
   "nbconvert_exporter": "python",
   "pygments_lexer": "ipython3",
   "version": "3.12.1"
  }
 },
 "nbformat": 4,
 "nbformat_minor": 5
}
