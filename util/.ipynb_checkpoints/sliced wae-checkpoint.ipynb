{
 "cells": [
  {
   "cell_type": "code",
   "execution_count": 4,
   "id": "166a942c",
   "metadata": {},
   "outputs": [
    {
     "ename": "ImportError",
     "evalue": "cannot import name 'sliced_wasserstein_distance' from 'SWAE_Emperical' (/home/scpark/lse/util/SWAE_Emperical.py)",
     "output_type": "error",
     "traceback": [
      "\u001b[0;31m---------------------------------------------------------------------------\u001b[0m",
      "\u001b[0;31mImportError\u001b[0m                               Traceback (most recent call last)",
      "Cell \u001b[0;32mIn[4], line 1\u001b[0m\n\u001b[0;32m----> 1\u001b[0m \u001b[38;5;28;01mfrom\u001b[39;00m \u001b[38;5;21;01mSWAE_Emperical\u001b[39;00m \u001b[38;5;28;01mimport\u001b[39;00m sliced_wasserstein_distance\n",
      "\u001b[0;31mImportError\u001b[0m: cannot import name 'sliced_wasserstein_distance' from 'SWAE_Emperical' (/home/scpark/lse/util/SWAE_Emperical.py)"
     ]
    }
   ],
   "source": [
    "from SWAE_Emperical import sliced_wasserstein_distance"
   ]
  },
  {
   "cell_type": "code",
   "execution_count": null,
   "id": "f68908a1",
   "metadata": {},
   "outputs": [],
   "source": []
  }
 ],
 "metadata": {
  "kernelspec": {
   "display_name": "Python 3 (ipykernel)",
   "language": "python",
   "name": "python3"
  },
  "language_info": {
   "codemirror_mode": {
    "name": "ipython",
    "version": 3
   },
   "file_extension": ".py",
   "mimetype": "text/x-python",
   "name": "python",
   "nbconvert_exporter": "python",
   "pygments_lexer": "ipython3",
   "version": "3.9.15"
  }
 },
 "nbformat": 4,
 "nbformat_minor": 5
}
