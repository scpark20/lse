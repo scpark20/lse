{
 "cells": [
  {
   "cell_type": "code",
   "execution_count": 46,
   "id": "a4454417",
   "metadata": {},
   "outputs": [],
   "source": [
    "import torch\n",
    "import numpy as np\n",
    "\n",
    "def get_nll(p_samples, q_samples, log_sigma):\n",
    "    # p_samples : (M, z)\n",
    "    # q_samples : (N, z)\n",
    "    M = len(p_samples)\n",
    "    N = len(q_samples)\n",
    "    z_dim = p_samples.shape[1]\n",
    "    \n",
    "    # (N, M)\n",
    "    distance = torch.norm(q_samples.unsqueeze(1) - p_samples.unsqueeze(0), dim=2) ** 2\n",
    "    alpha = -1/(2*np.exp(log_sigma)**2)\n",
    "    nll = -torch.mean(torch.logsumexp(alpha*distance, dim=0))\n",
    "    nll = nll + 0.5*z_dim*(2*log_sigma-np.log(np.e)) + np.log(N)\n",
    "    \n",
    "    return nll.item()\n",
    "\n",
    "def get_optimum_log_sigma(p_samples1, p_samples2, min_log_sigma=-3, max_log_sigma=3):\n",
    "    log_sigmas = np.linspace(-3, 3, 100)\n",
    "    nlls = np.array([get_nll(p_samples1, p_samples2, log_sigma) for log_sigma in log_sigmas])\n",
    "    return log_sigmas[np.argmin(nlls)]\n",
    "\n",
    "def get_cross_nll(p_samples, q_samples, log_sigma):\n",
    "    nll_p2q = get_nll(p_samples, q_samples, log_sigma)\n",
    "    nll_q2p = get_nll(q_samples, p_samples, log_sigma)\n",
    "    return (nll_p2q + nll_q2p) / 2\n",
    "    "
   ]
  },
  {
   "cell_type": "code",
   "execution_count": 47,
   "id": "94b74ef5",
   "metadata": {},
   "outputs": [
    {
     "name": "stdout",
     "output_type": "stream",
     "text": [
      "-1.3636363636363635\n",
      "0.008036613464355469\n"
     ]
    }
   ],
   "source": [
    "p_samples1 = torch.randn(10000, 2)\n",
    "p_samples2 = torch.randn(10000, 2)\n",
    "q_samples = torch.randn(10000, 2)\n",
    "log_sigma = get_optimum_log_sigma(p_samples1, p_samples2)\n",
    "print(log_sigma)\n",
    "cross_nll = get_cross_nll(p_samples, q_samples, log_sigma)\n",
    "print(cross_nll)"
   ]
  },
  {
   "cell_type": "code",
   "execution_count": null,
   "id": "a418b6f2",
   "metadata": {},
   "outputs": [],
   "source": []
  }
 ],
 "metadata": {
  "kernelspec": {
   "display_name": "Python 3 (ipykernel)",
   "language": "python",
   "name": "python3"
  },
  "language_info": {
   "codemirror_mode": {
    "name": "ipython",
    "version": 3
   },
   "file_extension": ".py",
   "mimetype": "text/x-python",
   "name": "python",
   "nbconvert_exporter": "python",
   "pygments_lexer": "ipython3",
   "version": "3.9.12"
  }
 },
 "nbformat": 4,
 "nbformat_minor": 5
}
