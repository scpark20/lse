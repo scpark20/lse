{
 "cells": [
  {
   "cell_type": "code",
   "execution_count": null,
   "id": "8b1da733",
   "metadata": {
    "scrolled": true
   },
   "outputs": [],
   "source": [
    "import torch\n",
    "import torch.nn as nn\n",
    "import torch.nn.functional as F\n",
    "import numpy as np\n",
    "import os\n",
    "import time\n",
    "\n",
    "!nvidia-smi\n",
    "os.environ[\"CUDA_VISIBLE_DEVICES\"]=\"0\""
   ]
  },
  {
   "cell_type": "code",
   "execution_count": null,
   "id": "4c20d6df",
   "metadata": {},
   "outputs": [],
   "source": [
    "def get_kl(M, N, k, post_sigma, elem_sigma, prior_sigma=1.0):\n",
    "    # z : (M, z)\n",
    "    # mu : (N, z)\n",
    "    \n",
    "    z = torch.randn(M, k).cuda() * prior_sigma\n",
    "    mu = torch.randn(N, k).cuda() * post_sigma\n",
    "    \n",
    "    # (M, N) = sum((M, 1, z) - (1, N, z), dim=2)\n",
    "    distance = torch.norm(z.unsqueeze(1) - mu.unsqueeze(0), dim=2) ** 2\n",
    "    \n",
    "    loss = -torch.mean(torch.logsumexp(-1/(2*elem_sigma**2) * distance, dim=1))\n",
    "    return loss.item()"
   ]
  },
  {
   "cell_type": "code",
   "execution_count": null,
   "id": "f99ffa03",
   "metadata": {},
   "outputs": [],
   "source": [
    "from tqdm import tqdm\n",
    "\n",
    "M = 1024\n",
    "Ns = np.array([2**i for i in range(0, 18)])\n",
    "ks = [1, 2, 4, 8, 16]\n",
    "post_sigmas = np.arange(0.0, 2.0, 0.01)\n",
    "elem_sigma = 1e-1\n",
    "\n",
    "while True:\n",
    "    results = np.array([[[get_kl(M, N, k, post_sigma, elem_sigma) for k in ks] for N in Ns] for post_sigma in post_sigmas])\n",
    "    exp_id = 'normal_' + str(int(time.time() * 1000))\n",
    "    filename = 'exps_lse/' + exp_id + '.npz'\n",
    "    np.savez(filename, results)"
   ]
  },
  {
   "cell_type": "code",
   "execution_count": null,
   "id": "cce6eb95",
   "metadata": {},
   "outputs": [],
   "source": []
  },
  {
   "cell_type": "code",
   "execution_count": null,
   "id": "94567e4e",
   "metadata": {},
   "outputs": [],
   "source": []
  },
  {
   "cell_type": "code",
   "execution_count": null,
   "id": "bf8acd0e",
   "metadata": {},
   "outputs": [],
   "source": []
  }
 ],
 "metadata": {
  "kernelspec": {
   "display_name": "Python 3 (ipykernel)",
   "language": "python",
   "name": "python3"
  },
  "language_info": {
   "codemirror_mode": {
    "name": "ipython",
    "version": 3
   },
   "file_extension": ".py",
   "mimetype": "text/x-python",
   "name": "python",
   "nbconvert_exporter": "python",
   "pygments_lexer": "ipython3",
   "version": "3.9.12"
  }
 },
 "nbformat": 4,
 "nbformat_minor": 5
}
