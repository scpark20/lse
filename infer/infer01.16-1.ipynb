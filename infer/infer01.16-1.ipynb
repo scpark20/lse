{
 "cells": [
  {
   "cell_type": "code",
   "execution_count": 1,
   "id": "b4bc9cf6",
   "metadata": {},
   "outputs": [],
   "source": [
    "import os\n",
    "os.chdir('../')\n",
    "\n",
    "import warnings\n",
    "warnings.filterwarnings('ignore')"
   ]
  },
  {
   "cell_type": "code",
   "execution_count": 4,
   "id": "8c64d7ac",
   "metadata": {
    "scrolled": true
   },
   "outputs": [
    {
     "name": "stdout",
     "output_type": "stream",
     "text": [
      "Wed Jan 17 15:05:41 2024       \n",
      "+-----------------------------------------------------------------------------+\n",
      "| NVIDIA-SMI 470.223.02   Driver Version: 470.223.02   CUDA Version: 11.4     |\n",
      "|-------------------------------+----------------------+----------------------+\n",
      "| GPU  Name        Persistence-M| Bus-Id        Disp.A | Volatile Uncorr. ECC |\n",
      "| Fan  Temp  Perf  Pwr:Usage/Cap|         Memory-Usage | GPU-Util  Compute M. |\n",
      "|                               |                      |               MIG M. |\n",
      "|===============================+======================+======================|\n",
      "|   0  NVIDIA A100 80G...  Off  | 00000000:1B:00.0 Off |                    0 |\n",
      "| N/A   43C    P0    46W / 300W |     35MiB / 80994MiB |      0%      Default |\n",
      "|                               |                      |             Disabled |\n",
      "+-------------------------------+----------------------+----------------------+\n",
      "|   1  NVIDIA A100 80G...  Off  | 00000000:1C:00.0 Off |                    0 |\n",
      "| N/A   44C    P0    45W / 300W |     35MiB / 80994MiB |      0%      Default |\n",
      "|                               |                      |             Disabled |\n",
      "+-------------------------------+----------------------+----------------------+\n",
      "|   2  NVIDIA A100 80G...  Off  | 00000000:1D:00.0 Off |                    0 |\n",
      "| N/A   42C    P0    46W / 300W |     35MiB / 80994MiB |      0%      Default |\n",
      "|                               |                      |             Disabled |\n",
      "+-------------------------------+----------------------+----------------------+\n",
      "|   3  NVIDIA A100 80G...  Off  | 00000000:1E:00.0 Off |                    0 |\n",
      "| N/A   38C    P0    44W / 300W |     35MiB / 80994MiB |      0%      Default |\n",
      "|                               |                      |             Disabled |\n",
      "+-------------------------------+----------------------+----------------------+\n",
      "|   4  NVIDIA A100 80G...  Off  | 00000000:89:00.0 Off |                    0 |\n",
      "| N/A   45C    P0    65W / 300W |  28595MiB / 80994MiB |      0%      Default |\n",
      "|                               |                      |             Disabled |\n",
      "+-------------------------------+----------------------+----------------------+\n",
      "|   5  NVIDIA A100 80G...  Off  | 00000000:8A:00.0 Off |                    0 |\n",
      "| N/A   46C    P0    64W / 300W |  21799MiB / 80994MiB |      0%      Default |\n",
      "|                               |                      |             Disabled |\n",
      "+-------------------------------+----------------------+----------------------+\n",
      "|   6  NVIDIA A100 80G...  Off  | 00000000:8B:00.0 Off |                    0 |\n",
      "| N/A   46C    P0    66W / 300W |  21637MiB / 80994MiB |      0%      Default |\n",
      "|                               |                      |             Disabled |\n",
      "+-------------------------------+----------------------+----------------------+\n",
      "|   7  NVIDIA A100 80G...  Off  | 00000000:8C:00.0 Off |                    0 |\n",
      "| N/A   45C    P0    68W / 300W |  21761MiB / 80994MiB |      0%      Default |\n",
      "|                               |                      |             Disabled |\n",
      "+-------------------------------+----------------------+----------------------+\n",
      "                                                                               \n",
      "+-----------------------------------------------------------------------------+\n",
      "| Processes:                                                                  |\n",
      "|  GPU   GI   CI        PID   Type   Process name                  GPU Memory |\n",
      "|        ID   ID                                                   Usage      |\n",
      "|=============================================================================|\n",
      "|    0   N/A  N/A      2426      G   /usr/lib/xorg/Xorg                 35MiB |\n",
      "|    1   N/A  N/A      2426      G   /usr/lib/xorg/Xorg                 35MiB |\n",
      "|    2   N/A  N/A      2426      G   /usr/lib/xorg/Xorg                 35MiB |\n",
      "|    3   N/A  N/A      2426      G   /usr/lib/xorg/Xorg                 35MiB |\n",
      "|    4   N/A  N/A      2426      G   /usr/lib/xorg/Xorg                 35MiB |\n",
      "|    4   N/A  N/A    105907      C   python                          28557MiB |\n",
      "|    5   N/A  N/A      2426      G   /usr/lib/xorg/Xorg                 35MiB |\n",
      "|    5   N/A  N/A    105907      C   python                          21761MiB |\n",
      "|    6   N/A  N/A      2426      G   /usr/lib/xorg/Xorg                 35MiB |\n",
      "|    6   N/A  N/A    105907      C   python                          21599MiB |\n",
      "|    7   N/A  N/A      2426      G   /usr/lib/xorg/Xorg                 35MiB |\n",
      "|    7   N/A  N/A    105907      C   python                          21723MiB |\n",
      "+-----------------------------------------------------------------------------+\n"
     ]
    }
   ],
   "source": [
    "import torch\n",
    "import torch.nn as nn\n",
    "import torch.nn.functional as F\n",
    "import numpy as np\n",
    "import os\n",
    "\n",
    "!nvidia-smi\n",
    "os.environ[\"CUDA_VISIBLE_DEVICES\"]=\"1\"\n",
    "\n",
    "device = 'cuda:0'"
   ]
  },
  {
   "cell_type": "markdown",
   "id": "446f9b75",
   "metadata": {},
   "source": [
    "### Dataset"
   ]
  },
  {
   "cell_type": "code",
   "execution_count": 5,
   "id": "70536d5a",
   "metadata": {},
   "outputs": [
    {
     "name": "stdout",
     "output_type": "stream",
     "text": [
      "dict_keys(['x', 't'])\n"
     ]
    }
   ],
   "source": [
    "from torchvision import datasets, transforms\n",
    "from torch.utils.data import DataLoader\n",
    "\n",
    "# Transformations applied on each image\n",
    "transform = transforms.Compose([\n",
    "    transforms.Resize((64, 64)),  # Resize the image to 32x32\n",
    "    transforms.ToTensor(),         # Convert the image to a PyTorch tensor\n",
    "    transforms.Normalize((0.5), (0.5)) \n",
    "])\n",
    "\n",
    "# Load the MNIST dataset\n",
    "mnist_trainset = datasets.MNIST(root='./data', train=True, download=True, transform=transform)\n",
    "mnist_testset = datasets.MNIST(root='./data', train=False, download=True, transform=transform)\n",
    "\n",
    "### Preprocess\n",
    "def preprocess(batch):\n",
    "    x, t = batch\n",
    "    data = {}\n",
    "    data['x'] = x.to(device)\n",
    "    data['t'] = t.to(device)\n",
    "    return data\n",
    "\n",
    "# Create data loaders\n",
    "# train_loader = DataLoader(mnist_trainset, batch_size=60000, shuffle=False)\n",
    "# batch = next(iter(train_loader))\n",
    "# data = preprocess(batch)\n",
    "# print(data.keys())\n",
    "\n",
    "test_loader = DataLoader(mnist_testset, batch_size=10000, shuffle=False)\n",
    "batch = next(iter(test_loader))\n",
    "data = preprocess(batch)\n",
    "print(data.keys())"
   ]
  },
  {
   "cell_type": "markdown",
   "id": "63122e11",
   "metadata": {},
   "source": [
    "### Model Parts"
   ]
  },
  {
   "cell_type": "code",
   "execution_count": 6,
   "id": "6f0727e7",
   "metadata": {},
   "outputs": [],
   "source": [
    "from model.main.enc_prior_latent_dec import Model\n",
    "from model.encoder.conv2d_vae_encoder import Encoder\n",
    "from model.prior.normal_prior import Prior\n",
    "from model.latent.vae_latent import Latent\n",
    "from model.decoder.conv2d_decoder import Decoder\n",
    "\n",
    "from tensorboardX import SummaryWriter\n",
    "from util.util import *"
   ]
  },
  {
   "cell_type": "markdown",
   "id": "280148ab",
   "metadata": {},
   "source": [
    "### Model Init."
   ]
  },
  {
   "cell_type": "code",
   "execution_count": 7,
   "id": "84c00e60",
   "metadata": {},
   "outputs": [],
   "source": [
    "from easydict import EasyDict\n",
    "hp = EasyDict()\n",
    "hp.size = 64\n",
    "hp.in_dim = 1\n",
    "hp.out_dim = 1\n",
    "hp.z_dim = 2\n",
    "hp.h_dims = [32, 64, 128, 256, 512]"
   ]
  },
  {
   "cell_type": "code",
   "execution_count": 8,
   "id": "2431c86c",
   "metadata": {},
   "outputs": [
    {
     "name": "stdout",
     "output_type": "stream",
     "text": [
      "done\n"
     ]
    }
   ],
   "source": [
    "model_list = []\n",
    "for i in range(10):\n",
    "    model = Model(Encoder(**hp), Prior(**hp), Latent(**hp), Decoder(**hp))\n",
    "    model = model.to(device)\n",
    "    model_list.append(model)\n",
    "    \n",
    "print('done')"
   ]
  },
  {
   "cell_type": "markdown",
   "id": "a7006d6e",
   "metadata": {},
   "source": [
    "### Load"
   ]
  },
  {
   "cell_type": "code",
   "execution_count": 9,
   "id": "20534ae1",
   "metadata": {
    "scrolled": true
   },
   "outputs": [
    {
     "data": {
      "application/vnd.jupyter.widget-view+json": {
       "model_id": "b7fe935e62534bb0a22518567e95b45d",
       "version_major": 2,
       "version_minor": 0
      },
      "text/plain": [
       "0it [00:00, ?it/s]"
      ]
     },
     "metadata": {},
     "output_type": "display_data"
    }
   ],
   "source": [
    "from tqdm import tqdm_notebook as tqdm\n",
    "\n",
    "save_path = '/data/scpark/save/lse/train01.16-1/save_200000'\n",
    "\n",
    "# warm start\n",
    "models_state_dict = torch.load(save_path, map_location=torch.device('cpu'))['models_state_dict']\n",
    "for i, model in tqdm(enumerate(model_list)):\n",
    "    model.load_state_dict(models_state_dict[i], strict=True)"
   ]
  },
  {
   "cell_type": "markdown",
   "id": "b441c5ab",
   "metadata": {},
   "source": [
    "### Reconstruction Loss"
   ]
  },
  {
   "cell_type": "code",
   "execution_count": 10,
   "id": "38f26fb9",
   "metadata": {},
   "outputs": [
    {
     "data": {
      "application/vnd.jupyter.widget-view+json": {
       "model_id": "a96dc5d7d4d547689fd91b730d725c19",
       "version_major": 2,
       "version_minor": 0
      },
      "text/plain": [
       "  0%|          | 0/10 [00:00<?, ?it/s]"
      ]
     },
     "metadata": {},
     "output_type": "display_data"
    },
    {
     "name": "stdout",
     "output_type": "stream",
     "text": [
      "Reconstruction Loss : 0.11852998808026313\n"
     ]
    }
   ],
   "source": [
    "z_list = []\n",
    "recon_loss_list = []\n",
    "for model in tqdm(model_list):\n",
    "    with torch.no_grad():\n",
    "        data = model(data, M=1)\n",
    "        z_list.append(data['z'])\n",
    "        recon_loss_list.append(data['recon_loss'].item())\n",
    "        \n",
    "print('Reconstruction Loss :', np.mean(recon_loss_list))"
   ]
  },
  {
   "cell_type": "markdown",
   "id": "6ffe090a",
   "metadata": {},
   "source": [
    "### Get Standard Deviation"
   ]
  },
  {
   "cell_type": "code",
   "execution_count": 32,
   "id": "fa0e0488",
   "metadata": {},
   "outputs": [
    {
     "name": "stdout",
     "output_type": "stream",
     "text": [
      "[tensor([1.0309, 0.9236], device='cuda:0'), tensor([1.0037, 1.0224], device='cuda:0'), tensor([0.9793, 1.0563], device='cuda:0'), tensor([1.0021, 0.9769], device='cuda:0'), tensor([0.9473, 0.9381], device='cuda:0'), tensor([0.9784, 1.0290], device='cuda:0'), tensor([0.9630, 0.9790], device='cuda:0'), tensor([0.9562, 1.0233], device='cuda:0'), tensor([0.9675, 1.0722], device='cuda:0'), tensor([0.9499, 1.0495], device='cuda:0')]\n"
     ]
    }
   ],
   "source": [
    "std_list = []\n",
    "for z in z_list:\n",
    "    std = z.std(dim=0)\n",
    "    std_list.append(std)\n",
    "    \n",
    "print(std_list)"
   ]
  },
  {
   "cell_type": "markdown",
   "id": "c61b25d5",
   "metadata": {},
   "source": [
    "### MMD Test"
   ]
  },
  {
   "cell_type": "code",
   "execution_count": 11,
   "id": "2cff6d7c",
   "metadata": {},
   "outputs": [
    {
     "data": {
      "application/vnd.jupyter.widget-view+json": {
       "model_id": "1d664db8b70142948d45fe2d0e0d1da3",
       "version_major": 2,
       "version_minor": 0
      },
      "text/plain": [
       "  0%|          | 0/10 [00:00<?, ?it/s]"
      ]
     },
     "metadata": {},
     "output_type": "display_data"
    },
    {
     "name": "stdout",
     "output_type": "stream",
     "text": [
      "MMD Loss : 0.0015865325927734374\n"
     ]
    }
   ],
   "source": [
    "from util.mmd_penalty import mmd_penalty\n",
    "\n",
    "opts = {'pz_scale': 1,\n",
    "        'mmd_kernel': 'RBF', # 'IMQ', 'RBF'\n",
    "        'pz': 'normal', # 'normal', 'sphere', 'uniform' \n",
    "        'zdim': hp.z_dim\n",
    "       }\n",
    "\n",
    "mmd_losses = []\n",
    "for z in tqdm(z_list):\n",
    "    prior = model_list[0].prior.sample(len(z), hp.z_dim)\n",
    "    mmd_loss = mmd_penalty(prior, z, opts)\n",
    "    mmd_losses.append(mmd_loss.item())\n",
    "    \n",
    "print('MMD Loss :', np.mean(mmd_losses))    "
   ]
  },
  {
   "cell_type": "code",
   "execution_count": 34,
   "id": "5e590474",
   "metadata": {},
   "outputs": [
    {
     "data": {
      "application/vnd.jupyter.widget-view+json": {
       "model_id": "f42ce90fa2444f4e954a0bc9498883c4",
       "version_major": 2,
       "version_minor": 0
      },
      "text/plain": [
       "0it [00:00, ?it/s]"
      ]
     },
     "metadata": {},
     "output_type": "display_data"
    },
    {
     "name": "stdout",
     "output_type": "stream",
     "text": [
      "Corrected MMD Loss : 0.0015040159225463868\n"
     ]
    }
   ],
   "source": [
    "from util.mmd_penalty import mmd_penalty\n",
    "\n",
    "opts = {'pz_scale': 1,\n",
    "        'mmd_kernel': 'RBF', # 'IMQ', 'RBF'\n",
    "        'pz': 'normal', # 'normal', 'sphere', 'uniform' \n",
    "        'zdim': hp.z_dim\n",
    "       }\n",
    "\n",
    "mmd_losses = []\n",
    "for z, std in tqdm(zip(z_list, std_list)):\n",
    "    prior = model_list[0].prior.sample(len(z), hp.z_dim) * std\n",
    "    mmd_loss = mmd_penalty(prior, z, opts)\n",
    "    mmd_losses.append(mmd_loss.item())\n",
    "    \n",
    "print('Corrected MMD Loss :', np.mean(mmd_losses))    "
   ]
  },
  {
   "cell_type": "markdown",
   "id": "cf946464",
   "metadata": {},
   "source": [
    "### Cross NLL Test"
   ]
  },
  {
   "cell_type": "code",
   "execution_count": 55,
   "id": "6a191abb",
   "metadata": {},
   "outputs": [
    {
     "data": {
      "application/vnd.jupyter.widget-view+json": {
       "model_id": "71f14257b2e44f70902ff688c942bc8d",
       "version_major": 2,
       "version_minor": 0
      },
      "text/plain": [
       "  0%|          | 0/10 [00:00<?, ?it/s]"
      ]
     },
     "metadata": {},
     "output_type": "display_data"
    },
    {
     "name": "stdout",
     "output_type": "stream",
     "text": [
      "Cross NLL : 0.08085236072540283\n"
     ]
    }
   ],
   "source": [
    "from util.loglikelihood import get_optimum_log_sigma, get_cross_nll\n",
    "\n",
    "cross_nll_list = []\n",
    "for _ in tqdm(range(10)):\n",
    "    cross_nlls = []\n",
    "    for z, model in zip(z_list, model_list):\n",
    "        p_samples1 = model.prior.sample(len(z), hp.z_dim)\n",
    "        p_samples2 = model.prior.sample(len(z), hp.z_dim)\n",
    "        log_sigma = get_optimum_log_sigma(p_samples1, p_samples2, min_log_sigma=-5, max_log_sigma=5)\n",
    "        p_samples1 = model.prior.sample(len(z), hp.z_dim)\n",
    "        cross_nll = get_cross_nll(p_samples1, z, log_sigma)\n",
    "        cross_nlls.append(cross_nll)\n",
    "    cross_nll = np.mean(cross_nlls)\n",
    "    cross_nll_list.append(cross_nll)\n",
    "    \n",
    "print('Cross NLL :', np.mean(cross_nll_list))"
   ]
  },
  {
   "cell_type": "code",
   "execution_count": 57,
   "id": "923a4a62",
   "metadata": {},
   "outputs": [
    {
     "data": {
      "application/vnd.jupyter.widget-view+json": {
       "model_id": "d3fb98cf2b3f4acb958ea7c2e42bb734",
       "version_major": 2,
       "version_minor": 0
      },
      "text/plain": [
       "  0%|          | 0/10 [00:00<?, ?it/s]"
      ]
     },
     "metadata": {},
     "output_type": "display_data"
    },
    {
     "name": "stdout",
     "output_type": "stream",
     "text": [
      "Corrected Cross NLL : 0.06522700309753418\n"
     ]
    }
   ],
   "source": [
    "from util.loglikelihood import get_optimum_log_sigma, get_cross_nll\n",
    "\n",
    "cross_nll_list = []\n",
    "for _ in tqdm(range(10)):\n",
    "    cross_nlls = []\n",
    "    for z, model, std in zip(z_list, model_list, std_list):\n",
    "        p_samples1 = model.prior.sample(len(z), hp.z_dim) * std\n",
    "        p_samples2 = model.prior.sample(len(z), hp.z_dim) * std\n",
    "        log_sigma = get_optimum_log_sigma(p_samples1, p_samples2, min_log_sigma=-5, max_log_sigma=5)\n",
    "        p_samples1 = model.prior.sample(len(z), hp.z_dim) * std\n",
    "        cross_nll = get_cross_nll(p_samples1, z, log_sigma)\n",
    "        cross_nlls.append(cross_nll)\n",
    "    cross_nll = np.mean(cross_nlls)\n",
    "    cross_nll_list.append(cross_nll)\n",
    "    \n",
    "print('Corrected Cross NLL :', np.mean(cross_nll_list))"
   ]
  },
  {
   "cell_type": "code",
   "execution_count": null,
   "id": "005ef1ef",
   "metadata": {},
   "outputs": [],
   "source": []
  }
 ],
 "metadata": {
  "kernelspec": {
   "display_name": "Python 3 (ipykernel)",
   "language": "python",
   "name": "python3"
  },
  "language_info": {
   "codemirror_mode": {
    "name": "ipython",
    "version": 3
   },
   "file_extension": ".py",
   "mimetype": "text/x-python",
   "name": "python",
   "nbconvert_exporter": "python",
   "pygments_lexer": "ipython3",
   "version": "3.9.15"
  }
 },
 "nbformat": 4,
 "nbformat_minor": 5
}
