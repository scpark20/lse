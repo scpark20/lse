{
 "cells": [
  {
   "cell_type": "code",
   "execution_count": 1,
   "id": "c2e28116",
   "metadata": {},
   "outputs": [],
   "source": [
    "import os\n",
    "os.chdir('../')\n",
    "\n",
    "import warnings\n",
    "warnings.filterwarnings('ignore')"
   ]
  },
  {
   "cell_type": "code",
   "execution_count": 2,
   "id": "48ac919e",
   "metadata": {
    "scrolled": true
   },
   "outputs": [
    {
     "name": "stdout",
     "output_type": "stream",
     "text": [
      "Fri Jan 12 19:00:31 2024       \n",
      "+-----------------------------------------------------------------------------+\n",
      "| NVIDIA-SMI 525.147.05   Driver Version: 525.147.05   CUDA Version: 12.0     |\n",
      "|-------------------------------+----------------------+----------------------+\n",
      "| GPU  Name        Persistence-M| Bus-Id        Disp.A | Volatile Uncorr. ECC |\n",
      "| Fan  Temp  Perf  Pwr:Usage/Cap|         Memory-Usage | GPU-Util  Compute M. |\n",
      "|                               |                      |               MIG M. |\n",
      "|===============================+======================+======================|\n",
      "|   0  NVIDIA RTX A5000    Off  | 00000000:1B:00.0 Off |                    0 |\n",
      "| 30%   23C    P8    16W / 230W |      8MiB / 23028MiB |      0%      Default |\n",
      "|                               |                      |                  N/A |\n",
      "+-------------------------------+----------------------+----------------------+\n",
      "|   1  NVIDIA RTX A5000    Off  | 00000000:1C:00.0 Off |                  Off |\n",
      "| 30%   58C    P2   170W / 230W |   8328MiB / 24564MiB |     51%      Default |\n",
      "|                               |                      |                  N/A |\n",
      "+-------------------------------+----------------------+----------------------+\n",
      "|   2  NVIDIA RTX A5000    Off  | 00000000:1D:00.0 Off |                  Off |\n",
      "| 36%   65C    P2   220W / 230W |  16370MiB / 24564MiB |     95%      Default |\n",
      "|                               |                      |                  N/A |\n",
      "+-------------------------------+----------------------+----------------------+\n",
      "|   3  NVIDIA RTX A5000    Off  | 00000000:1E:00.0 Off |                  Off |\n",
      "| 33%   62C    P2   215W / 230W |  12488MiB / 24564MiB |     77%      Default |\n",
      "|                               |                      |                  N/A |\n",
      "+-------------------------------+----------------------+----------------------+\n",
      "|   4  NVIDIA RTX A5000    Off  | 00000000:89:00.0 Off |                  Off |\n",
      "| 31%   61C    P2   195W / 230W |   8328MiB / 24564MiB |     53%      Default |\n",
      "|                               |                      |                  N/A |\n",
      "+-------------------------------+----------------------+----------------------+\n",
      "|   5  NVIDIA RTX A5000    Off  | 00000000:8A:00.0 Off |                  Off |\n",
      "| 30%   59C    P2   179W / 230W |   8328MiB / 24564MiB |     50%      Default |\n",
      "|                               |                      |                  N/A |\n",
      "+-------------------------------+----------------------+----------------------+\n",
      "|   6  NVIDIA RTX A5000    Off  | 00000000:8B:00.0 Off |                  Off |\n",
      "| 30%   57C    P2   170W / 230W |   8328MiB / 24564MiB |     48%      Default |\n",
      "|                               |                      |                  N/A |\n",
      "+-------------------------------+----------------------+----------------------+\n",
      "|   7  NVIDIA RTX A5000    Off  | 00000000:8C:00.0 Off |                  Off |\n",
      "| 30%   58C    P2   177W / 230W |   8328MiB / 24564MiB |     50%      Default |\n",
      "|                               |                      |                  N/A |\n",
      "+-------------------------------+----------------------+----------------------+\n",
      "                                                                               \n",
      "+-----------------------------------------------------------------------------+\n",
      "| Processes:                                                                  |\n",
      "|  GPU   GI   CI        PID   Type   Process name                  GPU Memory |\n",
      "|        ID   ID                                                   Usage      |\n",
      "|=============================================================================|\n",
      "|    0   N/A  N/A      4537      G   /usr/lib/xorg/Xorg                  4MiB |\n",
      "|    1   N/A  N/A      4537      G   /usr/lib/xorg/Xorg                  4MiB |\n",
      "|    1   N/A  N/A   2089195      C   ...onda3/envs/ste/bin/python     4160MiB |\n",
      "|    1   N/A  N/A   2092312      C   ...onda3/envs/ste/bin/python     4160MiB |\n",
      "|    2   N/A  N/A      4537      G   /usr/lib/xorg/Xorg                  4MiB |\n",
      "|    2   N/A  N/A   2082643      C   ...onda3/envs/ste/bin/python     3882MiB |\n",
      "|    2   N/A  N/A   2088594      C   ...onda3/envs/ste/bin/python     4160MiB |\n",
      "|    2   N/A  N/A   2091839      C   ...onda3/envs/ste/bin/python     4160MiB |\n",
      "|    2   N/A  N/A   2092311      C   ...onda3/envs/ste/bin/python     4160MiB |\n",
      "|    3   N/A  N/A      4537      G   /usr/lib/xorg/Xorg                  4MiB |\n",
      "|    3   N/A  N/A   2088668      C   ...onda3/envs/ste/bin/python     4160MiB |\n",
      "|    3   N/A  N/A   2089123      C   ...onda3/envs/ste/bin/python     4160MiB |\n",
      "|    3   N/A  N/A   2091853      C   ...onda3/envs/ste/bin/python     4160MiB |\n",
      "|    4   N/A  N/A      4537      G   /usr/lib/xorg/Xorg                  4MiB |\n",
      "|    4   N/A  N/A   2088774      C   ...onda3/envs/ste/bin/python     4160MiB |\n",
      "|    4   N/A  N/A   2091883      C   ...onda3/envs/ste/bin/python     4160MiB |\n",
      "|    5   N/A  N/A      4537      G   /usr/lib/xorg/Xorg                  4MiB |\n",
      "|    5   N/A  N/A   2088860      C   ...onda3/envs/ste/bin/python     4160MiB |\n",
      "|    5   N/A  N/A   2092005      C   ...onda3/envs/ste/bin/python     4160MiB |\n",
      "|    6   N/A  N/A      4537      G   /usr/lib/xorg/Xorg                  4MiB |\n",
      "|    6   N/A  N/A   2088936      C   ...onda3/envs/ste/bin/python     4160MiB |\n",
      "|    6   N/A  N/A   2092033      C   ...onda3/envs/ste/bin/python     4160MiB |\n",
      "|    7   N/A  N/A      4537      G   /usr/lib/xorg/Xorg                  4MiB |\n",
      "|    7   N/A  N/A   2089024      C   ...onda3/envs/ste/bin/python     4160MiB |\n",
      "|    7   N/A  N/A   2092162      C   ...onda3/envs/ste/bin/python     4160MiB |\n",
      "+-----------------------------------------------------------------------------+\n"
     ]
    }
   ],
   "source": [
    "import torch\n",
    "import torch.nn as nn\n",
    "import torch.nn.functional as F\n",
    "import numpy as np\n",
    "import os\n",
    "\n",
    "!nvidia-smi\n",
    "os.environ[\"CUDA_VISIBLE_DEVICES\"]=\"0\"\n",
    "\n",
    "device = 'cuda:0'"
   ]
  },
  {
   "cell_type": "markdown",
   "id": "5459cbe4",
   "metadata": {},
   "source": [
    "### Dataset"
   ]
  },
  {
   "cell_type": "code",
   "execution_count": 3,
   "id": "619805ff",
   "metadata": {},
   "outputs": [
    {
     "name": "stdout",
     "output_type": "stream",
     "text": [
      "done\n"
     ]
    }
   ],
   "source": [
    "from torchvision import datasets, transforms\n",
    "from torch.utils.data import DataLoader\n",
    "\n",
    "# Transformations applied on each image\n",
    "transform = transforms.Compose([\n",
    "    transforms.Resize((64, 64)),  # Resize the image to 32x32\n",
    "    transforms.ToTensor(),         # Convert the image to a PyTorch tensor\n",
    "    transforms.Normalize((0.5), (0.5)) \n",
    "])\n",
    "\n",
    "# Load the MNIST dataset\n",
    "mnist_testset = datasets.MNIST(root='./data', train=False, download=True, transform=transform)\n",
    "\n",
    "# Create data loaders\n",
    "test_loader = DataLoader(mnist_testset, batch_size=10000, shuffle=False)\n",
    "print('done')"
   ]
  },
  {
   "cell_type": "code",
   "execution_count": 4,
   "id": "9275efb1",
   "metadata": {},
   "outputs": [],
   "source": [
    "### Preprocess\n",
    "def preprocess(batch):\n",
    "    x, t = batch\n",
    "    data = {}\n",
    "    data['x'] = x.to(device)\n",
    "    data['t'] = t.to(device)\n",
    "    return data"
   ]
  },
  {
   "cell_type": "code",
   "execution_count": 5,
   "id": "c76cfa8d",
   "metadata": {},
   "outputs": [
    {
     "name": "stdout",
     "output_type": "stream",
     "text": [
      "dict_keys(['x', 't'])\n"
     ]
    }
   ],
   "source": [
    "batch = next(iter(test_loader))\n",
    "data = preprocess(batch)\n",
    "print(data.keys())"
   ]
  },
  {
   "cell_type": "markdown",
   "id": "b1efd053",
   "metadata": {},
   "source": [
    "### Model Parts"
   ]
  },
  {
   "cell_type": "code",
   "execution_count": 6,
   "id": "af1c5041",
   "metadata": {},
   "outputs": [],
   "source": [
    "from model.main.enc_latent_dec import Model\n",
    "from model.encoder.conv2d_encoder import Encoder\n",
    "from model.latent_layer.lse_latent_layer import LatentLayer\n",
    "from model.decoder.conv2d_decoder import Decoder\n",
    "\n",
    "from tensorboardX import SummaryWriter\n",
    "from util.util import *"
   ]
  },
  {
   "cell_type": "markdown",
   "id": "507f8923",
   "metadata": {},
   "source": [
    "### Model Init."
   ]
  },
  {
   "cell_type": "code",
   "execution_count": 7,
   "id": "9cd7a5e5",
   "metadata": {},
   "outputs": [],
   "source": [
    "from easydict import EasyDict\n",
    "hp = EasyDict()\n",
    "hp.size = 64\n",
    "hp.in_dim = 1\n",
    "hp.out_dim = 1\n",
    "hp.z_dim = 2\n",
    "hp.h_dims = [32, 64, 128, 256, 512]"
   ]
  },
  {
   "cell_type": "code",
   "execution_count": 8,
   "id": "4ed5de67",
   "metadata": {},
   "outputs": [
    {
     "name": "stdout",
     "output_type": "stream",
     "text": [
      "done\n"
     ]
    }
   ],
   "source": [
    "model = Model(Encoder(**hp), LatentLayer(**hp), Decoder(**hp))\n",
    "model = model.to(device)\n",
    "model.eval()\n",
    "print('done')"
   ]
  },
  {
   "cell_type": "markdown",
   "id": "e26b3347",
   "metadata": {},
   "source": [
    "### Load"
   ]
  },
  {
   "cell_type": "code",
   "execution_count": 32,
   "id": "95b379b5",
   "metadata": {
    "scrolled": true
   },
   "outputs": [
    {
     "name": "stdout",
     "output_type": "stream",
     "text": [
      "events.out.tfevents.1705054000.GPUSVR01\r\n",
      "save_0\r\n",
      "events.out.tfevents.1705047001.GPUSVR01\r\n",
      "save_130000\r\n",
      "save_120000\r\n",
      "save_110000\r\n",
      "save_100000\r\n",
      "save_90000\r\n",
      "save_80000\r\n",
      "save_70000\r\n",
      "save_60000\r\n",
      "save_50000\r\n",
      "save_40000\r\n",
      "save_30000\r\n",
      "save_20000\r\n",
      "save_10000\r\n",
      "events.out.tfevents.1705045555.GPUSVR01\r\n",
      "events.out.tfevents.1705045074.GPUSVR01\r\n",
      "events.out.tfevents.1705044804.GPUSVR01\r\n",
      "events.out.tfevents.1705039956.GPUSVR01\r\n",
      "events.out.tfevents.1705039080.GPUSVR01\r\n",
      "events.out.tfevents.1705038306.GPUSVR01\r\n",
      "events.out.tfevents.1704987276.GPUSVR01\r\n",
      "events.out.tfevents.1704985394.GPUSVR01\r\n",
      "events.out.tfevents.1704985062.GPUSVR01\r\n",
      "events.out.tfevents.1704984883.GPUSVR01\r\n",
      "events.out.tfevents.1704984677.GPUSVR01\r\n",
      "events.out.tfevents.1704977558.GPUSVR01\r\n",
      "events.out.tfevents.1704977059.GPUSVR01\r\n",
      "events.out.tfevents.1704976090.GPUSVR01\r\n"
     ]
    },
    {
     "data": {
      "text/plain": [
       "<All keys matched successfully>"
      ]
     },
     "execution_count": 32,
     "metadata": {},
     "output_type": "execute_result"
    }
   ],
   "source": [
    "save_dir = '/data/scpark/save/lse/train01.11-7/'\n",
    "!ls -t $save_dir\n",
    "\n",
    "# warm start\n",
    "checkpoint = torch.load('/data/scpark/save/lse/train01.11-10/save_100000', map_location=torch.device('cpu'))\n",
    "model.load_state_dict(checkpoint['model_state_dict'], strict=True)"
   ]
  },
  {
   "cell_type": "code",
   "execution_count": 33,
   "id": "d015e534",
   "metadata": {},
   "outputs": [
    {
     "name": "stdout",
     "output_type": "stream",
     "text": [
      "dict_keys(['x', 't', 'z', 'lse_loss', 'y', 'recon_loss', 'cross_entropy_loss', 'accuracy'])\n"
     ]
    }
   ],
   "source": [
    "with torch.no_grad():\n",
    "    data = model(data, M=1, sigma=1)\n",
    "    print(data.keys())"
   ]
  },
  {
   "cell_type": "markdown",
   "id": "29d5b5b9",
   "metadata": {},
   "source": [
    "### Linear Classification Test"
   ]
  },
  {
   "cell_type": "code",
   "execution_count": 34,
   "id": "a50c5474",
   "metadata": {},
   "outputs": [
    {
     "name": "stderr",
     "output_type": "stream",
     "text": [
      "100%|███████████████████████████████████| 10000/10000 [00:08<00:00, 1134.99it/s]"
     ]
    },
    {
     "name": "stdout",
     "output_type": "stream",
     "text": [
      "done\n"
     ]
    },
    {
     "name": "stderr",
     "output_type": "stream",
     "text": [
      "\n"
     ]
    }
   ],
   "source": [
    "from model.classifier.linear_classifier import Classifier\n",
    "from tqdm import tqdm\n",
    "\n",
    "accuracy_list = []\n",
    "classifier = Classifier(2, 10)\n",
    "classifier = classifier.to(device)\n",
    "classifier.train()\n",
    "optimizer = torch.optim.AdamW(classifier.parameters(), lr=1e-3)\n",
    "for _ in tqdm(range(10000)):\n",
    "    data = classifier(data)\n",
    "    loss = data['cross_entropy_loss']\n",
    "    loss.backward()\n",
    "    optimizer.step()\n",
    "    accuracy_list.append(data['accuracy'].item())\n",
    "    \n",
    "print('done')"
   ]
  },
  {
   "cell_type": "code",
   "execution_count": 35,
   "id": "cdb83094",
   "metadata": {},
   "outputs": [
    {
     "data": {
      "image/png": "[encoded data removed]",
      "text/plain": [
       "<Figure size 432x288 with 1 Axes>"
      ]
     },
     "metadata": {
      "needs_background": "light"
     },
     "output_type": "display_data"
    },
    {
     "name": "stdout",
     "output_type": "stream",
     "text": [
      "tensor(0.2350, device='cuda:0')\n"
     ]
    }
   ],
   "source": [
    "import matplotlib.pyplot as plt\n",
    "plt.plot(accuracy_list)\n",
    "plt.show()\n",
    "\n",
    "print(data['accuracy'])"
   ]
  },
  {
   "cell_type": "markdown",
   "id": "109f0a77",
   "metadata": {},
   "source": [
    "### Silhouette Score Test"
   ]
  },
  {
   "cell_type": "code",
   "execution_count": 36,
   "id": "11e38ad2",
   "metadata": {},
   "outputs": [
    {
     "data": {
      "text/plain": [
       "-0.11290793"
      ]
     },
     "execution_count": 36,
     "metadata": {},
     "output_type": "execute_result"
    }
   ],
   "source": [
    "from sklearn.metrics import silhouette_score\n",
    "_z = data['z'].data.cpu().numpy()\n",
    "_t = data['t'].data.cpu().numpy()\n",
    "silhouette_score(_z, _t)"
   ]
  },
  {
   "cell_type": "markdown",
   "id": "f03e8c5b",
   "metadata": {},
   "source": [
    "### MMD Test"
   ]
  },
  {
   "cell_type": "code",
   "execution_count": 37,
   "id": "2aab2278",
   "metadata": {},
   "outputs": [
    {
     "name": "stdout",
     "output_type": "stream",
     "text": [
      "tensor(0.0202)\n"
     ]
    }
   ],
   "source": [
    "from test_util.mmd_loss import MMDLoss\n",
    "\n",
    "prior = torch.randn_like(data['z'])\n",
    "mmd = MMDLoss().to(device)\n",
    "mmd_loss = mmd(prior.to('cpu'), data['z'].to('cpu'))\n",
    "print(mmd_loss)"
   ]
  },
  {
   "cell_type": "code",
   "execution_count": null,
   "id": "f5a47f4e",
   "metadata": {},
   "outputs": [],
   "source": []
  },
  {
   "cell_type": "code",
   "execution_count": null,
   "id": "2dcba3a4",
   "metadata": {},
   "outputs": [],
   "source": []
  },
  {
   "cell_type": "code",
   "execution_count": null,
   "id": "c92767e4",
   "metadata": {},
   "outputs": [],
   "source": []
  }
 ],
 "metadata": {
  "kernelspec": {
   "display_name": "Python 3 (ipykernel)",
   "language": "python",
   "name": "python3"
  },
  "language_info": {
   "codemirror_mode": {
    "name": "ipython",
    "version": 3
   },
   "file_extension": ".py",
   "mimetype": "text/x-python",
   "name": "python",
   "nbconvert_exporter": "python",
   "pygments_lexer": "ipython3",
   "version": "3.9.12"
  }
 },
 "nbformat": 4,
 "nbformat_minor": 5
}
