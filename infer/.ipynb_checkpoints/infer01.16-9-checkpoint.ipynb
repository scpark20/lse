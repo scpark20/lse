{
 "cells": [
  {
   "cell_type": "code",
   "execution_count": 1,
   "id": "b187d2f7",
   "metadata": {},
   "outputs": [],
   "source": [
    "import os\n",
    "os.chdir('../')\n",
    "\n",
    "import warnings\n",
    "warnings.filterwarnings('ignore')"
   ]
  },
  {
   "cell_type": "code",
   "execution_count": 3,
   "id": "bbd958a0",
   "metadata": {
    "scrolled": true
   },
   "outputs": [
    {
     "name": "stdout",
     "output_type": "stream",
     "text": [
      "Wed Jan 17 16:00:13 2024       \n",
      "+-----------------------------------------------------------------------------+\n",
      "| NVIDIA-SMI 470.223.02   Driver Version: 470.223.02   CUDA Version: 11.4     |\n",
      "|-------------------------------+----------------------+----------------------+\n",
      "| GPU  Name        Persistence-M| Bus-Id        Disp.A | Volatile Uncorr. ECC |\n",
      "| Fan  Temp  Perf  Pwr:Usage/Cap|         Memory-Usage | GPU-Util  Compute M. |\n",
      "|                               |                      |               MIG M. |\n",
      "|===============================+======================+======================|\n",
      "|   0  NVIDIA A100 80G...  Off  | 00000000:1B:00.0 Off |                    0 |\n",
      "| N/A   41C    P0    46W / 300W |     35MiB / 80994MiB |      0%      Default |\n",
      "|                               |                      |             Disabled |\n",
      "+-------------------------------+----------------------+----------------------+\n",
      "|   1  NVIDIA A100 80G...  Off  | 00000000:1C:00.0 Off |                    0 |\n",
      "| N/A   48C    P0    71W / 300W |  18763MiB / 80994MiB |      0%      Default |\n",
      "|                               |                      |             Disabled |\n",
      "+-------------------------------+----------------------+----------------------+\n",
      "|   2  NVIDIA A100 80G...  Off  | 00000000:1D:00.0 Off |                    0 |\n",
      "| N/A   42C    P0    46W / 300W |     35MiB / 80994MiB |      0%      Default |\n",
      "|                               |                      |             Disabled |\n",
      "+-------------------------------+----------------------+----------------------+\n",
      "|   3  NVIDIA A100 80G...  Off  | 00000000:1E:00.0 Off |                    0 |\n",
      "| N/A   31C    P0    44W / 300W |     35MiB / 80994MiB |      0%      Default |\n",
      "|                               |                      |             Disabled |\n",
      "+-------------------------------+----------------------+----------------------+\n",
      "|   4  NVIDIA A100 80G...  Off  | 00000000:89:00.0 Off |                    0 |\n",
      "| N/A   51C    P0    72W / 300W |  69465MiB / 80994MiB |     26%      Default |\n",
      "|                               |                      |             Disabled |\n",
      "+-------------------------------+----------------------+----------------------+\n",
      "|   5  NVIDIA A100 80G...  Off  | 00000000:8A:00.0 Off |                    0 |\n",
      "| N/A   49C    P0    67W / 300W |  63577MiB / 80994MiB |      6%      Default |\n",
      "|                               |                      |             Disabled |\n",
      "+-------------------------------+----------------------+----------------------+\n",
      "|   6  NVIDIA A100 80G...  Off  | 00000000:8B:00.0 Off |                    0 |\n",
      "| N/A   45C    P0    66W / 300W |  63585MiB / 80994MiB |      6%      Default |\n",
      "|                               |                      |             Disabled |\n",
      "+-------------------------------+----------------------+----------------------+\n",
      "|   7  NVIDIA A100 80G...  Off  | 00000000:8C:00.0 Off |                    0 |\n",
      "| N/A   48C    P0    71W / 300W |  63573MiB / 80994MiB |      6%      Default |\n",
      "|                               |                      |             Disabled |\n",
      "+-------------------------------+----------------------+----------------------+\n",
      "                                                                               \n",
      "+-----------------------------------------------------------------------------+\n",
      "| Processes:                                                                  |\n",
      "|  GPU   GI   CI        PID   Type   Process name                  GPU Memory |\n",
      "|        ID   ID                                                   Usage      |\n",
      "|=============================================================================|\n",
      "|    0   N/A  N/A      2426      G   /usr/lib/xorg/Xorg                 35MiB |\n",
      "|    1   N/A  N/A      2426      G   /usr/lib/xorg/Xorg                 35MiB |\n",
      "|    1   N/A  N/A    173415      C   ...a3/envs/scpark/bin/python    18725MiB |\n",
      "|    2   N/A  N/A      2426      G   /usr/lib/xorg/Xorg                 35MiB |\n",
      "|    3   N/A  N/A      2426      G   /usr/lib/xorg/Xorg                 35MiB |\n",
      "|    4   N/A  N/A      2426      G   /usr/lib/xorg/Xorg                 35MiB |\n",
      "|    4   N/A  N/A    116439      C   python                          69425MiB |\n",
      "|    5   N/A  N/A      2426      G   /usr/lib/xorg/Xorg                 35MiB |\n",
      "|    5   N/A  N/A    116439      C   python                          63537MiB |\n",
      "|    6   N/A  N/A      2426      G   /usr/lib/xorg/Xorg                 35MiB |\n",
      "|    6   N/A  N/A    116439      C   python                          63545MiB |\n",
      "|    7   N/A  N/A      2426      G   /usr/lib/xorg/Xorg                 35MiB |\n",
      "|    7   N/A  N/A    116439      C   python                          63533MiB |\n",
      "+-----------------------------------------------------------------------------+\n"
     ]
    }
   ],
   "source": [
    "import torch\n",
    "import torch.nn as nn\n",
    "import torch.nn.functional as F\n",
    "import numpy as np\n",
    "import os\n",
    "\n",
    "!nvidia-smi\n",
    "os.environ[\"CUDA_VISIBLE_DEVICES\"]=\"2\"\n",
    "\n",
    "device = 'cuda:0'"
   ]
  },
  {
   "cell_type": "markdown",
   "id": "33726369",
   "metadata": {},
   "source": [
    "### Dataset"
   ]
  },
  {
   "cell_type": "code",
   "execution_count": 4,
   "id": "533d9a94",
   "metadata": {},
   "outputs": [
    {
     "name": "stdout",
     "output_type": "stream",
     "text": [
      "dict_keys(['x', 't'])\n"
     ]
    }
   ],
   "source": [
    "from torchvision import datasets, transforms\n",
    "from torch.utils.data import DataLoader\n",
    "\n",
    "# Transformations applied on each image\n",
    "transform = transforms.Compose([\n",
    "    transforms.Resize((64, 64)),  # Resize the image to 32x32\n",
    "    transforms.ToTensor(),         # Convert the image to a PyTorch tensor\n",
    "    transforms.Normalize((0.5), (0.5)) \n",
    "])\n",
    "\n",
    "# Load the MNIST dataset\n",
    "mnist_trainset = datasets.MNIST(root='./data', train=True, download=True, transform=transform)\n",
    "mnist_testset = datasets.MNIST(root='./data', train=False, download=True, transform=transform)\n",
    "\n",
    "### Preprocess\n",
    "def preprocess(batch):\n",
    "    x, t = batch\n",
    "    data = {}\n",
    "    data['x'] = x.to(device)\n",
    "    data['t'] = t.to(device)\n",
    "    return data\n",
    "\n",
    "# Create data loaders\n",
    "# train_loader = DataLoader(mnist_trainset, batch_size=60000, shuffle=False)\n",
    "# batch = next(iter(train_loader))\n",
    "# data = preprocess(batch)\n",
    "# print(data.keys())\n",
    "\n",
    "test_loader = DataLoader(mnist_testset, batch_size=10000, shuffle=False)\n",
    "batch = next(iter(test_loader))\n",
    "data = preprocess(batch)\n",
    "print(data.keys())"
   ]
  },
  {
   "cell_type": "markdown",
   "id": "3d2e297b",
   "metadata": {},
   "source": [
    "### Model Parts"
   ]
  },
  {
   "cell_type": "code",
   "execution_count": 5,
   "id": "bc6b400e",
   "metadata": {},
   "outputs": [],
   "source": [
    "from model.main.enc_prior_latent_dec import Model\n",
    "from model.encoder.conv2d_encoder import Encoder\n",
    "from model.prior.uniform_prior import Prior\n",
    "from model.latent.swae_latent import Latent\n",
    "from model.decoder.conv2d_decoder import Decoder\n",
    "\n",
    "from tensorboardX import SummaryWriter\n",
    "from util.util import *"
   ]
  },
  {
   "cell_type": "markdown",
   "id": "a095d6c4",
   "metadata": {},
   "source": [
    "### Model Init."
   ]
  },
  {
   "cell_type": "code",
   "execution_count": 6,
   "id": "02e157ce",
   "metadata": {},
   "outputs": [],
   "source": [
    "from easydict import EasyDict\n",
    "hp = EasyDict()\n",
    "hp.size = 64\n",
    "hp.in_dim = 1\n",
    "hp.out_dim = 1\n",
    "hp.z_dim = 2\n",
    "hp.h_dims = [32, 64, 128, 256, 512]"
   ]
  },
  {
   "cell_type": "code",
   "execution_count": 7,
   "id": "c7f1b515",
   "metadata": {},
   "outputs": [
    {
     "name": "stdout",
     "output_type": "stream",
     "text": [
      "done\n"
     ]
    }
   ],
   "source": [
    "model_list = []\n",
    "for i in range(10):\n",
    "    model = Model(Encoder(**hp), Prior(**hp), Latent(**hp), Decoder(**hp))\n",
    "    model = model.to(device)\n",
    "    model_list.append(model)\n",
    "    \n",
    "print('done')"
   ]
  },
  {
   "cell_type": "markdown",
   "id": "0cbfb458",
   "metadata": {},
   "source": [
    "### Load"
   ]
  },
  {
   "cell_type": "code",
   "execution_count": 8,
   "id": "ba03fb9c",
   "metadata": {
    "scrolled": true
   },
   "outputs": [
    {
     "data": {
      "application/vnd.jupyter.widget-view+json": {
       "model_id": "ab318863f33f486da965fbdce9a30c10",
       "version_major": 2,
       "version_minor": 0
      },
      "text/plain": [
       "0it [00:00, ?it/s]"
      ]
     },
     "metadata": {},
     "output_type": "display_data"
    }
   ],
   "source": [
    "from tqdm import tqdm_notebook as tqdm\n",
    "\n",
    "save_path = '/data/scpark/save/lse/train01.16-9/save_200000'\n",
    "\n",
    "# warm start\n",
    "models_state_dict = torch.load(save_path, map_location=torch.device('cpu'))['models_state_dict']\n",
    "for i, model in tqdm(enumerate(model_list)):\n",
    "    model.load_state_dict(models_state_dict[i], strict=True)"
   ]
  },
  {
   "cell_type": "markdown",
   "id": "b472ffe1",
   "metadata": {},
   "source": [
    "### Reconstruction Loss"
   ]
  },
  {
   "cell_type": "code",
   "execution_count": 9,
   "id": "0c92299e",
   "metadata": {},
   "outputs": [
    {
     "data": {
      "application/vnd.jupyter.widget-view+json": {
       "model_id": "28577fa3da4f44c883ccc65660aa7bf8",
       "version_major": 2,
       "version_minor": 0
      },
      "text/plain": [
       "  0%|          | 0/10 [00:00<?, ?it/s]"
      ]
     },
     "metadata": {},
     "output_type": "display_data"
    },
    {
     "name": "stdout",
     "output_type": "stream",
     "text": [
      "Reconstruction Loss : 0.11868503242731095\n"
     ]
    }
   ],
   "source": [
    "z_list = []\n",
    "recon_loss_list = []\n",
    "for model in tqdm(model_list):\n",
    "    with torch.no_grad():\n",
    "        data = model(data, M=1)\n",
    "        z_list.append(data['z'])\n",
    "        recon_loss_list.append(data['recon_loss'].item())\n",
    "        \n",
    "print('Reconstruction Loss :', np.mean(recon_loss_list))"
   ]
  },
  {
   "cell_type": "markdown",
   "id": "4063cdda",
   "metadata": {},
   "source": [
    "### Get Real Standard Deviation"
   ]
  },
  {
   "cell_type": "code",
   "execution_count": 10,
   "id": "ddf1514d",
   "metadata": {},
   "outputs": [
    {
     "name": "stdout",
     "output_type": "stream",
     "text": [
      "[tensor([1.1425, 1.1174], device='cuda:0'), tensor([1.1297, 1.0779], device='cuda:0'), tensor([1.1636, 1.1408], device='cuda:0'), tensor([1.1314, 1.1149], device='cuda:0'), tensor([1.1345, 1.0961], device='cuda:0'), tensor([1.1432, 1.0971], device='cuda:0'), tensor([1.1529, 1.1117], device='cuda:0'), tensor([1.2182, 1.0752], device='cuda:0'), tensor([1.1226, 1.1444], device='cuda:0'), tensor([1.1593, 1.1289], device='cuda:0')]\n"
     ]
    }
   ],
   "source": [
    "std_list = []\n",
    "for z in z_list:\n",
    "    std = (z.max(dim=0).values-z.min(dim=0).values)/2\n",
    "    std_list.append(std)\n",
    "    \n",
    "print(std_list)"
   ]
  },
  {
   "cell_type": "markdown",
   "id": "a1259bfe",
   "metadata": {},
   "source": [
    "### MMD Test"
   ]
  },
  {
   "cell_type": "code",
   "execution_count": 11,
   "id": "f4d213cf",
   "metadata": {},
   "outputs": [
    {
     "data": {
      "application/vnd.jupyter.widget-view+json": {
       "model_id": "317ea4ad820d4f02982381dc4cbaf561",
       "version_major": 2,
       "version_minor": 0
      },
      "text/plain": [
       "  0%|          | 0/10 [00:00<?, ?it/s]"
      ]
     },
     "metadata": {},
     "output_type": "display_data"
    },
    {
     "name": "stdout",
     "output_type": "stream",
     "text": [
      "MMD Loss : 9.349584579467773e-05\n"
     ]
    }
   ],
   "source": [
    "from util.mmd_penalty import mmd_penalty\n",
    "\n",
    "opts = {'pz_scale': 1,\n",
    "        'mmd_kernel': 'RBF', # 'IMQ', 'RBF'\n",
    "        'pz': 'normal', # 'normal', 'sphere', 'uniform' \n",
    "        'zdim': hp.z_dim\n",
    "       }\n",
    "\n",
    "mmd_losses = []\n",
    "for z in tqdm(z_list):\n",
    "    prior = model_list[0].prior.sample(len(z), hp.z_dim)\n",
    "    mmd_loss = mmd_penalty(prior, z, opts)\n",
    "    mmd_losses.append(mmd_loss.item())\n",
    "    \n",
    "print('MMD Loss :', np.mean(mmd_losses))    "
   ]
  },
  {
   "cell_type": "code",
   "execution_count": 12,
   "id": "94d3a36f",
   "metadata": {},
   "outputs": [
    {
     "data": {
      "application/vnd.jupyter.widget-view+json": {
       "model_id": "f6aa8efc51a342f5a0bb5557d919e7d1",
       "version_major": 2,
       "version_minor": 0
      },
      "text/plain": [
       "0it [00:00, ?it/s]"
      ]
     },
     "metadata": {},
     "output_type": "display_data"
    },
    {
     "name": "stdout",
     "output_type": "stream",
     "text": [
      "Corrected MMD Loss : 0.002023637294769287\n"
     ]
    }
   ],
   "source": [
    "from util.mmd_penalty import mmd_penalty\n",
    "\n",
    "opts = {'pz_scale': 1,\n",
    "        'mmd_kernel': 'RBF', # 'IMQ', 'RBF'\n",
    "        'pz': 'normal', # 'normal', 'sphere', 'uniform' \n",
    "        'zdim': hp.z_dim\n",
    "       }\n",
    "\n",
    "mmd_losses = []\n",
    "for z, std in tqdm(zip(z_list, std_list)):\n",
    "    prior = model_list[0].prior.sample(len(z), hp.z_dim) * std\n",
    "    mmd_loss = mmd_penalty(prior, z, opts)\n",
    "    mmd_losses.append(mmd_loss.item())\n",
    "    \n",
    "print('Corrected MMD Loss :', np.mean(mmd_losses))    "
   ]
  },
  {
   "cell_type": "markdown",
   "id": "5ac10616",
   "metadata": {},
   "source": [
    "### Cross NLL Test"
   ]
  },
  {
   "cell_type": "code",
   "execution_count": 13,
   "id": "990e2c90",
   "metadata": {},
   "outputs": [
    {
     "data": {
      "application/vnd.jupyter.widget-view+json": {
       "model_id": "4381369f3af440f5aeab6d6a13d007ab",
       "version_major": 2,
       "version_minor": 0
      },
      "text/plain": [
       "  0%|          | 0/10 [00:00<?, ?it/s]"
      ]
     },
     "metadata": {},
     "output_type": "display_data"
    },
    {
     "name": "stdout",
     "output_type": "stream",
     "text": [
      "Cross NLL : -1.3268471431732176\n"
     ]
    }
   ],
   "source": [
    "from util.loglikelihood import get_optimum_log_sigma, get_cross_nll\n",
    "\n",
    "cross_nll_list = []\n",
    "for _ in tqdm(range(10)):\n",
    "    cross_nlls = []\n",
    "    for z, model in zip(z_list, model_list):\n",
    "        p_samples1 = model.prior.sample(len(z), hp.z_dim)\n",
    "        p_samples2 = model.prior.sample(len(z), hp.z_dim)\n",
    "        log_sigma = get_optimum_log_sigma(p_samples1, p_samples2, min_log_sigma=-5, max_log_sigma=5)\n",
    "        p_samples1 = model.prior.sample(len(z), hp.z_dim)\n",
    "        cross_nll = get_cross_nll(p_samples1, z, log_sigma)\n",
    "        cross_nlls.append(cross_nll)\n",
    "    cross_nll = np.mean(cross_nlls)\n",
    "    cross_nll_list.append(cross_nll)\n",
    "    \n",
    "print('Cross NLL :', np.mean(cross_nll_list))"
   ]
  },
  {
   "cell_type": "code",
   "execution_count": 14,
   "id": "87788d57",
   "metadata": {},
   "outputs": [
    {
     "data": {
      "application/vnd.jupyter.widget-view+json": {
       "model_id": "79208a732c8146ddbb039a18fa112c35",
       "version_major": 2,
       "version_minor": 0
      },
      "text/plain": [
       "  0%|          | 0/10 [00:00<?, ?it/s]"
      ]
     },
     "metadata": {},
     "output_type": "display_data"
    },
    {
     "name": "stdout",
     "output_type": "stream",
     "text": [
      "Corrected Cross NLL : -0.8729208087921142\n"
     ]
    }
   ],
   "source": [
    "from util.loglikelihood import get_optimum_log_sigma, get_cross_nll\n",
    "\n",
    "cross_nll_list = []\n",
    "for _ in tqdm(range(10)):\n",
    "    cross_nlls = []\n",
    "    for z, model, std in zip(z_list, model_list, std_list):\n",
    "        p_samples1 = model.prior.sample(len(z), hp.z_dim) * std\n",
    "        p_samples2 = model.prior.sample(len(z), hp.z_dim) * std\n",
    "        log_sigma = get_optimum_log_sigma(p_samples1, p_samples2, min_log_sigma=-5, max_log_sigma=5)\n",
    "        p_samples1 = model.prior.sample(len(z), hp.z_dim) * std\n",
    "        cross_nll = get_cross_nll(p_samples1, z, log_sigma)\n",
    "        cross_nlls.append(cross_nll)\n",
    "    cross_nll = np.mean(cross_nlls)\n",
    "    cross_nll_list.append(cross_nll)\n",
    "    \n",
    "print('Corrected Cross NLL :', np.mean(cross_nll_list))"
   ]
  },
  {
   "cell_type": "markdown",
   "id": "19a80c51",
   "metadata": {},
   "source": [
    "### View Embeddings"
   ]
  },
  {
   "cell_type": "code",
   "execution_count": null,
   "id": "31b0fa05",
   "metadata": {},
   "outputs": [],
   "source": [
    "import matplotlib.pyplot as plt\n",
    "\n",
    "# borrowed from https://gist.github.com/jakevdp/91077b0cae40f8f8244a\n",
    "def discrete_cmap(N, base_cmap=None):\n",
    "    \"\"\"Create an N-bin discrete colormap from the specified input map\"\"\"\n",
    "\n",
    "    # Note that if base_cmap is a string or None, you can simply do\n",
    "    #    return plt.cm.get_cmap(base_cmap, N)\n",
    "    # The following works for string, None, or a colormap instance:\n",
    "\n",
    "    base = plt.cm.get_cmap(base_cmap)\n",
    "    color_list = base(np.linspace(0, 1, N))\n",
    "    cmap_name = base.name + str(N)\n",
    "    return base.from_list(cmap_name, color_list, N)\n",
    "\n",
    "\n",
    "for z in z_list:\n",
    "    _z = z.data.cpu().numpy()\n",
    "    plt.scatter(_z[:, 0], _z[:, 1], c=data['t'].data.cpu().numpy(), cmap=discrete_cmap(10, 'jet'), alpha=0.1)\n",
    "    plt.grid()\n",
    "    plt.colorbar()\n",
    "    plt.show()"
   ]
  },
  {
   "cell_type": "code",
   "execution_count": null,
   "id": "4fe4e872",
   "metadata": {},
   "outputs": [],
   "source": []
  },
  {
   "cell_type": "code",
   "execution_count": null,
   "id": "398c1002",
   "metadata": {},
   "outputs": [],
   "source": []
  },
  {
   "cell_type": "code",
   "execution_count": null,
   "id": "f98649b6",
   "metadata": {},
   "outputs": [],
   "source": []
  }
 ],
 "metadata": {
  "kernelspec": {
   "display_name": "Python 3 (ipykernel)",
   "language": "python",
   "name": "python3"
  },
  "language_info": {
   "codemirror_mode": {
    "name": "ipython",
    "version": 3
   },
   "file_extension": ".py",
   "mimetype": "text/x-python",
   "name": "python",
   "nbconvert_exporter": "python",
   "pygments_lexer": "ipython3",
   "version": "3.9.15"
  }
 },
 "nbformat": 4,
 "nbformat_minor": 5
}
