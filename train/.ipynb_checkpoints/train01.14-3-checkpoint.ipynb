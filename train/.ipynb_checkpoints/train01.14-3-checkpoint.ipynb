{
 "cells": [
  {
   "cell_type": "code",
   "execution_count": 1,
   "id": "93c772ae",
   "metadata": {},
   "outputs": [],
   "source": [
    "import os\n",
    "os.chdir('../')\n",
    "\n",
    "import warnings\n",
    "warnings.filterwarnings('ignore')"
   ]
  },
  {
   "cell_type": "code",
   "execution_count": 2,
   "id": "4ba321e0",
   "metadata": {
    "scrolled": true
   },
   "outputs": [
    {
     "name": "stdout",
     "output_type": "stream",
     "text": [
      "Sun Jan 14 16:02:42 2024       \n",
      "+-----------------------------------------------------------------------------+\n",
      "| NVIDIA-SMI 525.147.05   Driver Version: 525.147.05   CUDA Version: 12.0     |\n",
      "|-------------------------------+----------------------+----------------------+\n",
      "| GPU  Name        Persistence-M| Bus-Id        Disp.A | Volatile Uncorr. ECC |\n",
      "| Fan  Temp  Perf  Pwr:Usage/Cap|         Memory-Usage | GPU-Util  Compute M. |\n",
      "|                               |                      |               MIG M. |\n",
      "|===============================+======================+======================|\n",
      "|   0  NVIDIA RTX A5000    Off  | 00000000:1B:00.0 Off |                    0 |\n",
      "| 30%   26C    P8    14W / 230W |      8MiB / 23028MiB |      1%      Default |\n",
      "|                               |                      |                  N/A |\n",
      "+-------------------------------+----------------------+----------------------+\n",
      "|   1  NVIDIA RTX A5000    Off  | 00000000:1C:00.0 Off |                  Off |\n",
      "| 30%   53C    P2   100W / 230W |   4726MiB / 24564MiB |     30%      Default |\n",
      "|                               |                      |                  N/A |\n",
      "+-------------------------------+----------------------+----------------------+\n",
      "|   2  NVIDIA RTX A5000    Off  | 00000000:1D:00.0 Off |                  Off |\n",
      "| 30%   45C    P2    73W / 230W |    332MiB / 24564MiB |     25%      Default |\n",
      "|                               |                      |                  N/A |\n",
      "+-------------------------------+----------------------+----------------------+\n",
      "|   3  NVIDIA RTX A5000    Off  | 00000000:1E:00.0 Off |                  Off |\n",
      "| 30%   35C    P8    48W / 230W |      8MiB / 24564MiB |      0%      Default |\n",
      "|                               |                      |                  N/A |\n",
      "+-------------------------------+----------------------+----------------------+\n",
      "|   4  NVIDIA RTX A5000    Off  | 00000000:89:00.0 Off |                  Off |\n",
      "| 30%   28C    P8    16W / 230W |      8MiB / 24564MiB |      0%      Default |\n",
      "|                               |                      |                  N/A |\n",
      "+-------------------------------+----------------------+----------------------+\n",
      "|   5  NVIDIA RTX A5000    Off  | 00000000:8A:00.0 Off |                  Off |\n",
      "| 30%   28C    P8    17W / 230W |      8MiB / 24564MiB |      0%      Default |\n",
      "|                               |                      |                  N/A |\n",
      "+-------------------------------+----------------------+----------------------+\n",
      "|   6  NVIDIA RTX A5000    Off  | 00000000:8B:00.0 Off |                  Off |\n",
      "| 30%   27C    P8    18W / 230W |      8MiB / 24564MiB |      0%      Default |\n",
      "|                               |                      |                  N/A |\n",
      "+-------------------------------+----------------------+----------------------+\n",
      "|   7  NVIDIA RTX A5000    Off  | 00000000:8C:00.0 Off |                  Off |\n",
      "| 30%   28C    P8    17W / 230W |      8MiB / 24564MiB |      1%      Default |\n",
      "|                               |                      |                  N/A |\n",
      "+-------------------------------+----------------------+----------------------+\n",
      "                                                                               \n",
      "+-----------------------------------------------------------------------------+\n",
      "| Processes:                                                                  |\n",
      "|  GPU   GI   CI        PID   Type   Process name                  GPU Memory |\n",
      "|        ID   ID                                                   Usage      |\n",
      "|=============================================================================|\n",
      "|    0   N/A  N/A      4537      G   /usr/lib/xorg/Xorg                  4MiB |\n",
      "|    1   N/A  N/A      4537      G   /usr/lib/xorg/Xorg                  4MiB |\n",
      "|    1   N/A  N/A   2474953      C   ...onda3/envs/ste/bin/python     4718MiB |\n",
      "|    2   N/A  N/A      4537      G   /usr/lib/xorg/Xorg                  4MiB |\n",
      "|    2   N/A  N/A   2476232      C   ...onda3/envs/ste/bin/python      324MiB |\n",
      "|    3   N/A  N/A      4537      G   /usr/lib/xorg/Xorg                  4MiB |\n",
      "|    4   N/A  N/A      4537      G   /usr/lib/xorg/Xorg                  4MiB |\n",
      "|    5   N/A  N/A      4537      G   /usr/lib/xorg/Xorg                  4MiB |\n",
      "|    6   N/A  N/A      4537      G   /usr/lib/xorg/Xorg                  4MiB |\n",
      "|    7   N/A  N/A      4537      G   /usr/lib/xorg/Xorg                  4MiB |\n",
      "+-----------------------------------------------------------------------------+\n"
     ]
    }
   ],
   "source": [
    "import torch\n",
    "import torch.nn as nn\n",
    "import torch.nn.functional as F\n",
    "import numpy as np\n",
    "import os\n",
    "\n",
    "!nvidia-smi\n",
    "os.environ[\"CUDA_VISIBLE_DEVICES\"]=\"3\""
   ]
  },
  {
   "cell_type": "markdown",
   "id": "c7bc4b38",
   "metadata": {},
   "source": [
    "### Model Parts"
   ]
  },
  {
   "cell_type": "code",
   "execution_count": 3,
   "id": "b6ffa1d4",
   "metadata": {},
   "outputs": [],
   "source": [
    "from model.main.enc_latent_dec import Model\n",
    "from model.encoder.conv2d_encoder import Encoder\n",
    "from model.latent_layer.uniform_lse_latent_layer import LatentLayer\n",
    "from model.decoder.conv2d_decoder import Decoder\n",
    "\n",
    "from tensorboardX import SummaryWriter\n",
    "from util.util import *"
   ]
  },
  {
   "cell_type": "markdown",
   "id": "929bb8ad",
   "metadata": {},
   "source": [
    "\n",
    "### Model Init."
   ]
  },
  {
   "cell_type": "code",
   "execution_count": 4,
   "id": "ff08bda1",
   "metadata": {},
   "outputs": [
    {
     "name": "stderr",
     "output_type": "stream",
     "text": [
      "100%|███████████████████████████████████████| 1000/1000 [10:26<00:00,  1.60it/s]"
     ]
    },
    {
     "name": "stdout",
     "output_type": "stream",
     "text": [
      "0.11765484302175948 -2.1400000000001675\n"
     ]
    },
    {
     "name": "stderr",
     "output_type": "stream",
     "text": [
      "\n"
     ]
    }
   ],
   "source": [
    "def get_kl(M, N, k, post_sigma, elem_sigma, prior_sigma=1.0):\n",
    "    # z : (M, z)\n",
    "    # mu : (N, z)\n",
    "    \n",
    "    z = (torch.rand(M, k).cuda()*2-1) * prior_sigma\n",
    "    mu = (torch.rand(N, k).cuda()*2-1) * post_sigma\n",
    "            \n",
    "    # (M, N) = sum((M, 1, z) - (1, N, z), dim=2)\n",
    "    distance = torch.norm(z.unsqueeze(1) - mu.unsqueeze(0), dim=2) ** 2\n",
    "    alpha = -1/(2*elem_sigma**2)\n",
    "    loss = -torch.mean(torch.logsumexp(alpha*distance, dim=1), dim=0)\n",
    "    loss = loss + 0.5*k*(2*np.log(elem_sigma)-np.log(np.e)) + np.log(N)\n",
    "    \n",
    "    return loss.item()\n",
    "\n",
    "from tqdm import tqdm\n",
    "\n",
    "M = 1024\n",
    "N = 256\n",
    "k = 2\n",
    "post_sigma = 1\n",
    "elem_log_sigmas = np.arange(-10, 10, 0.01)\n",
    "\n",
    "losses_list = []\n",
    "for _ in tqdm(range(1000)):\n",
    "    losses = np.array([get_kl(M, N, k, post_sigma, np.exp(elem_log_sigma)) for elem_log_sigma in elem_log_sigmas])\n",
    "    losses_list.append(losses)\n",
    "    \n",
    "losses = np.median(np.array(losses_list), axis=0)\n",
    "optimum_sigma = np.exp(elem_log_sigmas[np.argmin(losses)])\n",
    "print(optimum_sigma, np.log(optimum_sigma))"
   ]
  },
  {
   "cell_type": "code",
   "execution_count": 5,
   "id": "df7e5c41",
   "metadata": {},
   "outputs": [
    {
     "name": "stdout",
     "output_type": "stream",
     "text": [
      "0.11765484302175948 -2.1400000000001675\n"
     ]
    }
   ],
   "source": [
    "losses = np.mean(np.array(losses_list), axis=0)\n",
    "optimum_sigma = np.exp(elem_log_sigmas[np.argmin(losses)])\n",
    "print(optimum_sigma, np.log(optimum_sigma))"
   ]
  },
  {
   "cell_type": "code",
   "execution_count": 6,
   "id": "17e4a36c",
   "metadata": {},
   "outputs": [],
   "source": [
    "from easydict import EasyDict\n",
    "hp = EasyDict()\n",
    "hp.size = 64\n",
    "hp.in_dim = 1\n",
    "hp.out_dim = 1\n",
    "hp.z_dim = 2\n",
    "hp.init_log_sigma = -2.14\n",
    "hp.h_dims = [32, 64, 128, 256, 512]"
   ]
  },
  {
   "cell_type": "code",
   "execution_count": 7,
   "id": "4b85be52",
   "metadata": {},
   "outputs": [
    {
     "name": "stdout",
     "output_type": "stream",
     "text": [
      "encoder 6.004646301269531\n",
      "encoder.convs 5.989013671875\n",
      "encoder.linear 0.01563262939453125\n",
      "latent_layer 0.0\n",
      "decoder 6.044322967529297\n",
      "decoder.linear 0.0234375\n",
      "decoder.convs 5.9820556640625\n",
      "decoder.out_conv 0.038829803466796875\n",
      "done\n"
     ]
    }
   ],
   "source": [
    "step = 0\n",
    "device = 'cuda:0'\n",
    "\n",
    "model = Model(Encoder(**hp), LatentLayer(**hp), Decoder(**hp))\n",
    "model = model.to(device)\n",
    "optimizer = torch.optim.AdamW(model.parameters(), lr=1e-3)\n",
    "\n",
    "for name, module in model.named_modules():\n",
    "    if len(name.split('.')) <= 2 and len(name) > 0:\n",
    "        print(name, get_size(module))\n",
    "        \n",
    "print('done')"
   ]
  },
  {
   "cell_type": "markdown",
   "id": "c6751277",
   "metadata": {},
   "source": [
    "### Load"
   ]
  },
  {
   "cell_type": "code",
   "execution_count": 11,
   "id": "c15da5df",
   "metadata": {},
   "outputs": [
    {
     "name": "stdout",
     "output_type": "stream",
     "text": [
      "total 0\r\n"
     ]
    }
   ],
   "source": [
    "save_dir = '/data/scpark/save/lse/train01.14-3/'\n",
    "\n",
    "!mkdir -p $save_dir\n",
    "!ls -lt $save_dir\n",
    "\n",
    "writer = SummaryWriter(save_dir)\n",
    "\n",
    "if False:\n",
    "    step, net_g, _, opt_g, _ = load(save_dir, 0, model, optimizer)"
   ]
  },
  {
   "cell_type": "markdown",
   "id": "47bca073",
   "metadata": {},
   "source": [
    "### Dataset"
   ]
  },
  {
   "cell_type": "code",
   "execution_count": 12,
   "id": "29fb4843",
   "metadata": {
    "scrolled": true
   },
   "outputs": [
    {
     "name": "stdout",
     "output_type": "stream",
     "text": [
      "done\n"
     ]
    }
   ],
   "source": [
    "from torchvision import datasets, transforms\n",
    "from torch.utils.data import DataLoader\n",
    "\n",
    "# Transformations applied on each image\n",
    "transform = transforms.Compose([\n",
    "    transforms.Resize((64, 64)),  # Resize the image to 32x32\n",
    "    transforms.ToTensor(),         # Convert the image to a PyTorch tensor\n",
    "    transforms.Normalize((0.5), (0.5)) \n",
    "])\n",
    "\n",
    "# Load the MNIST dataset\n",
    "mnist_trainset = datasets.MNIST(root='./data', train=True, download=True, transform=transform)\n",
    "mnist_testset = datasets.MNIST(root='./data', train=False, download=True, transform=transform)\n",
    "\n",
    "# Create data loaders\n",
    "train_loader = DataLoader(mnist_trainset, batch_size=256, shuffle=True)\n",
    "test_loader = DataLoader(mnist_testset, batch_size=2048, shuffle=True)\n",
    "print('done')"
   ]
  },
  {
   "cell_type": "markdown",
   "id": "5801de5f",
   "metadata": {},
   "source": [
    "### Preprocess"
   ]
  },
  {
   "cell_type": "code",
   "execution_count": 13,
   "id": "5660006e",
   "metadata": {},
   "outputs": [],
   "source": [
    "def preprocess(batch):\n",
    "    x, t = batch\n",
    "    data = {}\n",
    "    data['x'] = x.to(device)\n",
    "    data['t'] = t.to(device)\n",
    "    return data"
   ]
  },
  {
   "cell_type": "markdown",
   "id": "a4844df5",
   "metadata": {},
   "source": [
    "### Train"
   ]
  },
  {
   "cell_type": "code",
   "execution_count": 14,
   "id": "c1472acd",
   "metadata": {},
   "outputs": [],
   "source": [
    "def plot(x):\n",
    "    _x = x.data.cpu().numpy()\n",
    "    plt.figure(figsize=[18, 4])\n",
    "    for i in range(10):\n",
    "        plt.subplot(1, 10, i+1)\n",
    "        plt.imshow(_x[i, 0])\n",
    "        plt.xticks([])\n",
    "        plt.yticks([])\n",
    "    plt.show()\n",
    "    \n",
    "# borrowed from https://gist.github.com/jakevdp/91077b0cae40f8f8244a\n",
    "def discrete_cmap(N, base_cmap=None):\n",
    "    \"\"\"Create an N-bin discrete colormap from the specified input map\"\"\"\n",
    "\n",
    "    # Note that if base_cmap is a string or None, you can simply do\n",
    "    #    return plt.cm.get_cmap(base_cmap, N)\n",
    "    # The following works for string, None, or a colormap instance:\n",
    "\n",
    "    base = plt.cm.get_cmap(base_cmap)\n",
    "    color_list = base(np.linspace(0, 1, N))\n",
    "    cmap_name = base.name + str(N)\n",
    "    return base.from_list(cmap_name, color_list, N)\n"
   ]
  },
  {
   "cell_type": "code",
   "execution_count": null,
   "id": "e74f211a",
   "metadata": {
    "scrolled": false
   },
   "outputs": [],
   "source": [
    "from IPython import display\n",
    "\n",
    "while True:\n",
    "    for batch in train_loader:\n",
    "        print(step)\n",
    "        \n",
    "        data = preprocess(batch)\n",
    "        \n",
    "        # Forward\n",
    "        model.train()\n",
    "        model.zero_grad()\n",
    "        data = model(data, M=1024, sigma=np.exp(hp.init_log_sigma))\n",
    "        \n",
    "        # Backward\n",
    "        loss = 0\n",
    "        for key in data.keys():\n",
    "            if 'loss' in key:\n",
    "                loss = loss + data[key]\n",
    "                writer.add_scalar(key, data[key].item(), step)\n",
    "                print(key, data[key].item())\n",
    "        loss.backward()\n",
    "        optimizer.step()\n",
    "        \n",
    "        if step % 1000 == 0:\n",
    "            import matplotlib.pyplot as plt\n",
    "            display.clear_output()\n",
    "            \n",
    "            batch = next(iter(test_loader))\n",
    "            data = preprocess(batch)\n",
    "            \n",
    "            model.eval()\n",
    "            with torch.no_grad():\n",
    "                data = model(data, M=1024, sigma=np.exp(hp.init_log_sigma))\n",
    "            \n",
    "            plot(data['x'])\n",
    "            plot(data['y'])\n",
    "            \n",
    "            with torch.no_grad():\n",
    "                z = torch.randn(10, hp.z_dim).to(device)\n",
    "                y = model.sample(z)\n",
    "                plot(y)\n",
    "                \n",
    "            import matplotlib.pyplot as plt\n",
    "            _z = data['z'].data.cpu().numpy()\n",
    "            plt.scatter(_z[:, 0], _z[:, 1], c=data['t'].data.cpu().numpy(), cmap=discrete_cmap(10, 'jet'))\n",
    "            plt.grid()\n",
    "            plt.colorbar()\n",
    "            plt.show()\n",
    "        \n",
    "        if step % 10000 == 0:\n",
    "            save(save_dir, step, model, optimizer)\n",
    "                \n",
    "        step += 1\n",
    "        "
   ]
  },
  {
   "cell_type": "code",
   "execution_count": null,
   "id": "6f3ffdff",
   "metadata": {},
   "outputs": [],
   "source": []
  },
  {
   "cell_type": "code",
   "execution_count": null,
   "id": "b167f2e5",
   "metadata": {},
   "outputs": [],
   "source": []
  },
  {
   "cell_type": "code",
   "execution_count": null,
   "id": "a5f3c21f",
   "metadata": {},
   "outputs": [],
   "source": []
  }
 ],
 "metadata": {
  "kernelspec": {
   "display_name": "Python 3 (ipykernel)",
   "language": "python",
   "name": "python3"
  },
  "language_info": {
   "codemirror_mode": {
    "name": "ipython",
    "version": 3
   },
   "file_extension": ".py",
   "mimetype": "text/x-python",
   "name": "python",
   "nbconvert_exporter": "python",
   "pygments_lexer": "ipython3",
   "version": "3.9.12"
  }
 },
 "nbformat": 4,
 "nbformat_minor": 5
}
