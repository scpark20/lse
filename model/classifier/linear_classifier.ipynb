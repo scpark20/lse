{
 "cells": [
  {
   "cell_type": "code",
   "execution_count": 11,
   "id": "4936cf98",
   "metadata": {},
   "outputs": [],
   "source": [
    "import torch\n",
    "import torch.nn as nn\n",
    "import torch.nn.functional as F\n",
    "\n",
    "class Classifier(nn.Module):\n",
    "    def __init__(self, z_dim, n_class):\n",
    "        super().__init__()\n",
    "        self.linear = nn.Linear(z_dim, n_class)\n",
    "        \n",
    "    def forward(self, data, **kwargs):\n",
    "        # z : (b, z)\n",
    "        # t : (b,)\n",
    "        \n",
    "        logit = self.linear(data['z'])\n",
    "        loss = F.cross_entropy(logit, data['t'])\n",
    "        data['cross_entropy_loss'] = loss\n",
    "        \n",
    "        predict = torch.argmax(logit, dim=1)\n",
    "        precision = torch.sum(predict == data['t']) / len(data['t'])\n",
    "        data['precision'] = precision\n",
    "        \n",
    "        return data\n",
    "        "
   ]
  },
  {
   "cell_type": "code",
   "execution_count": 10,
   "id": "44e11d11",
   "metadata": {},
   "outputs": [
    {
     "data": {
      "text/plain": [
       "{'z': tensor([[-0.1029,  0.9447],\n",
       "         [-1.2995,  1.6374],\n",
       "         [-1.5176, -1.2669],\n",
       "         ...,\n",
       "         [ 0.9709,  0.8865],\n",
       "         [ 0.8922,  1.3592],\n",
       "         [ 1.4032,  0.5030]]),\n",
       " 't': tensor([1, 8, 3,  ..., 1, 1, 4]),\n",
       " 'cross_entropy_loss': tensor(2.5237, grad_fn=<NllLossBackward0>),\n",
       " 'precision': tensor(0.0955)}"
      ]
     },
     "execution_count": 10,
     "metadata": {},
     "output_type": "execute_result"
    }
   ],
   "source": [
    "classifier = Classifier(2, 10)\n",
    "data = {'z': torch.randn(10000, 2),\n",
    "        't': torch.randint(0, 10, size=(10000,))}\n",
    "classifier(data)"
   ]
  },
  {
   "cell_type": "code",
   "execution_count": null,
   "id": "15887918",
   "metadata": {},
   "outputs": [],
   "source": []
  }
 ],
 "metadata": {
  "kernelspec": {
   "display_name": "Python 3 (ipykernel)",
   "language": "python",
   "name": "python3"
  },
  "language_info": {
   "codemirror_mode": {
    "name": "ipython",
    "version": 3
   },
   "file_extension": ".py",
   "mimetype": "text/x-python",
   "name": "python",
   "nbconvert_exporter": "python",
   "pygments_lexer": "ipython3",
   "version": "3.9.12"
  }
 },
 "nbformat": 4,
 "nbformat_minor": 5
}
