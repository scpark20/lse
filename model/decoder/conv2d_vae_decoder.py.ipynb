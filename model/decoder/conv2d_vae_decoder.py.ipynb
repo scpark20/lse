{
 "cells": [
  {
   "cell_type": "code",
   "execution_count": 18,
   "id": "ff6db4b2",
   "metadata": {},
   "outputs": [],
   "source": [
    "import torch\n",
    "import torch.nn as nn\n",
    "import torch.nn.functional as F\n",
    "\n",
    "class Decoder(nn.Module):\n",
    "    def __init__(self, size, out_dim, z_dim, h_dims=[32, 64, 128, 256, 512]):\n",
    "        super().__init__()\n",
    "        \n",
    "        size = size // 2 ** len(h_dims)\n",
    "        self.size = size\n",
    "        in_dim = h_dims[-1]\n",
    "        self.in_dim = in_dim\n",
    "        self.linear = nn.Linear(z_dim, in_dim*size**2)\n",
    "        \n",
    "        convs = []\n",
    "        for h_dim in h_dims[::-1]:\n",
    "            conv = nn.Sequential(nn.ConvTranspose2d(in_dim, h_dim, kernel_size=3, stride=2, padding=1, output_padding=1),\n",
    "                                 nn.BatchNorm2d(h_dim),\n",
    "                                 nn.LeakyReLU())\n",
    "            convs.append(conv)\n",
    "            in_dim = h_dim\n",
    "        self.convs = nn.Sequential(*convs)\n",
    "        self.out_conv = nn.Conv2d(in_dim, 3, kernel_size=3, padding=1)\n",
    "        \n",
    "    def forward(self, data, **kwargs):\n",
    "        # x : (b, c, h, w)\n",
    "        \n",
    "        z = data['z']\n",
    "        y = self.linear(z)\n",
    "        y = y.reshape(y.shape[0], self.in_dim, self.size, self.size)\n",
    "        y = self.convs(y)\n",
    "        y = self.out_conv(y)\n",
    "        data['y'] = y \n",
    "        return data\n",
    "        "
   ]
  },
  {
   "cell_type": "code",
   "execution_count": 22,
   "id": "a96e46c8",
   "metadata": {},
   "outputs": [
    {
     "name": "stdout",
     "output_type": "stream",
     "text": [
      "torch.Size([2, 3, 64, 64])\n"
     ]
    }
   ],
   "source": [
    "decoder_args = {'size': 64,\n",
    "                'out_dim': 1,\n",
    "                'z_dim': 128}\n",
    "decoder = Decoder(**decoder_args)\n",
    "data = {'z': torch.randn(2, 128)}\n",
    "data = decoder(data)\n",
    "print(data['y'].shape)"
   ]
  },
  {
   "cell_type": "code",
   "execution_count": null,
   "id": "b15bccbb",
   "metadata": {},
   "outputs": [],
   "source": []
  },
  {
   "cell_type": "code",
   "execution_count": null,
   "id": "b514936b",
   "metadata": {},
   "outputs": [],
   "source": []
  }
 ],
 "metadata": {
  "kernelspec": {
   "display_name": "Python 3 (ipykernel)",
   "language": "python",
   "name": "python3"
  },
  "language_info": {
   "codemirror_mode": {
    "name": "ipython",
    "version": 3
   },
   "file_extension": ".py",
   "mimetype": "text/x-python",
   "name": "python",
   "nbconvert_exporter": "python",
   "pygments_lexer": "ipython3",
   "version": "3.9.12"
  }
 },
 "nbformat": 4,
 "nbformat_minor": 5
}
