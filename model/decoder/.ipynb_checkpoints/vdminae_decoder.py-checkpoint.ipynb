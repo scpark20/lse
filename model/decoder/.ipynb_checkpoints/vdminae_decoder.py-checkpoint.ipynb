{
 "cells": [
  {
   "cell_type": "code",
   "execution_count": 58,
   "id": "e9ab7cb9",
   "metadata": {},
   "outputs": [],
   "source": [
    "import torch\n",
    "from torch import nn\n",
    "from torch.nn import functional as F\n",
    "from vae_helpers import HModule, get_1x1, get_3x3, draw_gaussian_diag_samples, gaussian_analytical_kl\n",
    "from collections import defaultdict\n",
    "import numpy as np\n",
    "\n",
    "class Decoder(nn.Module):\n",
    "    def __init__(self, H):\n",
    "        super().__init__()\n",
    "        self.decoder = VDDecoder(H)\n",
    "        \n",
    "    def forward(self, data, **kwargs):\n",
    "        activations = data['activations']\n",
    "        y, stats = self.decoder(activations)\n",
    "        data['y'] = y\n",
    "        data['stats'] = stats\n",
    "        return data\n",
    "    \n",
    "    def sample(self, N):\n",
    "        sample = self.decoder.forward_uncond(N)\n",
    "        return sample\n",
    "        \n",
    "\n",
    "def parse_layer_string(s):\n",
    "    layers = []\n",
    "    for ss in s.split(','):\n",
    "        if 'x' in ss:\n",
    "            res, num = ss.split('x')\n",
    "            count = int(num)\n",
    "            layers += [(int(res), None) for _ in range(count)]\n",
    "        elif 'm' in ss:\n",
    "            res, mixin = [int(a) for a in ss.split('m')]\n",
    "            layers.append((res, mixin))\n",
    "        elif 'd' in ss:\n",
    "            res, down_rate = [int(a) for a in ss.split('d')]\n",
    "            layers.append((res, down_rate))\n",
    "        else:\n",
    "            res = int(ss)\n",
    "            layers.append((res, None))\n",
    "    return layers\n",
    "\n",
    "def get_width_settings(width, s):\n",
    "    mapping = defaultdict(lambda: width)\n",
    "    if s:\n",
    "        s = s.split(',')\n",
    "        for ss in s:\n",
    "            k, v = ss.split(':')\n",
    "            mapping[int(k)] = int(v)\n",
    "    return mapping\n",
    "\n",
    "class Block(nn.Module):\n",
    "    def __init__(self, in_width, middle_width, out_width, down_rate=None, residual=False, use_3x3=True, zero_last=False):\n",
    "        super().__init__()\n",
    "        self.down_rate = down_rate\n",
    "        self.residual = residual\n",
    "        self.c1 = get_1x1(in_width, middle_width)\n",
    "        self.c2 = get_3x3(middle_width, middle_width) if use_3x3 else get_1x1(middle_width, middle_width)\n",
    "        self.c3 = get_3x3(middle_width, middle_width) if use_3x3 else get_1x1(middle_width, middle_width)\n",
    "        self.c4 = get_1x1(middle_width, out_width, zero_weights=zero_last)\n",
    "\n",
    "    def forward(self, x):\n",
    "        xhat = self.c1(F.gelu(x))\n",
    "        xhat = self.c2(F.gelu(xhat))\n",
    "        xhat = self.c3(F.gelu(xhat))\n",
    "        xhat = self.c4(F.gelu(xhat))\n",
    "        out = x + xhat if self.residual else xhat\n",
    "        if self.down_rate is not None:\n",
    "            out = F.avg_pool2d(out, kernel_size=self.down_rate, stride=self.down_rate)\n",
    "        return out\n",
    "    \n",
    "class DecBlock(nn.Module):\n",
    "    def __init__(self, H, res, mixin, n_blocks):\n",
    "        super().__init__()\n",
    "        self.base = res\n",
    "        self.mixin = mixin\n",
    "        self.H = H\n",
    "        self.widths = get_width_settings(H.width, H.custom_width_str)\n",
    "        width = self.widths[res]\n",
    "        use_3x3 = res > 2\n",
    "        cond_width = int(width * H.bottleneck_multiple)\n",
    "        self.zdim = H.zdim\n",
    "        self.enc = Block(width * 2, cond_width, H.zdim * 2, residual=False, use_3x3=use_3x3)\n",
    "        self.prior = Block(width, cond_width, H.zdim * 2 + width, residual=False, use_3x3=use_3x3, zero_last=True)\n",
    "        self.z_proj = get_1x1(H.zdim, width)\n",
    "        self.z_proj.weight.data *= np.sqrt(1 / n_blocks)\n",
    "        self.resnet = Block(width, cond_width, width, residual=True, use_3x3=use_3x3)\n",
    "        self.resnet.c4.weight.data *= np.sqrt(1 / n_blocks)\n",
    "        self.z_fn = lambda x: self.z_proj(x)\n",
    "        self.M = H.M\n",
    "        \n",
    "    def get_kl(self, z):\n",
    "        n, z_dim, h, w = z.size()\n",
    "        # z : (n, 1, z_dim, h, w)\n",
    "        z = z.unsqueeze(1)\n",
    "        # (1, m, z_dim, h, w)\n",
    "        e = torch.rand(1, self.M, z_dim, h, w).to(z.device)\n",
    "        # (n, m, z_dim, h, w)\n",
    "        distance = (z - e) ** 2\n",
    "        # (m, z_dim, h, w)\n",
    "        min_distance = torch.min(distance, dim=0).values\n",
    "        # (z_dim, h, w)\n",
    "        loss = torch.mean(min_distance, dim=0)\n",
    "        # ()\n",
    "        loss = torch.mean(loss)\n",
    "        return loss\n",
    "        \n",
    "    def sample(self, x, acts, dropout_index):\n",
    "        qm, qv = self.enc(torch.cat([x, acts], dim=1)).chunk(2, dim=1)\n",
    "        qm = F.tanh(qm)\n",
    "        feats = self.prior(x)\n",
    "        pm, pv, xpp = feats[:, :self.zdim, ...], feats[:, self.zdim:self.zdim * 2, ...], feats[:, self.zdim * 2:, ...]\n",
    "        x = x + xpp\n",
    "        #z = draw_gaussian_diag_samples(qm, qv)\n",
    "        #kl = gaussian_analytical_kl(qm, pm, qv, pv)\n",
    "        z = qm\n",
    "        kl = self.get_kl(z)\n",
    "        n, zdim, h, w = z.size()\n",
    "        # (n, zdim*h*w)\n",
    "        dropout = torch.linspace(0, zdim*h*w-1, zdim*h*w).unsqueeze(0).repeat(n, 1).to(z.device)\n",
    "        dropout = dropout < dropout_index[:, None]\n",
    "        dropout = dropout.reshape(n, zdim, h, w)\n",
    "        z = z * dropout\n",
    "        return z, x, kl, dropout_index - zdim*h*w\n",
    "\n",
    "    def sample_uncond(self, x, t=None, lvs=None):\n",
    "        n, c, h, w = x.shape\n",
    "        feats = self.prior(x)\n",
    "        pm, pv, xpp = feats[:, :self.zdim, ...], feats[:, self.zdim:self.zdim * 2, ...], feats[:, self.zdim * 2:, ...]\n",
    "        x = x + xpp\n",
    "        if lvs is not None:\n",
    "            z = lvs\n",
    "        else:\n",
    "            if t is not None:\n",
    "                pv = pv + torch.ones_like(pv) * np.log(t)\n",
    "            #z = draw_gaussian_diag_samples(pm, pv)\n",
    "            # (n, z, h, w)\n",
    "            z = torch.rand_like(pm).to(pm.device)\n",
    "            \n",
    "        return z, x\n",
    "\n",
    "    def get_inputs(self, xs, activations):\n",
    "        acts = activations[self.base]\n",
    "        try:\n",
    "            x = xs[self.base]\n",
    "        except KeyError:\n",
    "            x = torch.zeros_like(acts)\n",
    "        if acts.shape[0] != x.shape[0]:\n",
    "            x = x.repeat(acts.shape[0], 1, 1, 1)\n",
    "        return x, acts\n",
    "\n",
    "    def forward(self, xs, activations, dropout_index, get_latents=False):\n",
    "        x, acts = self.get_inputs(xs, activations)\n",
    "        if self.mixin is not None:\n",
    "            x = x + F.interpolate(xs[self.mixin][:, :x.shape[1], ...], scale_factor=self.base // self.mixin)\n",
    "        z, x, kl, dropout_index = self.sample(x, acts, dropout_index)\n",
    "        x = x + self.z_fn(z)\n",
    "        x = self.resnet(x)\n",
    "        xs[self.base] = x\n",
    "        if get_latents:\n",
    "            return xs, dict(z=z.detach(), kl=kl)\n",
    "        return xs, dict(kl=kl), dropout_index\n",
    "\n",
    "    def forward_uncond(self, xs, t=None, lvs=None):\n",
    "        try:\n",
    "            x = xs[self.base]\n",
    "        except KeyError:\n",
    "            ref = xs[list(xs.keys())[0]]\n",
    "            x = torch.zeros(dtype=ref.dtype, size=(ref.shape[0], self.widths[self.base], self.base, self.base), device=ref.device)\n",
    "        if self.mixin is not None:\n",
    "            x = x + F.interpolate(xs[self.mixin][:, :x.shape[1], ...], scale_factor=self.base // self.mixin)\n",
    "        z, x = self.sample_uncond(x, t, lvs=lvs)\n",
    "        x = x + self.z_fn(z)\n",
    "        x = self.resnet(x)\n",
    "        xs[self.base] = x\n",
    "        return xs\n",
    "    \n",
    "class VDDecoder(HModule):\n",
    "    \n",
    "    def get_zcount(self, blocks, zdim):\n",
    "        return sum([res*res*zdim for res, mixin in blocks])\n",
    "\n",
    "    def build(self):\n",
    "        H = self.H\n",
    "        resos = set()\n",
    "        dec_blocks = []\n",
    "        self.widths = get_width_settings(H.width, H.custom_width_str)\n",
    "        blocks = parse_layer_string(H.dec_blocks)\n",
    "        self.zcount = self.get_zcount(blocks, H.zdim)\n",
    "        for idx, (res, mixin) in enumerate(blocks):\n",
    "            dec_blocks.append(DecBlock(H, res, mixin, n_blocks=len(blocks)))\n",
    "            resos.add(res)\n",
    "        self.resolutions = sorted(resos)\n",
    "        self.dec_blocks = nn.ModuleList(dec_blocks)\n",
    "        self.bias_xs = nn.ParameterList([nn.Parameter(torch.zeros(1, self.widths[res], res, res)) for res in self.resolutions if res <= H.no_bias_above])\n",
    "        self.gain = nn.Parameter(torch.ones(1, H.width, 1, 1))\n",
    "        self.bias = nn.Parameter(torch.zeros(1, H.width, 1, 1))\n",
    "        self.final_fn = lambda x: x * self.gain + self.bias\n",
    "\n",
    "    def forward(self, activations, get_latents=False):\n",
    "        stats = []\n",
    "        xs = {a.shape[2]: a for a in self.bias_xs}\n",
    "        activation = activations[list(activations.keys())[0]]\n",
    "        dropout_index = torch.randint(0, self.zcount, size=(len(activation),)).to(activation.device)\n",
    "        for block in self.dec_blocks:\n",
    "            xs, block_stats, dropout_index = block(xs, activations, dropout_index, get_latents=get_latents)\n",
    "            stats.append(block_stats)\n",
    "        xs[self.H.image_size] = self.final_fn(xs[self.H.image_size])\n",
    "        return xs[self.H.image_size], stats\n",
    "\n",
    "    def forward_uncond(self, n, t=None, y=None):\n",
    "        xs = {}\n",
    "        for bias in self.bias_xs:\n",
    "            xs[bias.shape[2]] = bias.repeat(n, 1, 1, 1)\n",
    "        for idx, block in enumerate(self.dec_blocks):\n",
    "            try:\n",
    "                temp = t[idx]\n",
    "            except TypeError:\n",
    "                temp = t\n",
    "            xs = block.forward_uncond(xs, temp)\n",
    "        xs[self.H.image_size] = self.final_fn(xs[self.H.image_size])\n",
    "        return xs[self.H.image_size]\n",
    "\n",
    "    def forward_manual_latents(self, n, latents, t=None):\n",
    "        xs = {}\n",
    "        for bias in self.bias_xs:\n",
    "            xs[bias.shape[2]] = bias.repeat(n, 1, 1, 1)\n",
    "        for block, lvs in itertools.zip_longest(self.dec_blocks, latents):\n",
    "            xs = block.forward_uncond(xs, t, lvs=lvs)\n",
    "        xs[self.H.image_size] = self.final_fn(xs[self.H.image_size])\n",
    "        return xs[self.H.image_size]\n"
   ]
  },
  {
   "cell_type": "code",
   "execution_count": 59,
   "id": "0f9b76fb",
   "metadata": {},
   "outputs": [
    {
     "data": {
      "text/plain": [
       "120.5799560546875"
      ]
     },
     "execution_count": 59,
     "metadata": {},
     "output_type": "execute_result"
    }
   ],
   "source": [
    "from easydict import EasyDict\n",
    "H = EasyDict()\n",
    "H.image_size = 32\n",
    "H.image_channels = 3\n",
    "H.width = 384\n",
    "H.zdim = 16\n",
    "H.custom_width_str = \"\"\n",
    "H.dec_blocks = \"1x1,4m1,4x2,8m4,8x5,16m8,16x10,32m16,32x21\"\n",
    "H.bottleneck_multiple = 0.25\n",
    "H.no_bias_above = 64\n",
    "H.M = 1\n",
    "decoder = Decoder(H)\n",
    "\n",
    "def get_size(model):\n",
    "    return sum(p.numel() for p in model.parameters() if p.requires_grad) * 4 / (1024 * 1024)\n",
    "\n",
    "get_size(decoder)"
   ]
  },
  {
   "cell_type": "code",
   "execution_count": 60,
   "id": "31010712",
   "metadata": {
    "scrolled": true
   },
   "outputs": [
    {
     "name": "stdout",
     "output_type": "stream",
     "text": [
      "dict_keys(['activations', 'y', 'stats'])\n"
     ]
    }
   ],
   "source": [
    "N = 2\n",
    "data = {'activations': {1: torch.randn(N, H.width, 1, 1),\n",
    "                   4: torch.randn(N, H.width, 4, 4),\n",
    "                   8: torch.randn(N, H.width, 8, 8),\n",
    "                   16: torch.randn(N, H.width, 16, 16),\n",
    "                   32: torch.randn(N, H.width, 32, 32),\n",
    "                  }\n",
    "       }\n",
    "data = decoder(data)\n",
    "print(data.keys())"
   ]
  },
  {
   "cell_type": "code",
   "execution_count": 19,
   "id": "c9854ed5",
   "metadata": {},
   "outputs": [
    {
     "data": {
      "text/plain": [
       "240896"
      ]
     },
     "execution_count": 19,
     "metadata": {},
     "output_type": "execute_result"
    }
   ],
   "source": [
    "blocks = parse_layer_string(H.dec_blocks)\n",
    "zcount = 0\n",
    "for res, mixin in blocks:\n",
    "    zcount += res*H.zdim*H.zdim\n",
    "    \n",
    "zcount"
   ]
  },
  {
   "cell_type": "code",
   "execution_count": 22,
   "id": "7dacc985",
   "metadata": {},
   "outputs": [
    {
     "data": {
      "text/plain": [
       "412432"
      ]
     },
     "execution_count": 22,
     "metadata": {},
     "output_type": "execute_result"
    }
   ],
   "source": [
    "def get_zcount(blocks, zdim):\n",
    "    return sum([res*res*zdim for res, mixin in blocks])\n",
    "\n",
    "get_zcount(blocks, H.zdim)"
   ]
  },
  {
   "cell_type": "code",
   "execution_count": 32,
   "id": "7b0a4602",
   "metadata": {},
   "outputs": [
    {
     "data": {
      "text/plain": [
       "torch.Size([16, 384, 1, 1])"
      ]
     },
     "execution_count": 32,
     "metadata": {},
     "output_type": "execute_result"
    }
   ],
   "source": [
    "data['activations'][list(data['activations'].keys())[0]].shape"
   ]
  },
  {
   "cell_type": "code",
   "execution_count": 30,
   "id": "e933c07d",
   "metadata": {},
   "outputs": [
    {
     "data": {
      "text/plain": [
       "1"
      ]
     },
     "execution_count": 30,
     "metadata": {},
     "output_type": "execute_result"
    }
   ],
   "source": [
    "list(data['activations'].keys())[0]"
   ]
  },
  {
   "cell_type": "code",
   "execution_count": 40,
   "id": "12c4487b",
   "metadata": {},
   "outputs": [
    {
     "data": {
      "text/plain": [
       "torch.Size([4, 100])"
      ]
     },
     "execution_count": 40,
     "metadata": {},
     "output_type": "execute_result"
    }
   ],
   "source": [
    "torch.linspace(0, 99, 100).unsqueeze(0).repeat(4, 1).shape"
   ]
  },
  {
   "cell_type": "code",
   "execution_count": 37,
   "id": "18d3e82a",
   "metadata": {},
   "outputs": [
    {
     "data": {
      "text/plain": [
       "tensor([66, 86])"
      ]
     },
     "execution_count": 37,
     "metadata": {},
     "output_type": "execute_result"
    }
   ],
   "source": [
    "torch.randint(0, 100, size=(2,))"
   ]
  },
  {
   "cell_type": "code",
   "execution_count": null,
   "id": "f33dcdf5",
   "metadata": {},
   "outputs": [],
   "source": []
  }
 ],
 "metadata": {
  "kernelspec": {
   "display_name": "ste",
   "language": "python",
   "name": "ste"
  },
  "language_info": {
   "codemirror_mode": {
    "name": "ipython",
    "version": 3
   },
   "file_extension": ".py",
   "mimetype": "text/x-python",
   "name": "python",
   "nbconvert_exporter": "python",
   "pygments_lexer": "ipython3",
   "version": "3.12.1"
  }
 },
 "nbformat": 4,
 "nbformat_minor": 5
}
