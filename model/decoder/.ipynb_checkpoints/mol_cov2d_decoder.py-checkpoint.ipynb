{
 "cells": [
  {
   "cell_type": "code",
   "execution_count": 24,
   "id": "3815e3ce",
   "metadata": {},
   "outputs": [],
   "source": [
    "import torch\n",
    "import torch.nn as nn\n",
    "import torch.nn.functional as F\n",
    "from mol import discretized_mix_logistic_loss, sample_from_discretized_mix_logistic\n",
    "\n",
    "class Decoder(nn.Module):\n",
    "    def __init__(self, size, z_dim, h_dims=[32, 64, 128, 256, 512], **kwargs):\n",
    "        super().__init__()\n",
    "        \n",
    "        size = size // 2 ** len(h_dims)\n",
    "        self.size = size\n",
    "        in_dim = h_dims[-1]\n",
    "        self.in_dim = in_dim\n",
    "        self.linear = nn.Linear(z_dim, in_dim*size**2)\n",
    "        \n",
    "        h_dims = h_dims[:-1]\n",
    "        convs = []\n",
    "        for h_dim in h_dims[::-1]:\n",
    "            conv = nn.Sequential(nn.ConvTranspose2d(in_dim, h_dim, kernel_size=3, stride=2, padding=1, output_padding=1),\n",
    "                                 nn.BatchNorm2d(h_dim),\n",
    "                                 nn.LeakyReLU())\n",
    "            convs.append(conv)\n",
    "            in_dim = h_dim\n",
    "        self.convs = nn.Sequential(*convs)\n",
    "        self.out_conv = nn.Sequential(nn.ConvTranspose2d(h_dim, h_dim, kernel_size=3, stride=2, padding=1, output_padding=1),\n",
    "                                      nn.BatchNorm2d(h_dim),\n",
    "                                      nn.LeakyReLU(),\n",
    "                                      nn.Conv2d(h_dim, 100, kernel_size=3, padding=1))\n",
    "        \n",
    "    def forward(self, data, **kwargs):\n",
    "        # x : (b, c, h, w)\n",
    "        \n",
    "        z = data['z']\n",
    "        y = self.linear(z)\n",
    "        y = y.reshape(y.shape[0], self.in_dim, self.size, self.size)\n",
    "        y = self.convs(y)\n",
    "        l = self.out_conv(y)\n",
    "        data['l'] = l\n",
    "        recon_loss = torch.mean(discretized_mix_logistic_loss(data['x'].permute(0, 2, 3, 1), l.permute(0, 2, 3, 1)))\n",
    "        data['recon_loss'] = recon_loss\n",
    "        return data\n",
    "    \n",
    "    def sample(self, z):\n",
    "        y = self.linear(z)\n",
    "        y = y.reshape(y.shape[0], self.in_dim, self.size, self.size)\n",
    "        y = self.convs(y)\n",
    "        l = self.out_conv(y)\n",
    "        sample = sample_from_discretized_mix_logistic(l.permute(0, 2, 3, 1), 10)\n",
    "        sample = sample.permute(0, 3, 1, 2)\n",
    "        return sample\n",
    "    "
   ]
  },
  {
   "cell_type": "code",
   "execution_count": 25,
   "id": "c72fac1b",
   "metadata": {},
   "outputs": [
    {
     "name": "stdout",
     "output_type": "stream",
     "text": [
      "tensor(4.8418, grad_fn=<MeanBackward0>)\n",
      "torch.Size([2, 100, 64, 64])\n"
     ]
    }
   ],
   "source": [
    "decoder = Decoder(64, 128)\n",
    "data = {'x': torch.randn(2, 3, 64, 64),\n",
    "        'z': torch.randn(2, 128)\n",
    "       }\n",
    "data = decoder(data)\n",
    "print(data['recon_loss'])\n",
    "print(data['l'].shape)"
   ]
  },
  {
   "cell_type": "code",
   "execution_count": 26,
   "id": "939cefad",
   "metadata": {
    "scrolled": true
   },
   "outputs": [
    {
     "name": "stdout",
     "output_type": "stream",
     "text": [
      "tensor(-1., grad_fn=<MinBackward1>) tensor(1., grad_fn=<MaxBackward1>)\n"
     ]
    }
   ],
   "source": [
    "sample = decoder.sample(data['z'])\n",
    "print(sample.min(), sample.max())"
   ]
  },
  {
   "cell_type": "code",
   "execution_count": 27,
   "id": "2afde583",
   "metadata": {},
   "outputs": [
    {
     "data": {
      "text/plain": [
       "torch.Size([2, 3, 64, 64])"
      ]
     },
     "execution_count": 27,
     "metadata": {},
     "output_type": "execute_result"
    }
   ],
   "source": [
    "sample.shape"
   ]
  },
  {
   "cell_type": "code",
   "execution_count": null,
   "id": "96962654",
   "metadata": {},
   "outputs": [],
   "source": []
  },
  {
   "cell_type": "code",
   "execution_count": null,
   "id": "cd205e0c",
   "metadata": {},
   "outputs": [],
   "source": []
  }
 ],
 "metadata": {
  "kernelspec": {
   "display_name": "Python 3 (ipykernel)",
   "language": "python",
   "name": "python3"
  },
  "language_info": {
   "codemirror_mode": {
    "name": "ipython",
    "version": 3
   },
   "file_extension": ".py",
   "mimetype": "text/x-python",
   "name": "python",
   "nbconvert_exporter": "python",
   "pygments_lexer": "ipython3",
   "version": "3.9.12"
  }
 },
 "nbformat": 4,
 "nbformat_minor": 5
}
