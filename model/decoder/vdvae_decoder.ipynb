{
 "cells": [
  {
   "cell_type": "code",
   "execution_count": 1,
   "id": "5c390a8f",
   "metadata": {},
   "outputs": [],
   "source": [
    "import torch\n",
    "from torch import nn\n",
    "from torch.nn import functional as F\n",
    "from vdvae_decoder import Decoder"
   ]
  },
  {
   "cell_type": "code",
   "execution_count": 2,
   "id": "fded3e3b",
   "metadata": {
    "scrolled": true
   },
   "outputs": [
    {
     "data": {
      "text/plain": [
       "120.5799560546875"
      ]
     },
     "execution_count": 2,
     "metadata": {},
     "output_type": "execute_result"
    }
   ],
   "source": [
    "from easydict import EasyDict\n",
    "H = EasyDict()\n",
    "H.image_size = 32\n",
    "H.image_channels = 3\n",
    "H.width = 384\n",
    "H.zdim = 16\n",
    "H.custom_width_str = \"\"\n",
    "H.dec_blocks = \"1x1,4m1,4x2,8m4,8x5,16m8,16x10,32m16,32x21\"\n",
    "H.bottleneck_multiple = 0.25\n",
    "H.no_bias_above = 64\n",
    "decoder = Decoder(H)\n",
    "\n",
    "def get_size(model):\n",
    "    return sum(p.numel() for p in model.parameters() if p.requires_grad) * 4 / (1024 * 1024)\n",
    "\n",
    "get_size(decoder)"
   ]
  },
  {
   "cell_type": "code",
   "execution_count": 3,
   "id": "f796154e",
   "metadata": {},
   "outputs": [
    {
     "name": "stdout",
     "output_type": "stream",
     "text": [
      "dict_keys(['activations', 'y', 'stats'])\n"
     ]
    }
   ],
   "source": [
    "N = 16\n",
    "data = {'activations': {1: torch.randn(N, H.width, 1, 1),\n",
    "                   4: torch.randn(N, H.width, 4, 4),\n",
    "                   8: torch.randn(N, H.width, 8, 8),\n",
    "                   16: torch.randn(N, H.width, 16, 16),\n",
    "                   32: torch.randn(N, H.width, 32, 32),\n",
    "                  }\n",
    "       }\n",
    "data = decoder(data)\n",
    "print(data.keys())"
   ]
  },
  {
   "cell_type": "code",
   "execution_count": null,
   "id": "0010f1d8",
   "metadata": {},
   "outputs": [],
   "source": []
  },
  {
   "cell_type": "code",
   "execution_count": null,
   "id": "1cf647a3",
   "metadata": {},
   "outputs": [],
   "source": []
  },
  {
   "cell_type": "code",
   "execution_count": null,
   "id": "90075a9b",
   "metadata": {},
   "outputs": [],
   "source": []
  },
  {
   "cell_type": "code",
   "execution_count": null,
   "id": "525cb721",
   "metadata": {},
   "outputs": [],
   "source": []
  }
 ],
 "metadata": {
  "kernelspec": {
   "display_name": "ste",
   "language": "python",
   "name": "ste"
  },
  "language_info": {
   "codemirror_mode": {
    "name": "ipython",
    "version": 3
   },
   "file_extension": ".py",
   "mimetype": "text/x-python",
   "name": "python",
   "nbconvert_exporter": "python",
   "pygments_lexer": "ipython3",
   "version": "3.12.1"
  }
 },
 "nbformat": 4,
 "nbformat_minor": 5
}
