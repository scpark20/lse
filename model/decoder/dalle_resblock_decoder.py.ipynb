{
 "cells": [
  {
   "cell_type": "code",
   "execution_count": 21,
   "id": "e31b790d",
   "metadata": {},
   "outputs": [],
   "source": [
    "import torch\n",
    "import torch.nn as nn\n",
    "import torch.nn.functional as F\n",
    "\n",
    "class ResBlock(nn.Module):\n",
    "    def __init__(self, in_channels, out_channels, stride=1):\n",
    "        super(ResBlock, self).__init__()\n",
    "        self.conv1 = nn.ConvTranspose2d(in_channels, out_channels, kernel_size=3, stride=stride, padding=1, output_padding=1)\n",
    "        self.bn1 = nn.BatchNorm2d(out_channels)\n",
    "        self.conv2 = nn.Conv2d(out_channels, out_channels, kernel_size=3, stride=1, padding=1)\n",
    "        self.bn2 = nn.BatchNorm2d(out_channels)\n",
    "\n",
    "        self.shortcut = nn.Sequential()\n",
    "        if stride != 1 or in_channels != out_channels:\n",
    "            self.shortcut = nn.Sequential(\n",
    "                nn.ConvTranspose2d(in_channels, out_channels, kernel_size=3, stride=stride, padding=1, output_padding=1, bias=False),\n",
    "                nn.BatchNorm2d(out_channels)\n",
    "            )\n",
    "\n",
    "    def forward(self, x):\n",
    "        out = F.relu(self.bn1(self.conv1(x)))\n",
    "        out = self.bn2(self.conv2(out))\n",
    "        out += self.shortcut(x)\n",
    "        out = F.relu(out)\n",
    "        return out\n",
    "\n",
    "class DALLEDecoder(nn.Module):\n",
    "    def __init__(self, out_channels, hidden_dims):\n",
    "        super(DALLEDecoder, self).__init__()\n",
    "        hidden_dims = hidden_dims[::-1]\n",
    "        layers = []\n",
    "        for i in range(len(hidden_dims) - 1):\n",
    "            layers.append(ResBlock(hidden_dims[i], hidden_dims[i + 1], stride=2))\n",
    "        layers.append(nn.ConvTranspose2d(hidden_dims[-1], out_channels, kernel_size=3, stride=2, padding=1, output_padding=1))\n",
    "        self.decoder = nn.Sequential(*layers)\n",
    "        \n",
    "    def forward(self, x):\n",
    "        return self.decoder(x)\n",
    "\n",
    "class Decoder(nn.Module):\n",
    "    def __init__(self, hidden_dims=[256, 512], z_dim=512, **kwargs):\n",
    "        super().__init__()\n",
    "        self.in_conv = nn.Conv2d(z_dim, hidden_dims[-1], kernel_size=1)\n",
    "        self.decoder = DALLEDecoder(out_channels=3, hidden_dims=hidden_dims)\n",
    "        \n",
    "    def forward(self, data, **kwargs):\n",
    "        # x : (b, c, h, w)\n",
    "        data['y'] = F.sigmoid(self.decoder(self.in_conv(data['z'])))\n",
    "        print(data['y'].shape, data['x'].shape)\n",
    "        data['recon_loss'] = F.mse_loss(data['y'], data['x'])\n",
    "        return data\n",
    "    \n"
   ]
  },
  {
   "cell_type": "code",
   "execution_count": 22,
   "id": "53b1081b",
   "metadata": {},
   "outputs": [
    {
     "name": "stdout",
     "output_type": "stream",
     "text": [
      "torch.Size([2, 3, 128, 128]) torch.Size([2, 3, 128, 128])\n"
     ]
    }
   ],
   "source": [
    "decoder = Decoder()\n",
    "data = {'z': torch.randn(2, 512, 32, 32),\n",
    "        'x': torch.randn(2, 3, 128, 128)}\n",
    "data = decoder(data)"
   ]
  },
  {
   "cell_type": "code",
   "execution_count": null,
   "id": "58e703b2",
   "metadata": {},
   "outputs": [],
   "source": []
  },
  {
   "cell_type": "code",
   "execution_count": null,
   "id": "b7fdf761",
   "metadata": {},
   "outputs": [],
   "source": []
  },
  {
   "cell_type": "code",
   "execution_count": null,
   "id": "74b456df",
   "metadata": {},
   "outputs": [],
   "source": []
  },
  {
   "cell_type": "code",
   "execution_count": null,
   "id": "65786f6b",
   "metadata": {},
   "outputs": [],
   "source": []
  }
 ],
 "metadata": {
  "kernelspec": {
   "display_name": "Python 3 (ipykernel)",
   "language": "python",
   "name": "python3"
  },
  "language_info": {
   "codemirror_mode": {
    "name": "ipython",
    "version": 3
   },
   "file_extension": ".py",
   "mimetype": "text/x-python",
   "name": "python",
   "nbconvert_exporter": "python",
   "pygments_lexer": "ipython3",
   "version": "3.9.15"
  }
 },
 "nbformat": 4,
 "nbformat_minor": 5
}
