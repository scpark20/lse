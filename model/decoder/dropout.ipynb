{
 "cells": [
  {
   "cell_type": "code",
   "execution_count": 1,
   "id": "cddede90",
   "metadata": {},
   "outputs": [],
   "source": [
    "import torch\n",
    "import torch.nn.functional as F"
   ]
  },
  {
   "cell_type": "code",
   "execution_count": 2,
   "id": "b8be860b",
   "metadata": {},
   "outputs": [
    {
     "data": {
      "text/plain": [
       "tensor([[0., 0., 0., 1., 0., 0., 1., 0., 0., 0., 0., 0., 0., 1., 0., 0., 0., 0.,\n",
       "         0., 0., 0., 0., 0., 0., 0., 0., 1., 0., 0., 1., 0., 0.],\n",
       "        [1., 0., 0., 1., 0., 1., 0., 0., 0., 1., 0., 0., 0., 0., 1., 0., 1., 0.,\n",
       "         0., 1., 1., 1., 0., 0., 1., 1., 0., 0., 0., 0., 0., 0.],\n",
       "        [1., 1., 1., 1., 1., 1., 1., 1., 1., 1., 0., 1., 1., 1., 1., 1., 1., 1.,\n",
       "         1., 1., 1., 0., 1., 1., 0., 1., 1., 1., 0., 0., 1., 1.]])"
      ]
     },
     "execution_count": 2,
     "metadata": {},
     "output_type": "execute_result"
    }
   ],
   "source": [
    "import torch\n",
    "\n",
    "def sample_binary_outcomes_torch(probabilities, n_samples):\n",
    "    # Generate random numbers between 0 and 1 of shape (b, n_samples)\n",
    "    random_numbers = torch.rand(len(probabilities), n_samples)\n",
    "    \n",
    "    # Compare random numbers with probabilities to decide the outcome (1 if random_number < probability, else 0)\n",
    "    outcomes = (random_numbers < probabilities[:, None]).float()\n",
    "    \n",
    "    return outcomes\n",
    "\n",
    "# Example usage with PyTorch\n",
    "probabilities = torch.Tensor([0.2, 0.5, 0.8])  # Example probabilities for demonstration\n",
    "n_samples = 32  # Number of samples to generate for each probability\n",
    "outcomes_tensor = sample_binary_outcomes_torch(probabilities, n_samples)\n",
    "outcomes_tensor\n"
   ]
  },
  {
   "cell_type": "code",
   "execution_count": 3,
   "id": "0d7f8ed1",
   "metadata": {},
   "outputs": [],
   "source": [
    "probabilities = torch.rand(10)"
   ]
  },
  {
   "cell_type": "code",
   "execution_count": 4,
   "id": "8a3013fd",
   "metadata": {},
   "outputs": [
    {
     "data": {
      "text/plain": [
       "tensor([0.8621, 0.1167, 0.5584, 0.3899, 0.4424, 0.3314, 0.7635, 0.0405, 0.3284,\n",
       "        0.0684])"
      ]
     },
     "execution_count": 4,
     "metadata": {},
     "output_type": "execute_result"
    }
   ],
   "source": [
    "probabilities"
   ]
  },
  {
   "cell_type": "code",
   "execution_count": 8,
   "id": "cdef604b",
   "metadata": {},
   "outputs": [
    {
     "data": {
      "text/plain": [
       "torch.Size([4, 101])"
      ]
     },
     "execution_count": 8,
     "metadata": {},
     "output_type": "execute_result"
    }
   ],
   "source": [
    "b = 4\n",
    "h = 8\n",
    "w = 8\n",
    "drop_range = torch.randint(0, h*w, size=(b,))\n",
    "zeros = torch.linspace(0, h*w-1, h*w).unsqueeze(0).repeat(b, 1) < "
   ]
  },
  {
   "cell_type": "code",
   "execution_count": null,
   "id": "1b12175e",
   "metadata": {},
   "outputs": [],
   "source": []
  }
 ],
 "metadata": {
  "kernelspec": {
   "display_name": "ste",
   "language": "python",
   "name": "ste"
  },
  "language_info": {
   "codemirror_mode": {
    "name": "ipython",
    "version": 3
   },
   "file_extension": ".py",
   "mimetype": "text/x-python",
   "name": "python",
   "nbconvert_exporter": "python",
   "pygments_lexer": "ipython3",
   "version": "3.12.1"
  }
 },
 "nbformat": 4,
 "nbformat_minor": 5
}
