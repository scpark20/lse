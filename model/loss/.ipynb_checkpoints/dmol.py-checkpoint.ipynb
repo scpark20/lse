{
 "cells": [
  {
   "cell_type": "code",
   "execution_count": 2,
   "id": "6d6144c1",
   "metadata": {},
   "outputs": [],
   "source": [
    "import torch\n",
    "import torch.nn as nn\n",
    "import torch.nn.functional as F\n",
    "from vae_helpers import DmolNet"
   ]
  },
  {
   "cell_type": "code",
   "execution_count": 5,
   "id": "76f55ba1",
   "metadata": {},
   "outputs": [],
   "source": [
    "class Loss(nn.Module):\n",
    "    def __init__(self, H):\n",
    "        super().__init__()\n",
    "        self.out_net = DmolNet(H)\n",
    "        \n",
    "    def forward(self, data, **kwargs):\n",
    "        # data['y'] : (B, C, H, W)\n",
    "        # data['stats']\n",
    "        # data['x_target']\n",
    "        \n",
    "        x = data['x']\n",
    "        x_target = data['x_target']\n",
    "        \n",
    "        distortion_per_pixel = self.decoder.out_net.nll(data['y'], x_target)\n",
    "        rate_per_pixel = torch.zeros_like(distortion_per_pixel)\n",
    "        ndims = np.prod(x.shape[1:])\n",
    "        for statdict in stats:\n",
    "            rate_per_pixel += statdict['kl'].sum(dim=(1, 2, 3))\n",
    "        rate_per_pixel /= ndims\n",
    "        elbo = (distortion_per_pixel + rate_per_pixel).mean()\n",
    "        \n",
    "        data['elbo'] = elbo\n",
    "        data['distortion'] = distortion_per_pixel.mean()\n",
    "        data['rate'] = rate_per_pixel.mean()\n",
    "        \n",
    "        return data\n",
    "        \n",
    "        \n",
    "        "
   ]
  },
  {
   "cell_type": "code",
   "execution_count": null,
   "id": "adb4f8fe",
   "metadata": {},
   "outputs": [],
   "source": []
  }
 ],
 "metadata": {
  "kernelspec": {
   "display_name": "ste",
   "language": "python",
   "name": "ste"
  },
  "language_info": {
   "codemirror_mode": {
    "name": "ipython",
    "version": 3
   },
   "file_extension": ".py",
   "mimetype": "text/x-python",
   "name": "python",
   "nbconvert_exporter": "python",
   "pygments_lexer": "ipython3",
   "version": "3.12.1"
  }
 },
 "nbformat": 4,
 "nbformat_minor": 5
}
