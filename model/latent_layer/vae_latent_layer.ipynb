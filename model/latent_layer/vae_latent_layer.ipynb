{
 "cells": [
  {
   "cell_type": "code",
   "execution_count": 2,
   "id": "6646311e",
   "metadata": {},
   "outputs": [],
   "source": [
    "import torch\n",
    "import torch.nn as nn\n",
    "import torch.nn.functional as F\n",
    "\n",
    "class LatentLayer(nn.Module):\n",
    "    def __init__(self):\n",
    "        super().__init__()\n",
    "                \n",
    "    def forward(self, data, **kwargs):\n",
    "        # z_mean : (b, c)\n",
    "        # z_logstd : (b, c)\n",
    "        \n",
    "        data['z'] = data['z_mean'] + data['z_logstd'].exp() * torch.randn_like(data['z_logstd'])\n",
    "        \n",
    "        return data\n",
    "        "
   ]
  },
  {
   "cell_type": "code",
   "execution_count": 3,
   "id": "def106ca",
   "metadata": {},
   "outputs": [
    {
     "ename": "TypeError",
     "evalue": "__init__() takes 1 positional argument but 2 were given",
     "output_type": "error",
     "traceback": [
      "\u001b[0;31m---------------------------------------------------------------------------\u001b[0m",
      "\u001b[0;31mTypeError\u001b[0m                                 Traceback (most recent call last)",
      "Input \u001b[0;32mIn [3]\u001b[0m, in \u001b[0;36m<cell line: 3>\u001b[0;34m()\u001b[0m\n\u001b[1;32m      1\u001b[0m data \u001b[38;5;241m=\u001b[39m {\u001b[38;5;124m'\u001b[39m\u001b[38;5;124mz_mean\u001b[39m\u001b[38;5;124m'\u001b[39m: torch\u001b[38;5;241m.\u001b[39mrandn(\u001b[38;5;241m2\u001b[39m, \u001b[38;5;241m128\u001b[39m),\n\u001b[1;32m      2\u001b[0m         \u001b[38;5;124m'\u001b[39m\u001b[38;5;124mz_logstd\u001b[39m\u001b[38;5;124m'\u001b[39m: torch\u001b[38;5;241m.\u001b[39mrandn(\u001b[38;5;241m2\u001b[39m, \u001b[38;5;241m128\u001b[39m)}\n\u001b[0;32m----> 3\u001b[0m \u001b[43mLatentLayer\u001b[49m\u001b[43m(\u001b[49m\u001b[43mdata\u001b[49m\u001b[43m)\u001b[49m\n",
      "\u001b[0;31mTypeError\u001b[0m: __init__() takes 1 positional argument but 2 were given"
     ]
    }
   ],
   "source": [
    "data = {'z_mean': torch.randn(2, 128),\n",
    "        'z_logstd': torch.randn(2, 128)}\n",
    "LatentLayer(data)"
   ]
  },
  {
   "cell_type": "code",
   "execution_count": 1,
   "id": "a69c9ce2",
   "metadata": {},
   "outputs": [],
   "source": [
    "# 손실 함수 정의 (MSE Loss)\n",
    "def loss_function(recon_x, x, mu, logvar):\n",
    "    mse_loss = nn.MSELoss(reduction='sum')\n",
    "    MSE = mse_loss(recon_x, x.view(-1, 784))\n",
    "    KL_divergence = -0.5 * torch.sum(1 + logvar - mu.pow(2) - logvar.exp())\n",
    "    return MSE + KL_divergence"
   ]
  },
  {
   "cell_type": "code",
   "execution_count": 4,
   "id": "b26ed3c9",
   "metadata": {},
   "outputs": [
    {
     "data": {
      "text/plain": [
       "tensor(3208.0513)"
      ]
     },
     "execution_count": 4,
     "metadata": {},
     "output_type": "execute_result"
    }
   ],
   "source": [
    "x = torch.randn(2, 784)\n",
    "y = torch.randn(2, 784)\n",
    "mu = torch.randn(2, 2)\n",
    "logvar = torch.randn(2, 2)\n",
    "loss_function(x, y, mu, logvar)"
   ]
  },
  {
   "cell_type": "code",
   "execution_count": null,
   "id": "9688ba4d",
   "metadata": {},
   "outputs": [],
   "source": []
  }
 ],
 "metadata": {
  "kernelspec": {
   "display_name": "Python 3 (ipykernel)",
   "language": "python",
   "name": "python3"
  },
  "language_info": {
   "codemirror_mode": {
    "name": "ipython",
    "version": 3
   },
   "file_extension": ".py",
   "mimetype": "text/x-python",
   "name": "python",
   "nbconvert_exporter": "python",
   "pygments_lexer": "ipython3",
   "version": "3.9.12"
  }
 },
 "nbformat": 4,
 "nbformat_minor": 5
}
