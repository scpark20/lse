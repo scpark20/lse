{
 "cells": [
  {
   "cell_type": "code",
   "execution_count": 16,
   "id": "0602f78d",
   "metadata": {},
   "outputs": [],
   "source": [
    "import torch\n",
    "import torch.nn as nn\n",
    "import torch.nn.functional as F\n",
    "\n",
    "class LatentLayer(nn.Module):\n",
    "    def __init__(self, **kwargs):\n",
    "        super().__init__()\n",
    "                \n",
    "    def forward(self, data, **kwargs):\n",
    "\n",
    "        # (N, C)\n",
    "        data['z'] = torch.tanh(data['z'])\n",
    "        \n",
    "        if 'opts' in kwargs:\n",
    "            # (N, C)\n",
    "            e = torch.rand_like(data['z'])*2-1\n",
    "            opts = kwargs['opts']\n",
    "            data['mmd_loss'] = mmd_penalty(data['z'], e, opts)\n",
    "        \n",
    "        return data\n",
    "        \n",
    "def mmd_penalty(sample_qz, sample_pz, opts):\n",
    "    sigma2_p = opts['pz_scale'] ** 2\n",
    "    kernel = opts['mmd_kernel']\n",
    "    n = sample_qz.size(0)\n",
    "    nf = float(n)\n",
    "    half_size = (n * n - n) // 2\n",
    "\n",
    "    norms_pz = torch.sum(sample_pz ** 2, dim=1, keepdim=True)\n",
    "    dotprods_pz = torch.mm(sample_pz, sample_pz.t())\n",
    "    distances_pz = norms_pz + norms_pz.t() - 2 * dotprods_pz\n",
    "\n",
    "    norms_qz = torch.sum(sample_qz ** 2, dim=1, keepdim=True)\n",
    "    dotprods_qz = torch.mm(sample_qz, sample_qz.t())\n",
    "    distances_qz = norms_qz + norms_qz.t() - 2 * dotprods_qz\n",
    "\n",
    "    dotprods = torch.mm(sample_qz, sample_pz.t())\n",
    "    distances = norms_qz + norms_pz.t() - 2 * dotprods\n",
    "\n",
    "    if kernel == 'RBF':\n",
    "        sigma2_k, _ = torch.topk(distances.view(-1), half_size, largest=False)\n",
    "        sigma2_k = sigma2_k[-1] + torch.topk(distances_qz.view(-1), half_size, largest=False)[0][-1]\n",
    "        res1 = torch.exp(-distances_qz / (2 * sigma2_k))\n",
    "        res1 += torch.exp(-distances_pz / (2 * sigma2_k))\n",
    "        res1 = res1 * (1 - torch.eye(n, device=sample_qz.device))\n",
    "        res1 = res1.sum() / (nf * nf - nf)\n",
    "        res2 = torch.exp(-distances / (2 * sigma2_k))\n",
    "        res2 = res2.sum() * 2. / (nf * nf)\n",
    "        stat = res1 - res2\n",
    "    elif kernel == 'IMQ':\n",
    "        if opts['pz'] == 'normal':\n",
    "            Cbase = 2 * opts['zdim'] * sigma2_p\n",
    "        elif opts['pz'] == 'sphere':\n",
    "            Cbase = 2\n",
    "        elif opts['pz'] == 'uniform':\n",
    "            Cbase = opts['zdim']\n",
    "        stat = 0.\n",
    "        for scale in [.1, .2, .5, 1., 2., 5., 10.]:\n",
    "            C = Cbase * scale\n",
    "            res1 = C / (C + distances_qz)\n",
    "            res1 += C / (C + distances_pz)\n",
    "            res1 = res1 * (1 - torch.eye(n, device=sample_qz.device))\n",
    "            res1 = res1.sum() / (nf * nf - nf)\n",
    "            res2 = C / (C + distances)\n",
    "            res2 = res2.sum() * 2. / (nf * nf)\n",
    "            stat += res1 - res2\n",
    "    return stat\n",
    "\n",
    "opts = {'pz_scale': 1,\n",
    "        'mmd_kernel': 'RBF', # 'IMQ', 'RBF'\n",
    "        'pz': 'normal', # 'normal', 'sphere', 'uniform'\n",
    "        'zdim': 2\n",
    "       }"
   ]
  },
  {
   "cell_type": "code",
   "execution_count": 17,
   "id": "6a37d0ee",
   "metadata": {},
   "outputs": [
    {
     "data": {
      "text/plain": [
       "tensor(-0.0002)"
      ]
     },
     "execution_count": 17,
     "metadata": {},
     "output_type": "execute_result"
    }
   ],
   "source": [
    "q = torch.randn(1024, 2)\n",
    "p = torch.randn(1024, 2)\n",
    "mmd_penalty(q, p, opts)"
   ]
  },
  {
   "cell_type": "code",
   "execution_count": null,
   "id": "bb44f33d",
   "metadata": {},
   "outputs": [],
   "source": []
  }
 ],
 "metadata": {
  "kernelspec": {
   "display_name": "Python 3 (ipykernel)",
   "language": "python",
   "name": "python3"
  },
  "language_info": {
   "codemirror_mode": {
    "name": "ipython",
    "version": 3
   },
   "file_extension": ".py",
   "mimetype": "text/x-python",
   "name": "python",
   "nbconvert_exporter": "python",
   "pygments_lexer": "ipython3",
   "version": "3.9.12"
  }
 },
 "nbformat": 4,
 "nbformat_minor": 5
}
