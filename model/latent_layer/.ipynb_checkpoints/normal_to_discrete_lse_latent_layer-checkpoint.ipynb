{
 "cells": [
  {
   "cell_type": "code",
   "execution_count": 2,
   "id": "7dbfdeb2",
   "metadata": {},
   "outputs": [],
   "source": [
    "import torch\n",
    "import torch.nn as nn\n",
    "import torch.nn.functional as F\n",
    "import numpy as np\n",
    "\n",
    "def get_embeddings(n_embeddings):\n",
    "    # PyTorch를 사용하여 10개의 점을 등간격으로 샘플링 (수정)\n",
    "    angles = torch.linspace(0, 2 * torch.pi, n_embeddings)\n",
    "\n",
    "    # x, y 좌표 계산 (수정)\n",
    "    x = torch.cos(angles)\n",
    "    y = torch.sin(angles)\n",
    "    embeddings = torch.stack([x, y], dim=1)\n",
    "    return embeddings\n",
    "\n",
    "class LatentLayer(nn.Module):\n",
    "    def __init__(self, n_embeddings, z_dim, init_log_sigma, **kwargs):\n",
    "        super().__init__()\n",
    "        self.embeddings = nn.Parameter(get_embeddings(n_embeddings), requires_grad=False)\n",
    "        self.log_sigma = nn.Parameter(torch.ones(1) * init_log_sigma)\n",
    "                \n",
    "    def forward(self, data, **kwargs):\n",
    "\n",
    "        M = kwargs['M']\n",
    "        sigma = torch.exp(self.log_sigma)\n",
    "        z = data['z']\n",
    "        z_dim = z.shape[1]\n",
    "        N = z.shape[0]\n",
    "        T = kwargs['temperature']\n",
    "        n_embeddings = len(self.embeddings)\n",
    "        \n",
    "        # (n_embeddings, z)\n",
    "        mean = (1 - T) * self.embeddings\n",
    "        # (M//n_embeddings, z)\n",
    "        eps = torch.randn(M//n_embeddings, z_dim).to(z.device)\n",
    "        # (n_embeddings, M//n_embeddings, z)\n",
    "        e = mean.unsqueeze(1) + eps.unsqueeze(0) * T\n",
    "        # (M, z)\n",
    "        e = e.reshape(-1, z_dim)\n",
    "        # (N, M) = sum((N, 1, z) - (1, M, z), dim=2)\n",
    "        distance = torch.norm(z.unsqueeze(1) - e.unsqueeze(0), dim=2) ** 2\n",
    "        alpha = -1/(2*sigma**2)\n",
    "        loss = -torch.mean(torch.logsumexp(alpha*distance, dim=0))\n",
    "        loss = loss + 0.5*z_dim*(2*self.log_sigma-np.log(np.e)) + np.log(N)\n",
    "        data['lse_loss'] = loss\n",
    "        \n",
    "        return data\n",
    "        "
   ]
  },
  {
   "cell_type": "code",
   "execution_count": 6,
   "id": "d6a9afc9",
   "metadata": {},
   "outputs": [
    {
     "data": {
      "text/plain": [
       "{'z': tensor([[-0.3617, -0.9644],\n",
       "         [-0.1576, -0.4267],\n",
       "         [-0.1068,  0.4960],\n",
       "         ...,\n",
       "         [ 0.2185, -0.3101],\n",
       "         [-0.5333,  0.1405],\n",
       "         [ 1.5023,  1.2297]]),\n",
       " 'lse_loss': tensor([-0.3496], grad_fn=<AddBackward0>)}"
      ]
     },
     "execution_count": 6,
     "metadata": {},
     "output_type": "execute_result"
    }
   ],
   "source": [
    "latent_layer = LatentLayer(10, 2, -2.0)\n",
    "data = {'z': torch.randn(512, 2)}\n",
    "latent_layer(data, M=1000, temperature=0.0)"
   ]
  },
  {
   "cell_type": "code",
   "execution_count": 12,
   "id": "8f465d4a",
   "metadata": {},
   "outputs": [],
   "source": []
  },
  {
   "cell_type": "code",
   "execution_count": 13,
   "id": "89bb0cdc",
   "metadata": {},
   "outputs": [
    {
     "data": {
      "text/plain": [
       "torch.Size([10, 2])"
      ]
     },
     "execution_count": 13,
     "metadata": {},
     "output_type": "execute_result"
    }
   ],
   "source": [
    "get_embeddings(10).shape"
   ]
  },
  {
   "cell_type": "code",
   "execution_count": null,
   "id": "6448de4d",
   "metadata": {},
   "outputs": [],
   "source": []
  }
 ],
 "metadata": {
  "kernelspec": {
   "display_name": "Python 3 (ipykernel)",
   "language": "python",
   "name": "python3"
  },
  "language_info": {
   "codemirror_mode": {
    "name": "ipython",
    "version": 3
   },
   "file_extension": ".py",
   "mimetype": "text/x-python",
   "name": "python",
   "nbconvert_exporter": "python",
   "pygments_lexer": "ipython3",
   "version": "3.9.12"
  }
 },
 "nbformat": 4,
 "nbformat_minor": 5
}
