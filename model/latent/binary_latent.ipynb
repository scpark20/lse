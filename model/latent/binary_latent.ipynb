{
 "cells": [
  {
   "cell_type": "code",
   "execution_count": 13,
   "id": "b48ab253",
   "metadata": {},
   "outputs": [],
   "source": [
    "import torch\n",
    "import torch.nn as nn\n",
    "import torch.nn.functional as F"
   ]
  },
  {
   "cell_type": "code",
   "execution_count": 18,
   "id": "36c4c635",
   "metadata": {},
   "outputs": [],
   "source": [
    "class Latent(nn.Module):\n",
    "    def __init__(self, n_latents, z_dim, **kwargs):\n",
    "        super().__init__()\n",
    "        self.L = n_latents\n",
    "        self.z_dim = z_dim\n",
    "        # (1, L, 2, z)\n",
    "        self.e = nn.Parameter(torch.randn(1, n_latents, 2, z_dim))\n",
    "                \n",
    "    def forward(self, data, **kwargs):\n",
    "        # data['z'] : (N, Lz, H, W)\n",
    "        \n",
    "        T = kwargs['latent_temp'] if 'latent_temp' in kwargs else 1.0\n",
    "        \n",
    "        # (1, L, 2, z)\n",
    "        e = self.e\n",
    "        z = data['z']\n",
    "        N, _, H, W = z.size()\n",
    "        L = self.L\n",
    "        z_dim = self.z_dim\n",
    "        # (NHW, L, 1, z)\n",
    "        z = z.permute(0, 2, 3, 1).reshape(-1, L, 1, z_dim)\n",
    "        \n",
    "        # (NHW, L, 2, 1) = (1, L, 2, 1) - 2*(NHW, L, 2, 1) + (NHW, L, 1, 1)\n",
    "        distance = (e**2).sum(3, keepdim=True) -\\\n",
    "                   2*e@z.transpose(2, 3) +\\\n",
    "                   (z.transpose(2, 3)**2).sum(2, keepdim=True)\n",
    "        # (NHW, L, 2, 1)\n",
    "        ratio = torch.softmax(-distance/T, dim=2)\n",
    "        # (NHW, L, z)\n",
    "        zq = torch.sum(self.e * ratio, dim=2)\n",
    "        # (N, Lz, H, W)\n",
    "        zq = zq.reshape(N, H, W, L*z_dim).permute(0, 3, 1, 2)\n",
    "        data['z'] = zq\n",
    "        \n",
    "        return data"
   ]
  },
  {
   "cell_type": "code",
   "execution_count": 20,
   "id": "e4d46326",
   "metadata": {},
   "outputs": [
    {
     "name": "stdout",
     "output_type": "stream",
     "text": [
      "torch.Size([16, 384, 32, 32])\n"
     ]
    }
   ],
   "source": [
    "N = 16\n",
    "H = 32\n",
    "W = 32\n",
    "L = 24\n",
    "z_dim = 16\n",
    "data = {'z': torch.randn(N, L*z_dim, H, W)}\n",
    "latent = Latent(n_latents=L, z_dim=z_dim)\n",
    "data = latent(data)\n",
    "print(data['z'].shape)"
   ]
  },
  {
   "cell_type": "code",
   "execution_count": null,
   "id": "d23cb212",
   "metadata": {},
   "outputs": [],
   "source": []
  },
  {
   "cell_type": "code",
   "execution_count": null,
   "id": "a6939f18",
   "metadata": {},
   "outputs": [],
   "source": []
  },
  {
   "cell_type": "code",
   "execution_count": null,
   "id": "330ec8d2",
   "metadata": {},
   "outputs": [],
   "source": []
  }
 ],
 "metadata": {
  "kernelspec": {
   "display_name": "Python 3 (ipykernel)",
   "language": "python",
   "name": "python3"
  },
  "language_info": {
   "codemirror_mode": {
    "name": "ipython",
    "version": 3
   },
   "file_extension": ".py",
   "mimetype": "text/x-python",
   "name": "python",
   "nbconvert_exporter": "python",
   "pygments_lexer": "ipython3",
   "version": "3.9.15"
  }
 },
 "nbformat": 4,
 "nbformat_minor": 5
}
