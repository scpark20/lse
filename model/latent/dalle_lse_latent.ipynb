{
 "cells": [
  {
   "cell_type": "code",
   "execution_count": 35,
   "id": "3c338520",
   "metadata": {},
   "outputs": [],
   "source": [
    "import torch\n",
    "import torch.nn as nn\n",
    "import torch.nn.functional as F\n",
    "import numpy as np\n",
    "\n",
    "class Latent(nn.Module):\n",
    "    def __init__(self, init_log_sigma, const_sigma, clipping=0, **kwargs):\n",
    "        super().__init__()\n",
    "        self.log_sigma = nn.Parameter(torch.ones(1) * init_log_sigma, requires_grad=not const_sigma)\n",
    "        self.clipping = clipping\n",
    "                \n",
    "    def forward(self, data, **kwargs):\n",
    "        # data['z'] : (N, c, H, W)\n",
    "        # data['e'] : (M, c)\n",
    "        \n",
    "        z_dim = data['z'].shape[1]\n",
    "        # (NHW, c)\n",
    "        z = data['z'].permute(0, 2, 3, 1).reshape(-1, z_dim)\n",
    "        N = len(z)\n",
    "        T = kwargs['latent_temp'] if 'latent_temp' in kwargs else 1.0\n",
    "        \n",
    "        # (NHW, M) = sum((NHW, 1, z) - (1, M, z), dim=2)\n",
    "        distance = torch.norm(z.unsqueeze(1) - data['e'].unsqueeze(0), dim=2) ** 2\n",
    "        if self.clipping > 0:\n",
    "            inf = torch.full_like(distance, 1e+3)\n",
    "            index = (distance < self.clipping).float()\n",
    "            print(index)\n",
    "            distance = (1-index) * distance + index * inf\n",
    "        alpha = -1/(2*torch.exp(self.log_sigma)**2)\n",
    "        matrix = alpha*distance/T\n",
    "        data['matrix'] = matrix\n",
    "        loss = -torch.mean(T*torch.logsumexp(matrix, dim=0))\n",
    "        loss = loss + 0.5*z_dim*(2*self.log_sigma-np.log(np.e)) + np.log(N)        \n",
    "        data['lse_loss'] = loss\n",
    "        \n",
    "        return data"
   ]
  },
  {
   "cell_type": "code",
   "execution_count": 36,
   "id": "3e1bd2ad",
   "metadata": {},
   "outputs": [
    {
     "name": "stdout",
     "output_type": "stream",
     "text": [
      "tensor([[1., 1., 1.,  ..., 1., 1., 1.],\n",
      "        [1., 1., 1.,  ..., 1., 1., 1.],\n",
      "        [1., 1., 1.,  ..., 1., 1., 1.],\n",
      "        ...,\n",
      "        [1., 1., 1.,  ..., 1., 1., 1.],\n",
      "        [1., 1., 1.,  ..., 1., 1., 1.],\n",
      "        [1., 1., 1.,  ..., 1., 1., 1.]])\n"
     ]
    },
    {
     "data": {
      "text/plain": [
       "dict_keys(['z', 'e', 'matrix', 'lse_loss'])"
      ]
     },
     "execution_count": 36,
     "metadata": {},
     "output_type": "execute_result"
    }
   ],
   "source": [
    "data = {'z': torch.zeros(1000, 2, 8, 8),\n",
    "        'e': torch.zeros(100, 2)}\n",
    "data = Latent(-3, False, 1e-3)(data)\n",
    "data.keys()"
   ]
  },
  {
   "cell_type": "code",
   "execution_count": 37,
   "id": "8c07d497",
   "metadata": {},
   "outputs": [
    {
     "data": {
      "text/plain": [
       "tensor([201707.4062], grad_fn=<AddBackward0>)"
      ]
     },
     "execution_count": 37,
     "metadata": {},
     "output_type": "execute_result"
    }
   ],
   "source": [
    "data['lse_loss']"
   ]
  },
  {
   "cell_type": "code",
   "execution_count": 38,
   "id": "c718ba25",
   "metadata": {},
   "outputs": [
    {
     "data": {
      "text/plain": [
       "1000.0"
      ]
     },
     "execution_count": 38,
     "metadata": {},
     "output_type": "execute_result"
    }
   ],
   "source": [
    "1e+3"
   ]
  },
  {
   "cell_type": "code",
   "execution_count": null,
   "id": "b2150f1b",
   "metadata": {},
   "outputs": [],
   "source": []
  }
 ],
 "metadata": {
  "kernelspec": {
   "display_name": "Python 3 (ipykernel)",
   "language": "python",
   "name": "python3"
  },
  "language_info": {
   "codemirror_mode": {
    "name": "ipython",
    "version": 3
   },
   "file_extension": ".py",
   "mimetype": "text/x-python",
   "name": "python",
   "nbconvert_exporter": "python",
   "pygments_lexer": "ipython3",
   "version": "3.9.15"
  }
 },
 "nbformat": 4,
 "nbformat_minor": 5
}
