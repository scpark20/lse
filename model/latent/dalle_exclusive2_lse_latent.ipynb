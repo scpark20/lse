{
 "cells": [
  {
   "cell_type": "code",
   "execution_count": 1,
   "id": "85929fd0",
   "metadata": {},
   "outputs": [],
   "source": [
    "import torch\n",
    "import torch.nn as nn\n",
    "import torch.nn.functional as F\n",
    "import numpy as np\n",
    "\n",
    "class Latent(nn.Module):\n",
    "    def __init__(self, init_log_sigma, const_sigma, **kwargs):\n",
    "        super().__init__()\n",
    "        self.log_sigma = nn.Parameter(torch.ones(1) * init_log_sigma, requires_grad=not const_sigma)\n",
    "                \n",
    "    def forward(self, data, **kwargs):\n",
    "        # data['z'] : (N, c, H, W)\n",
    "        # data['e'] : (M, c)\n",
    "        \n",
    "        z_dim = data['z'].shape[1]\n",
    "        # (NHW, c)\n",
    "        z = data['z'].permute(0, 2, 3, 1).reshape(-1, z_dim)\n",
    "        N = len(z)\n",
    "        T = kwargs['latent_temp'] if 'latent_temp' in kwargs else 1.0\n",
    "        softmax_temp = kwargs['softmax_temp'] if 'softmax_temp' in kwargs else 1.0\n",
    "        \n",
    "        # (NHW, M) = sum((NHW, 1, z) - (1, M, z), dim=2)\n",
    "        distance = torch.norm(z.unsqueeze(1) - data['e'].unsqueeze(0), dim=2) ** 2\n",
    "        alpha = -1/(2*torch.exp(self.log_sigma)**2)\n",
    "        matrix = alpha*distance/T\n",
    "        data['matrix'] = matrix\n",
    "        # (NHW, M)\n",
    "        belong = data['belong'] if 'belong' in data else None\n",
    "        matrix = belong*matrix + (1-belong)*(np.log(max(softmax_temp, 1e-8)) + matrix)\n",
    "        loss = -torch.mean(T*torch.logsumexp(matrix))\n",
    "        loss = loss + 0.5*z_dim*(2*self.log_sigma-np.log(np.e)) + np.log(N)        \n",
    "        data['lse_loss'] = loss\n",
    "        \n",
    "        return data"
   ]
  },
  {
   "cell_type": "code",
   "execution_count": 2,
   "id": "0b0e6702",
   "metadata": {},
   "outputs": [
    {
     "data": {
      "text/plain": [
       "Latent()"
      ]
     },
     "execution_count": 2,
     "metadata": {},
     "output_type": "execute_result"
    }
   ],
   "source": [
    "\n",
    "Latent(0, True)(data)"
   ]
  },
  {
   "cell_type": "code",
   "execution_count": null,
   "id": "168be125",
   "metadata": {},
   "outputs": [],
   "source": []
  }
 ],
 "metadata": {
  "kernelspec": {
   "display_name": "Python 3 (ipykernel)",
   "language": "python",
   "name": "python3"
  },
  "language_info": {
   "codemirror_mode": {
    "name": "ipython",
    "version": 3
   },
   "file_extension": ".py",
   "mimetype": "text/x-python",
   "name": "python",
   "nbconvert_exporter": "python",
   "pygments_lexer": "ipython3",
   "version": "3.9.15"
  }
 },
 "nbformat": 4,
 "nbformat_minor": 5
}
