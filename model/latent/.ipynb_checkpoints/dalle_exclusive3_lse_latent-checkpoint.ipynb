{
 "cells": [
  {
   "cell_type": "code",
   "execution_count": 20,
   "id": "e554662d",
   "metadata": {},
   "outputs": [],
   "source": [
    "import torch\n",
    "import torch.nn as nn\n",
    "import torch.nn.functional as F\n",
    "import numpy as np\n",
    "\n",
    "class Latent(nn.Module):\n",
    "    def __init__(self, **kwargs):\n",
    "        super().__init__()\n",
    "                \n",
    "    def forward(self, data, **kwargs):\n",
    "        # data['z'] : (N, c, H, W)\n",
    "        # data['e'] : (M, c)\n",
    "        \n",
    "        z_dim = data['z'].shape[1]\n",
    "        # (NHW, c)\n",
    "        z = data['z'].permute(0, 2, 3, 1).reshape(-1, z_dim)\n",
    "        N = len(z)\n",
    "        distance_p = kwargs['distance_p'] if 'distance_p' in kwargs else 1\n",
    "        \n",
    "        # (NHW, M) = sum((NHW, 1, z) - (1, M, z), dim=2)\n",
    "        distance = torch.norm(z.unsqueeze(1) - data['e'].unsqueeze(0), dim=2)\n",
    "        # (NHW, M)\n",
    "        belong = data['belong'] if 'belong' in data else None\n",
    "        \n",
    "        if belong is not None:\n",
    "            # (1, M)\n",
    "            norm_factor = torch.max(belong * distance, dim=0).values.unsqueeze(0)\n",
    "            distance /= norm_factor\n",
    "            distance = torch.where(distance < 1, distance ** distance_p, distance ** (1/distance_p))\n",
    "            distance *= norm_factor\n",
    "        loss = -torch.mean(torch.logsumexp(-distance, dim=0))\n",
    "        data['lse_loss'] = loss\n",
    "        \n",
    "        return data"
   ]
  },
  {
   "cell_type": "code",
   "execution_count": 21,
   "id": "1c7a3fab",
   "metadata": {},
   "outputs": [],
   "source": [
    "latent = Latent()"
   ]
  },
  {
   "cell_type": "code",
   "execution_count": 23,
   "id": "4f5e2fe7",
   "metadata": {},
   "outputs": [
    {
     "name": "stdout",
     "output_type": "stream",
     "text": [
      "torch.Size([32])\n"
     ]
    }
   ],
   "source": [
    "z = torch.randn(2, 512, 4, 4)\n",
    "belong = torch.ones_like(z).permute(0, 2, 3, 1)[:, :, :, 0].reshape(-1)\n",
    "data = {'z': z,\n",
    "        'belong': belong"
   ]
  },
  {
   "cell_type": "code",
   "execution_count": 19,
   "id": "1ed48535",
   "metadata": {},
   "outputs": [
    {
     "data": {
      "text/plain": [
       "tensor([0.0000, 0.7071, 1.0000, 2.2500, 4.0000])"
      ]
     },
     "execution_count": 19,
     "metadata": {},
     "output_type": "execute_result"
    }
   ],
   "source": [
    "torch.where(x<1, x**(1/2), x**2)"
   ]
  },
  {
   "cell_type": "code",
   "execution_count": null,
   "id": "2e7444ba",
   "metadata": {},
   "outputs": [],
   "source": []
  }
 ],
 "metadata": {
  "kernelspec": {
   "display_name": "Python 3 (ipykernel)",
   "language": "python",
   "name": "python3"
  },
  "language_info": {
   "codemirror_mode": {
    "name": "ipython",
    "version": 3
   },
   "file_extension": ".py",
   "mimetype": "text/x-python",
   "name": "python",
   "nbconvert_exporter": "python",
   "pygments_lexer": "ipython3",
   "version": "3.9.15"
  }
 },
 "nbformat": 4,
 "nbformat_minor": 5
}
