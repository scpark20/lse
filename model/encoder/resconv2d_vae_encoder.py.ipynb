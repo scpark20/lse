{
 "cells": [
  {
   "cell_type": "code",
   "execution_count": 1,
   "id": "a4660139",
   "metadata": {},
   "outputs": [],
   "source": [
    "import torch\n",
    "import torch.nn as nn\n",
    "import torch.nn.functional as F\n",
    "\n",
    "class Encoder(nn.Module):\n",
    "    def __init__(self, size, in_dim, z_dim, h_dims=[32, 64, 128, 256, 512]):\n",
    "        super().__init__()\n",
    "        convs = []\n",
    "        for h_dim in h_dims:\n",
    "            size = size // 2\n",
    "            conv = nn.Sequential(nn.Conv2d(in_dim, h_dim, kernel_size=3, stride=2, padding=1),\n",
    "                                   nn.BatchNorm2d(h_dim),\n",
    "                                   nn.LeakyReLU())\n",
    "            convs.append(conv)\n",
    "            in_dim = h_dim\n",
    "        self.convs = nn.Sequential(*convs)\n",
    "        self.linear = nn.Linear(h_dims[-1]*size**2, z_dim*2)\n",
    "        \n",
    "    def forward(self, data, **kwargs):\n",
    "        # x : (b, c, h, w)\n",
    "        \n",
    "        x = data['x']\n",
    "        y = self.convs(x)\n",
    "        y = torch.flatten(y, start_dim=1)\n",
    "        y = self.linear(y)\n",
    "        data['z_mean'], data['z_logstd'] = y.split(y.shape[1]//2, dim=1)\n",
    "        return data\n",
    "        "
   ]
  },
  {
   "cell_type": "code",
   "execution_count": 3,
   "id": "0fac8dfc",
   "metadata": {},
   "outputs": [],
   "source": [
    "class Convs(nn.Module):\n",
    "    def __init__(self, in_dim, h_dim, out_dim):\n",
    "        super().__init__()\n",
    "        self.block = nn.Sequential(nn.Conv2d(in_dim, h_dim, kernel_size=1),\n",
    "                                   nn.ReLU(),\n",
    "                                   nn.Conv2d(h_dim, h_dim, kernel_size=3, stride=2, padding=1),\n",
    "                                   nn.ReLU(),\n",
    "                                   nn.Conv2d(h_dim, h_dim, kernel_size=3, stride=2, padding=1),\n",
    "                                   nn.ReLU(),\n",
    "                                   nn.Conv2d(h_dim, out_dim, kernel_size=1))\n",
    "    def forward(self, x):\n",
    "        return self.block(x)\n",
    "                                   "
   ]
  },
  {
   "cell_type": "code",
   "execution_count": null,
   "id": "859ae1a2",
   "metadata": {},
   "outputs": [],
   "source": []
  }
 ],
 "metadata": {
  "kernelspec": {
   "display_name": "Python 3 (ipykernel)",
   "language": "python",
   "name": "python3"
  },
  "language_info": {
   "codemirror_mode": {
    "name": "ipython",
    "version": 3
   },
   "file_extension": ".py",
   "mimetype": "text/x-python",
   "name": "python",
   "nbconvert_exporter": "python",
   "pygments_lexer": "ipython3",
   "version": "3.9.12"
  }
 },
 "nbformat": 4,
 "nbformat_minor": 5
}
