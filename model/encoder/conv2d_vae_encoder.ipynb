{
 "cells": [
  {
   "cell_type": "code",
   "execution_count": 6,
   "id": "d258b61a",
   "metadata": {},
   "outputs": [],
   "source": [
    "import torch\n",
    "import torch.nn as nn\n",
    "import torch.nn.functional as F\n",
    "\n",
    "class Encoder(nn.Module):\n",
    "    def __init__(self, size, in_dim, z_dim, h_dims=[32, 64, 128, 256, 512]):\n",
    "        super().__init__()\n",
    "        convs = []\n",
    "        for h_dim in h_dims:\n",
    "            size = size // 2\n",
    "            conv = nn.Sequential(nn.Conv2d(in_dim, h_dim, kernel_size=3, stride=2, padding=1),\n",
    "                                   nn.BatchNorm2d(h_dim),\n",
    "                                   nn.LeakyReLU())\n",
    "            convs.append(conv)\n",
    "            in_dim = h_dim\n",
    "        self.convs = nn.Sequential(*convs)\n",
    "        self.linear = nn.Linear(h_dims[-1]*size**2, z_dim*2)\n",
    "        \n",
    "    def forward(self, data, **kwargs):\n",
    "        # x : (b, c, h, w)\n",
    "        \n",
    "        x = data['x']\n",
    "        y = self.convs(x)\n",
    "        y = torch.flatten(y, start_dim=1)\n",
    "        y = self.linear(y)\n",
    "        data['z_mean'], data['z_logstd'] = y.split(y.shape[1]//2, dim=1)\n",
    "        return data\n",
    "        "
   ]
  },
  {
   "cell_type": "code",
   "execution_count": 8,
   "id": "409f0ff2",
   "metadata": {
    "scrolled": true
   },
   "outputs": [
    {
     "data": {
      "text/plain": [
       "dict_keys(['x', 'z_mean', 'z_logstd'])"
      ]
     },
     "execution_count": 8,
     "metadata": {},
     "output_type": "execute_result"
    }
   ],
   "source": [
    "encoder_args = {'size': 64,\n",
    "                'in_dim': 3,\n",
    "                'z_dim': 128}\n",
    "encoder = Encoder(**encoder_args)\n",
    "data = {'x': torch.randn(2, 3, 64, 64)}\n",
    "data = encoder(data)\n",
    "data.keys()"
   ]
  },
  {
   "cell_type": "code",
   "execution_count": 9,
   "id": "a75b08ad",
   "metadata": {},
   "outputs": [
    {
     "data": {
      "text/plain": [
       "torch.Size([2, 128])"
      ]
     },
     "execution_count": 9,
     "metadata": {},
     "output_type": "execute_result"
    }
   ],
   "source": [
    "data['z_mean'].shape"
   ]
  },
  {
   "cell_type": "code",
   "execution_count": 10,
   "id": "306c0a52",
   "metadata": {},
   "outputs": [
    {
     "data": {
      "text/plain": [
       "torch.Size([2, 128])"
      ]
     },
     "execution_count": 10,
     "metadata": {},
     "output_type": "execute_result"
    }
   ],
   "source": [
    "data['z_logstd'].shape"
   ]
  },
  {
   "cell_type": "code",
   "execution_count": null,
   "id": "0d72fb8f",
   "metadata": {},
   "outputs": [],
   "source": []
  }
 ],
 "metadata": {
  "kernelspec": {
   "display_name": "Python 3 (ipykernel)",
   "language": "python",
   "name": "python3"
  },
  "language_info": {
   "codemirror_mode": {
    "name": "ipython",
    "version": 3
   },
   "file_extension": ".py",
   "mimetype": "text/x-python",
   "name": "python",
   "nbconvert_exporter": "python",
   "pygments_lexer": "ipython3",
   "version": "3.9.12"
  }
 },
 "nbformat": 4,
 "nbformat_minor": 5
}
