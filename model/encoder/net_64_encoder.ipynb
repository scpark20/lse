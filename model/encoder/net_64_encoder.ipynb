{
 "cells": [
  {
   "cell_type": "code",
   "execution_count": 2,
   "id": "775a694c",
   "metadata": {},
   "outputs": [],
   "source": [
    "# https://github.com/sony/sqvae/blob/main/vision/networks/net_64.py\n",
    "\n",
    "import numpy as np\n",
    "import torch\n",
    "from torch import nn\n",
    "import torch.nn.functional as F\n",
    "from torch import nn\n",
    "\n",
    "## Resblocks\n",
    "class ResBlock(nn.Module):\n",
    "    def __init__(self, dim, act=\"relu\"):\n",
    "        super().__init__()\n",
    "        if act == \"relu\":\n",
    "            activation = nn.ReLU()\n",
    "        elif act == \"elu\":\n",
    "            activation = nn.ELU()\n",
    "        self.block = nn.Sequential(\n",
    "            activation,\n",
    "            nn.Conv2d(dim, dim, 3, 1, 1),\n",
    "            nn.BatchNorm2d(dim),\n",
    "            activation,\n",
    "            nn.Conv2d(dim, dim, 1),\n",
    "            nn.BatchNorm2d(dim)\n",
    "        )\n",
    "\n",
    "    def forward(self, x):\n",
    "        return x + self.block(x)\n",
    "\n",
    "\n",
    "class EncoderVqResnet64(nn.Module):\n",
    "    def __init__(self, dim_z, cfgs, flg_bn=True, flg_var_q=False):\n",
    "        super(EncoderVqResnet64, self).__init__()\n",
    "        self.flg_variance = flg_var_q\n",
    "        # Convolution layers\n",
    "        layers_conv = []\n",
    "        layers_conv.append(nn.Sequential(nn.Conv2d(3, dim_z // 2, 4, stride=2, padding=1)))\n",
    "        if flg_bn:\n",
    "            layers_conv.append(nn.BatchNorm2d(dim_z // 2))\n",
    "        layers_conv.append(nn.ReLU())\n",
    "        layers_conv.append(nn.Conv2d(dim_z // 2, dim_z, 4, stride=2, padding=1))\n",
    "        if flg_bn:\n",
    "            layers_conv.append(nn.BatchNorm2d(dim_z))\n",
    "        layers_conv.append(nn.ReLU())\n",
    "        layers_conv.append(nn.Conv2d(dim_z, dim_z, 3, stride=1, padding=1))\n",
    "        self.conv = nn.Sequential(*layers_conv)\n",
    "        # Resblocks\n",
    "        num_rb = cfgs.num_rb\n",
    "        layers_resblocks = []\n",
    "        for i in range(num_rb-1):\n",
    "            layers_resblocks.append(ResBlock(dim_z))\n",
    "        self.res = nn.Sequential(*layers_resblocks)\n",
    "        self.res_m = ResBlock(dim_z)\n",
    "        if self.flg_variance:\n",
    "            self.res_v = ResBlock(dim_z)\n",
    "\n",
    "    def forward(self, x):\n",
    "        out_conv = self.conv(x)\n",
    "        out_res = self.res(out_conv)\n",
    "        mu = self.res_m(out_res)\n",
    "        if self.flg_variance:\n",
    "            log_var = self.res_v(out_res)\n",
    "            return mu, log_var\n",
    "        else:\n",
    "            return mu"
   ]
  },
  {
   "cell_type": "code",
   "execution_count": 8,
   "id": "7b1babab",
   "metadata": {},
   "outputs": [
    {
     "name": "stdout",
     "output_type": "stream",
     "text": [
      "torch.Size([2, 512, 16, 16])\n"
     ]
    }
   ],
   "source": [
    "from easydict import EasyDict\n",
    "cfgs = EasyDict(num_rb=6)\n",
    "encoder = EncoderVqResnet64(dim_z=512, cfgs=cfgs)\n",
    "x = torch.randn(2, 3, 64, 64)\n",
    "y = encoder(x)\n",
    "print(y.shape)"
   ]
  },
  {
   "cell_type": "code",
   "execution_count": null,
   "id": "cc7dbf5f",
   "metadata": {},
   "outputs": [],
   "source": []
  }
 ],
 "metadata": {
  "kernelspec": {
   "display_name": "Python 3 (ipykernel)",
   "language": "python",
   "name": "python3"
  },
  "language_info": {
   "codemirror_mode": {
    "name": "ipython",
    "version": 3
   },
   "file_extension": ".py",
   "mimetype": "text/x-python",
   "name": "python",
   "nbconvert_exporter": "python",
   "pygments_lexer": "ipython3",
   "version": "3.9.15"
  }
 },
 "nbformat": 4,
 "nbformat_minor": 5
}
