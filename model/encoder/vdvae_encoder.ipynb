{
 "cells": [
  {
   "cell_type": "code",
   "execution_count": 1,
   "id": "b78d2ac2-2969-4f32-85e2-36563b9949da",
   "metadata": {},
   "outputs": [],
   "source": [
    "import numpy as np\n",
    "import torch\n",
    "import torch.nn as nn\n",
    "import torch.nn.functional as F\n",
    "from vdvae_encoder import Encoder"
   ]
  },
  {
   "cell_type": "code",
   "execution_count": 2,
   "id": "efdfc1c1",
   "metadata": {},
   "outputs": [],
   "source": [
    "from easydict import EasyDict\n",
    "H = EasyDict()\n",
    "H.image_channels = 3\n",
    "H.width = 384\n",
    "H.custom_width_str = \"\"\n",
    "H.enc_blocks = \"32x11,32d2,16x6,16d2,8x6,8d2,4x3,4d4,1x3\"\n",
    "H.bottleneck_multiple = 0.25\n",
    "encoder = Encoder(H)"
   ]
  },
  {
   "cell_type": "code",
   "execution_count": 3,
   "id": "f04661c5",
   "metadata": {},
   "outputs": [
    {
     "name": "stdout",
     "output_type": "stream",
     "text": [
      "64 torch.Size([2, 384, 64, 64])\n",
      "32 torch.Size([2, 384, 32, 32])\n",
      "16 torch.Size([2, 384, 16, 16])\n",
      "8 torch.Size([2, 384, 8, 8])\n",
      "2 torch.Size([2, 384, 2, 2])\n"
     ]
    }
   ],
   "source": [
    "data = {'x': torch.randn(2, 3, 64, 64)}\n",
    "data = encoder(data)\n",
    "for key in data['activations'].keys():\n",
    "    print(key, data['activations'][key].shape)"
   ]
  },
  {
   "cell_type": "code",
   "execution_count": 4,
   "id": "846394a7",
   "metadata": {},
   "outputs": [
    {
     "data": {
      "text/plain": [
       "28.6021728515625"
      ]
     },
     "execution_count": 4,
     "metadata": {},
     "output_type": "execute_result"
    }
   ],
   "source": [
    "def get_size(model):\n",
    "    return sum(p.numel() for p in model.parameters() if p.requires_grad) * 4 / (1024 * 1024)\n",
    "\n",
    "get_size(encoder)"
   ]
  },
  {
   "cell_type": "code",
   "execution_count": null,
   "id": "b8180576",
   "metadata": {},
   "outputs": [],
   "source": []
  },
  {
   "cell_type": "code",
   "execution_count": null,
   "id": "fe27db26",
   "metadata": {},
   "outputs": [],
   "source": []
  }
 ],
 "metadata": {
  "kernelspec": {
   "display_name": "ste",
   "language": "python",
   "name": "ste"
  },
  "language_info": {
   "codemirror_mode": {
    "name": "ipython",
    "version": 3
   },
   "file_extension": ".py",
   "mimetype": "text/x-python",
   "name": "python",
   "nbconvert_exporter": "python",
   "pygments_lexer": "ipython3",
   "version": "3.12.1"
  }
 },
 "nbformat": 4,
 "nbformat_minor": 5
}
