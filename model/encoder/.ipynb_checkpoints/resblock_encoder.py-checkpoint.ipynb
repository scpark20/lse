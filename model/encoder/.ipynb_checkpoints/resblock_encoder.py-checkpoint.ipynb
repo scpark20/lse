{
 "cells": [
  {
   "cell_type": "code",
   "execution_count": 5,
   "id": "e6cae6c0",
   "metadata": {},
   "outputs": [],
   "source": [
    "import torch\n",
    "import torch.nn as nn\n",
    "import torch.nn.functional as F\n",
    "\n",
    "class ResBlock(nn.Module):\n",
    "    def __init__(self, in_dim, h_dim):\n",
    "        super().__init__()\n",
    "        self.block = nn.Sequential(nn.Conv2d(in_dim, h_dim, kernel_size=1),\n",
    "                                   nn.BatchNorm2d(h_dim),\n",
    "                                   nn.LeakyReLU(),\n",
    "                                   nn.Conv2d(h_dim, h_dim, kernel_size=3, padding=1),\n",
    "                                   nn.BatchNorm2d(h_dim),\n",
    "                                   nn.LeakyReLU(),\n",
    "                                   nn.Conv2d(h_dim, h_dim, kernel_size=3, padding=1),\n",
    "                                   nn.BatchNorm2d(h_dim),\n",
    "                                   nn.LeakyReLU(),\n",
    "                                   nn.Conv2d(h_dim, in_dim, kernel_size=1))\n",
    "        \n",
    "    def forward(self, x):\n",
    "        y = x + self.block(x)\n",
    "        return y\n",
    "                \n",
    "class Encoder(nn.Module):\n",
    "    def __init__(self, size, in_dim, z_dim, n_blocks, h_dims=[32, 64, 128, 256, 512], **kwargs):\n",
    "        super().__init__()\n",
    "        downs = []\n",
    "        blocks = []\n",
    "        for h_dim in h_dims:\n",
    "            size = size // 2\n",
    "            down = nn.Sequential(nn.Conv2d(in_dim, h_dim, kernel_size=3, stride=2, padding=1),\n",
    "                                 nn.BatchNorm2d(h_dim),\n",
    "                                 nn.LeakyReLU())\n",
    "            downs.append(down)\n",
    "            block = nn.Sequential(*[ResBlock(h_dim, h_dim) for _ in range(n_blocks)])\n",
    "            blocks.append(block)\n",
    "            in_dim = h_dim\n",
    "        self.downs = nn.ModuleList(downs)\n",
    "        self.blocks = nn.ModuleList(blocks)\n",
    "        self.linear = nn.Linear(h_dims[-1]*size**2, z_dim)\n",
    "        self.linear.weight.data.zero_()\n",
    "        self.linear.bias.data.zero_()\n",
    "        \n",
    "    def forward(self, data, **kwargs):\n",
    "        # x : (b, c, h, w)\n",
    "        \n",
    "        x = data['x']\n",
    "        for down, block in zip(self.downs, self.blocks):\n",
    "            x = down(x)\n",
    "            x = block(x)\n",
    "        x = torch.flatten(x, start_dim=1)\n",
    "        x = self.linear(x)\n",
    "        data['z'] = x\n",
    "        return data\n",
    "        "
   ]
  },
  {
   "cell_type": "code",
   "execution_count": 6,
   "id": "75ede032",
   "metadata": {},
   "outputs": [],
   "source": [
    "encoder = Encoder(64, 1, 128, 4)"
   ]
  },
  {
   "cell_type": "code",
   "execution_count": 8,
   "id": "364b9982",
   "metadata": {},
   "outputs": [
    {
     "data": {
      "text/plain": [
       "torch.Size([2, 128])"
      ]
     },
     "execution_count": 8,
     "metadata": {},
     "output_type": "execute_result"
    }
   ],
   "source": [
    "data = {'x': torch.randn(2, 1, 64, 64)}\n",
    "data = encoder(data)\n",
    "data['z'].shape"
   ]
  },
  {
   "cell_type": "code",
   "execution_count": null,
   "id": "4959f7d6",
   "metadata": {},
   "outputs": [],
   "source": []
  },
  {
   "cell_type": "code",
   "execution_count": null,
   "id": "b7540546",
   "metadata": {},
   "outputs": [],
   "source": []
  },
  {
   "cell_type": "code",
   "execution_count": null,
   "id": "28f16c21",
   "metadata": {},
   "outputs": [],
   "source": []
  }
 ],
 "metadata": {
  "kernelspec": {
   "display_name": "Python 3 (ipykernel)",
   "language": "python",
   "name": "python3"
  },
  "language_info": {
   "codemirror_mode": {
    "name": "ipython",
    "version": 3
   },
   "file_extension": ".py",
   "mimetype": "text/x-python",
   "name": "python",
   "nbconvert_exporter": "python",
   "pygments_lexer": "ipython3",
   "version": "3.9.12"
  }
 },
 "nbformat": 4,
 "nbformat_minor": 5
}
