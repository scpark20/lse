{
 "cells": [
  {
   "cell_type": "code",
   "execution_count": 1,
   "id": "585b58e5",
   "metadata": {},
   "outputs": [],
   "source": [
    "import torch\n",
    "import torch.nn as nn\n",
    "import torch.nn.functional as F\n",
    "import numpy as np\n",
    "\n",
    "class Quantizer(nn.Module):\n",
    "    def __init__(self, **kwargs):\n",
    "        super().__init__()\n",
    "                \n",
    "    def forward(self, data, **kwargs):\n",
    "        # data['z'] : (N, c)\n",
    "        # data['e'] : (M, c)\n",
    "        \n",
    "        z = data['z']\n",
    "        e = data['e']\n",
    "        \n",
    "        # (N, M)\n",
    "        distances = torch.cdist(z.unsqueeze(0), e.unsqueeze(0)).squeeze(0)\n",
    "        # (N,)\n",
    "        min_indices = torch.argmin(distances, dim=1)\n",
    "        # (N, c)\n",
    "        z_q = torch.index_select(e, 0, min_indices)\n",
    "        \n",
    "        data['z'] = z + (z_q - z).detach()\n",
    "        \n",
    "        return data"
   ]
  },
  {
   "cell_type": "code",
   "execution_count": 3,
   "id": "71353721",
   "metadata": {},
   "outputs": [
    {
     "name": "stdout",
     "output_type": "stream",
     "text": [
      "torch.Size([128, 512]) torch.Size([8192, 512])\n"
     ]
    }
   ],
   "source": [
    "data = {'z': torch.randn(128, 512),\n",
    "        'e': torch.randn(8192, 512)}\n",
    "data = Quantizer()(data)\n",
    "print(data['z'].shape, data['e'].shape)"
   ]
  },
  {
   "cell_type": "code",
   "execution_count": null,
   "id": "8866707e",
   "metadata": {},
   "outputs": [],
   "source": []
  }
 ],
 "metadata": {
  "kernelspec": {
   "display_name": "Python 3 (ipykernel)",
   "language": "python",
   "name": "python3"
  },
  "language_info": {
   "codemirror_mode": {
    "name": "ipython",
    "version": 3
   },
   "file_extension": ".py",
   "mimetype": "text/x-python",
   "name": "python",
   "nbconvert_exporter": "python",
   "pygments_lexer": "ipython3",
   "version": "3.9.15"
  }
 },
 "nbformat": 4,
 "nbformat_minor": 5
}
